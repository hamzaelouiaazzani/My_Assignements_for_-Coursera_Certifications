{
 "cells": [
  {
   "cell_type": "markdown",
   "metadata": {},
   "source": [
    "# Deep Q-Learning - Lunar Lander\n",
    "\n",
    "In this assignment, you will train an agent to land a lunar lander safely on a landing pad on the surface of the moon.\n",
    "\n",
    "\n",
    "# Outline\n",
    "- [ 1 - Import Packages <img align=\"Right\" src=\"./images/lunar_lander.gif\" width = 60% >](#1)\n",
    "- [ 2 - Hyperparameters](#2)\n",
    "- [ 3 - The Lunar Lander Environment](#3)\n",
    "  - [ 3.1 Action Space](#3.1)\n",
    "  - [ 3.2 Observation Space](#3.2)\n",
    "  - [ 3.3 Rewards](#3.3)\n",
    "  - [ 3.4 Episode Termination](#3.4)\n",
    "- [ 4 - Load the Environment](#4)\n",
    "- [ 5 - Interacting with the Gym Environment](#5)\n",
    "    - [ 5.1 Exploring the Environment's Dynamics](#5.1)\n",
    "- [ 6 - Deep Q-Learning](#6)\n",
    "  - [ 6.1 Target Network](#6.1)\n",
    "    - [ Exercise 1](#ex01)\n",
    "  - [ 6.2 Experience Replay](#6.2)\n",
    "- [ 7 - Deep Q-Learning Algorithm with Experience Replay](#7)\n",
    "  - [ Exercise 2](#ex02)\n",
    "- [ 8 - Update the Network Weights](#8)\n",
    "- [ 9 - Train the Agent](#9)\n",
    "- [ 10 - See the Trained Agent In Action](#10)\n",
    "- [ 11 - Congratulations!](#11)\n",
    "- [ 12 - References](#12)\n"
   ]
  },
  {
   "cell_type": "markdown",
   "metadata": {},
   "source": [
    "_**NOTE:** To prevent errors from the autograder, you are not allowed to edit or delete non-graded cells in this lab. Please also refrain from adding any new cells. \n",
    "**Once you have passed this assignment** and want to experiment with any of the non-graded code, you may follow the instructions at the bottom of this notebook._"
   ]
  },
  {
   "cell_type": "markdown",
   "metadata": {},
   "source": [
    "<a name=\"1\"></a>\n",
    "## 1 - Import Packages\n",
    "\n",
    "We'll make use of the following packages:\n",
    "- `numpy` is a package for scientific computing in python.\n",
    "- `deque` will be our data structure for our memory buffer.\n",
    "- `namedtuple` will be used to store the experience tuples.\n",
    "- The `gym` toolkit is a collection of environments that can be used to test reinforcement learning algorithms. We should note that in this notebook we are using `gym` version `0.24.0`.\n",
    "- `PIL.Image` and `pyvirtualdisplay` are needed to render the Lunar Lander environment.\n",
    "- We will use several modules from the `tensorflow.keras` framework for building deep learning models.\n",
    "- `utils` is a module that contains helper functions for this assignment. You do not need to modify the code in this file.\n",
    "\n",
    "Run the cell below to import all the necessary packages."
   ]
  },
  {
   "cell_type": "code",
   "execution_count": 3,
   "metadata": {
    "deletable": false,
    "editable": false,
    "id": "KYbOPKRtfQOr"
   },
   "outputs": [],
   "source": [
    "import time\n",
    "from collections import deque, namedtuple\n",
    "\n",
    "import gym\n",
    "import numpy as np\n",
    "import PIL.Image\n",
    "import tensorflow as tf\n",
    "import utils\n",
    "\n",
    "from pyvirtualdisplay import Display\n",
    "from tensorflow.keras import Sequential\n",
    "from tensorflow.keras.layers import Dense, Input\n",
    "from tensorflow.keras.losses import MSE\n",
    "from tensorflow.keras.optimizers import Adam"
   ]
  },
  {
   "cell_type": "code",
   "execution_count": 8,
   "metadata": {
    "deletable": false,
    "editable": false
   },
   "outputs": [],
   "source": [
    "# Set up a virtual display to render the Lunar Lander environment.\n",
    "Display(visible=0, size=(840, 480)).start();\n",
    "\n",
    "# Set the random seed for TensorFlow\n",
    "tf.random.set_seed(utils.SEED)"
   ]
  },
  {
   "cell_type": "markdown",
   "metadata": {},
   "source": [
    "<a name=\"2\"></a>\n",
    "## 2 - Hyperparameters\n",
    "\n",
    "Run the cell below to set the hyperparameters."
   ]
  },
  {
   "cell_type": "code",
   "execution_count": 19,
   "metadata": {
    "deletable": false,
    "editable": false
   },
   "outputs": [],
   "source": [
    "MEMORY_SIZE = 100_000     # size of memory buffer\n",
    "GAMMA = 0.995             # discount factor\n",
    "ALPHA = 1e-3              # learning rate  \n",
    "NUM_STEPS_FOR_UPDATE = 4  # perform a learning update every C time steps"
   ]
  },
  {
   "cell_type": "markdown",
   "metadata": {},
   "source": [
    "<a name=\"3\"></a>\n",
    "## 3 - The Lunar Lander Environment\n",
    "\n",
    "In this notebook we will be using [OpenAI's Gym Library](https://www.gymlibrary.dev/). The Gym library provides a wide variety of environments for reinforcement learning. To put it simply, an environment represents a problem or task to be solved. In this notebook, we will try to solve the Lunar Lander environment using reinforcement learning.\n",
    "\n",
    "The goal of the Lunar Lander environment is to land the lunar lander safely on the landing pad on the surface of the moon. The landing pad is designated by two flag poles and its center is at coordinates `(0,0)` but the lander is also allowed to land outside of the landing pad. The lander starts at the top center of the environment with a random initial force applied to its center of mass and has infinite fuel. The environment is considered solved if you get `200` points. \n",
    "\n",
    "<br>\n",
    "<br>\n",
    "<figure>\n",
    "  <img src = \"images/lunar_lander.gif\" width = 40%>\n",
    "      <figcaption style = \"text-align: center; font-style: italic\">Fig 1. Lunar Lander Environment.</figcaption>\n",
    "</figure>\n",
    "\n",
    "\n",
    "\n",
    "<a name=\"3.1\"></a>\n",
    "### 3.1 Action Space\n",
    "\n",
    "The agent has four discrete actions available:\n",
    "\n",
    "* Do nothing.\n",
    "* Fire right engine.\n",
    "* Fire main engine.\n",
    "* Fire left engine.\n",
    "\n",
    "Each action has a corresponding numerical value:\n",
    "\n",
    "```python\n",
    "Do nothing = 0\n",
    "Fire right engine = 1\n",
    "Fire main engine = 2\n",
    "Fire left engine = 3\n",
    "```\n",
    "\n",
    "<a name=\"3.2\"></a>\n",
    "### 3.2 Observation Space\n",
    "\n",
    "The agent's observation space consists of a state vector with 8 variables:\n",
    "\n",
    "* Its $(x,y)$ coordinates. The landing pad is always at coordinates $(0,0)$.\n",
    "* Its linear velocities $(\\dot x,\\dot y)$.\n",
    "* Its angle $\\theta$.\n",
    "* Its angular velocity $\\dot \\theta$.\n",
    "* Two booleans, $l$ and $r$, that represent whether each leg is in contact with the ground or not.\n",
    "\n",
    "<a name=\"3.3\"></a>\n",
    "### 3.3 Rewards\n",
    "\n",
    "After every step, a reward is granted. The total reward of an episode is the sum of the rewards for all the steps within that episode.\n",
    "\n",
    "For each step, the reward:\n",
    "- is increased/decreased the closer/further the lander is to the landing pad.\n",
    "- is increased/decreased the slower/faster the lander is moving.\n",
    "- is decreased the more the lander is tilted (angle not horizontal).\n",
    "- is increased by 10 points for each leg that is in contact with the ground.\n",
    "- is decreased by 0.03 points each frame a side engine is firing.\n",
    "- is decreased by 0.3 points each frame the main engine is firing.\n",
    "\n",
    "The episode receives an additional reward of -100 or +100 points for crashing or landing safely respectively.\n",
    "\n",
    "<a name=\"3.4\"></a>\n",
    "### 3.4 Episode Termination\n",
    "\n",
    "An episode ends (i.e the environment enters a terminal state) if:\n",
    "\n",
    "* The lunar lander crashes (i.e if the body of the lunar lander comes in contact with the surface of the moon).\n",
    "\n",
    "* The absolute value of the lander's $x$-coordinate is greater than 1 (i.e. it goes beyond the left or right border)\n",
    "\n",
    "You can check out the [Open AI Gym documentation](https://www.gymlibrary.dev/environments/box2d/lunar_lander/) for a full description of the environment. "
   ]
  },
  {
   "cell_type": "markdown",
   "metadata": {},
   "source": [
    "<a name=\"4\"></a>\n",
    "## 4 - Load the Environment\n",
    "\n",
    "We start by loading the `LunarLander-v2` environment from the `gym` library by using the `.make()` method. `LunarLander-v2` is the latest version of the Lunar Lander environment and you can read about its version history in the [Open AI Gym documentation](https://www.gymlibrary.dev/environments/box2d/lunar_lander/#version-history)."
   ]
  },
  {
   "cell_type": "code",
   "execution_count": 6,
   "metadata": {
    "deletable": false,
    "editable": false,
    "id": "ILVMYKewfR0n"
   },
   "outputs": [],
   "source": [
    "env = gym.make('LunarLander-v2')"
   ]
  },
  {
   "cell_type": "markdown",
   "metadata": {},
   "source": [
    "Once we load the environment we use the `.reset()` method to reset the environment to the initial state. The lander starts at the top center of the environment and we can render the first frame of the environment by using the `.render()` method."
   ]
  },
  {
   "cell_type": "code",
   "execution_count": 9,
   "metadata": {
    "deletable": false,
    "editable": false
   },
   "outputs": [
    {
     "data": {
      "image/png": "[encoded data removed]",
      "text/plain": [
       "<PIL.Image.Image image mode=RGB size=600x400 at 0x7F43F5E3A710>"
      ]
     },
     "execution_count": 9,
     "metadata": {},
     "output_type": "execute_result"
    }
   ],
   "source": [
    "env.reset()\n",
    "PIL.Image.fromarray(env.render(mode='rgb_array'))"
   ]
  },
  {
   "cell_type": "markdown",
   "metadata": {},
   "source": [
    "In order to build our neural network later on we need to know the size of the state vector and the number of valid actions. We can get this information from our environment by using the `.observation_space.shape` and `action_space.n` methods, respectively."
   ]
  },
  {
   "cell_type": "code",
   "execution_count": 10,
   "metadata": {
    "deletable": false,
    "editable": false,
    "id": "x3fdqdG4CUu2"
   },
   "outputs": [
    {
     "name": "stdout",
     "output_type": "stream",
     "text": [
      "State Shape: (8,)\n",
      "Number of actions: 4\n"
     ]
    }
   ],
   "source": [
    "state_size = env.observation_space.shape\n",
    "num_actions = env.action_space.n\n",
    "\n",
    "print('State Shape:', state_size)\n",
    "print('Number of actions:', num_actions)"
   ]
  },
  {
   "cell_type": "markdown",
   "metadata": {},
   "source": [
    "<a name=\"5\"></a>\n",
    "## 5 - Interacting with the Gym Environment\n",
    "\n",
    "The Gym library implements the standard “agent-environment loop” formalism:\n",
    "\n",
    "<br>\n",
    "<center>\n",
    "<video src = \"./videos/rl_formalism.m4v\" width=\"840\" height=\"480\" controls autoplay loop poster=\"./images/rl_formalism.png\"> </video>\n",
    "<figcaption style = \"text-align:center; font-style:italic\">Fig 2. Agent-environment Loop Formalism.</figcaption>\n",
    "</center>\n",
    "<br>\n",
    "\n",
    "In the standard “agent-environment loop” formalism, an agent interacts with the environment in discrete time steps $t=0,1,2,...$. At each time step $t$, the agent uses a policy $\\pi$ to select an action $A_t$ based on its observation of the environment's state $S_t$. The agent receives a numerical reward $R_t$ and on the next time step, moves to a new state $S_{t+1}$.\n",
    "\n",
    "<a name=\"5.1\"></a>\n",
    "### 5.1 Exploring the Environment's Dynamics\n",
    "\n",
    "In Open AI's Gym environments, we use the `.step()` method to run a single time step of the environment's dynamics. In the version of `gym` that we are using the `.step()` method accepts an action and returns four values:\n",
    "\n",
    "* `observation` (**object**): an environment-specific object representing your observation of the environment. In the Lunar Lander environment this corresponds to a numpy array containing the positions and velocities of the lander as described in section [3.2 Observation Space](#3.2).\n",
    "\n",
    "\n",
    "* `reward` (**float**): amount of reward returned as a result of taking the given action. In the Lunar Lander environment this corresponds to a float of type `numpy.float64` as described in section [3.3 Rewards](#3.3).\n",
    "\n",
    "\n",
    "* `done` (**boolean**): When done is `True`, it indicates the episode has terminated and it’s time to reset the environment. \n",
    "\n",
    "\n",
    "* `info` (**dictionary**): diagnostic information useful for debugging. We won't be using this variable in this notebook but it is shown here for completeness.\n",
    "\n",
    "To begin an episode, we need to reset the environment to an initial state. We do this by using the `.reset()` method. "
   ]
  },
  {
   "cell_type": "code",
   "execution_count": 11,
   "metadata": {
    "deletable": false,
    "editable": false
   },
   "outputs": [],
   "source": [
    "# Reset the environment and get the initial state.\n",
    "current_state = env.reset()"
   ]
  },
  {
   "cell_type": "markdown",
   "metadata": {},
   "source": [
    "Once the environment is reset, the agent can start taking actions in the environment by using the `.step()` method. Note that the agent can only take one action per time step. \n",
    "\n",
    "In the cell below you can select different actions and see how the returned values change depending on the action taken. Remember that in this environment the agent has four discrete actions available and we specify them in code by using their corresponding numerical value:\n",
    "\n",
    "```python\n",
    "Do nothing = 0\n",
    "Fire right engine = 1\n",
    "Fire main engine = 2\n",
    "Fire left engine = 3\n",
    "```"
   ]
  },
  {
   "cell_type": "code",
   "execution_count": 12,
   "metadata": {
    "deletable": false
   },
   "outputs": [
    {
     "data": {
      "text/html": [
       "<style  type=\"text/css\" >\n",
       "    #T_ab668ab6_5418_11ee_9636_0242ac120041 th {\n",
       "          border: 1px solid grey;\n",
       "          text-align: center;\n",
       "    }    #T_ab668ab6_5418_11ee_9636_0242ac120041 tbody td {\n",
       "          border: 1px solid grey;\n",
       "          text-align: center;\n",
       "    }    #T_ab668ab6_5418_11ee_9636_0242ac120041row0_col0 {\n",
       "            background-color :  grey;\n",
       "        }    #T_ab668ab6_5418_11ee_9636_0242ac120041row1_col1 {\n",
       "            background-color :  grey;\n",
       "        }    #T_ab668ab6_5418_11ee_9636_0242ac120041row1_col2 {\n",
       "            background-color :  grey;\n",
       "        }    #T_ab668ab6_5418_11ee_9636_0242ac120041row1_col3 {\n",
       "            background-color :  grey;\n",
       "        }    #T_ab668ab6_5418_11ee_9636_0242ac120041row1_col4 {\n",
       "            background-color :  grey;\n",
       "        }    #T_ab668ab6_5418_11ee_9636_0242ac120041row1_col5 {\n",
       "            background-color :  grey;\n",
       "        }    #T_ab668ab6_5418_11ee_9636_0242ac120041row1_col6 {\n",
       "            background-color :  grey;\n",
       "        }    #T_ab668ab6_5418_11ee_9636_0242ac120041row1_col7 {\n",
       "            background-color :  grey;\n",
       "        }    #T_ab668ab6_5418_11ee_9636_0242ac120041row1_col8 {\n",
       "            background-color :  grey;\n",
       "        }    #T_ab668ab6_5418_11ee_9636_0242ac120041row1_col9 {\n",
       "            background-color :  grey;\n",
       "        }    #T_ab668ab6_5418_11ee_9636_0242ac120041row1_col10 {\n",
       "            background-color :  grey;\n",
       "        }    #T_ab668ab6_5418_11ee_9636_0242ac120041row1_col11 {\n",
       "            background-color :  grey;\n",
       "        }    #T_ab668ab6_5418_11ee_9636_0242ac120041row2_col0 {\n",
       "            background-color :  grey;\n",
       "        }    #T_ab668ab6_5418_11ee_9636_0242ac120041row3_col1 {\n",
       "            background-color :  grey;\n",
       "        }    #T_ab668ab6_5418_11ee_9636_0242ac120041row3_col2 {\n",
       "            background-color :  grey;\n",
       "        }    #T_ab668ab6_5418_11ee_9636_0242ac120041row3_col3 {\n",
       "            background-color :  grey;\n",
       "        }    #T_ab668ab6_5418_11ee_9636_0242ac120041row3_col4 {\n",
       "            background-color :  grey;\n",
       "        }    #T_ab668ab6_5418_11ee_9636_0242ac120041row3_col5 {\n",
       "            background-color :  grey;\n",
       "        }    #T_ab668ab6_5418_11ee_9636_0242ac120041row3_col6 {\n",
       "            background-color :  grey;\n",
       "        }    #T_ab668ab6_5418_11ee_9636_0242ac120041row3_col7 {\n",
       "            background-color :  grey;\n",
       "        }    #T_ab668ab6_5418_11ee_9636_0242ac120041row3_col8 {\n",
       "            background-color :  grey;\n",
       "        }    #T_ab668ab6_5418_11ee_9636_0242ac120041row3_col9 {\n",
       "            background-color :  grey;\n",
       "        }    #T_ab668ab6_5418_11ee_9636_0242ac120041row3_col10 {\n",
       "            background-color :  grey;\n",
       "        }    #T_ab668ab6_5418_11ee_9636_0242ac120041row3_col11 {\n",
       "            background-color :  grey;\n",
       "        }    #T_ab668ab6_5418_11ee_9636_0242ac120041row4_col1 {\n",
       "            background-color :  grey;\n",
       "        }    #T_ab668ab6_5418_11ee_9636_0242ac120041row4_col2 {\n",
       "            background-color :  grey;\n",
       "        }    #T_ab668ab6_5418_11ee_9636_0242ac120041row4_col3 {\n",
       "            background-color :  grey;\n",
       "        }    #T_ab668ab6_5418_11ee_9636_0242ac120041row4_col4 {\n",
       "            background-color :  grey;\n",
       "        }    #T_ab668ab6_5418_11ee_9636_0242ac120041row4_col5 {\n",
       "            background-color :  grey;\n",
       "        }    #T_ab668ab6_5418_11ee_9636_0242ac120041row4_col6 {\n",
       "            background-color :  grey;\n",
       "        }    #T_ab668ab6_5418_11ee_9636_0242ac120041row4_col7 {\n",
       "            background-color :  grey;\n",
       "        }    #T_ab668ab6_5418_11ee_9636_0242ac120041row4_col8 {\n",
       "            background-color :  grey;\n",
       "        }    #T_ab668ab6_5418_11ee_9636_0242ac120041row4_col9 {\n",
       "            background-color :  grey;\n",
       "        }    #T_ab668ab6_5418_11ee_9636_0242ac120041row4_col10 {\n",
       "            background-color :  grey;\n",
       "        }    #T_ab668ab6_5418_11ee_9636_0242ac120041row4_col11 {\n",
       "            background-color :  grey;\n",
       "        }</style><table id=\"T_ab668ab6_5418_11ee_9636_0242ac120041\" ><thead>    <tr>        <th class=\"blank level0\" ></th>        <th class=\"col_heading level0 col0\" ></th>        <th class=\"col_heading level0 col1\" colspan=8>State Vector</th>        <th class=\"col_heading level0 col9\" colspan=3>Derived from the State Vector (the closer to zero, the better)</th>    </tr>    <tr>        <th class=\"blank level1\" ></th>        <th class=\"col_heading level1 col0\" ></th>        <th class=\"col_heading level1 col1\" colspan=2>Coordinate</th>        <th class=\"col_heading level1 col3\" colspan=2>Velocity</th>        <th class=\"col_heading level1 col5\" colspan=2>Tilting</th>        <th class=\"col_heading level1 col7\" colspan=2>Ground contact</th>        <th class=\"col_heading level1 col9\" >Distance from landing pad</th>        <th class=\"col_heading level1 col10\" >Velocity</th>        <th class=\"col_heading level1 col11\" >Tilting Angle (absolute value)</th>    </tr>    <tr>        <th class=\"blank level2\" ></th>        <th class=\"col_heading level2 col0\" ></th>        <th class=\"col_heading level2 col1\" >X (Horizontal)</th>        <th class=\"col_heading level2 col2\" >Y (Vertical)</th>        <th class=\"col_heading level2 col3\" >X (Horizontal)</th>        <th class=\"col_heading level2 col4\" >Y (Vertical)</th>        <th class=\"col_heading level2 col5\" >Angle</th>        <th class=\"col_heading level2 col6\" >Angular Velocity</th>        <th class=\"col_heading level2 col7\" >Left Leg?</th>        <th class=\"col_heading level2 col8\" >Right Leg?</th>        <th class=\"col_heading level2 col9\" ></th>        <th class=\"col_heading level2 col10\" ></th>        <th class=\"col_heading level2 col11\" ></th>    </tr></thead><tbody>\n",
       "                <tr>\n",
       "                        <th id=\"T_ab668ab6_5418_11ee_9636_0242ac120041level0_row0\" class=\"row_heading level0 row0\" >Current State</th>\n",
       "                        <td id=\"T_ab668ab6_5418_11ee_9636_0242ac120041row0_col0\" class=\"data row0 col0\" ></td>\n",
       "                        <td id=\"T_ab668ab6_5418_11ee_9636_0242ac120041row0_col1\" class=\"data row0 col1\" >-0.007748</td>\n",
       "                        <td id=\"T_ab668ab6_5418_11ee_9636_0242ac120041row0_col2\" class=\"data row0 col2\" >1.419120</td>\n",
       "                        <td id=\"T_ab668ab6_5418_11ee_9636_0242ac120041row0_col3\" class=\"data row0 col3\" >-0.784778</td>\n",
       "                        <td id=\"T_ab668ab6_5418_11ee_9636_0242ac120041row0_col4\" class=\"data row0 col4\" >0.364432</td>\n",
       "                        <td id=\"T_ab668ab6_5418_11ee_9636_0242ac120041row0_col5\" class=\"data row0 col5\" >0.008984</td>\n",
       "                        <td id=\"T_ab668ab6_5418_11ee_9636_0242ac120041row0_col6\" class=\"data row0 col6\" >0.177764</td>\n",
       "                        <td id=\"T_ab668ab6_5418_11ee_9636_0242ac120041row0_col7\" class=\"data row0 col7\" >False</td>\n",
       "                        <td id=\"T_ab668ab6_5418_11ee_9636_0242ac120041row0_col8\" class=\"data row0 col8\" >False</td>\n",
       "                        <td id=\"T_ab668ab6_5418_11ee_9636_0242ac120041row0_col9\" class=\"data row0 col9\" >1.419142</td>\n",
       "                        <td id=\"T_ab668ab6_5418_11ee_9636_0242ac120041row0_col10\" class=\"data row0 col10\" >0.865267</td>\n",
       "                        <td id=\"T_ab668ab6_5418_11ee_9636_0242ac120041row0_col11\" class=\"data row0 col11\" >0.008984</td>\n",
       "            </tr>\n",
       "            <tr>\n",
       "                        <th id=\"T_ab668ab6_5418_11ee_9636_0242ac120041level0_row1\" class=\"row_heading level0 row1\" >Action</th>\n",
       "                        <td id=\"T_ab668ab6_5418_11ee_9636_0242ac120041row1_col0\" class=\"data row1 col0\" >Do nothing</td>\n",
       "                        <td id=\"T_ab668ab6_5418_11ee_9636_0242ac120041row1_col1\" class=\"data row1 col1\" ></td>\n",
       "                        <td id=\"T_ab668ab6_5418_11ee_9636_0242ac120041row1_col2\" class=\"data row1 col2\" ></td>\n",
       "                        <td id=\"T_ab668ab6_5418_11ee_9636_0242ac120041row1_col3\" class=\"data row1 col3\" ></td>\n",
       "                        <td id=\"T_ab668ab6_5418_11ee_9636_0242ac120041row1_col4\" class=\"data row1 col4\" ></td>\n",
       "                        <td id=\"T_ab668ab6_5418_11ee_9636_0242ac120041row1_col5\" class=\"data row1 col5\" ></td>\n",
       "                        <td id=\"T_ab668ab6_5418_11ee_9636_0242ac120041row1_col6\" class=\"data row1 col6\" ></td>\n",
       "                        <td id=\"T_ab668ab6_5418_11ee_9636_0242ac120041row1_col7\" class=\"data row1 col7\" ></td>\n",
       "                        <td id=\"T_ab668ab6_5418_11ee_9636_0242ac120041row1_col8\" class=\"data row1 col8\" ></td>\n",
       "                        <td id=\"T_ab668ab6_5418_11ee_9636_0242ac120041row1_col9\" class=\"data row1 col9\" ></td>\n",
       "                        <td id=\"T_ab668ab6_5418_11ee_9636_0242ac120041row1_col10\" class=\"data row1 col10\" ></td>\n",
       "                        <td id=\"T_ab668ab6_5418_11ee_9636_0242ac120041row1_col11\" class=\"data row1 col11\" ></td>\n",
       "            </tr>\n",
       "            <tr>\n",
       "                        <th id=\"T_ab668ab6_5418_11ee_9636_0242ac120041level0_row2\" class=\"row_heading level0 row2\" >Next State</th>\n",
       "                        <td id=\"T_ab668ab6_5418_11ee_9636_0242ac120041row2_col0\" class=\"data row2 col0\" ></td>\n",
       "                        <td id=\"T_ab668ab6_5418_11ee_9636_0242ac120041row2_col1\" class=\"data row2 col1\" >-0.015496</td>\n",
       "                        <td id=\"T_ab668ab6_5418_11ee_9636_0242ac120041row2_col2\" class=\"data row2 col2\" >1.426743</td>\n",
       "                        <td id=\"T_ab668ab6_5418_11ee_9636_0242ac120041row2_col3\" class=\"data row2 col3\" >-0.783716</td>\n",
       "                        <td id=\"T_ab668ab6_5418_11ee_9636_0242ac120041row2_col4\" class=\"data row2 col4\" >0.338718</td>\n",
       "                        <td id=\"T_ab668ab6_5418_11ee_9636_0242ac120041row2_col5\" class=\"data row2 col5\" >0.017769</td>\n",
       "                        <td id=\"T_ab668ab6_5418_11ee_9636_0242ac120041row2_col6\" class=\"data row2 col6\" >0.175698</td>\n",
       "                        <td id=\"T_ab668ab6_5418_11ee_9636_0242ac120041row2_col7\" class=\"data row2 col7\" >False</td>\n",
       "                        <td id=\"T_ab668ab6_5418_11ee_9636_0242ac120041row2_col8\" class=\"data row2 col8\" >False</td>\n",
       "                        <td id=\"T_ab668ab6_5418_11ee_9636_0242ac120041row2_col9\" class=\"data row2 col9\" >1.426828</td>\n",
       "                        <td id=\"T_ab668ab6_5418_11ee_9636_0242ac120041row2_col10\" class=\"data row2 col10\" >0.853780</td>\n",
       "                        <td id=\"T_ab668ab6_5418_11ee_9636_0242ac120041row2_col11\" class=\"data row2 col11\" >0.017769</td>\n",
       "            </tr>\n",
       "            <tr>\n",
       "                        <th id=\"T_ab668ab6_5418_11ee_9636_0242ac120041level0_row3\" class=\"row_heading level0 row3\" >Reward</th>\n",
       "                        <td id=\"T_ab668ab6_5418_11ee_9636_0242ac120041row3_col0\" class=\"data row3 col0\" >-0.498333</td>\n",
       "                        <td id=\"T_ab668ab6_5418_11ee_9636_0242ac120041row3_col1\" class=\"data row3 col1\" ></td>\n",
       "                        <td id=\"T_ab668ab6_5418_11ee_9636_0242ac120041row3_col2\" class=\"data row3 col2\" ></td>\n",
       "                        <td id=\"T_ab668ab6_5418_11ee_9636_0242ac120041row3_col3\" class=\"data row3 col3\" ></td>\n",
       "                        <td id=\"T_ab668ab6_5418_11ee_9636_0242ac120041row3_col4\" class=\"data row3 col4\" ></td>\n",
       "                        <td id=\"T_ab668ab6_5418_11ee_9636_0242ac120041row3_col5\" class=\"data row3 col5\" ></td>\n",
       "                        <td id=\"T_ab668ab6_5418_11ee_9636_0242ac120041row3_col6\" class=\"data row3 col6\" ></td>\n",
       "                        <td id=\"T_ab668ab6_5418_11ee_9636_0242ac120041row3_col7\" class=\"data row3 col7\" ></td>\n",
       "                        <td id=\"T_ab668ab6_5418_11ee_9636_0242ac120041row3_col8\" class=\"data row3 col8\" ></td>\n",
       "                        <td id=\"T_ab668ab6_5418_11ee_9636_0242ac120041row3_col9\" class=\"data row3 col9\" ></td>\n",
       "                        <td id=\"T_ab668ab6_5418_11ee_9636_0242ac120041row3_col10\" class=\"data row3 col10\" ></td>\n",
       "                        <td id=\"T_ab668ab6_5418_11ee_9636_0242ac120041row3_col11\" class=\"data row3 col11\" ></td>\n",
       "            </tr>\n",
       "            <tr>\n",
       "                        <th id=\"T_ab668ab6_5418_11ee_9636_0242ac120041level0_row4\" class=\"row_heading level0 row4\" >Episode Terminated</th>\n",
       "                        <td id=\"T_ab668ab6_5418_11ee_9636_0242ac120041row4_col0\" class=\"data row4 col0\" >False</td>\n",
       "                        <td id=\"T_ab668ab6_5418_11ee_9636_0242ac120041row4_col1\" class=\"data row4 col1\" ></td>\n",
       "                        <td id=\"T_ab668ab6_5418_11ee_9636_0242ac120041row4_col2\" class=\"data row4 col2\" ></td>\n",
       "                        <td id=\"T_ab668ab6_5418_11ee_9636_0242ac120041row4_col3\" class=\"data row4 col3\" ></td>\n",
       "                        <td id=\"T_ab668ab6_5418_11ee_9636_0242ac120041row4_col4\" class=\"data row4 col4\" ></td>\n",
       "                        <td id=\"T_ab668ab6_5418_11ee_9636_0242ac120041row4_col5\" class=\"data row4 col5\" ></td>\n",
       "                        <td id=\"T_ab668ab6_5418_11ee_9636_0242ac120041row4_col6\" class=\"data row4 col6\" ></td>\n",
       "                        <td id=\"T_ab668ab6_5418_11ee_9636_0242ac120041row4_col7\" class=\"data row4 col7\" ></td>\n",
       "                        <td id=\"T_ab668ab6_5418_11ee_9636_0242ac120041row4_col8\" class=\"data row4 col8\" ></td>\n",
       "                        <td id=\"T_ab668ab6_5418_11ee_9636_0242ac120041row4_col9\" class=\"data row4 col9\" ></td>\n",
       "                        <td id=\"T_ab668ab6_5418_11ee_9636_0242ac120041row4_col10\" class=\"data row4 col10\" ></td>\n",
       "                        <td id=\"T_ab668ab6_5418_11ee_9636_0242ac120041row4_col11\" class=\"data row4 col11\" ></td>\n",
       "            </tr>\n",
       "    </tbody></table>"
      ],
      "text/plain": [
       "<pandas.io.formats.style.Styler at 0x7f44b7629e90>"
      ]
     },
     "metadata": {},
     "output_type": "display_data"
    }
   ],
   "source": [
    "# Select an action\n",
    "action = 0\n",
    "\n",
    "# Run a single time step of the environment's dynamics with the given action.\n",
    "next_state, reward, done, _ = env.step(action)\n",
    "\n",
    "# Display table with values.\n",
    "utils.display_table(current_state, action, next_state, reward, done)\n",
    "\n",
    "# Replace the `current_state` with the state after the action is taken\n",
    "current_state = next_state"
   ]
  },
  {
   "cell_type": "markdown",
   "metadata": {},
   "source": [
    "In practice, when we train the agent we use a loop to allow the agent to take many consecutive actions during an episode."
   ]
  },
  {
   "cell_type": "markdown",
   "metadata": {},
   "source": [
    "<a name=\"6\"></a>\n",
    "## 6 - Deep Q-Learning\n",
    "\n",
    "In cases where both the state and action space are discrete we can estimate the action-value function iteratively by using the Bellman equation:\n",
    "\n",
    "$$\n",
    "Q_{i+1}(s,a) = R + \\gamma \\max_{a'}Q_i(s',a')\n",
    "$$\n",
    "\n",
    "This iterative method converges to the optimal action-value function $Q^*(s,a)$ as $i\\to\\infty$. This means that the agent just needs to gradually explore the state-action space and keep updating the estimate of $Q(s,a)$ until it converges to the optimal action-value function $Q^*(s,a)$. However, in cases where the state space is continuous it becomes practically impossible to explore the entire state-action space. Consequently, this also makes it practically impossible to gradually estimate $Q(s,a)$ until it converges to $Q^*(s,a)$.\n",
    "\n",
    "In the Deep $Q$-Learning, we solve this problem by using a neural network to estimate the action-value function $Q(s,a)\\approx Q^*(s,a)$. We call this neural network a $Q$-Network and it can be trained by adjusting its weights at each iteration to minimize the mean-squared error in the Bellman equation.\n",
    "\n",
    "Unfortunately, using neural networks in reinforcement learning to estimate action-value functions has proven to be highly unstable. Luckily, there's a couple of techniques that can be employed to avoid instabilities. These techniques consist of using a ***Target Network*** and ***Experience Replay***. We will explore these two techniques in the following sections."
   ]
  },
  {
   "cell_type": "markdown",
   "metadata": {},
   "source": [
    "<a name=\"6.1\"></a>\n",
    "### 6.1 Target Network\n",
    "\n",
    "We can train the $Q$-Network by adjusting it's weights at each iteration to minimize the mean-squared error in the Bellman equation, where the target values are given by:\n",
    "\n",
    "$$\n",
    "y = R + \\gamma \\max_{a'}Q(s',a';w)\n",
    "$$\n",
    "\n",
    "where $w$ are the weights of the $Q$-Network. This means that we are adjusting the weights $w$ at each iteration to minimize the following error:\n",
    "\n",
    "$$\n",
    "\\overbrace{\\underbrace{R + \\gamma \\max_{a'}Q(s',a'; w)}_{\\rm {y~target}} - Q(s,a;w)}^{\\rm {Error}}\n",
    "$$\n",
    "\n",
    "Notice that this forms a problem because the $y$ target is changing on every iteration. Having a constantly moving target can lead to oscillations and instabilities. To avoid this, we can create\n",
    "a separate neural network for generating the $y$ targets. We call this separate neural network the **target $\\hat Q$-Network** and it will have the same architecture as the original $Q$-Network. By using the target $\\hat Q$-Network, the above error becomes:\n",
    "\n",
    "$$\n",
    "\\overbrace{\\underbrace{R + \\gamma \\max_{a'}\\hat{Q}(s',a'; w^-)}_{\\rm {y~target}} - Q(s,a;w)}^{\\rm {Error}}\n",
    "$$\n",
    "\n",
    "where $w^-$ and $w$ are the weights of the target $\\hat Q$-Network and $Q$-Network, respectively.\n",
    "\n",
    "In practice, we will use the following algorithm: every $C$ time steps we will use the $\\hat Q$-Network to generate the $y$ targets and update the weights of the target $\\hat Q$-Network using the weights of the $Q$-Network. We will update the weights $w^-$ of the the target $\\hat Q$-Network using a **soft update**. This means that we will update the weights $w^-$ using the following rule:\n",
    " \n",
    "$$\n",
    "w^-\\leftarrow \\tau w + (1 - \\tau) w^-\n",
    "$$\n",
    "\n",
    "where $\\tau\\ll 1$. By using the soft update, we are ensuring that the target values, $y$, change slowly, which greatly improves the stability of our learning algorithm."
   ]
  },
  {
   "cell_type": "markdown",
   "metadata": {},
   "source": [
    "<a name=\"ex01\"></a>\n",
    "### Exercise 1\n",
    "\n",
    "In this exercise you will create the $Q$ and target $\\hat Q$ networks and set the optimizer. Remember that the Deep $Q$-Network (DQN) is a neural network that approximates the action-value function $Q(s,a)\\approx Q^*(s,a)$. It does this by learning how to map states to $Q$ values.\n",
    "\n",
    "To solve the Lunar Lander environment, we are going to employ a DQN with the following architecture:\n",
    "\n",
    "* An `Input` layer that takes `state_size` as input.\n",
    "\n",
    "* A `Dense` layer with `64` units and a `relu` activation function.\n",
    "\n",
    "* A `Dense` layer with `64` units and a `relu` activation function.\n",
    "\n",
    "* A `Dense` layer with `num_actions` units and a `linear` activation function. This will be the output layer of our network.\n",
    "\n",
    "\n",
    "In the cell below you should create the $Q$-Network and the target $\\hat Q$-Network using the model architecture described above. Remember that both the $Q$-Network and the target $\\hat Q$-Network have the same architecture.\n",
    "\n",
    "Lastly, you should set `Adam` as the optimizer with a learning rate equal to `ALPHA`. Recall that `ALPHA` was defined in the [Hyperparameters](#2) section. We should note that for this exercise you should use the already imported packages:\n",
    "```python\n",
    "from tensorflow.keras.layers import Dense, Input\n",
    "from tensorflow.keras.optimizers import Adam\n",
    "```"
   ]
  },
  {
   "cell_type": "code",
   "execution_count": 14,
   "metadata": {},
   "outputs": [
    {
     "data": {
      "text/plain": [
       "(8,)"
      ]
     },
     "execution_count": 14,
     "metadata": {},
     "output_type": "execute_result"
    }
   ],
   "source": [
    "state_size"
   ]
  },
  {
   "cell_type": "code",
   "execution_count": 20,
   "metadata": {
    "deletable": false
   },
   "outputs": [],
   "source": [
    "# UNQ_C1\n",
    "# GRADED CELL\n",
    "\n",
    "# Create the Q-Network\n",
    "q_network = Sequential([\n",
    "    ### START CODE HERE ### \n",
    "    \n",
    "    Input(shape = state_size),\n",
    "    Dense(64, activation = tf.keras.activations.relu),\n",
    "    Dense(64, activation = tf.keras.activations.relu),\n",
    "    Dense(num_actions)\n",
    "    \n",
    "    ### END CODE HERE ### \n",
    "    ])\n",
    "\n",
    "# Create the target Q^-Network\n",
    "target_q_network = Sequential([\n",
    "    ### START CODE HERE ### \n",
    "    \n",
    "    Input(shape = state_size),\n",
    "    Dense(64, activation = tf.keras.activations.relu),\n",
    "    Dense(64, activation = tf.keras.activations.relu),\n",
    "    Dense(num_actions)    \n",
    "    \n",
    "    ### END CODE HERE ###\n",
    "    ])\n",
    "\n",
    "### START CODE HERE ### \n",
    "optimizer = Adam(learning_rate = ALPHA)\n",
    "### END CODE HERE ###"
   ]
  },
  {
   "cell_type": "code",
   "execution_count": 21,
   "metadata": {
    "deletable": false,
    "editable": false
   },
   "outputs": [
    {
     "name": "stdout",
     "output_type": "stream",
     "text": [
      "\u001b[92mAll tests passed!\n",
      "\u001b[92mAll tests passed!\n",
      "\u001b[92mAll tests passed!\n"
     ]
    }
   ],
   "source": [
    "# UNIT TEST\n",
    "from public_tests import *\n",
    "\n",
    "test_network(q_network)\n",
    "test_network(target_q_network)\n",
    "test_optimizer(optimizer, ALPHA) "
   ]
  },
  {
   "cell_type": "markdown",
   "metadata": {},
   "source": [
    "<details>\n",
    "  <summary><font size=\"3\" color=\"darkgreen\"><b>Click for hints</b></font></summary>\n",
    "    \n",
    "```python\n",
    "# Create the Q-Network\n",
    "q_network = Sequential([\n",
    "    Input(shape=state_size),                      \n",
    "    Dense(units=64, activation='relu'),            \n",
    "    Dense(units=64, activation='relu'),            \n",
    "    Dense(units=num_actions, activation='linear'),\n",
    "    ])\n",
    "\n",
    "# Create the target Q^-Network\n",
    "target_q_network = Sequential([\n",
    "    Input(shape=state_size),                       \n",
    "    Dense(units=64, activation='relu'),            \n",
    "    Dense(units=64, activation='relu'),            \n",
    "    Dense(units=num_actions, activation='linear'), \n",
    "    ])\n",
    "\n",
    "optimizer = Adam(learning_rate=ALPHA)                                  \n",
    "``` "
   ]
  },
  {
   "cell_type": "markdown",
   "metadata": {},
   "source": [
    "<a name=\"6.2\"></a>\n",
    "### 6.2 Experience Replay\n",
    "\n",
    "When an agent interacts with the environment, the states, actions, and rewards the agent experiences are sequential by nature. If the agent tries to learn from these consecutive experiences it can run into problems due to the strong correlations between them. To avoid this, we employ a technique known as **Experience Replay** to generate uncorrelated experiences for training our agent. Experience replay consists of storing the agent's experiences (i.e the states, actions, and rewards the agent receives) in a memory buffer and then sampling a random mini-batch of experiences from the buffer to do the learning. The experience tuples $(S_t, A_t, R_t, S_{t+1})$ will be added to the memory buffer at each time step as the agent interacts with the environment.\n",
    "\n",
    "For convenience, we will store the experiences as named tuples."
   ]
  },
  {
   "cell_type": "code",
   "execution_count": 22,
   "metadata": {
    "deletable": false,
    "editable": false
   },
   "outputs": [],
   "source": [
    "# Store experiences as named tuples\n",
    "experience = namedtuple(\"Experience\", field_names=[\"state\", \"action\", \"reward\", \"next_state\", \"done\"])"
   ]
  },
  {
   "cell_type": "markdown",
   "metadata": {},
   "source": [
    "By using experience replay we avoid problematic correlations, oscillations and instabilities. In addition, experience replay also allows the agent to potentially use the same experience in multiple weight updates, which increases data efficiency."
   ]
  },
  {
   "cell_type": "markdown",
   "metadata": {},
   "source": [
    "<a name=\"7\"></a>\n",
    "## 7 - Deep Q-Learning Algorithm with Experience Replay\n",
    "\n",
    "Now that we know all the techniques that we are going to use, we can put them together to arrive at the Deep Q-Learning Algorithm With Experience Replay.\n",
    "<br>\n",
    "<br>\n",
    "<figure>\n",
    "  <img src = \"images/deep_q_algorithm.png\" width = 90% style = \"border: thin silver solid; padding: 0px\">\n",
    "      <figcaption style = \"text-align: center; font-style: italic\">Fig 3. Deep Q-Learning with Experience Replay.</figcaption>\n",
    "</figure>"
   ]
  },
  {
   "cell_type": "markdown",
   "metadata": {},
   "source": [
    "<a name=\"ex02\"></a>\n",
    "### Exercise 2\n",
    "\n",
    "In this exercise you will implement line ***12*** of the algorithm outlined in *Fig 3* above and you will also compute the loss between the $y$ targets and the $Q(s,a)$ values. In the cell below, complete the `compute_loss` function by setting the $y$ targets equal to:\n",
    "\n",
    "$$\n",
    "\\begin{equation}\n",
    "    y_j =\n",
    "    \\begin{cases}\n",
    "      R_j & \\text{if episode terminates at step  } j+1\\\\\n",
    "      R_j + \\gamma \\max_{a'}\\hat{Q}(s_{j+1},a') & \\text{otherwise}\\\\\n",
    "    \\end{cases}       \n",
    "\\end{equation}\n",
    "$$\n",
    "\n",
    "Here are a couple of things to note:\n",
    "\n",
    "* The `compute_loss` function takes in a mini-batch of experience tuples. This mini-batch of experience tuples is unpacked to extract the `states`, `actions`, `rewards`, `next_states`, and `done_vals`. You should keep in mind that these variables are *TensorFlow Tensors* whose size will depend on the mini-batch size. For example, if the mini-batch size is `64` then both `rewards` and `done_vals` will be TensorFlow Tensors with `64` elements.\n",
    "\n",
    "\n",
    "* Using `if/else` statements to set the $y$ targets will not work when the variables are tensors with many elements. However, notice that you can use the `done_vals` to implement the above in a single line of code. To do this, recall that the `done` variable is a Boolean variable that takes the value `True` when an episode terminates at step $j+1$ and it is `False` otherwise. Taking into account that a Boolean value of `True` has the numerical value of `1` and a Boolean value of `False` has the numerical value of `0`, you can use the factor `(1 - done_vals)` to implement the above in a single line of code. Here's a hint: notice that `(1 - done_vals)` has a value of `0` when `done_vals` is `True` and a value of `1` when `done_vals` is `False`. \n",
    "\n",
    "Lastly, compute the loss by calculating the Mean-Squared Error (`MSE`) between the `y_targets` and the `q_values`. To calculate the mean-squared error you should use the already imported package `MSE`:\n",
    "```python\n",
    "from tensorflow.keras.losses import MSE\n",
    "```"
   ]
  },
  {
   "cell_type": "code",
   "execution_count": 29,
   "metadata": {},
   "outputs": [
    {
     "data": {
      "text/plain": [
       "int"
      ]
     },
     "execution_count": 29,
     "metadata": {},
     "output_type": "execute_result"
    }
   ],
   "source": [
    "type(1-False)"
   ]
  },
  {
   "cell_type": "code",
   "execution_count": 32,
   "metadata": {
    "deletable": false
   },
   "outputs": [],
   "source": [
    "# UNQ_C2\n",
    "# GRADED FUNCTION: calculate_loss\n",
    "\n",
    "def compute_loss(experiences, gamma, q_network, target_q_network):\n",
    "    \"\"\" \n",
    "    Calculates the loss.\n",
    "    \n",
    "    Args:\n",
    "      experiences: (tuple) tuple of [\"state\", \"action\", \"reward\", \"next_state\", \"done\"] namedtuples\n",
    "      gamma: (float) The discount factor.\n",
    "      q_network: (tf.keras.Sequential) Keras model for predicting the q_values\n",
    "      target_q_network: (tf.keras.Sequential) Keras model for predicting the targets\n",
    "          \n",
    "    Returns:\n",
    "      loss: (TensorFlow Tensor(shape=(0,), dtype=int32)) the Mean-Squared Error between\n",
    "            the y targets and the Q(s,a) values.\n",
    "    \"\"\"\n",
    "\n",
    "    # Unpack the mini-batch of experience tuples\n",
    "    states, actions, rewards, next_states, done_vals = experiences\n",
    "    \n",
    "    # Compute max Q^(s,a)\n",
    "    max_qsa = tf.reduce_max(target_q_network(next_states), axis=-1)\n",
    "    \n",
    "    # Set y = R if episode terminates, otherwise set y = R + γ max Q^(s,a).\n",
    "    ### START CODE HERE ### \n",
    "    y_targets = rewards + gamma*(1-done_vals)*max_qsa\n",
    "    ### END CODE HERE ###\n",
    "    \n",
    "    # Get the q_values and reshape to match y_targets\n",
    "    q_values = q_network(states)\n",
    "    q_values = tf.gather_nd(q_values, tf.stack([tf.range(q_values.shape[0]),\n",
    "                                                tf.cast(actions, tf.int32)], axis=1))\n",
    "        \n",
    "    # Compute the loss\n",
    "    ### START CODE HERE ### \n",
    "    loss =  tf.keras.losses.MSE(q_values , y_targets)\n",
    "    ### END CODE HERE ### \n",
    "    \n",
    "    return loss"
   ]
  },
  {
   "cell_type": "code",
   "execution_count": 33,
   "metadata": {
    "deletable": false,
    "editable": false
   },
   "outputs": [
    {
     "name": "stdout",
     "output_type": "stream",
     "text": [
      "\u001b[92mAll tests passed!\n"
     ]
    }
   ],
   "source": [
    "# UNIT TEST    \n",
    "test_compute_loss(compute_loss)"
   ]
  },
  {
   "cell_type": "markdown",
   "metadata": {},
   "source": [
    "<details>\n",
    "  <summary><font size=\"3\" color=\"darkgreen\"><b>Click for hints</b></font></summary>\n",
    "    \n",
    "```python\n",
    "def compute_loss(experiences, gamma, q_network, target_q_network):\n",
    "    \"\"\" \n",
    "    Calculates the loss.\n",
    "    \n",
    "    Args:\n",
    "      experiences: (tuple) tuple of [\"state\", \"action\", \"reward\", \"next_state\", \"done\"] namedtuples\n",
    "      gamma: (float) The discount factor.\n",
    "      q_network: (tf.keras.Sequential) Keras model for predicting the q_values\n",
    "      target_q_network: (tf.keras.Sequential) Keras model for predicting the targets\n",
    "          \n",
    "    Returns:\n",
    "      loss: (TensorFlow Tensor(shape=(0,), dtype=int32)) the Mean-Squared Error between\n",
    "            the y targets and the Q(s,a) values.\n",
    "    \"\"\"\n",
    "\n",
    "    \n",
    "    # Unpack the mini-batch of experience tuples\n",
    "    states, actions, rewards, next_states, done_vals = experiences\n",
    "    \n",
    "    # Compute max Q^(s,a)\n",
    "    max_qsa = tf.reduce_max(target_q_network(next_states), axis=-1)\n",
    "    \n",
    "    # Set y = R if episode terminates, otherwise set y = R + γ max Q^(s,a).\n",
    "    y_targets = rewards + (gamma * max_qsa * (1 - done_vals))\n",
    "    \n",
    "    # Get the q_values\n",
    "    q_values = q_network(states)\n",
    "    q_values = tf.gather_nd(q_values, tf.stack([tf.range(q_values.shape[0]),\n",
    "                                                tf.cast(actions, tf.int32)], axis=1))\n",
    "    \n",
    "    # Calculate the loss\n",
    "    loss = MSE(y_targets, q_values)\n",
    "    \n",
    "    return loss\n",
    "\n",
    "``` \n",
    "    "
   ]
  },
  {
   "cell_type": "markdown",
   "metadata": {},
   "source": [
    "<a name=\"8\"></a>\n",
    "## 8 - Update the Network Weights\n",
    "\n",
    "We will use the `agent_learn` function below to implement lines ***12 -14*** of the algorithm outlined in [Fig 3](#7). The `agent_learn` function will update the weights of the $Q$ and target $\\hat Q$ networks using a custom training loop. Because we are using a custom training loop we need to retrieve the gradients via a `tf.GradientTape` instance, and then call `optimizer.apply_gradients()` to update the weights of our $Q$-Network. Note that we are also using the `@tf.function` decorator to increase performance. Without this decorator our training will take twice as long. If you would like to know more about how to increase performance with `@tf.function` take a look at the [TensorFlow documentation](https://www.tensorflow.org/guide/function).\n",
    "\n",
    "The last line of this function updates the weights of the target $\\hat Q$-Network using a [soft update](#6.1). If you want to know how this is implemented in code we encourage you to take a look at the `utils.update_target_network` function in the `utils` module."
   ]
  },
  {
   "cell_type": "code",
   "execution_count": 34,
   "metadata": {
    "deletable": false,
    "editable": false
   },
   "outputs": [],
   "source": [
    "@tf.function\n",
    "def agent_learn(experiences, gamma):\n",
    "    \"\"\"\n",
    "    Updates the weights of the Q networks.\n",
    "    \n",
    "    Args:\n",
    "      experiences: (tuple) tuple of [\"state\", \"action\", \"reward\", \"next_state\", \"done\"] namedtuples\n",
    "      gamma: (float) The discount factor.\n",
    "    \n",
    "    \"\"\"\n",
    "    \n",
    "    # Calculate the loss\n",
    "    with tf.GradientTape() as tape:\n",
    "        loss = compute_loss(experiences, gamma, q_network, target_q_network)\n",
    "\n",
    "    # Get the gradients of the loss with respect to the weights.\n",
    "    gradients = tape.gradient(loss, q_network.trainable_variables)\n",
    "    \n",
    "    # Update the weights of the q_network.\n",
    "    optimizer.apply_gradients(zip(gradients, q_network.trainable_variables))\n",
    "\n",
    "    # update the weights of target q_network\n",
    "    utils.update_target_network(q_network, target_q_network)"
   ]
  },
  {
   "cell_type": "markdown",
   "metadata": {},
   "source": [
    "<a name=\"9\"></a>\n",
    "## 9 - Train the Agent\n",
    "\n",
    "We are now ready to train our agent to solve the Lunar Lander environment. In the cell below we will implement the algorithm in [Fig 3](#7) line by line (please note that we have included the same algorithm below for easy reference. This will prevent you from scrolling up and down the notebook):\n",
    "\n",
    "* **Line 1**: We initialize the `memory_buffer` with a capacity of $N =$ `MEMORY_SIZE`. Notice that we are using a `deque` as the data structure for our `memory_buffer`.\n",
    "\n",
    "\n",
    "* **Line 2**: We skip this line since we already initialized the `q_network` in [Exercise 1](#ex01).\n",
    "\n",
    "\n",
    "* **Line 3**: We initialize the `target_q_network` by setting its weights to be equal to those of the `q_network`.\n",
    "\n",
    "\n",
    "* **Line 4**: We start the outer loop. Notice that we have set $M =$ `num_episodes = 2000`. This number is reasonable because the agent should be able to solve the Lunar Lander environment in less than `2000` episodes using this notebook's default parameters.\n",
    "\n",
    "\n",
    "* **Line 5**: We use the `.reset()` method to reset the environment to the initial state and get the initial state.\n",
    "\n",
    "\n",
    "* **Line 6**: We start the inner loop. Notice that we have set $T =$ `max_num_timesteps = 1000`. This means that the episode will automatically terminate if the episode hasn't terminated after `1000` time steps.\n",
    "\n",
    "\n",
    "* **Line 7**: The agent observes the current `state` and chooses an `action` using an $\\epsilon$-greedy policy. Our agent starts out using a value of $\\epsilon =$ `epsilon = 1` which yields an $\\epsilon$-greedy policy that is equivalent to the equiprobable random policy. This means that at the beginning of our training, the agent is just going to take random actions regardless of the observed `state`. As training progresses we will decrease the value of $\\epsilon$ slowly towards a minimum value using a given $\\epsilon$-decay rate. We want this minimum value to be close to zero because a value of $\\epsilon = 0$ will yield an $\\epsilon$-greedy policy that is equivalent to the greedy policy. This means that towards the end of training, the agent will lean towards selecting the `action` that it believes (based on its past experiences) will maximize $Q(s,a)$. We will set the minimum $\\epsilon$ value to be `0.01` and not exactly 0 because we always want to keep a little bit of exploration during training. If you want to know how this is implemented in code we encourage you to take a look at the `utils.get_action` function in the `utils` module.\n",
    "\n",
    "\n",
    "* **Line 8**: We use the `.step()` method to take the given `action` in the environment and get the `reward` and the `next_state`. \n",
    "\n",
    "\n",
    "* **Line 9**: We store the `experience(state, action, reward, next_state, done)` tuple in our `memory_buffer`. Notice that we also store the `done` variable so that we can keep track of when an episode terminates. This allowed us to set the $y$ targets in [Exercise 2](#ex02).\n",
    "\n",
    "\n",
    "* **Line 10**: We check if the conditions are met to perform a learning update. We do this by using our custom `utils.check_update_conditions` function. This function checks if $C =$ `NUM_STEPS_FOR_UPDATE = 4` time steps have occured and if our `memory_buffer` has enough experience tuples to fill a mini-batch. For example, if the mini-batch size is `64`, then our `memory_buffer` should have more than `64` experience tuples in order to pass the latter condition. If the conditions are met, then the `utils.check_update_conditions` function will return a value of `True`, otherwise it will return a value of `False`.\n",
    "\n",
    "\n",
    "* **Lines 11 - 14**: If the `update` variable is `True` then we perform a learning update. The learning update consists of sampling a random mini-batch of experience tuples from our `memory_buffer`, setting the $y$ targets, performing gradient descent, and updating the weights of the networks. We will use the `agent_learn` function we defined in [Section 8](#8) to perform the latter 3.\n",
    "\n",
    "\n",
    "* **Line 15**: At the end of each iteration of the inner loop we set `next_state` as our new `state` so that the loop can start again from this new state. In addition, we check if the episode has reached a terminal state (i.e we check if `done = True`). If a terminal state has been reached, then we break out of the inner loop.\n",
    "\n",
    "\n",
    "* **Line 16**: At the end of each iteration of the outer loop we update the value of $\\epsilon$, and check if the environment has been solved. We consider that the environment has been solved if the agent receives an average of `200` points in the last `100` episodes. If the environment has not been solved we continue the outer loop and start a new episode.\n",
    "\n",
    "Finally, we wanted to note that we have included some extra variables to keep track of the total number of points the agent received in each episode. This will help us determine if the agent has solved the environment and it will also allow us to see how our agent performed during training. We also use the `time` module to measure how long the training takes. \n",
    "\n",
    "<br>\n",
    "<br>\n",
    "<figure>\n",
    "  <img src = \"images/deep_q_algorithm.png\" width = 90% style = \"border: thin silver solid; padding: 0px\">\n",
    "      <figcaption style = \"text-align: center; font-style: italic\">Fig 4. Deep Q-Learning with Experience Replay.</figcaption>\n",
    "</figure>\n",
    "<br>\n",
    "\n",
    "**Note:** With this notebook's default parameters, the following cell takes between 10 to 15 minutes to run. "
   ]
  },
  {
   "cell_type": "code",
   "execution_count": 39,
   "metadata": {
    "scrolled": true
   },
   "outputs": [
    {
     "data": {
      "text/plain": [
       "4"
      ]
     },
     "execution_count": 39,
     "metadata": {},
     "output_type": "execute_result"
    }
   ],
   "source": [
    "NUM_STEPS_FOR_UPDATE"
   ]
  },
  {
   "cell_type": "code",
   "execution_count": 40,
   "metadata": {
    "deletable": false,
    "editable": false
   },
   "outputs": [
    {
     "name": "stdout",
     "output_type": "stream",
     "text": [
      "Episode 100 | Total point average of the last 100 episodes: -152.91\n",
      "Episode 200 | Total point average of the last 100 episodes: -107.98\n",
      "Episode 300 | Total point average of the last 100 episodes: -49.521\n",
      "Episode 400 | Total point average of the last 100 episodes: 43.621\n",
      "Episode 500 | Total point average of the last 100 episodes: 151.08\n",
      "Episode 600 | Total point average of the last 100 episodes: 174.65\n",
      "Episode 688 | Total point average of the last 100 episodes: 200.35\n",
      "\n",
      "Environment solved in 688 episodes!\n",
      "\n",
      "Total Runtime: 838.95 s (13.98 min)\n"
     ]
    }
   ],
   "source": [
    "start = time.time()\n",
    "\n",
    "num_episodes = 2000\n",
    "max_num_timesteps = 1000\n",
    "\n",
    "total_point_history = []\n",
    "\n",
    "num_p_av = 100    # number of total points to use for averaging\n",
    "epsilon = 1.0     # initial ε value for ε-greedy policy\n",
    "\n",
    "# Create a memory buffer D with capacity N\n",
    "memory_buffer = deque(maxlen=MEMORY_SIZE)\n",
    "\n",
    "# Set the target network weights equal to the Q-Network weights\n",
    "target_q_network.set_weights(q_network.get_weights())\n",
    "\n",
    "for i in range(num_episodes):\n",
    "    \n",
    "    # Reset the environment to the initial state and get the initial state\n",
    "    state = env.reset()\n",
    "    total_points = 0\n",
    "    \n",
    "    for t in range(max_num_timesteps):\n",
    "        \n",
    "        # From the current state S choose an action A using an ε-greedy policy\n",
    "        state_qn = np.expand_dims(state, axis=0)  # state needs to be the right shape for the q_network\n",
    "        q_values = q_network(state_qn)\n",
    "        action = utils.get_action(q_values, epsilon)\n",
    "        \n",
    "        # Take action A and receive reward R and the next state S'\n",
    "        next_state, reward, done, _ = env.step(action)\n",
    "        \n",
    "        # Store experience tuple (S,A,R,S') in the memory buffer.\n",
    "        # We store the done variable as well for convenience.\n",
    "        memory_buffer.append(experience(state, action, reward, next_state, done))\n",
    "        \n",
    "        # Only update the network every NUM_STEPS_FOR_UPDATE time steps.\n",
    "        update = utils.check_update_conditions(t, NUM_STEPS_FOR_UPDATE, memory_buffer)\n",
    "        \n",
    "        if update:\n",
    "            # Sample random mini-batch of experience tuples (S,A,R,S') from D\n",
    "            experiences = utils.get_experiences(memory_buffer)\n",
    "            \n",
    "            # Set the y targets, perform a gradient descent step,\n",
    "            # and update the network weights.\n",
    "            agent_learn(experiences, GAMMA)\n",
    "        \n",
    "        state = next_state.copy()\n",
    "        total_points += reward\n",
    "        \n",
    "        if done:\n",
    "            break\n",
    "            \n",
    "    total_point_history.append(total_points)\n",
    "    av_latest_points = np.mean(total_point_history[-num_p_av:])\n",
    "    \n",
    "    # Update the ε value\n",
    "    epsilon = utils.get_new_eps(epsilon)\n",
    "\n",
    "    print(f\"\\rEpisode {i+1} | Total point average of the last {num_p_av} episodes: {av_latest_points:.2f}\", end=\"\")\n",
    "\n",
    "    if (i+1) % num_p_av == 0:\n",
    "        print(f\"\\rEpisode {i+1} | Total point average of the last {num_p_av} episodes: {av_latest_points:.2f}\")\n",
    "\n",
    "    # We will consider that the environment is solved if we get an\n",
    "    # average of 200 points in the last 100 episodes.\n",
    "    if av_latest_points >= 200.0:\n",
    "        print(f\"\\n\\nEnvironment solved in {i+1} episodes!\")\n",
    "        q_network.save('lunar_lander_model.h5')\n",
    "        break\n",
    "        \n",
    "tot_time = time.time() - start\n",
    "\n",
    "print(f\"\\nTotal Runtime: {tot_time:.2f} s ({(tot_time/60):.2f} min)\")"
   ]
  },
  {
   "cell_type": "markdown",
   "metadata": {},
   "source": [
    "We can plot the total point history along with the moving average to see how our agent improved during training. If you want to know about the different plotting options available in the `utils.plot_history` function we encourage you to take a look at the `utils` module."
   ]
  },
  {
   "cell_type": "code",
   "execution_count": 41,
   "metadata": {
    "deletable": false,
    "editable": false,
    "id": "E_EUXxurfe8m",
    "scrolled": false
   },
   "outputs": [
    {
     "data": {
      "image/png": "[encoded data removed]",
      "text/plain": [
       "<Figure size 720x504 with 1 Axes>"
      ]
     },
     "metadata": {},
     "output_type": "display_data"
    }
   ],
   "source": [
    "# Plot the total point history along with the moving average\n",
    "utils.plot_history(total_point_history)"
   ]
  },
  {
   "cell_type": "markdown",
   "metadata": {
    "id": "c_xwgaX5MnYt"
   },
   "source": [
    "<a name=\"10\"></a>\n",
    "## 10 - See the Trained Agent In Action\n",
    "\n",
    "Now that we have trained our agent, we can see it in action. We will use the `utils.create_video` function to create a video of our agent interacting with the environment using the trained $Q$-Network. The `utils.create_video` function uses the `imageio` library to create the video. This library produces some warnings that can be distracting, so, to suppress these warnings we run the code below."
   ]
  },
  {
   "cell_type": "code",
   "execution_count": 42,
   "metadata": {
    "deletable": false,
    "editable": false
   },
   "outputs": [],
   "source": [
    "# Suppress warnings from imageio\n",
    "import logging\n",
    "logging.getLogger().setLevel(logging.ERROR)"
   ]
  },
  {
   "cell_type": "markdown",
   "metadata": {},
   "source": [
    "In the cell below we create a video of our agent interacting with the Lunar Lander environment using the trained `q_network`. The video is saved to the `videos` folder with the given `filename`. We use the `utils.embed_mp4` function to embed the video in the Jupyter Notebook so that we can see it here directly without having to download it.\n",
    "\n",
    "We should note that since the lunar lander starts with a random initial force applied to its center of mass, every time you run the cell below you will see a different video. If the agent was trained properly, it should be able to land the lunar lander in the landing pad every time, regardless of the initial force applied to its center of mass."
   ]
  },
  {
   "cell_type": "code",
   "execution_count": 43,
   "metadata": {
    "deletable": false,
    "editable": false,
    "id": "3Ttb_zLeJKiG"
   },
   "outputs": [
    {
     "data": {
      "text/html": [
       "\n",
       "    <video width=\"840\" height=\"480\" controls>\n",
       "    <source src=\"data:video/mp4;base64,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\" type=\"video/mp4\">\n",
       "    Your browser does not support the video tag.\n",
       "    </video>"
      ],
      "text/plain": [
       "<IPython.core.display.HTML object>"
      ]
     },
     "execution_count": 43,
     "metadata": {},
     "output_type": "execute_result"
    }
   ],
   "source": [
    "filename = \"./videos/lunar_lander.mp4\"\n",
    "\n",
    "utils.create_video(filename, env, q_network)\n",
    "utils.embed_mp4(filename)"
   ]
  },
  {
   "cell_type": "markdown",
   "metadata": {},
   "source": [
    "<a name=\"11\"></a>\n",
    "## 11 - Congratulations!\n",
    "\n",
    "You have successfully used Deep Q-Learning with Experience Replay to train an agent to land a lunar lander safely on a landing pad on the surface of the moon. Congratulations!"
   ]
  },
  {
   "cell_type": "markdown",
   "metadata": {},
   "source": [
    "<a name=\"12\"></a>\n",
    "## 12 - References\n",
    "\n",
    "If you would like to learn more about Deep Q-Learning, we recommend you check out the following papers.\n",
    "\n",
    "\n",
    "* Mnih, V., Kavukcuoglu, K., Silver, D. et al. Human-level control through deep reinforcement learning. Nature 518, 529–533 (2015).\n",
    "\n",
    "\n",
    "* Lillicrap, T. P., Hunt, J. J., Pritzel, A., et al. Continuous Control with Deep Reinforcement Learning. ICLR (2016).\n",
    "\n",
    "\n",
    "* Mnih, V., Kavukcuoglu, K., Silver, D. et al. Playing Atari with Deep Reinforcement Learning. arXiv e-prints.  arXiv:1312.5602 (2013)."
   ]
  },
  {
   "cell_type": "markdown",
   "metadata": {},
   "source": [
    "<details>\n",
    "  <summary><font size=\"2\" color=\"darkgreen\"><b>Please click here if you want to experiment with any of the non-graded code.</b></font></summary>\n",
    "    <p><i><b>Important Note: Please only do this when you've already passed the assignment to avoid problems with the autograder.</b></i>\n",
    "    <ol>\n",
    "        <li> On the notebook’s menu, click “View” > “Cell Toolbar” > “Edit Metadata”</li>\n",
    "        <li> Hit the “Edit Metadata” button next to the code cell which you want to lock/unlock</li>\n",
    "        <li> Set the attribute value for “editable” to:\n",
    "            <ul>\n",
    "                <li> “true” if you want to unlock it </li>\n",
    "                <li> “false” if you want to lock it </li>\n",
    "            </ul>\n",
    "        </li>\n",
    "        <li> On the notebook’s menu, click “View” > “Cell Toolbar” > “None” </li>\n",
    "    </ol>\n",
    "    <p> Here's a short demo of how to do the steps above: \n",
    "        <br>\n",
    "        <img src=\"https://drive.google.com/uc?export=view&id=14Xy_Mb17CZVgzVAgq7NCjMVBvSae3xO1\" align=\"center\" alt=\"unlock_cells.gif\">\n",
    "</details>"
   ]
  }
 ],
 "metadata": {
  "accelerator": "GPU",
  "colab": {
   "collapsed_sections": [],
   "name": "TensorFlow - Lunar Lander.ipynb",
   "provenance": []
  },
  "kernelspec": {
   "display_name": "Python 3",
   "language": "python",
   "name": "python3"
  },
  "language_info": {
   "codemirror_mode": {
    "name": "ipython",
    "version": 3
   },
   "file_extension": ".py",
   "mimetype": "text/x-python",
   "name": "python",
   "nbconvert_exporter": "python",
   "pygments_lexer": "ipython3",
   "version": "3.7.6"
  }
 },
 "nbformat": 4,
 "nbformat_minor": 1
}
