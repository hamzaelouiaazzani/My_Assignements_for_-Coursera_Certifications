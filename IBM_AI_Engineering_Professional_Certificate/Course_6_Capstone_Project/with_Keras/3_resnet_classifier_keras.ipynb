{
  "cells": [
    {
      "cell_type": "markdown",
      "metadata": {
        "id": "8yyZbh7a8wlH"
      },
      "source": [
        "<a href=\"https://cognitiveclass.ai/?utm_medium=Exinfluencer&utm_source=Exinfluencer&utm_content=000026UJ&utm_term=10006555&utm_id=NA-SkillsNetwork-Channel-SkillsNetworkCoursesIBMDeveloperSkillsNetworkDL0321ENSkillsNetwork951-2022-01-01\"><img src=\"https://cf-courses-data.s3.us.cloud-object-storage.appdomain.cloud/IBMDeveloperSkillsNetwork-DL0321EN-SkillsNetwork/image/IDSN-logo.png\" width=\"400\"> </a>\n",
        "\n",
        "<h1 align=center><font size = 5>Pre-Trained Models</font></h1>\n"
      ]
    },
    {
      "cell_type": "markdown",
      "metadata": {
        "id": "U6w5Eiq58wlJ"
      },
      "source": [
        "## Objective\n"
      ]
    },
    {
      "cell_type": "markdown",
      "metadata": {
        "id": "qDClFca78wlK"
      },
      "source": [
        "In this lab, you will learn how to leverage pre-trained models to build image classifiers instead of building a model from scratch.\n"
      ]
    },
    {
      "cell_type": "markdown",
      "metadata": {
        "id": "fgaia90y8wlK"
      },
      "source": [
        "## Table of Contents\n",
        "\n",
        "<div class=\"alert alert-block alert-info\" style=\"margin-top: 20px\">\n",
        "\n",
        "<font size = 3>\n",
        "    \n",
        "1. <a href=\"#item31\">Import Libraries and Packages</a>\n",
        "2. <a href=\"#item32\">Download Data</a>  \n",
        "3. <a href=\"#item33\">Define Global Constants</a>  \n",
        "4. <a href=\"#item34\">Construct ImageDataGenerator Instances</a>  \n",
        "5. <a href=\"#item35\">Compile and Fit Model</a>\n",
        "\n",
        "</font>\n",
        "    \n",
        "</div>\n"
      ]
    },
    {
      "cell_type": "markdown",
      "metadata": {
        "id": "DiGhrdlc8wlK"
      },
      "source": [
        "   \n"
      ]
    },
    {
      "cell_type": "markdown",
      "metadata": {
        "id": "OU_xiz4E8wlK"
      },
      "source": [
        "<a id='item31'></a>\n"
      ]
    },
    {
      "cell_type": "markdown",
      "metadata": {
        "id": "evh0EMd98wlL"
      },
      "source": [
        "## Import Libraries and Packages\n"
      ]
    },
    {
      "cell_type": "markdown",
      "metadata": {
        "id": "jB8At-D38wlL"
      },
      "source": [
        "Let's start the lab by importing the libraries that we will be using in this lab. First we will need the library that helps us to import the data.\n"
      ]
    },
    {
      "cell_type": "code",
      "source": [
        "!pip install skillsnetwork"
      ],
      "metadata": {
        "colab": {
          "base_uri": "https://localhost:8080/"
        },
        "id": "ldQE_LmY-juC",
        "outputId": "593b6826-6d4a-4c26-dc50-493cf8ceeb5d"
      },
      "execution_count": null,
      "outputs": [
        {
          "output_type": "stream",
          "name": "stdout",
          "text": [
            "Collecting skillsnetwork\n",
            "  Downloading skillsnetwork-0.20.6-py3-none-any.whl (26 kB)\n",
            "Requirement already satisfied: ipython in /usr/local/lib/python3.10/dist-packages (from skillsnetwork) (7.34.0)\n",
            "Requirement already satisfied: ipywidgets<8,>=7 in /usr/local/lib/python3.10/dist-packages (from skillsnetwork) (7.7.1)\n",
            "Requirement already satisfied: requests<3,>=2 in /usr/local/lib/python3.10/dist-packages (from skillsnetwork) (2.31.0)\n",
            "Requirement already satisfied: tqdm<5,>=4 in /usr/local/lib/python3.10/dist-packages (from skillsnetwork) (4.66.1)\n",
            "Requirement already satisfied: ipykernel>=4.5.1 in /usr/local/lib/python3.10/dist-packages (from ipywidgets<8,>=7->skillsnetwork) (5.5.6)\n",
            "Requirement already satisfied: ipython-genutils~=0.2.0 in /usr/local/lib/python3.10/dist-packages (from ipywidgets<8,>=7->skillsnetwork) (0.2.0)\n",
            "Requirement already satisfied: traitlets>=4.3.1 in /usr/local/lib/python3.10/dist-packages (from ipywidgets<8,>=7->skillsnetwork) (5.7.1)\n",
            "Requirement already satisfied: widgetsnbextension~=3.6.0 in /usr/local/lib/python3.10/dist-packages (from ipywidgets<8,>=7->skillsnetwork) (3.6.6)\n",
            "Requirement already satisfied: jupyterlab-widgets>=1.0.0 in /usr/local/lib/python3.10/dist-packages (from ipywidgets<8,>=7->skillsnetwork) (3.0.9)\n",
            "Requirement already satisfied: setuptools>=18.5 in /usr/local/lib/python3.10/dist-packages (from ipython->skillsnetwork) (67.7.2)\n",
            "Collecting jedi>=0.16 (from ipython->skillsnetwork)\n",
            "  Downloading jedi-0.19.1-py2.py3-none-any.whl (1.6 MB)\n",
            "\u001b[2K     \u001b[90m━━━━━━━━━━━━━━━━━━━━━━━━━━━━━━━━━━━━━━━━\u001b[0m \u001b[32m1.6/1.6 MB\u001b[0m \u001b[31m2.7 MB/s\u001b[0m eta \u001b[36m0:00:00\u001b[0m\n",
            "\u001b[?25hRequirement already satisfied: decorator in /usr/local/lib/python3.10/dist-packages (from ipython->skillsnetwork) (4.4.2)\n",
            "Requirement already satisfied: pickleshare in /usr/local/lib/python3.10/dist-packages (from ipython->skillsnetwork) (0.7.5)\n",
            "Requirement already satisfied: prompt-toolkit!=3.0.0,!=3.0.1,<3.1.0,>=2.0.0 in /usr/local/lib/python3.10/dist-packages (from ipython->skillsnetwork) (3.0.43)\n",
            "Requirement already satisfied: pygments in /usr/local/lib/python3.10/dist-packages (from ipython->skillsnetwork) (2.16.1)\n",
            "Requirement already satisfied: backcall in /usr/local/lib/python3.10/dist-packages (from ipython->skillsnetwork) (0.2.0)\n",
            "Requirement already satisfied: matplotlib-inline in /usr/local/lib/python3.10/dist-packages (from ipython->skillsnetwork) (0.1.6)\n",
            "Requirement already satisfied: pexpect>4.3 in /usr/local/lib/python3.10/dist-packages (from ipython->skillsnetwork) (4.9.0)\n",
            "Requirement already satisfied: charset-normalizer<4,>=2 in /usr/local/lib/python3.10/dist-packages (from requests<3,>=2->skillsnetwork) (3.3.2)\n",
            "Requirement already satisfied: idna<4,>=2.5 in /usr/local/lib/python3.10/dist-packages (from requests<3,>=2->skillsnetwork) (3.6)\n",
            "Requirement already satisfied: urllib3<3,>=1.21.1 in /usr/local/lib/python3.10/dist-packages (from requests<3,>=2->skillsnetwork) (2.0.7)\n",
            "Requirement already satisfied: certifi>=2017.4.17 in /usr/local/lib/python3.10/dist-packages (from requests<3,>=2->skillsnetwork) (2023.11.17)\n",
            "Requirement already satisfied: jupyter-client in /usr/local/lib/python3.10/dist-packages (from ipykernel>=4.5.1->ipywidgets<8,>=7->skillsnetwork) (6.1.12)\n",
            "Requirement already satisfied: tornado>=4.2 in /usr/local/lib/python3.10/dist-packages (from ipykernel>=4.5.1->ipywidgets<8,>=7->skillsnetwork) (6.3.2)\n",
            "Requirement already satisfied: parso<0.9.0,>=0.8.3 in /usr/local/lib/python3.10/dist-packages (from jedi>=0.16->ipython->skillsnetwork) (0.8.3)\n",
            "Requirement already satisfied: ptyprocess>=0.5 in /usr/local/lib/python3.10/dist-packages (from pexpect>4.3->ipython->skillsnetwork) (0.7.0)\n",
            "Requirement already satisfied: wcwidth in /usr/local/lib/python3.10/dist-packages (from prompt-toolkit!=3.0.0,!=3.0.1,<3.1.0,>=2.0.0->ipython->skillsnetwork) (0.2.12)\n",
            "Requirement already satisfied: notebook>=4.4.1 in /usr/local/lib/python3.10/dist-packages (from widgetsnbextension~=3.6.0->ipywidgets<8,>=7->skillsnetwork) (6.5.5)\n",
            "Requirement already satisfied: jinja2 in /usr/local/lib/python3.10/dist-packages (from notebook>=4.4.1->widgetsnbextension~=3.6.0->ipywidgets<8,>=7->skillsnetwork) (3.1.2)\n",
            "Requirement already satisfied: pyzmq<25,>=17 in /usr/local/lib/python3.10/dist-packages (from notebook>=4.4.1->widgetsnbextension~=3.6.0->ipywidgets<8,>=7->skillsnetwork) (23.2.1)\n",
            "Requirement already satisfied: argon2-cffi in /usr/local/lib/python3.10/dist-packages (from notebook>=4.4.1->widgetsnbextension~=3.6.0->ipywidgets<8,>=7->skillsnetwork) (23.1.0)\n",
            "Requirement already satisfied: jupyter-core>=4.6.1 in /usr/local/lib/python3.10/dist-packages (from notebook>=4.4.1->widgetsnbextension~=3.6.0->ipywidgets<8,>=7->skillsnetwork) (5.7.0)\n",
            "Requirement already satisfied: nbformat in /usr/local/lib/python3.10/dist-packages (from notebook>=4.4.1->widgetsnbextension~=3.6.0->ipywidgets<8,>=7->skillsnetwork) (5.9.2)\n",
            "Requirement already satisfied: nbconvert>=5 in /usr/local/lib/python3.10/dist-packages (from notebook>=4.4.1->widgetsnbextension~=3.6.0->ipywidgets<8,>=7->skillsnetwork) (6.5.4)\n",
            "Requirement already satisfied: nest-asyncio>=1.5 in /usr/local/lib/python3.10/dist-packages (from notebook>=4.4.1->widgetsnbextension~=3.6.0->ipywidgets<8,>=7->skillsnetwork) (1.5.8)\n",
            "Requirement already satisfied: Send2Trash>=1.8.0 in /usr/local/lib/python3.10/dist-packages (from notebook>=4.4.1->widgetsnbextension~=3.6.0->ipywidgets<8,>=7->skillsnetwork) (1.8.2)\n",
            "Requirement already satisfied: terminado>=0.8.3 in /usr/local/lib/python3.10/dist-packages (from notebook>=4.4.1->widgetsnbextension~=3.6.0->ipywidgets<8,>=7->skillsnetwork) (0.18.0)\n",
            "Requirement already satisfied: prometheus-client in /usr/local/lib/python3.10/dist-packages (from notebook>=4.4.1->widgetsnbextension~=3.6.0->ipywidgets<8,>=7->skillsnetwork) (0.19.0)\n",
            "Requirement already satisfied: nbclassic>=0.4.7 in /usr/local/lib/python3.10/dist-packages (from notebook>=4.4.1->widgetsnbextension~=3.6.0->ipywidgets<8,>=7->skillsnetwork) (1.0.0)\n",
            "Requirement already satisfied: python-dateutil>=2.1 in /usr/local/lib/python3.10/dist-packages (from jupyter-client->ipykernel>=4.5.1->ipywidgets<8,>=7->skillsnetwork) (2.8.2)\n",
            "Requirement already satisfied: platformdirs>=2.5 in /usr/local/lib/python3.10/dist-packages (from jupyter-core>=4.6.1->notebook>=4.4.1->widgetsnbextension~=3.6.0->ipywidgets<8,>=7->skillsnetwork) (4.1.0)\n",
            "Requirement already satisfied: jupyter-server>=1.8 in /usr/local/lib/python3.10/dist-packages (from nbclassic>=0.4.7->notebook>=4.4.1->widgetsnbextension~=3.6.0->ipywidgets<8,>=7->skillsnetwork) (1.24.0)\n",
            "Requirement already satisfied: notebook-shim>=0.2.3 in /usr/local/lib/python3.10/dist-packages (from nbclassic>=0.4.7->notebook>=4.4.1->widgetsnbextension~=3.6.0->ipywidgets<8,>=7->skillsnetwork) (0.2.3)\n",
            "Requirement already satisfied: lxml in /usr/local/lib/python3.10/dist-packages (from nbconvert>=5->notebook>=4.4.1->widgetsnbextension~=3.6.0->ipywidgets<8,>=7->skillsnetwork) (4.9.4)\n",
            "Requirement already satisfied: beautifulsoup4 in /usr/local/lib/python3.10/dist-packages (from nbconvert>=5->notebook>=4.4.1->widgetsnbextension~=3.6.0->ipywidgets<8,>=7->skillsnetwork) (4.11.2)\n",
            "Requirement already satisfied: bleach in /usr/local/lib/python3.10/dist-packages (from nbconvert>=5->notebook>=4.4.1->widgetsnbextension~=3.6.0->ipywidgets<8,>=7->skillsnetwork) (6.1.0)\n",
            "Requirement already satisfied: defusedxml in /usr/local/lib/python3.10/dist-packages (from nbconvert>=5->notebook>=4.4.1->widgetsnbextension~=3.6.0->ipywidgets<8,>=7->skillsnetwork) (0.7.1)\n",
            "Requirement already satisfied: entrypoints>=0.2.2 in /usr/local/lib/python3.10/dist-packages (from nbconvert>=5->notebook>=4.4.1->widgetsnbextension~=3.6.0->ipywidgets<8,>=7->skillsnetwork) (0.4)\n",
            "Requirement already satisfied: jupyterlab-pygments in /usr/local/lib/python3.10/dist-packages (from nbconvert>=5->notebook>=4.4.1->widgetsnbextension~=3.6.0->ipywidgets<8,>=7->skillsnetwork) (0.3.0)\n",
            "Requirement already satisfied: MarkupSafe>=2.0 in /usr/local/lib/python3.10/dist-packages (from nbconvert>=5->notebook>=4.4.1->widgetsnbextension~=3.6.0->ipywidgets<8,>=7->skillsnetwork) (2.1.3)\n",
            "Requirement already satisfied: mistune<2,>=0.8.1 in /usr/local/lib/python3.10/dist-packages (from nbconvert>=5->notebook>=4.4.1->widgetsnbextension~=3.6.0->ipywidgets<8,>=7->skillsnetwork) (0.8.4)\n",
            "Requirement already satisfied: nbclient>=0.5.0 in /usr/local/lib/python3.10/dist-packages (from nbconvert>=5->notebook>=4.4.1->widgetsnbextension~=3.6.0->ipywidgets<8,>=7->skillsnetwork) (0.9.0)\n",
            "Requirement already satisfied: packaging in /usr/local/lib/python3.10/dist-packages (from nbconvert>=5->notebook>=4.4.1->widgetsnbextension~=3.6.0->ipywidgets<8,>=7->skillsnetwork) (23.2)\n",
            "Requirement already satisfied: pandocfilters>=1.4.1 in /usr/local/lib/python3.10/dist-packages (from nbconvert>=5->notebook>=4.4.1->widgetsnbextension~=3.6.0->ipywidgets<8,>=7->skillsnetwork) (1.5.0)\n",
            "Requirement already satisfied: tinycss2 in /usr/local/lib/python3.10/dist-packages (from nbconvert>=5->notebook>=4.4.1->widgetsnbextension~=3.6.0->ipywidgets<8,>=7->skillsnetwork) (1.2.1)\n",
            "Requirement already satisfied: fastjsonschema in /usr/local/lib/python3.10/dist-packages (from nbformat->notebook>=4.4.1->widgetsnbextension~=3.6.0->ipywidgets<8,>=7->skillsnetwork) (2.19.1)\n",
            "Requirement already satisfied: jsonschema>=2.6 in /usr/local/lib/python3.10/dist-packages (from nbformat->notebook>=4.4.1->widgetsnbextension~=3.6.0->ipywidgets<8,>=7->skillsnetwork) (4.19.2)\n",
            "Requirement already satisfied: six>=1.5 in /usr/local/lib/python3.10/dist-packages (from python-dateutil>=2.1->jupyter-client->ipykernel>=4.5.1->ipywidgets<8,>=7->skillsnetwork) (1.16.0)\n",
            "Requirement already satisfied: argon2-cffi-bindings in /usr/local/lib/python3.10/dist-packages (from argon2-cffi->notebook>=4.4.1->widgetsnbextension~=3.6.0->ipywidgets<8,>=7->skillsnetwork) (21.2.0)\n",
            "Requirement already satisfied: attrs>=22.2.0 in /usr/local/lib/python3.10/dist-packages (from jsonschema>=2.6->nbformat->notebook>=4.4.1->widgetsnbextension~=3.6.0->ipywidgets<8,>=7->skillsnetwork) (23.2.0)\n",
            "Requirement already satisfied: jsonschema-specifications>=2023.03.6 in /usr/local/lib/python3.10/dist-packages (from jsonschema>=2.6->nbformat->notebook>=4.4.1->widgetsnbextension~=3.6.0->ipywidgets<8,>=7->skillsnetwork) (2023.12.1)\n",
            "Requirement already satisfied: referencing>=0.28.4 in /usr/local/lib/python3.10/dist-packages (from jsonschema>=2.6->nbformat->notebook>=4.4.1->widgetsnbextension~=3.6.0->ipywidgets<8,>=7->skillsnetwork) (0.32.1)\n",
            "Requirement already satisfied: rpds-py>=0.7.1 in /usr/local/lib/python3.10/dist-packages (from jsonschema>=2.6->nbformat->notebook>=4.4.1->widgetsnbextension~=3.6.0->ipywidgets<8,>=7->skillsnetwork) (0.16.2)\n",
            "Requirement already satisfied: anyio<4,>=3.1.0 in /usr/local/lib/python3.10/dist-packages (from jupyter-server>=1.8->nbclassic>=0.4.7->notebook>=4.4.1->widgetsnbextension~=3.6.0->ipywidgets<8,>=7->skillsnetwork) (3.7.1)\n",
            "Requirement already satisfied: websocket-client in /usr/local/lib/python3.10/dist-packages (from jupyter-server>=1.8->nbclassic>=0.4.7->notebook>=4.4.1->widgetsnbextension~=3.6.0->ipywidgets<8,>=7->skillsnetwork) (1.7.0)\n",
            "Requirement already satisfied: cffi>=1.0.1 in /usr/local/lib/python3.10/dist-packages (from argon2-cffi-bindings->argon2-cffi->notebook>=4.4.1->widgetsnbextension~=3.6.0->ipywidgets<8,>=7->skillsnetwork) (1.16.0)\n",
            "Requirement already satisfied: soupsieve>1.2 in /usr/local/lib/python3.10/dist-packages (from beautifulsoup4->nbconvert>=5->notebook>=4.4.1->widgetsnbextension~=3.6.0->ipywidgets<8,>=7->skillsnetwork) (2.5)\n",
            "Requirement already satisfied: webencodings in /usr/local/lib/python3.10/dist-packages (from bleach->nbconvert>=5->notebook>=4.4.1->widgetsnbextension~=3.6.0->ipywidgets<8,>=7->skillsnetwork) (0.5.1)\n",
            "Requirement already satisfied: sniffio>=1.1 in /usr/local/lib/python3.10/dist-packages (from anyio<4,>=3.1.0->jupyter-server>=1.8->nbclassic>=0.4.7->notebook>=4.4.1->widgetsnbextension~=3.6.0->ipywidgets<8,>=7->skillsnetwork) (1.3.0)\n",
            "Requirement already satisfied: exceptiongroup in /usr/local/lib/python3.10/dist-packages (from anyio<4,>=3.1.0->jupyter-server>=1.8->nbclassic>=0.4.7->notebook>=4.4.1->widgetsnbextension~=3.6.0->ipywidgets<8,>=7->skillsnetwork) (1.2.0)\n",
            "Requirement already satisfied: pycparser in /usr/local/lib/python3.10/dist-packages (from cffi>=1.0.1->argon2-cffi-bindings->argon2-cffi->notebook>=4.4.1->widgetsnbextension~=3.6.0->ipywidgets<8,>=7->skillsnetwork) (2.21)\n",
            "Installing collected packages: jedi, skillsnetwork\n",
            "Successfully installed jedi-0.19.1 skillsnetwork-0.20.6\n"
          ]
        }
      ]
    },
    {
      "cell_type": "code",
      "execution_count": null,
      "metadata": {
        "tags": [],
        "id": "WkaIxqCe8wlL"
      },
      "outputs": [],
      "source": [
        "import skillsnetwork"
      ]
    },
    {
      "cell_type": "markdown",
      "metadata": {
        "id": "t_6ksD9C8wlM"
      },
      "source": [
        "First, we will import the ImageDataGenerator module since we will be leveraging it to train our model in batches.\n"
      ]
    },
    {
      "cell_type": "code",
      "execution_count": null,
      "metadata": {
        "tags": [],
        "id": "nwSWDa2E8wlM"
      },
      "outputs": [],
      "source": [
        "from keras.preprocessing.image import ImageDataGenerator"
      ]
    },
    {
      "cell_type": "markdown",
      "metadata": {
        "id": "AWVaXHvh8wlM"
      },
      "source": [
        "In this lab, we will be using the Keras library to build an image classifier, so let's download the Keras library.\n"
      ]
    },
    {
      "cell_type": "code",
      "execution_count": null,
      "metadata": {
        "tags": [],
        "id": "_7wHHGtt8wlN"
      },
      "outputs": [],
      "source": [
        "import keras\n",
        "from keras.models import Sequential\n",
        "from keras.layers import Dense"
      ]
    },
    {
      "cell_type": "markdown",
      "metadata": {
        "id": "DPMb6WAX8wlN"
      },
      "source": [
        "Finally, we will be leveraging the ResNet50 model to build our classifier, so let's download it as well.\n"
      ]
    },
    {
      "cell_type": "code",
      "execution_count": null,
      "metadata": {
        "tags": [],
        "id": "czpHhYWQ8wlN"
      },
      "outputs": [],
      "source": [
        "from keras.applications import ResNet50\n",
        "from keras.applications.resnet50 import preprocess_input"
      ]
    },
    {
      "cell_type": "markdown",
      "metadata": {
        "id": "PWBrAtkd8wlN"
      },
      "source": [
        "<a id='item32'></a>\n"
      ]
    },
    {
      "cell_type": "markdown",
      "metadata": {
        "id": "sIhS6N4F8wlN"
      },
      "source": [
        "## Download Data\n"
      ]
    },
    {
      "cell_type": "markdown",
      "metadata": {
        "id": "OeIy6CEQ8wlN"
      },
      "source": [
        "In this section, you are going to download the data from IBM object storage using **skillsnetwork.prepare** command. skillsnetwork.prepare is a command that's used to download a zip file, unzip it and store it in a specified directory.\n"
      ]
    },
    {
      "cell_type": "code",
      "execution_count": null,
      "metadata": {
        "tags": [],
        "colab": {
          "referenced_widgets": [
            "bcfc891c3a3442f39e5b64b841e1059b",
            "078e714c69de497f876c1a7bc9648b19",
            "25d071baa98a473b813225ddf6246b7d",
            "dd8acd40fc824c47baab0df3094345b9",
            "4e5d91ff2bcf467d9f3675055b2688a6",
            "cb5100918b4b4fcaa2a9288635b38767",
            "c8c32303ebad4012bbf3fdea19d1df6b",
            "caf261d7c2cf4d9d8d826a13922037fb",
            "ce2fbb2db2134d29a529c04d2c2f223f",
            "4932ebd0ceb74c518abee56f83d419f7",
            "d9f827cbee0b4854bc4781440e625e59",
            "8fc828d08c45465a9220eefcd55c7acb",
            "4609a69bf37f41fa9afd988c9c51279b",
            "4804dab98d1c4788a2c24bd547bfc0bb",
            "703d09268d694e4a9c6701698c21d7f4",
            "0aff1f5d198e49f4b6aaf85f26cbb817",
            "1c4d9ace71704110b56e54f35af776e7",
            "0759d5b3adff4d62ba95cea8421f251d",
            "0903dd222eef4655acda1fa1dd500204",
            "c324b72deb7c4f998956c4f3899ab1e1",
            "ed891fa4c91d483b946b2c277860dcb6",
            "c0cc7443b30542c999cfe97b51593d29"
          ],
          "base_uri": "https://localhost:8080/",
          "height": 98
        },
        "id": "pOKiUvGu8wlN",
        "outputId": "5ba65064-2ffb-4a92-b88f-818fc49df06a"
      },
      "outputs": [
        {
          "output_type": "display_data",
          "data": {
            "text/plain": [
              "Downloading concrete_data_week3.zip:   0%|          | 0/261482368 [00:00<?, ?it/s]"
            ],
            "application/vnd.jupyter.widget-view+json": {
              "version_major": 2,
              "version_minor": 0,
              "model_id": "bcfc891c3a3442f39e5b64b841e1059b"
            }
          },
          "metadata": {}
        },
        {
          "output_type": "display_data",
          "data": {
            "text/plain": [
              "  0%|          | 0/80037 [00:00<?, ?it/s]"
            ],
            "application/vnd.jupyter.widget-view+json": {
              "version_major": 2,
              "version_minor": 0,
              "model_id": "8fc828d08c45465a9220eefcd55c7acb"
            }
          },
          "metadata": {}
        },
        {
          "output_type": "stream",
          "name": "stdout",
          "text": [
            "Saved to '.'\n"
          ]
        }
      ],
      "source": [
        "## get the data\n",
        "await skillsnetwork.prepare(\"https://s3-api.us-geo.objectstorage.softlayer.net/cf-courses-data/CognitiveClass/DL0321EN/data/concrete_data_week3.zip\", overwrite=True)"
      ]
    },
    {
      "cell_type": "markdown",
      "metadata": {
        "id": "AjmMUpIJ8wlN"
      },
      "source": [
        "Now, you should see the folder *concrete_data_week3* appear in the left pane. If you open this folder by double-clicking on it, you will find that it contains two folders: *train* and *valid*. And if you explore these folders, you will find that each contains two subfolders: *positive* and *negative*. These are the same folders that we saw in the labs in the previous modules of this course, where *negative* is the negative class and it represents the concrete images with no cracks and *positive* is the positive class and it represents the concrete images with cracks.\n"
      ]
    },
    {
      "cell_type": "markdown",
      "metadata": {
        "id": "SpkMGeV68wlN"
      },
      "source": [
        "**Important Note**: There are thousands and thousands of images in each folder, so please don't attempt to double click on the *negative* and *positive* folders. This may consume all of your memory and you may end up with a **50** error. So please **DO NOT DO IT**.\n"
      ]
    },
    {
      "cell_type": "markdown",
      "metadata": {
        "id": "PwcRF4WL8wlN"
      },
      "source": [
        "<a id='item33'></a>\n"
      ]
    },
    {
      "cell_type": "markdown",
      "metadata": {
        "id": "FlQuuDuW8wlN"
      },
      "source": [
        "## Define Global Constants\n"
      ]
    },
    {
      "cell_type": "markdown",
      "metadata": {
        "id": "hvBpgjg18wlN"
      },
      "source": [
        "Here, we will define constants that we will be using throughout the rest of the lab.\n",
        "\n",
        "1. We are obviously dealing with two classes, so *num_classes* is 2.\n",
        "2. The ResNet50 model was built and trained using images of size (224 x 224). Therefore, we will have to resize our images from (227 x 227) to (224 x 224).\n",
        "3. We will training and validating the model using batches of 100 images.\n"
      ]
    },
    {
      "cell_type": "code",
      "execution_count": null,
      "metadata": {
        "tags": [],
        "id": "XbrJTLRU8wlN"
      },
      "outputs": [],
      "source": [
        "num_classes = 2\n",
        "\n",
        "image_resize = 224\n",
        "\n",
        "batch_size_training = 100\n",
        "batch_size_validation = 100"
      ]
    },
    {
      "cell_type": "markdown",
      "metadata": {
        "id": "K22MwxTU8wlO"
      },
      "source": [
        "<a id='item34'></a>\n"
      ]
    },
    {
      "cell_type": "markdown",
      "metadata": {
        "id": "40Q0Ax_I8wlO"
      },
      "source": [
        "## Construct ImageDataGenerator Instances\n"
      ]
    },
    {
      "cell_type": "markdown",
      "metadata": {
        "id": "jhvUgC408wlO"
      },
      "source": [
        "In order to instantiate an ImageDataGenerator instance, we will set the **preprocessing_function** argument to *preprocess_input* which we imported from **keras.applications.resnet50** in order to preprocess our images the same way the images used to train ResNet50 model were processed.\n"
      ]
    },
    {
      "cell_type": "code",
      "execution_count": null,
      "metadata": {
        "tags": [],
        "id": "AiRq2_178wlO"
      },
      "outputs": [],
      "source": [
        "data_generator = ImageDataGenerator(\n",
        "    preprocessing_function=preprocess_input,\n",
        ")"
      ]
    },
    {
      "cell_type": "markdown",
      "metadata": {
        "id": "fy9OT3Q78wlO"
      },
      "source": [
        "Next, we will use the *flow_from_directory* method to get the training images as follows:\n"
      ]
    },
    {
      "cell_type": "code",
      "execution_count": null,
      "metadata": {
        "tags": [],
        "id": "jNaZfKGs8wlO",
        "outputId": "8744e8c7-af80-4446-e78f-e0ece59fded0",
        "colab": {
          "base_uri": "https://localhost:8080/"
        }
      },
      "outputs": [
        {
          "output_type": "stream",
          "name": "stdout",
          "text": [
            "Found 30001 images belonging to 2 classes.\n"
          ]
        }
      ],
      "source": [
        "train_generator = data_generator.flow_from_directory(\n",
        "    'concrete_data_week3/train',\n",
        "    target_size=(image_resize, image_resize),\n",
        "    batch_size=batch_size_training,\n",
        "    class_mode='categorical')"
      ]
    },
    {
      "cell_type": "markdown",
      "metadata": {
        "id": "L1-_Nr2k8wlO"
      },
      "source": [
        "**Note**: in this lab, we will be using the full data-set of 40,000 images for training and validation.\n"
      ]
    },
    {
      "cell_type": "markdown",
      "metadata": {
        "id": "vrVPgYBP8wlO"
      },
      "source": [
        "**Your Turn**: Use the *flow_from_directory* method to get the validation images and assign the result to **validation_generator**.\n"
      ]
    },
    {
      "cell_type": "code",
      "execution_count": null,
      "metadata": {
        "tags": [],
        "id": "c19qjEN28wlO",
        "outputId": "5f281f15-ee1c-4685-ba3d-40aed1452eb2",
        "colab": {
          "base_uri": "https://localhost:8080/"
        }
      },
      "outputs": [
        {
          "output_type": "stream",
          "name": "stdout",
          "text": [
            "Found 10001 images belonging to 2 classes.\n"
          ]
        }
      ],
      "source": [
        "## Type your answer here\n",
        "\n",
        "validation_generator = data_generator.flow_from_directory(\n",
        "    'concrete_data_week3/valid',\n",
        "    target_size=(image_resize, image_resize),\n",
        "    batch_size=batch_size_validation,\n",
        "    class_mode='categorical')"
      ]
    },
    {
      "cell_type": "markdown",
      "metadata": {
        "id": "_d3nBX2R8wlO"
      },
      "source": [
        "Double-click __here__ for the solution.\n",
        "<!-- The correct answer is:\n",
        "validation_generator = data_generator.flow_from_directory(\n",
        "    'concrete_data_week3/valid',\n",
        "    target_size=(image_resize, image_resize),\n",
        "    batch_size=batch_size_validation,\n",
        "    class_mode='categorical')\n",
        "-->\n",
        "\n"
      ]
    },
    {
      "cell_type": "markdown",
      "metadata": {
        "id": "qXrWMB_H8wlO"
      },
      "source": [
        "<a id='item35'></a>\n"
      ]
    },
    {
      "cell_type": "markdown",
      "metadata": {
        "id": "nLb77XFs8wlO"
      },
      "source": [
        "## Build, Compile and Fit Model\n"
      ]
    },
    {
      "cell_type": "markdown",
      "metadata": {
        "id": "-EM_bJg08wlO"
      },
      "source": [
        "In this section, we will start building our model. We will use the Sequential model class from Keras.\n"
      ]
    },
    {
      "cell_type": "code",
      "execution_count": null,
      "metadata": {
        "tags": [],
        "id": "KP9fHUOo8wlO"
      },
      "outputs": [],
      "source": [
        "model = Sequential()"
      ]
    },
    {
      "cell_type": "markdown",
      "metadata": {
        "id": "WamIblLZ8wlR"
      },
      "source": [
        "Next, we will add the ResNet50 pre-trained model to out model. However, note that we don't want to include the top layer or the output layer of the pre-trained model. We actually want to define our own output layer and train it so that it is optimized for our image dataset. In order to leave out the output layer of the pre-trained model, we will use the argument *include_top* and set it to **False**.\n"
      ]
    },
    {
      "cell_type": "code",
      "execution_count": null,
      "metadata": {
        "tags": [],
        "id": "qwiGrIIE8wlR",
        "outputId": "96d501e9-684f-4e2b-ab5a-2dfb3bed98db",
        "colab": {
          "base_uri": "https://localhost:8080/"
        }
      },
      "outputs": [
        {
          "output_type": "stream",
          "name": "stdout",
          "text": [
            "Downloading data from https://storage.googleapis.com/tensorflow/keras-applications/resnet/resnet50_weights_tf_dim_ordering_tf_kernels_notop.h5\n",
            "94765736/94765736 [==============================] - 0s 0us/step\n"
          ]
        }
      ],
      "source": [
        "model.add(ResNet50(\n",
        "    include_top=False,\n",
        "    pooling='avg',\n",
        "    weights='imagenet',\n",
        "    ))"
      ]
    },
    {
      "cell_type": "markdown",
      "metadata": {
        "id": "OaKSrMlc8wlR"
      },
      "source": [
        "Then, we will define our output layer as a **Dense** layer, that consists of two nodes and uses the **Softmax** function as the activation function.\n"
      ]
    },
    {
      "cell_type": "code",
      "execution_count": null,
      "metadata": {
        "tags": [],
        "id": "0nl95ZhT8wlS"
      },
      "outputs": [],
      "source": [
        "model.add(Dense(num_classes, activation='softmax'))"
      ]
    },
    {
      "cell_type": "markdown",
      "metadata": {
        "id": "mxcSOhQA8wlS"
      },
      "source": [
        "You can access the model's layers using the *layers* attribute of our model object.\n"
      ]
    },
    {
      "cell_type": "code",
      "execution_count": null,
      "metadata": {
        "tags": [],
        "id": "Utniluku8wlS",
        "outputId": "a3a92f53-c9a4-473f-bb6d-c3d35fa9b887",
        "colab": {
          "base_uri": "https://localhost:8080/"
        }
      },
      "outputs": [
        {
          "output_type": "execute_result",
          "data": {
            "text/plain": [
              "[<keras.src.engine.functional.Functional at 0x7eee0e6f6b00>,\n",
              " <keras.src.layers.core.dense.Dense at 0x7eee0e6f44c0>]"
            ]
          },
          "metadata": {},
          "execution_count": 14
        }
      ],
      "source": [
        "model.layers"
      ]
    },
    {
      "cell_type": "markdown",
      "metadata": {
        "id": "G1P6Uk9B8wlS"
      },
      "source": [
        "You can see that our model is composed of two sets of layers. The first set is the layers pertaining to ResNet50 and the second set is a single layer, which is our Dense layer that we defined above.\n"
      ]
    },
    {
      "cell_type": "markdown",
      "metadata": {
        "id": "fnycBXwG8wlS"
      },
      "source": [
        "You can access the ResNet50 layers by running the following:\n"
      ]
    },
    {
      "cell_type": "code",
      "execution_count": null,
      "metadata": {
        "tags": [],
        "id": "mGr1pEtg8wlS",
        "outputId": "c213617c-4b07-4216-a909-60f861820e2d",
        "colab": {
          "base_uri": "https://localhost:8080/"
        }
      },
      "outputs": [
        {
          "output_type": "execute_result",
          "data": {
            "text/plain": [
              "[<keras.src.engine.input_layer.InputLayer at 0x7eee0946c4c0>,\n",
              " <keras.src.layers.reshaping.zero_padding2d.ZeroPadding2D at 0x7eee8ff69510>,\n",
              " <keras.src.layers.convolutional.conv2d.Conv2D at 0x7eee0f8a5db0>,\n",
              " <keras.src.layers.normalization.batch_normalization.BatchNormalization at 0x7eee0f8cad70>,\n",
              " <keras.src.layers.core.activation.Activation at 0x7eee0f8cb9a0>,\n",
              " <keras.src.layers.reshaping.zero_padding2d.ZeroPadding2D at 0x7eee0f8c9a50>,\n",
              " <keras.src.layers.pooling.max_pooling2d.MaxPooling2D at 0x7eee0bb8cd60>,\n",
              " <keras.src.layers.convolutional.conv2d.Conv2D at 0x7eee0f8cb220>,\n",
              " <keras.src.layers.normalization.batch_normalization.BatchNormalization at 0x7eee0f8cbe50>,\n",
              " <keras.src.layers.core.activation.Activation at 0x7eee0f8c8ca0>,\n",
              " <keras.src.layers.convolutional.conv2d.Conv2D at 0x7eee0bb8fd90>,\n",
              " <keras.src.layers.normalization.batch_normalization.BatchNormalization at 0x7eee0bb8d480>,\n",
              " <keras.src.layers.core.activation.Activation at 0x7eee0b6d9210>,\n",
              " <keras.src.layers.convolutional.conv2d.Conv2D at 0x7eee0bb8dae0>,\n",
              " <keras.src.layers.convolutional.conv2d.Conv2D at 0x7eee0b6da6b0>,\n",
              " <keras.src.layers.normalization.batch_normalization.BatchNormalization at 0x7eee0bb8dcf0>,\n",
              " <keras.src.layers.normalization.batch_normalization.BatchNormalization at 0x7eee0b6da860>,\n",
              " <keras.src.layers.merging.add.Add at 0x7eee0b6db400>,\n",
              " <keras.src.layers.core.activation.Activation at 0x7eee0946d2a0>,\n",
              " <keras.src.layers.convolutional.conv2d.Conv2D at 0x7eee0946d060>,\n",
              " <keras.src.layers.normalization.batch_normalization.BatchNormalization at 0x7eee0946e410>,\n",
              " <keras.src.layers.core.activation.Activation at 0x7eee0946f760>,\n",
              " <keras.src.layers.convolutional.conv2d.Conv2D at 0x7eee0946e140>,\n",
              " <keras.src.layers.normalization.batch_normalization.BatchNormalization at 0x7eee0ba4c940>,\n",
              " <keras.src.layers.core.activation.Activation at 0x7eee0946f670>,\n",
              " <keras.src.layers.convolutional.conv2d.Conv2D at 0x7eee0ba4df60>,\n",
              " <keras.src.layers.normalization.batch_normalization.BatchNormalization at 0x7eee0ba4e380>,\n",
              " <keras.src.layers.merging.add.Add at 0x7eee0ba4ee30>,\n",
              " <keras.src.layers.core.activation.Activation at 0x7eee0ba4d0c0>,\n",
              " <keras.src.layers.convolutional.conv2d.Conv2D at 0x7eee0ba64190>,\n",
              " <keras.src.layers.normalization.batch_normalization.BatchNormalization at 0x7eee0ba649a0>,\n",
              " <keras.src.layers.core.activation.Activation at 0x7eee0ba66410>,\n",
              " <keras.src.layers.convolutional.conv2d.Conv2D at 0x7eee0ba66a70>,\n",
              " <keras.src.layers.normalization.batch_normalization.BatchNormalization at 0x7eee0ba64b80>,\n",
              " <keras.src.layers.core.activation.Activation at 0x7eee0ba66710>,\n",
              " <keras.src.layers.convolutional.conv2d.Conv2D at 0x7eee0ba80610>,\n",
              " <keras.src.layers.normalization.batch_normalization.BatchNormalization at 0x7eee0ba80e80>,\n",
              " <keras.src.layers.merging.add.Add at 0x7eee0ba667a0>,\n",
              " <keras.src.layers.core.activation.Activation at 0x7eee0ba82f20>,\n",
              " <keras.src.layers.convolutional.conv2d.Conv2D at 0x7eee0ba83d30>,\n",
              " <keras.src.layers.normalization.batch_normalization.BatchNormalization at 0x7eee0ba83550>,\n",
              " <keras.src.layers.core.activation.Activation at 0x7eee0ba808b0>,\n",
              " <keras.src.layers.convolutional.conv2d.Conv2D at 0x7eee0ba4dae0>,\n",
              " <keras.src.layers.normalization.batch_normalization.BatchNormalization at 0x7eee0ba82050>,\n",
              " <keras.src.layers.core.activation.Activation at 0x7eee0ba4ca30>,\n",
              " <keras.src.layers.convolutional.conv2d.Conv2D at 0x7eee0ba83280>,\n",
              " <keras.src.layers.convolutional.conv2d.Conv2D at 0x7eee0946df30>,\n",
              " <keras.src.layers.normalization.batch_normalization.BatchNormalization at 0x7eee0ba83580>,\n",
              " <keras.src.layers.normalization.batch_normalization.BatchNormalization at 0x7eee0bb8f130>,\n",
              " <keras.src.layers.merging.add.Add at 0x7eee0946cf10>,\n",
              " <keras.src.layers.core.activation.Activation at 0x7eee0dc9b910>,\n",
              " <keras.src.layers.convolutional.conv2d.Conv2D at 0x7eee0dc9a890>,\n",
              " <keras.src.layers.normalization.batch_normalization.BatchNormalization at 0x7eee0ba54910>,\n",
              " <keras.src.layers.core.activation.Activation at 0x7eee0dc9bbe0>,\n",
              " <keras.src.layers.convolutional.conv2d.Conv2D at 0x7eee0ba562c0>,\n",
              " <keras.src.layers.normalization.batch_normalization.BatchNormalization at 0x7eee0ba54250>,\n",
              " <keras.src.layers.core.activation.Activation at 0x7eee0ba579a0>,\n",
              " <keras.src.layers.convolutional.conv2d.Conv2D at 0x7eee0ba57010>,\n",
              " <keras.src.layers.normalization.batch_normalization.BatchNormalization at 0x7eee0ba552a0>,\n",
              " <keras.src.layers.merging.add.Add at 0x7eee0ba57a30>,\n",
              " <keras.src.layers.core.activation.Activation at 0x7eee0dca6290>,\n",
              " <keras.src.layers.convolutional.conv2d.Conv2D at 0x7eee0dca6e60>,\n",
              " <keras.src.layers.normalization.batch_normalization.BatchNormalization at 0x7eee0dca6f80>,\n",
              " <keras.src.layers.core.activation.Activation at 0x7eee0dca4730>,\n",
              " <keras.src.layers.convolutional.conv2d.Conv2D at 0x7eee0dcb8160>,\n",
              " <keras.src.layers.normalization.batch_normalization.BatchNormalization at 0x7eee0dcb85e0>,\n",
              " <keras.src.layers.core.activation.Activation at 0x7eee0dcba620>,\n",
              " <keras.src.layers.convolutional.conv2d.Conv2D at 0x7eee0dcbaad0>,\n",
              " <keras.src.layers.normalization.batch_normalization.BatchNormalization at 0x7eee0dcbb1f0>,\n",
              " <keras.src.layers.merging.add.Add at 0x7eee0dcbbac0>,\n",
              " <keras.src.layers.core.activation.Activation at 0x7eee0dcdc7c0>,\n",
              " <keras.src.layers.convolutional.conv2d.Conv2D at 0x7eee0dcdc490>,\n",
              " <keras.src.layers.normalization.batch_normalization.BatchNormalization at 0x7eee0dcdd690>,\n",
              " <keras.src.layers.core.activation.Activation at 0x7eee0dcdf100>,\n",
              " <keras.src.layers.convolutional.conv2d.Conv2D at 0x7eee0dcdf5b0>,\n",
              " <keras.src.layers.normalization.batch_normalization.BatchNormalization at 0x7eee0dcdfd90>,\n",
              " <keras.src.layers.core.activation.Activation at 0x7eee0dcde6b0>,\n",
              " <keras.src.layers.convolutional.conv2d.Conv2D at 0x7eee0dcdc7f0>,\n",
              " <keras.src.layers.normalization.batch_normalization.BatchNormalization at 0x7eee0ba54970>,\n",
              " <keras.src.layers.merging.add.Add at 0x7eee0ba54460>,\n",
              " <keras.src.layers.core.activation.Activation at 0x7eee0dcdd600>,\n",
              " <keras.src.layers.convolutional.conv2d.Conv2D at 0x7eee0dcede10>,\n",
              " <keras.src.layers.normalization.batch_normalization.BatchNormalization at 0x7eee0dcedc60>,\n",
              " <keras.src.layers.core.activation.Activation at 0x7eee0dced510>,\n",
              " <keras.src.layers.convolutional.conv2d.Conv2D at 0x7eee0dcef310>,\n",
              " <keras.src.layers.normalization.batch_normalization.BatchNormalization at 0x7eee0dcef190>,\n",
              " <keras.src.layers.core.activation.Activation at 0x7eee0dd010c0>,\n",
              " <keras.src.layers.convolutional.conv2d.Conv2D at 0x7eee0946ca60>,\n",
              " <keras.src.layers.convolutional.conv2d.Conv2D at 0x7eee0dd026e0>,\n",
              " <keras.src.layers.normalization.batch_normalization.BatchNormalization at 0x7eee0dc9b730>,\n",
              " <keras.src.layers.normalization.batch_normalization.BatchNormalization at 0x7eee0dd02890>,\n",
              " <keras.src.layers.merging.add.Add at 0x7eee0dd03fa0>,\n",
              " <keras.src.layers.core.activation.Activation at 0x7eee0dd01780>,\n",
              " <keras.src.layers.convolutional.conv2d.Conv2D at 0x7eee0dd10e20>,\n",
              " <keras.src.layers.normalization.batch_normalization.BatchNormalization at 0x7eee0dd11780>,\n",
              " <keras.src.layers.core.activation.Activation at 0x7eee0dd12aa0>,\n",
              " <keras.src.layers.convolutional.conv2d.Conv2D at 0x7eee0dd12f50>,\n",
              " <keras.src.layers.normalization.batch_normalization.BatchNormalization at 0x7eee0dd10970>,\n",
              " <keras.src.layers.core.activation.Activation at 0x7eee0dd12c20>,\n",
              " <keras.src.layers.convolutional.conv2d.Conv2D at 0x7eee0dd20be0>,\n",
              " <keras.src.layers.normalization.batch_normalization.BatchNormalization at 0x7eee0dd20d90>,\n",
              " <keras.src.layers.merging.add.Add at 0x7eee0dd22050>,\n",
              " <keras.src.layers.core.activation.Activation at 0x7eee0dd22b60>,\n",
              " <keras.src.layers.convolutional.conv2d.Conv2D at 0x7eee0dd23a30>,\n",
              " <keras.src.layers.normalization.batch_normalization.BatchNormalization at 0x7eee0dd23b50>,\n",
              " <keras.src.layers.core.activation.Activation at 0x7eee0dd20700>,\n",
              " <keras.src.layers.convolutional.conv2d.Conv2D at 0x7eee0dd39210>,\n",
              " <keras.src.layers.normalization.batch_normalization.BatchNormalization at 0x7eee0dd39de0>,\n",
              " <keras.src.layers.core.activation.Activation at 0x7eee0dd3b1f0>,\n",
              " <keras.src.layers.convolutional.conv2d.Conv2D at 0x7eee0dd3b6a0>,\n",
              " <keras.src.layers.normalization.batch_normalization.BatchNormalization at 0x7eee0dd3bdc0>,\n",
              " <keras.src.layers.merging.add.Add at 0x7eee0dd20a60>,\n",
              " <keras.src.layers.core.activation.Activation at 0x7eee0dd11360>,\n",
              " <keras.src.layers.convolutional.conv2d.Conv2D at 0x7eee0dd02950>,\n",
              " <keras.src.layers.normalization.batch_normalization.BatchNormalization at 0x7eee0dcdd960>,\n",
              " <keras.src.layers.core.activation.Activation at 0x7eee0dcdd900>,\n",
              " <keras.src.layers.convolutional.conv2d.Conv2D at 0x7eee0dd54ac0>,\n",
              " <keras.src.layers.normalization.batch_normalization.BatchNormalization at 0x7eee0dd55330>,\n",
              " <keras.src.layers.core.activation.Activation at 0x7eee0dd54610>,\n",
              " <keras.src.layers.convolutional.conv2d.Conv2D at 0x7eee0dd56830>,\n",
              " <keras.src.layers.normalization.batch_normalization.BatchNormalization at 0x7eee0dd56f50>,\n",
              " <keras.src.layers.merging.add.Add at 0x7eee0dd57fd0>,\n",
              " <keras.src.layers.core.activation.Activation at 0x7eee0dd60880>,\n",
              " <keras.src.layers.convolutional.conv2d.Conv2D at 0x7eee0dd61960>,\n",
              " <keras.src.layers.normalization.batch_normalization.BatchNormalization at 0x7eee0dd61a80>,\n",
              " <keras.src.layers.core.activation.Activation at 0x7eee0dd62c50>,\n",
              " <keras.src.layers.convolutional.conv2d.Conv2D at 0x7eee0dd63100>,\n",
              " <keras.src.layers.normalization.batch_normalization.BatchNormalization at 0x7eee0dd62320>,\n",
              " <keras.src.layers.core.activation.Activation at 0x7eee0dd635b0>,\n",
              " <keras.src.layers.convolutional.conv2d.Conv2D at 0x7eee0dd79120>,\n",
              " <keras.src.layers.normalization.batch_normalization.BatchNormalization at 0x7eee0dd79570>,\n",
              " <keras.src.layers.merging.add.Add at 0x7eee0dd7a530>,\n",
              " <keras.src.layers.core.activation.Activation at 0x7eee0dd7b8e0>,\n",
              " <keras.src.layers.convolutional.conv2d.Conv2D at 0x7eee0dd7a770>,\n",
              " <keras.src.layers.normalization.batch_normalization.BatchNormalization at 0x7eee0dd7af50>,\n",
              " <keras.src.layers.core.activation.Activation at 0x7eee0e699660>,\n",
              " <keras.src.layers.convolutional.conv2d.Conv2D at 0x7eee0e699e70>,\n",
              " <keras.src.layers.normalization.batch_normalization.BatchNormalization at 0x7eee0e6981f0>,\n",
              " <keras.src.layers.core.activation.Activation at 0x7eee0e69a0b0>,\n",
              " <keras.src.layers.convolutional.conv2d.Conv2D at 0x7eee0e699b10>,\n",
              " <keras.src.layers.normalization.batch_normalization.BatchNormalization at 0x7eee0e698550>,\n",
              " <keras.src.layers.merging.add.Add at 0x7eee0e69a890>,\n",
              " <keras.src.layers.core.activation.Activation at 0x7eee0e6adc90>,\n",
              " <keras.src.layers.convolutional.conv2d.Conv2D at 0x7eee0dd546a0>,\n",
              " <keras.src.layers.normalization.batch_normalization.BatchNormalization at 0x7eee0dd120e0>,\n",
              " <keras.src.layers.core.activation.Activation at 0x7eee0dd7a680>,\n",
              " <keras.src.layers.convolutional.conv2d.Conv2D at 0x7eee0e6ade40>,\n",
              " <keras.src.layers.normalization.batch_normalization.BatchNormalization at 0x7eee0dd60610>,\n",
              " <keras.src.layers.core.activation.Activation at 0x7eee0dd60340>,\n",
              " <keras.src.layers.convolutional.conv2d.Conv2D at 0x7eee0e69b4f0>,\n",
              " <keras.src.layers.convolutional.conv2d.Conv2D at 0x7eee0e6afb80>,\n",
              " <keras.src.layers.normalization.batch_normalization.BatchNormalization at 0x7eee0e69bac0>,\n",
              " <keras.src.layers.normalization.batch_normalization.BatchNormalization at 0x7eee0e6afe80>,\n",
              " <keras.src.layers.merging.add.Add at 0x7eee0e6adba0>,\n",
              " <keras.src.layers.core.activation.Activation at 0x7eee0e6c66b0>,\n",
              " <keras.src.layers.convolutional.conv2d.Conv2D at 0x7eee0e6c4340>,\n",
              " <keras.src.layers.normalization.batch_normalization.BatchNormalization at 0x7eee0e6c7d00>,\n",
              " <keras.src.layers.core.activation.Activation at 0x7eee0e6c7c70>,\n",
              " <keras.src.layers.convolutional.conv2d.Conv2D at 0x7eee0e6c7550>,\n",
              " <keras.src.layers.normalization.batch_normalization.BatchNormalization at 0x7eee0e6c7b50>,\n",
              " <keras.src.layers.core.activation.Activation at 0x7eee0e6c4d00>,\n",
              " <keras.src.layers.convolutional.conv2d.Conv2D at 0x7eee0e6d5600>,\n",
              " <keras.src.layers.normalization.batch_normalization.BatchNormalization at 0x7eee0e6c7fa0>,\n",
              " <keras.src.layers.merging.add.Add at 0x7eee0dd57280>,\n",
              " <keras.src.layers.core.activation.Activation at 0x7eee0e6d7c10>,\n",
              " <keras.src.layers.convolutional.conv2d.Conv2D at 0x7eee0e6d7df0>,\n",
              " <keras.src.layers.normalization.batch_normalization.BatchNormalization at 0x7eee0e6d7940>,\n",
              " <keras.src.layers.core.activation.Activation at 0x7eee0e6d6170>,\n",
              " <keras.src.layers.convolutional.conv2d.Conv2D at 0x7eee0e6f5b10>,\n",
              " <keras.src.layers.normalization.batch_normalization.BatchNormalization at 0x7eee0e6f6890>,\n",
              " <keras.src.layers.core.activation.Activation at 0x7eee0e6f50c0>,\n",
              " <keras.src.layers.convolutional.conv2d.Conv2D at 0x7eee0e6f5480>,\n",
              " <keras.src.layers.normalization.batch_normalization.BatchNormalization at 0x7eee0e6f7e80>,\n",
              " <keras.src.layers.merging.add.Add at 0x7eee0e6d7eb0>,\n",
              " <keras.src.layers.core.activation.Activation at 0x7eee0e6f6650>,\n",
              " <keras.src.layers.pooling.global_average_pooling2d.GlobalAveragePooling2D at 0x7eee0e6c68c0>]"
            ]
          },
          "metadata": {},
          "execution_count": 15
        }
      ],
      "source": [
        "model.layers[0].layers"
      ]
    },
    {
      "cell_type": "markdown",
      "metadata": {
        "id": "F3hu0jkb8wlS"
      },
      "source": [
        "Since the ResNet50 model has already been trained, then we want to tell our model not to bother with training the ResNet part, but to train only our dense output layer. To do that, we run the following.\n"
      ]
    },
    {
      "cell_type": "code",
      "execution_count": null,
      "metadata": {
        "tags": [],
        "id": "LTc-Um0x8wlS"
      },
      "outputs": [],
      "source": [
        "model.layers[0].trainable = False"
      ]
    },
    {
      "cell_type": "markdown",
      "metadata": {
        "id": "ce3-IBOi8wlS"
      },
      "source": [
        "And now using the *summary* attribute of the model, we can see how many parameters we will need to optimize in order to train the output layer.\n"
      ]
    },
    {
      "cell_type": "code",
      "execution_count": null,
      "metadata": {
        "tags": [],
        "id": "I7wJD6zW8wlS",
        "outputId": "69be75d4-2adb-41e2-d33c-1d038d71e023",
        "colab": {
          "base_uri": "https://localhost:8080/"
        }
      },
      "outputs": [
        {
          "output_type": "stream",
          "name": "stdout",
          "text": [
            "Model: \"sequential\"\n",
            "_________________________________________________________________\n",
            " Layer (type)                Output Shape              Param #   \n",
            "=================================================================\n",
            " resnet50 (Functional)       (None, 2048)              23587712  \n",
            "                                                                 \n",
            " dense (Dense)               (None, 2)                 4098      \n",
            "                                                                 \n",
            "=================================================================\n",
            "Total params: 23591810 (90.00 MB)\n",
            "Trainable params: 4098 (16.01 KB)\n",
            "Non-trainable params: 23587712 (89.98 MB)\n",
            "_________________________________________________________________\n"
          ]
        }
      ],
      "source": [
        "model.summary()"
      ]
    },
    {
      "cell_type": "markdown",
      "metadata": {
        "id": "6hrCPkpW8wlS"
      },
      "source": [
        "Next we compile our model using the **adam** optimizer.\n"
      ]
    },
    {
      "cell_type": "code",
      "execution_count": null,
      "metadata": {
        "tags": [],
        "id": "1dE7G6tc8wlS"
      },
      "outputs": [],
      "source": [
        "model.compile(optimizer='adam', loss='categorical_crossentropy', metrics=['accuracy'])"
      ]
    },
    {
      "cell_type": "markdown",
      "metadata": {
        "id": "753aV8Ul8wlT"
      },
      "source": [
        "Before we are able to start the training process, with an ImageDataGenerator, we will need to define how many steps compose an epoch. Typically, that is the number of images divided by the batch size. Therefore, we define our steps per epoch as follows:\n"
      ]
    },
    {
      "cell_type": "code",
      "execution_count": null,
      "metadata": {
        "tags": [],
        "id": "2V_ZMnPo8wlT"
      },
      "outputs": [],
      "source": [
        "steps_per_epoch_training = len(train_generator)\n",
        "steps_per_epoch_validation = len(validation_generator)\n",
        "num_epochs = 2"
      ]
    },
    {
      "cell_type": "markdown",
      "metadata": {
        "id": "xWgHxjc68wlT"
      },
      "source": [
        "Finally, we are ready to start training our model. Unlike a conventional deep learning training were data is not streamed from a directory, with an ImageDataGenerator where data is augmented in batches, we use the **fit_generator** method.\n"
      ]
    },
    {
      "cell_type": "code",
      "execution_count": null,
      "metadata": {
        "tags": [],
        "id": "CdsgGJmz8wlT",
        "outputId": "b2d276ce-8a1c-4db9-cb39-7ebd4bf7b0d7",
        "colab": {
          "base_uri": "https://localhost:8080/"
        }
      },
      "outputs": [
        {
          "output_type": "stream",
          "name": "stderr",
          "text": [
            "<ipython-input-20-172e67583a70>:1: UserWarning: `Model.fit_generator` is deprecated and will be removed in a future version. Please use `Model.fit`, which supports generators.\n",
            "  fit_history = model.fit_generator(\n"
          ]
        },
        {
          "output_type": "stream",
          "name": "stdout",
          "text": [
            "Epoch 1/2\n",
            "301/301 [==============================] - 148s 456ms/step - loss: 0.0388 - accuracy: 0.9857 - val_loss: 0.0086 - val_accuracy: 0.9978\n",
            "Epoch 2/2\n",
            "301/301 [==============================] - 145s 483ms/step - loss: 0.0065 - accuracy: 0.9985 - val_loss: 0.0056 - val_accuracy: 0.9987\n"
          ]
        }
      ],
      "source": [
        "fit_history = model.fit_generator(\n",
        "    train_generator,\n",
        "    steps_per_epoch=steps_per_epoch_training,\n",
        "    epochs=num_epochs,\n",
        "    validation_data=validation_generator,\n",
        "    validation_steps=steps_per_epoch_validation,\n",
        "    verbose=1,\n",
        ")"
      ]
    },
    {
      "cell_type": "markdown",
      "metadata": {
        "id": "5x_N59S68wlT"
      },
      "source": [
        "Now that the model is trained, you are ready to start using it to classify images.\n"
      ]
    },
    {
      "cell_type": "markdown",
      "metadata": {
        "id": "naW1jS_Z8wlT"
      },
      "source": [
        "Since training can take a long time when building deep learning models, it is always a good idea to save your model once the training is complete if you believe you will be using the model again later. You will be using this model in the next module, so go ahead and save your model.\n"
      ]
    },
    {
      "cell_type": "code",
      "execution_count": null,
      "metadata": {
        "tags": [],
        "id": "16pWs-tG8wlT",
        "colab": {
          "base_uri": "https://localhost:8080/"
        },
        "outputId": "6d67c26f-e9cd-4cbd-ba38-a68ffde2ac1e"
      },
      "outputs": [
        {
          "output_type": "stream",
          "name": "stderr",
          "text": [
            "/usr/local/lib/python3.10/dist-packages/keras/src/engine/training.py:3103: UserWarning: You are saving your model as an HDF5 file via `model.save()`. This file format is considered legacy. We recommend using instead the native Keras format, e.g. `model.save('my_model.keras')`.\n",
            "  saving_api.save_model(\n"
          ]
        }
      ],
      "source": [
        "model.save('classifier_resnet_model.h5')"
      ]
    },
    {
      "cell_type": "markdown",
      "metadata": {
        "id": "F4CKc8zy8wlT"
      },
      "source": [
        "Now, you should see the model file *classifier_resnet_model.h5* apprear in the left directory pane.\n"
      ]
    },
    {
      "cell_type": "markdown",
      "metadata": {
        "id": "t0ae2Q-i8wlT"
      },
      "source": [
        "### Thank you for completing this lab!\n",
        "\n",
        "This notebook was created by Alex Aklson. I hope you found this lab interesting and educational.\n"
      ]
    },
    {
      "cell_type": "markdown",
      "metadata": {
        "id": "wovlmkTA8wlT"
      },
      "source": [
        "This notebook is part of a course on **Coursera** called *AI Capstone Project with Deep Learning*. If you accessed this notebook outside the course, you can take this course online by clicking [here](https://cocl.us/DL0321EN_Coursera_Week3_LAB1).\n"
      ]
    },
    {
      "cell_type": "markdown",
      "metadata": {
        "id": "_if2ff0y8wlT"
      },
      "source": [
        "\n",
        "## Change Log\n",
        "\n",
        "|  Date (YYYY-MM-DD) |  Version | Changed By  |  Change Description |\n",
        "|---|---|---|---|\n",
        "| 2020-09-18  | 2.0  | Shubham  |  Migrated Lab to Markdown and added to course repo in GitLab |\n",
        "| 2023-01-03  | 3.0  | Artem |  Updated the file import section|\n",
        "\n"
      ]
    },
    {
      "cell_type": "markdown",
      "metadata": {
        "id": "Oq19zk3W8wlT"
      },
      "source": [
        "<hr>\n",
        "\n",
        "Copyright &copy; 2020 [IBM Developer Skills Network](https://cognitiveclass.ai/?utm_medium=dswb&utm_source=bducopyrightlink&utm_content=000026UJ&utm_term=10006555&utm_id=NA-SkillsNetwork-Channel-SkillsNetworkCoursesIBMDeveloperSkillsNetworkDL0321ENSkillsNetwork951-2022-01-01&utm_campaign=bdu). This notebook and its source code are released under the terms of the [MIT License](https://bigdatauniversity.com/mit-license/?utm_medium=Exinfluencer&utm_source=Exinfluencer&utm_content=000026UJ&utm_term=10006555&utm_id=NA-SkillsNetwork-Channel-SkillsNetworkCoursesIBMDeveloperSkillsNetworkDL0321ENSkillsNetwork951-2022-01-01).\n"
      ]
    },
    {
      "cell_type": "code",
      "source": [],
      "metadata": {
        "id": "5ojSzSJ_D9kI"
      },
      "execution_count": null,
      "outputs": []
    }
  ],
  "metadata": {
    "kernelspec": {
      "display_name": "Python",
      "language": "python",
      "name": "conda-env-python-py"
    },
    "language_info": {
      "codemirror_mode": {
        "name": "ipython",
        "version": 3
      },
      "file_extension": ".py",
      "mimetype": "text/x-python",
      "name": "python",
      "nbconvert_exporter": "python",
      "pygments_lexer": "ipython3",
      "version": "3.7.12"
    },
    "colab": {
      "provenance": [],
      "gpuType": "T4"
    },
    "accelerator": "GPU",
    "widgets": {
      "application/vnd.jupyter.widget-state+json": {
        "bcfc891c3a3442f39e5b64b841e1059b": {
          "model_module": "@jupyter-widgets/controls",
          "model_name": "HBoxModel",
          "model_module_version": "1.5.0",
          "state": {
            "_dom_classes": [],
            "_model_module": "@jupyter-widgets/controls",
            "_model_module_version": "1.5.0",
            "_model_name": "HBoxModel",
            "_view_count": null,
            "_view_module": "@jupyter-widgets/controls",
            "_view_module_version": "1.5.0",
            "_view_name": "HBoxView",
            "box_style": "",
            "children": [
              "IPY_MODEL_078e714c69de497f876c1a7bc9648b19",
              "IPY_MODEL_25d071baa98a473b813225ddf6246b7d",
              "IPY_MODEL_dd8acd40fc824c47baab0df3094345b9"
            ],
            "layout": "IPY_MODEL_4e5d91ff2bcf467d9f3675055b2688a6"
          }
        },
        "078e714c69de497f876c1a7bc9648b19": {
          "model_module": "@jupyter-widgets/controls",
          "model_name": "HTMLModel",
          "model_module_version": "1.5.0",
          "state": {
            "_dom_classes": [],
            "_model_module": "@jupyter-widgets/controls",
            "_model_module_version": "1.5.0",
            "_model_name": "HTMLModel",
            "_view_count": null,
            "_view_module": "@jupyter-widgets/controls",
            "_view_module_version": "1.5.0",
            "_view_name": "HTMLView",
            "description": "",
            "description_tooltip": null,
            "layout": "IPY_MODEL_cb5100918b4b4fcaa2a9288635b38767",
            "placeholder": "​",
            "style": "IPY_MODEL_c8c32303ebad4012bbf3fdea19d1df6b",
            "value": "Downloading concrete_data_week3.zip: 100%"
          }
        },
        "25d071baa98a473b813225ddf6246b7d": {
          "model_module": "@jupyter-widgets/controls",
          "model_name": "FloatProgressModel",
          "model_module_version": "1.5.0",
          "state": {
            "_dom_classes": [],
            "_model_module": "@jupyter-widgets/controls",
            "_model_module_version": "1.5.0",
            "_model_name": "FloatProgressModel",
            "_view_count": null,
            "_view_module": "@jupyter-widgets/controls",
            "_view_module_version": "1.5.0",
            "_view_name": "ProgressView",
            "bar_style": "success",
            "description": "",
            "description_tooltip": null,
            "layout": "IPY_MODEL_caf261d7c2cf4d9d8d826a13922037fb",
            "max": 261482368,
            "min": 0,
            "orientation": "horizontal",
            "style": "IPY_MODEL_ce2fbb2db2134d29a529c04d2c2f223f",
            "value": 261482368
          }
        },
        "dd8acd40fc824c47baab0df3094345b9": {
          "model_module": "@jupyter-widgets/controls",
          "model_name": "HTMLModel",
          "model_module_version": "1.5.0",
          "state": {
            "_dom_classes": [],
            "_model_module": "@jupyter-widgets/controls",
            "_model_module_version": "1.5.0",
            "_model_name": "HTMLModel",
            "_view_count": null,
            "_view_module": "@jupyter-widgets/controls",
            "_view_module_version": "1.5.0",
            "_view_name": "HTMLView",
            "description": "",
            "description_tooltip": null,
            "layout": "IPY_MODEL_4932ebd0ceb74c518abee56f83d419f7",
            "placeholder": "​",
            "style": "IPY_MODEL_d9f827cbee0b4854bc4781440e625e59",
            "value": " 261482368/261482368 [00:07&lt;00:00, 39999800.08it/s]"
          }
        },
        "4e5d91ff2bcf467d9f3675055b2688a6": {
          "model_module": "@jupyter-widgets/base",
          "model_name": "LayoutModel",
          "model_module_version": "1.2.0",
          "state": {
            "_model_module": "@jupyter-widgets/base",
            "_model_module_version": "1.2.0",
            "_model_name": "LayoutModel",
            "_view_count": null,
            "_view_module": "@jupyter-widgets/base",
            "_view_module_version": "1.2.0",
            "_view_name": "LayoutView",
            "align_content": null,
            "align_items": null,
            "align_self": null,
            "border": null,
            "bottom": null,
            "display": null,
            "flex": null,
            "flex_flow": null,
            "grid_area": null,
            "grid_auto_columns": null,
            "grid_auto_flow": null,
            "grid_auto_rows": null,
            "grid_column": null,
            "grid_gap": null,
            "grid_row": null,
            "grid_template_areas": null,
            "grid_template_columns": null,
            "grid_template_rows": null,
            "height": null,
            "justify_content": null,
            "justify_items": null,
            "left": null,
            "margin": null,
            "max_height": null,
            "max_width": null,
            "min_height": null,
            "min_width": null,
            "object_fit": null,
            "object_position": null,
            "order": null,
            "overflow": null,
            "overflow_x": null,
            "overflow_y": null,
            "padding": null,
            "right": null,
            "top": null,
            "visibility": null,
            "width": null
          }
        },
        "cb5100918b4b4fcaa2a9288635b38767": {
          "model_module": "@jupyter-widgets/base",
          "model_name": "LayoutModel",
          "model_module_version": "1.2.0",
          "state": {
            "_model_module": "@jupyter-widgets/base",
            "_model_module_version": "1.2.0",
            "_model_name": "LayoutModel",
            "_view_count": null,
            "_view_module": "@jupyter-widgets/base",
            "_view_module_version": "1.2.0",
            "_view_name": "LayoutView",
            "align_content": null,
            "align_items": null,
            "align_self": null,
            "border": null,
            "bottom": null,
            "display": null,
            "flex": null,
            "flex_flow": null,
            "grid_area": null,
            "grid_auto_columns": null,
            "grid_auto_flow": null,
            "grid_auto_rows": null,
            "grid_column": null,
            "grid_gap": null,
            "grid_row": null,
            "grid_template_areas": null,
            "grid_template_columns": null,
            "grid_template_rows": null,
            "height": null,
            "justify_content": null,
            "justify_items": null,
            "left": null,
            "margin": null,
            "max_height": null,
            "max_width": null,
            "min_height": null,
            "min_width": null,
            "object_fit": null,
            "object_position": null,
            "order": null,
            "overflow": null,
            "overflow_x": null,
            "overflow_y": null,
            "padding": null,
            "right": null,
            "top": null,
            "visibility": null,
            "width": null
          }
        },
        "c8c32303ebad4012bbf3fdea19d1df6b": {
          "model_module": "@jupyter-widgets/controls",
          "model_name": "DescriptionStyleModel",
          "model_module_version": "1.5.0",
          "state": {
            "_model_module": "@jupyter-widgets/controls",
            "_model_module_version": "1.5.0",
            "_model_name": "DescriptionStyleModel",
            "_view_count": null,
            "_view_module": "@jupyter-widgets/base",
            "_view_module_version": "1.2.0",
            "_view_name": "StyleView",
            "description_width": ""
          }
        },
        "caf261d7c2cf4d9d8d826a13922037fb": {
          "model_module": "@jupyter-widgets/base",
          "model_name": "LayoutModel",
          "model_module_version": "1.2.0",
          "state": {
            "_model_module": "@jupyter-widgets/base",
            "_model_module_version": "1.2.0",
            "_model_name": "LayoutModel",
            "_view_count": null,
            "_view_module": "@jupyter-widgets/base",
            "_view_module_version": "1.2.0",
            "_view_name": "LayoutView",
            "align_content": null,
            "align_items": null,
            "align_self": null,
            "border": null,
            "bottom": null,
            "display": null,
            "flex": null,
            "flex_flow": null,
            "grid_area": null,
            "grid_auto_columns": null,
            "grid_auto_flow": null,
            "grid_auto_rows": null,
            "grid_column": null,
            "grid_gap": null,
            "grid_row": null,
            "grid_template_areas": null,
            "grid_template_columns": null,
            "grid_template_rows": null,
            "height": null,
            "justify_content": null,
            "justify_items": null,
            "left": null,
            "margin": null,
            "max_height": null,
            "max_width": null,
            "min_height": null,
            "min_width": null,
            "object_fit": null,
            "object_position": null,
            "order": null,
            "overflow": null,
            "overflow_x": null,
            "overflow_y": null,
            "padding": null,
            "right": null,
            "top": null,
            "visibility": null,
            "width": null
          }
        },
        "ce2fbb2db2134d29a529c04d2c2f223f": {
          "model_module": "@jupyter-widgets/controls",
          "model_name": "ProgressStyleModel",
          "model_module_version": "1.5.0",
          "state": {
            "_model_module": "@jupyter-widgets/controls",
            "_model_module_version": "1.5.0",
            "_model_name": "ProgressStyleModel",
            "_view_count": null,
            "_view_module": "@jupyter-widgets/base",
            "_view_module_version": "1.2.0",
            "_view_name": "StyleView",
            "bar_color": null,
            "description_width": ""
          }
        },
        "4932ebd0ceb74c518abee56f83d419f7": {
          "model_module": "@jupyter-widgets/base",
          "model_name": "LayoutModel",
          "model_module_version": "1.2.0",
          "state": {
            "_model_module": "@jupyter-widgets/base",
            "_model_module_version": "1.2.0",
            "_model_name": "LayoutModel",
            "_view_count": null,
            "_view_module": "@jupyter-widgets/base",
            "_view_module_version": "1.2.0",
            "_view_name": "LayoutView",
            "align_content": null,
            "align_items": null,
            "align_self": null,
            "border": null,
            "bottom": null,
            "display": null,
            "flex": null,
            "flex_flow": null,
            "grid_area": null,
            "grid_auto_columns": null,
            "grid_auto_flow": null,
            "grid_auto_rows": null,
            "grid_column": null,
            "grid_gap": null,
            "grid_row": null,
            "grid_template_areas": null,
            "grid_template_columns": null,
            "grid_template_rows": null,
            "height": null,
            "justify_content": null,
            "justify_items": null,
            "left": null,
            "margin": null,
            "max_height": null,
            "max_width": null,
            "min_height": null,
            "min_width": null,
            "object_fit": null,
            "object_position": null,
            "order": null,
            "overflow": null,
            "overflow_x": null,
            "overflow_y": null,
            "padding": null,
            "right": null,
            "top": null,
            "visibility": null,
            "width": null
          }
        },
        "d9f827cbee0b4854bc4781440e625e59": {
          "model_module": "@jupyter-widgets/controls",
          "model_name": "DescriptionStyleModel",
          "model_module_version": "1.5.0",
          "state": {
            "_model_module": "@jupyter-widgets/controls",
            "_model_module_version": "1.5.0",
            "_model_name": "DescriptionStyleModel",
            "_view_count": null,
            "_view_module": "@jupyter-widgets/base",
            "_view_module_version": "1.2.0",
            "_view_name": "StyleView",
            "description_width": ""
          }
        },
        "8fc828d08c45465a9220eefcd55c7acb": {
          "model_module": "@jupyter-widgets/controls",
          "model_name": "HBoxModel",
          "model_module_version": "1.5.0",
          "state": {
            "_dom_classes": [],
            "_model_module": "@jupyter-widgets/controls",
            "_model_module_version": "1.5.0",
            "_model_name": "HBoxModel",
            "_view_count": null,
            "_view_module": "@jupyter-widgets/controls",
            "_view_module_version": "1.5.0",
            "_view_name": "HBoxView",
            "box_style": "",
            "children": [
              "IPY_MODEL_4609a69bf37f41fa9afd988c9c51279b",
              "IPY_MODEL_4804dab98d1c4788a2c24bd547bfc0bb",
              "IPY_MODEL_703d09268d694e4a9c6701698c21d7f4"
            ],
            "layout": "IPY_MODEL_0aff1f5d198e49f4b6aaf85f26cbb817"
          }
        },
        "4609a69bf37f41fa9afd988c9c51279b": {
          "model_module": "@jupyter-widgets/controls",
          "model_name": "HTMLModel",
          "model_module_version": "1.5.0",
          "state": {
            "_dom_classes": [],
            "_model_module": "@jupyter-widgets/controls",
            "_model_module_version": "1.5.0",
            "_model_name": "HTMLModel",
            "_view_count": null,
            "_view_module": "@jupyter-widgets/controls",
            "_view_module_version": "1.5.0",
            "_view_name": "HTMLView",
            "description": "",
            "description_tooltip": null,
            "layout": "IPY_MODEL_1c4d9ace71704110b56e54f35af776e7",
            "placeholder": "​",
            "style": "IPY_MODEL_0759d5b3adff4d62ba95cea8421f251d",
            "value": "Extracting concrete_data_week3.zip: 100%"
          }
        },
        "4804dab98d1c4788a2c24bd547bfc0bb": {
          "model_module": "@jupyter-widgets/controls",
          "model_name": "FloatProgressModel",
          "model_module_version": "1.5.0",
          "state": {
            "_dom_classes": [],
            "_model_module": "@jupyter-widgets/controls",
            "_model_module_version": "1.5.0",
            "_model_name": "FloatProgressModel",
            "_view_count": null,
            "_view_module": "@jupyter-widgets/controls",
            "_view_module_version": "1.5.0",
            "_view_name": "ProgressView",
            "bar_style": "success",
            "description": "",
            "description_tooltip": null,
            "layout": "IPY_MODEL_0903dd222eef4655acda1fa1dd500204",
            "max": 80037,
            "min": 0,
            "orientation": "horizontal",
            "style": "IPY_MODEL_c324b72deb7c4f998956c4f3899ab1e1",
            "value": 80037
          }
        },
        "703d09268d694e4a9c6701698c21d7f4": {
          "model_module": "@jupyter-widgets/controls",
          "model_name": "HTMLModel",
          "model_module_version": "1.5.0",
          "state": {
            "_dom_classes": [],
            "_model_module": "@jupyter-widgets/controls",
            "_model_module_version": "1.5.0",
            "_model_name": "HTMLModel",
            "_view_count": null,
            "_view_module": "@jupyter-widgets/controls",
            "_view_module_version": "1.5.0",
            "_view_name": "HTMLView",
            "description": "",
            "description_tooltip": null,
            "layout": "IPY_MODEL_ed891fa4c91d483b946b2c277860dcb6",
            "placeholder": "​",
            "style": "IPY_MODEL_c0cc7443b30542c999cfe97b51593d29",
            "value": " 80037/80037 [00:20&lt;00:00, 6906.06it/s]"
          }
        },
        "0aff1f5d198e49f4b6aaf85f26cbb817": {
          "model_module": "@jupyter-widgets/base",
          "model_name": "LayoutModel",
          "model_module_version": "1.2.0",
          "state": {
            "_model_module": "@jupyter-widgets/base",
            "_model_module_version": "1.2.0",
            "_model_name": "LayoutModel",
            "_view_count": null,
            "_view_module": "@jupyter-widgets/base",
            "_view_module_version": "1.2.0",
            "_view_name": "LayoutView",
            "align_content": null,
            "align_items": null,
            "align_self": null,
            "border": null,
            "bottom": null,
            "display": null,
            "flex": null,
            "flex_flow": null,
            "grid_area": null,
            "grid_auto_columns": null,
            "grid_auto_flow": null,
            "grid_auto_rows": null,
            "grid_column": null,
            "grid_gap": null,
            "grid_row": null,
            "grid_template_areas": null,
            "grid_template_columns": null,
            "grid_template_rows": null,
            "height": null,
            "justify_content": null,
            "justify_items": null,
            "left": null,
            "margin": null,
            "max_height": null,
            "max_width": null,
            "min_height": null,
            "min_width": null,
            "object_fit": null,
            "object_position": null,
            "order": null,
            "overflow": null,
            "overflow_x": null,
            "overflow_y": null,
            "padding": null,
            "right": null,
            "top": null,
            "visibility": null,
            "width": null
          }
        },
        "1c4d9ace71704110b56e54f35af776e7": {
          "model_module": "@jupyter-widgets/base",
          "model_name": "LayoutModel",
          "model_module_version": "1.2.0",
          "state": {
            "_model_module": "@jupyter-widgets/base",
            "_model_module_version": "1.2.0",
            "_model_name": "LayoutModel",
            "_view_count": null,
            "_view_module": "@jupyter-widgets/base",
            "_view_module_version": "1.2.0",
            "_view_name": "LayoutView",
            "align_content": null,
            "align_items": null,
            "align_self": null,
            "border": null,
            "bottom": null,
            "display": null,
            "flex": null,
            "flex_flow": null,
            "grid_area": null,
            "grid_auto_columns": null,
            "grid_auto_flow": null,
            "grid_auto_rows": null,
            "grid_column": null,
            "grid_gap": null,
            "grid_row": null,
            "grid_template_areas": null,
            "grid_template_columns": null,
            "grid_template_rows": null,
            "height": null,
            "justify_content": null,
            "justify_items": null,
            "left": null,
            "margin": null,
            "max_height": null,
            "max_width": null,
            "min_height": null,
            "min_width": null,
            "object_fit": null,
            "object_position": null,
            "order": null,
            "overflow": null,
            "overflow_x": null,
            "overflow_y": null,
            "padding": null,
            "right": null,
            "top": null,
            "visibility": null,
            "width": null
          }
        },
        "0759d5b3adff4d62ba95cea8421f251d": {
          "model_module": "@jupyter-widgets/controls",
          "model_name": "DescriptionStyleModel",
          "model_module_version": "1.5.0",
          "state": {
            "_model_module": "@jupyter-widgets/controls",
            "_model_module_version": "1.5.0",
            "_model_name": "DescriptionStyleModel",
            "_view_count": null,
            "_view_module": "@jupyter-widgets/base",
            "_view_module_version": "1.2.0",
            "_view_name": "StyleView",
            "description_width": ""
          }
        },
        "0903dd222eef4655acda1fa1dd500204": {
          "model_module": "@jupyter-widgets/base",
          "model_name": "LayoutModel",
          "model_module_version": "1.2.0",
          "state": {
            "_model_module": "@jupyter-widgets/base",
            "_model_module_version": "1.2.0",
            "_model_name": "LayoutModel",
            "_view_count": null,
            "_view_module": "@jupyter-widgets/base",
            "_view_module_version": "1.2.0",
            "_view_name": "LayoutView",
            "align_content": null,
            "align_items": null,
            "align_self": null,
            "border": null,
            "bottom": null,
            "display": null,
            "flex": null,
            "flex_flow": null,
            "grid_area": null,
            "grid_auto_columns": null,
            "grid_auto_flow": null,
            "grid_auto_rows": null,
            "grid_column": null,
            "grid_gap": null,
            "grid_row": null,
            "grid_template_areas": null,
            "grid_template_columns": null,
            "grid_template_rows": null,
            "height": null,
            "justify_content": null,
            "justify_items": null,
            "left": null,
            "margin": null,
            "max_height": null,
            "max_width": null,
            "min_height": null,
            "min_width": null,
            "object_fit": null,
            "object_position": null,
            "order": null,
            "overflow": null,
            "overflow_x": null,
            "overflow_y": null,
            "padding": null,
            "right": null,
            "top": null,
            "visibility": null,
            "width": null
          }
        },
        "c324b72deb7c4f998956c4f3899ab1e1": {
          "model_module": "@jupyter-widgets/controls",
          "model_name": "ProgressStyleModel",
          "model_module_version": "1.5.0",
          "state": {
            "_model_module": "@jupyter-widgets/controls",
            "_model_module_version": "1.5.0",
            "_model_name": "ProgressStyleModel",
            "_view_count": null,
            "_view_module": "@jupyter-widgets/base",
            "_view_module_version": "1.2.0",
            "_view_name": "StyleView",
            "bar_color": null,
            "description_width": ""
          }
        },
        "ed891fa4c91d483b946b2c277860dcb6": {
          "model_module": "@jupyter-widgets/base",
          "model_name": "LayoutModel",
          "model_module_version": "1.2.0",
          "state": {
            "_model_module": "@jupyter-widgets/base",
            "_model_module_version": "1.2.0",
            "_model_name": "LayoutModel",
            "_view_count": null,
            "_view_module": "@jupyter-widgets/base",
            "_view_module_version": "1.2.0",
            "_view_name": "LayoutView",
            "align_content": null,
            "align_items": null,
            "align_self": null,
            "border": null,
            "bottom": null,
            "display": null,
            "flex": null,
            "flex_flow": null,
            "grid_area": null,
            "grid_auto_columns": null,
            "grid_auto_flow": null,
            "grid_auto_rows": null,
            "grid_column": null,
            "grid_gap": null,
            "grid_row": null,
            "grid_template_areas": null,
            "grid_template_columns": null,
            "grid_template_rows": null,
            "height": null,
            "justify_content": null,
            "justify_items": null,
            "left": null,
            "margin": null,
            "max_height": null,
            "max_width": null,
            "min_height": null,
            "min_width": null,
            "object_fit": null,
            "object_position": null,
            "order": null,
            "overflow": null,
            "overflow_x": null,
            "overflow_y": null,
            "padding": null,
            "right": null,
            "top": null,
            "visibility": null,
            "width": null
          }
        },
        "c0cc7443b30542c999cfe97b51593d29": {
          "model_module": "@jupyter-widgets/controls",
          "model_name": "DescriptionStyleModel",
          "model_module_version": "1.5.0",
          "state": {
            "_model_module": "@jupyter-widgets/controls",
            "_model_module_version": "1.5.0",
            "_model_name": "DescriptionStyleModel",
            "_view_count": null,
            "_view_module": "@jupyter-widgets/base",
            "_view_module_version": "1.2.0",
            "_view_name": "StyleView",
            "description_width": ""
          }
        }
      }
    }
  },
  "nbformat": 4,
  "nbformat_minor": 0
}