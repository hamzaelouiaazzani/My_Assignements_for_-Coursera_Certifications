{
  "metadata": {
    "kernelspec": {
      "name": "python3",
      "display_name": "Python 3"
    },
    "language_info": {
      "name": "python",
      "version": "3.10.12",
      "mimetype": "text/x-python",
      "codemirror_mode": {
        "name": "ipython",
        "version": 3
      },
      "pygments_lexer": "ipython3",
      "nbconvert_exporter": "python",
      "file_extension": ".py"
    },
    "kaggle": {
      "accelerator": "nvidiaTeslaT4",
      "dataSources": [],
      "dockerImageVersionId": 30636,
      "isInternetEnabled": true,
      "language": "python",
      "sourceType": "notebook",
      "isGpuEnabled": true
    },
    "colab": {
      "provenance": [],
      "gpuType": "T4"
    },
    "accelerator": "GPU"
  },
  "nbformat_minor": 0,
  "nbformat": 4,
  "cells": [
    {
      "cell_type": "markdown",
      "source": [
        "<a href=\"https://cognitiveclass.ai\"><img src = \"https://s3-api.us-geo.objectstorage.softlayer.net/cf-courses-data/CognitiveClass/Logos/organization_logo/organization_logo.png\" width = 400> </a>\n",
        "\n",
        "<h1 align=center><font size = 5>Peer Review Final Assignment</font></h1>"
      ],
      "metadata": {
        "button": false,
        "deletable": true,
        "new_sheet": false,
        "run_control": {
          "read_only": false
        },
        "id": "XozQ92tnJ5MH"
      }
    },
    {
      "cell_type": "markdown",
      "source": [
        "## Introduction\n"
      ],
      "metadata": {
        "button": false,
        "deletable": true,
        "new_sheet": false,
        "run_control": {
          "read_only": false
        },
        "id": "oQa8JSMyJ5MI"
      }
    },
    {
      "cell_type": "markdown",
      "source": [
        "In this lab, you will build an image classifier using the VGG16 pre-trained model, and you will evaluate it and compare its performance to the model we built in the last module using the ResNet50 pre-trained model. Good luck!"
      ],
      "metadata": {
        "button": false,
        "deletable": true,
        "new_sheet": false,
        "run_control": {
          "read_only": false
        },
        "id": "aHcGJgxXJ5MJ"
      }
    },
    {
      "cell_type": "markdown",
      "source": [
        "## Table of Contents\n",
        "\n",
        "<div class=\"alert alert-block alert-info\" style=\"margin-top: 20px\">\n",
        "\n",
        "<font size = 3>    \n",
        "\n",
        "1. <a href=\"#item41\">Download Data\n",
        "2. <a href=\"#item42\">Part 1</a>\n",
        "3. <a href=\"#item43\">Part 2</a>  \n",
        "4. <a href=\"#item44\">Part 3</a>  \n",
        "\n",
        "</font>\n",
        "    \n",
        "</div>"
      ],
      "metadata": {
        "button": false,
        "deletable": true,
        "new_sheet": false,
        "run_control": {
          "read_only": false
        },
        "id": "Pf-UDAReJ5MJ"
      }
    },
    {
      "cell_type": "markdown",
      "source": [
        "   "
      ],
      "metadata": {
        "button": false,
        "deletable": true,
        "new_sheet": false,
        "run_control": {
          "read_only": false
        },
        "id": "N_za_zj2J5MJ"
      }
    },
    {
      "cell_type": "markdown",
      "source": [
        "<a id=\"item41\"></a>"
      ],
      "metadata": {
        "id": "5jq2cQblJ5MJ"
      }
    },
    {
      "cell_type": "markdown",
      "source": [
        "## Download Data"
      ],
      "metadata": {
        "id": "Dnu7UNssJ5MJ"
      }
    },
    {
      "cell_type": "markdown",
      "source": [
        "Use the <code>wget</code> command to download the data for this assignment from here: https://s3-api.us-geo.objectstorage.softlayer.net/cf-courses-data/CognitiveClass/DL0321EN/data/concrete_data_week4.zip"
      ],
      "metadata": {
        "id": "1DM-kXxIJ5MJ"
      }
    },
    {
      "cell_type": "markdown",
      "source": [
        "Use the following cells to download the data."
      ],
      "metadata": {
        "id": "JsKPi4eLJ5MJ"
      }
    },
    {
      "cell_type": "code",
      "source": [
        "!wget https://s3-api.us-geo.objectstorage.softlayer.net/cf-courses-data/CognitiveClass/DL0321EN/data/concrete_data_week4.zip"
      ],
      "metadata": {
        "execution": {
          "iopub.status.busy": "2024-01-14T21:55:53.734087Z",
          "iopub.execute_input": "2024-01-14T21:55:53.734983Z",
          "iopub.status.idle": "2024-01-14T21:56:02.407968Z",
          "shell.execute_reply.started": "2024-01-14T21:55:53.734948Z",
          "shell.execute_reply": "2024-01-14T21:56:02.407084Z"
        },
        "trusted": true,
        "colab": {
          "base_uri": "https://localhost:8080/"
        },
        "id": "0hjDKZFKJ5MK",
        "outputId": "46ffd771-e8b2-46a8-8ef3-1390b851dfde"
      },
      "execution_count": null,
      "outputs": [
        {
          "output_type": "stream",
          "name": "stdout",
          "text": [
            "--2024-01-16 21:26:13--  https://s3-api.us-geo.objectstorage.softlayer.net/cf-courses-data/CognitiveClass/DL0321EN/data/concrete_data_week4.zip\n",
            "Resolving s3-api.us-geo.objectstorage.softlayer.net (s3-api.us-geo.objectstorage.softlayer.net)... 67.228.254.196\n",
            "Connecting to s3-api.us-geo.objectstorage.softlayer.net (s3-api.us-geo.objectstorage.softlayer.net)|67.228.254.196|:443... connected.\n",
            "HTTP request sent, awaiting response... 200 OK\n",
            "Length: 261483817 (249M) [application/zip]\n",
            "Saving to: ‘concrete_data_week4.zip’\n",
            "\n",
            "concrete_data_week4 100%[===================>] 249.37M  13.7MB/s    in 17s     \n",
            "\n",
            "2024-01-16 21:26:31 (14.5 MB/s) - ‘concrete_data_week4.zip’ saved [261483817/261483817]\n",
            "\n"
          ]
        }
      ]
    },
    {
      "cell_type": "code",
      "source": [
        "!unzip -q concrete_data_week4.zip"
      ],
      "metadata": {
        "execution": {
          "iopub.status.busy": "2024-01-14T21:56:24.278137Z",
          "iopub.execute_input": "2024-01-14T21:56:24.278939Z",
          "iopub.status.idle": "2024-01-14T21:56:31.756917Z",
          "shell.execute_reply.started": "2024-01-14T21:56:24.278898Z",
          "shell.execute_reply": "2024-01-14T21:56:31.755854Z"
        },
        "trusted": true,
        "id": "h1R7c52iJ5MK"
      },
      "execution_count": null,
      "outputs": []
    },
    {
      "cell_type": "code",
      "source": [
        "pwd"
      ],
      "metadata": {
        "execution": {
          "iopub.status.busy": "2024-01-14T22:23:35.909523Z",
          "iopub.execute_input": "2024-01-14T22:23:35.910249Z",
          "iopub.status.idle": "2024-01-14T22:23:35.917335Z",
          "shell.execute_reply.started": "2024-01-14T22:23:35.910213Z",
          "shell.execute_reply": "2024-01-14T22:23:35.916394Z"
        },
        "trusted": true,
        "colab": {
          "base_uri": "https://localhost:8080/",
          "height": 36
        },
        "id": "4uXlFPOYJ5ML",
        "outputId": "2929d6d5-2b06-4241-b770-38e059218d1c"
      },
      "execution_count": null,
      "outputs": [
        {
          "output_type": "execute_result",
          "data": {
            "text/plain": [
              "'/content'"
            ],
            "application/vnd.google.colaboratory.intrinsic+json": {
              "type": "string"
            }
          },
          "metadata": {},
          "execution_count": 3
        }
      ]
    },
    {
      "cell_type": "markdown",
      "source": [
        "  "
      ],
      "metadata": {
        "id": "r0e7Q6sPJ5ML"
      }
    },
    {
      "cell_type": "markdown",
      "source": [
        "<a id=\"item42\"></a>"
      ],
      "metadata": {
        "button": false,
        "deletable": true,
        "new_sheet": false,
        "run_control": {
          "read_only": false
        },
        "id": "_xN9HbL5J5ML"
      }
    },
    {
      "cell_type": "markdown",
      "source": [
        "## Part 1"
      ],
      "metadata": {
        "id": "-MQUMstuJ5ML"
      }
    },
    {
      "cell_type": "markdown",
      "source": [
        "In this part, you will design a classifier using the VGG16 pre-trained model. Just like the ResNet50 model, you can import the model <code>VGG16</code> from <code>keras.applications</code>."
      ],
      "metadata": {
        "id": "0QR8vCseJ5ML"
      }
    },
    {
      "cell_type": "markdown",
      "source": [
        "You will essentially build your classifier as follows:\n",
        "1. Import libraries, modules, and packages you will need. Make sure to import the *preprocess_input* function from <code>keras.applications.vgg16</code>.\n",
        "2. Use a batch size of 100 images for both training and validation.\n",
        "3. Construct an ImageDataGenerator for the training set and another one for the validation set. VGG16 was originally trained on 224 × 224 images, so make sure to address that when defining the ImageDataGenerator instances.\n",
        "4. Create a sequential model using Keras. Add VGG16 model to it and dense layer.\n",
        "5. Compile the mode using the adam optimizer and the categorical_crossentropy loss function.\n",
        "6. Fit the model on the augmented data using the ImageDataGenerators."
      ],
      "metadata": {
        "id": "D3Pmtqa5J5ML"
      }
    },
    {
      "cell_type": "markdown",
      "source": [
        "Use the following cells to create your classifier."
      ],
      "metadata": {
        "id": "3Chsk0tyJ5MR"
      }
    },
    {
      "cell_type": "code",
      "source": [
        "from keras.preprocessing.image import ImageDataGenerator"
      ],
      "metadata": {
        "execution": {
          "iopub.status.busy": "2024-01-14T10:33:51.611363Z",
          "iopub.execute_input": "2024-01-14T10:33:51.612109Z",
          "iopub.status.idle": "2024-01-14T10:34:04.231745Z",
          "shell.execute_reply.started": "2024-01-14T10:33:51.612073Z",
          "shell.execute_reply": "2024-01-14T10:34:04.230950Z"
        },
        "trusted": true,
        "id": "Bxzfkr6gJ5MR"
      },
      "execution_count": null,
      "outputs": []
    },
    {
      "cell_type": "code",
      "source": [
        "import keras\n",
        "from keras.models import Sequential\n",
        "from keras.layers import Dense"
      ],
      "metadata": {
        "execution": {
          "iopub.status.busy": "2024-01-14T10:34:04.233108Z",
          "iopub.execute_input": "2024-01-14T10:34:04.233625Z",
          "iopub.status.idle": "2024-01-14T10:34:04.238637Z",
          "shell.execute_reply.started": "2024-01-14T10:34:04.233598Z",
          "shell.execute_reply": "2024-01-14T10:34:04.237773Z"
        },
        "trusted": true,
        "id": "6gmCpXa6J5MR"
      },
      "execution_count": null,
      "outputs": []
    },
    {
      "cell_type": "code",
      "source": [
        "from keras.applications import VGG16\n",
        "from keras.applications.vgg16 import preprocess_input"
      ],
      "metadata": {
        "scrolled": true,
        "execution": {
          "iopub.status.busy": "2024-01-14T10:36:02.771279Z",
          "iopub.execute_input": "2024-01-14T10:36:02.771679Z",
          "iopub.status.idle": "2024-01-14T10:36:02.776437Z",
          "shell.execute_reply.started": "2024-01-14T10:36:02.771649Z",
          "shell.execute_reply": "2024-01-14T10:36:02.775362Z"
        },
        "trusted": true,
        "id": "L8Du58okJ5MR"
      },
      "execution_count": null,
      "outputs": []
    },
    {
      "cell_type": "code",
      "source": [
        "num_classes = 2\n",
        "\n",
        "image_resize = 224\n",
        "\n",
        "batch_size_training = 100\n",
        "batch_size_validation = 100"
      ],
      "metadata": {
        "execution": {
          "iopub.status.busy": "2024-01-14T10:38:11.990958Z",
          "iopub.execute_input": "2024-01-14T10:38:11.991839Z",
          "iopub.status.idle": "2024-01-14T10:38:11.996092Z",
          "shell.execute_reply.started": "2024-01-14T10:38:11.991806Z",
          "shell.execute_reply": "2024-01-14T10:38:11.995085Z"
        },
        "trusted": true,
        "id": "cdKX-lHCJ5MS"
      },
      "execution_count": null,
      "outputs": []
    },
    {
      "cell_type": "code",
      "source": [
        "data_generator = ImageDataGenerator(\n",
        "    preprocessing_function=preprocess_input,\n",
        ")"
      ],
      "metadata": {
        "execution": {
          "iopub.status.busy": "2024-01-14T10:38:12.330752Z",
          "iopub.execute_input": "2024-01-14T10:38:12.331343Z",
          "iopub.status.idle": "2024-01-14T10:38:12.335161Z",
          "shell.execute_reply.started": "2024-01-14T10:38:12.331317Z",
          "shell.execute_reply": "2024-01-14T10:38:12.334187Z"
        },
        "trusted": true,
        "id": "gwMx29-xJ5MS"
      },
      "execution_count": null,
      "outputs": []
    },
    {
      "cell_type": "code",
      "source": [
        "train_generator = data_generator.flow_from_directory(\n",
        "    'concrete_data_week4/train',\n",
        "    target_size=(image_resize, image_resize),\n",
        "    batch_size=batch_size_training,\n",
        "    class_mode='categorical')"
      ],
      "metadata": {
        "execution": {
          "iopub.status.busy": "2024-01-14T10:50:20.132159Z",
          "iopub.execute_input": "2024-01-14T10:50:20.132853Z",
          "iopub.status.idle": "2024-01-14T10:50:21.309043Z",
          "shell.execute_reply.started": "2024-01-14T10:50:20.132822Z",
          "shell.execute_reply": "2024-01-14T10:50:21.308269Z"
        },
        "trusted": true,
        "colab": {
          "base_uri": "https://localhost:8080/"
        },
        "id": "Tdhi-2WJJ5MS",
        "outputId": "c65d936d-2cbf-4277-ad83-da9c96d6a657"
      },
      "execution_count": null,
      "outputs": [
        {
          "output_type": "stream",
          "name": "stdout",
          "text": [
            "Found 30001 images belonging to 2 classes.\n"
          ]
        }
      ]
    },
    {
      "cell_type": "code",
      "source": [
        "validation_generator = data_generator.flow_from_directory(\n",
        "    'concrete_data_week4/valid',\n",
        "    target_size=(image_resize, image_resize),\n",
        "    batch_size=batch_size_validation,\n",
        "    class_mode='categorical')"
      ],
      "metadata": {
        "execution": {
          "iopub.status.busy": "2024-01-14T10:50:21.310574Z",
          "iopub.execute_input": "2024-01-14T10:50:21.310917Z",
          "iopub.status.idle": "2024-01-14T10:50:21.723983Z",
          "shell.execute_reply.started": "2024-01-14T10:50:21.310888Z",
          "shell.execute_reply": "2024-01-14T10:50:21.723289Z"
        },
        "trusted": true,
        "colab": {
          "base_uri": "https://localhost:8080/"
        },
        "id": "C6EtcvwZJ5MS",
        "outputId": "bad06a2b-9a64-4ff2-c118-c1170c28c30e"
      },
      "execution_count": null,
      "outputs": [
        {
          "output_type": "stream",
          "name": "stdout",
          "text": [
            "Found 9501 images belonging to 2 classes.\n"
          ]
        }
      ]
    },
    {
      "cell_type": "code",
      "source": [
        "model1 = Sequential()"
      ],
      "metadata": {
        "execution": {
          "iopub.status.busy": "2024-01-14T10:50:21.725117Z",
          "iopub.execute_input": "2024-01-14T10:50:21.725439Z",
          "iopub.status.idle": "2024-01-14T10:50:21.733020Z",
          "shell.execute_reply.started": "2024-01-14T10:50:21.725412Z",
          "shell.execute_reply": "2024-01-14T10:50:21.732192Z"
        },
        "trusted": true,
        "id": "NWqTxdWYJ5MS"
      },
      "execution_count": null,
      "outputs": []
    },
    {
      "cell_type": "code",
      "source": [
        "model1.add(VGG16(\n",
        "    include_top=False,\n",
        "    pooling='avg',\n",
        "    weights='imagenet',\n",
        "    ))"
      ],
      "metadata": {
        "execution": {
          "iopub.status.busy": "2024-01-14T10:50:21.735211Z",
          "iopub.execute_input": "2024-01-14T10:50:21.735979Z",
          "iopub.status.idle": "2024-01-14T10:50:22.141597Z",
          "shell.execute_reply.started": "2024-01-14T10:50:21.735944Z",
          "shell.execute_reply": "2024-01-14T10:50:22.140751Z"
        },
        "trusted": true,
        "id": "vpn4x2M5J5MS"
      },
      "execution_count": null,
      "outputs": []
    },
    {
      "cell_type": "code",
      "source": [
        "model1.add(Dense(num_classes, activation='softmax'))"
      ],
      "metadata": {
        "execution": {
          "iopub.status.busy": "2024-01-14T10:50:22.142666Z",
          "iopub.execute_input": "2024-01-14T10:50:22.142957Z",
          "iopub.status.idle": "2024-01-14T10:50:22.156722Z",
          "shell.execute_reply.started": "2024-01-14T10:50:22.142931Z",
          "shell.execute_reply": "2024-01-14T10:50:22.155959Z"
        },
        "trusted": true,
        "id": "zLCbFCC2J5MS"
      },
      "execution_count": null,
      "outputs": []
    },
    {
      "cell_type": "code",
      "source": [
        "model1.layers"
      ],
      "metadata": {
        "execution": {
          "iopub.status.busy": "2024-01-14T10:50:22.157879Z",
          "iopub.execute_input": "2024-01-14T10:50:22.158266Z",
          "iopub.status.idle": "2024-01-14T10:50:22.164534Z",
          "shell.execute_reply.started": "2024-01-14T10:50:22.158238Z",
          "shell.execute_reply": "2024-01-14T10:50:22.163656Z"
        },
        "trusted": true,
        "colab": {
          "base_uri": "https://localhost:8080/"
        },
        "id": "fzw2auTEJ5MS",
        "outputId": "162f1ba8-73da-4afe-e283-480ba4731457"
      },
      "execution_count": null,
      "outputs": [
        {
          "output_type": "execute_result",
          "data": {
            "text/plain": [
              "[<keras.src.engine.functional.Functional at 0x7ba7e011ee60>,\n",
              " <keras.src.layers.core.dense.Dense at 0x7ba758f987f0>]"
            ]
          },
          "metadata": {},
          "execution_count": 36
        }
      ]
    },
    {
      "cell_type": "code",
      "source": [
        "model1.layers[0].layers"
      ],
      "metadata": {
        "execution": {
          "iopub.status.busy": "2024-01-14T10:50:22.166922Z",
          "iopub.execute_input": "2024-01-14T10:50:22.167259Z",
          "iopub.status.idle": "2024-01-14T10:50:22.176888Z",
          "shell.execute_reply.started": "2024-01-14T10:50:22.167228Z",
          "shell.execute_reply": "2024-01-14T10:50:22.176057Z"
        },
        "trusted": true,
        "colab": {
          "base_uri": "https://localhost:8080/"
        },
        "id": "5NU6ANIkJ5MT",
        "outputId": "372a8498-7cea-41a6-ae26-4bb38e2a2ca0"
      },
      "execution_count": null,
      "outputs": [
        {
          "output_type": "execute_result",
          "data": {
            "text/plain": [
              "[<keras.src.engine.input_layer.InputLayer at 0x7ba7e00b5990>,\n",
              " <keras.src.layers.convolutional.conv2d.Conv2D at 0x7ba7e00b5c00>,\n",
              " <keras.src.layers.convolutional.conv2d.Conv2D at 0x7ba7e025ef80>,\n",
              " <keras.src.layers.pooling.max_pooling2d.MaxPooling2D at 0x7ba7e00b4310>,\n",
              " <keras.src.layers.convolutional.conv2d.Conv2D at 0x7ba7e00b7e50>,\n",
              " <keras.src.layers.convolutional.conv2d.Conv2D at 0x7ba7e00c5b70>,\n",
              " <keras.src.layers.pooling.max_pooling2d.MaxPooling2D at 0x7ba7e00c7df0>,\n",
              " <keras.src.layers.convolutional.conv2d.Conv2D at 0x7ba7e025e410>,\n",
              " <keras.src.layers.convolutional.conv2d.Conv2D at 0x7ba7e427dc90>,\n",
              " <keras.src.layers.convolutional.conv2d.Conv2D at 0x7ba7e423ba90>,\n",
              " <keras.src.layers.pooling.max_pooling2d.MaxPooling2D at 0x7ba7e00c6e30>,\n",
              " <keras.src.layers.convolutional.conv2d.Conv2D at 0x7ba7e00c7af0>,\n",
              " <keras.src.layers.convolutional.conv2d.Conv2D at 0x7ba7e2a505b0>,\n",
              " <keras.src.layers.convolutional.conv2d.Conv2D at 0x7ba7e2a50a90>,\n",
              " <keras.src.layers.pooling.max_pooling2d.MaxPooling2D at 0x7ba7e00c7130>,\n",
              " <keras.src.layers.convolutional.conv2d.Conv2D at 0x7ba7e03a0ee0>,\n",
              " <keras.src.layers.convolutional.conv2d.Conv2D at 0x7ba870921ae0>,\n",
              " <keras.src.layers.convolutional.conv2d.Conv2D at 0x7ba7e2bfbd90>,\n",
              " <keras.src.layers.pooling.max_pooling2d.MaxPooling2D at 0x7ba7e011ded0>,\n",
              " <keras.src.layers.pooling.global_average_pooling2d.GlobalAveragePooling2D at 0x7ba870920b50>]"
            ]
          },
          "metadata": {},
          "execution_count": 37
        }
      ]
    },
    {
      "cell_type": "code",
      "source": [
        "model1.layers[0].trainable = False"
      ],
      "metadata": {
        "execution": {
          "iopub.status.busy": "2024-01-14T10:50:52.771864Z",
          "iopub.execute_input": "2024-01-14T10:50:52.772724Z",
          "iopub.status.idle": "2024-01-14T10:50:52.777758Z",
          "shell.execute_reply.started": "2024-01-14T10:50:52.772693Z",
          "shell.execute_reply": "2024-01-14T10:50:52.776880Z"
        },
        "trusted": true,
        "id": "lm2kHCiYJ5MT"
      },
      "execution_count": null,
      "outputs": []
    },
    {
      "cell_type": "code",
      "source": [
        "model1.summary()"
      ],
      "metadata": {
        "execution": {
          "iopub.status.busy": "2024-01-14T10:51:05.102719Z",
          "iopub.execute_input": "2024-01-14T10:51:05.103352Z",
          "iopub.status.idle": "2024-01-14T10:51:05.121981Z",
          "shell.execute_reply.started": "2024-01-14T10:51:05.103315Z",
          "shell.execute_reply": "2024-01-14T10:51:05.121149Z"
        },
        "trusted": true,
        "colab": {
          "base_uri": "https://localhost:8080/"
        },
        "id": "DznhXfGhJ5MT",
        "outputId": "4bdfe9f3-190f-48f4-a1a1-a436b1b75663"
      },
      "execution_count": null,
      "outputs": [
        {
          "output_type": "stream",
          "name": "stdout",
          "text": [
            "Model: \"sequential_2\"\n",
            "_________________________________________________________________\n",
            " Layer (type)                Output Shape              Param #   \n",
            "=================================================================\n",
            " vgg16 (Functional)          (None, 512)               14714688  \n",
            "                                                                 \n",
            " dense_1 (Dense)             (None, 2)                 1026      \n",
            "                                                                 \n",
            "=================================================================\n",
            "Total params: 14715714 (56.14 MB)\n",
            "Trainable params: 1026 (4.01 KB)\n",
            "Non-trainable params: 14714688 (56.13 MB)\n",
            "_________________________________________________________________\n"
          ]
        }
      ]
    },
    {
      "cell_type": "code",
      "source": [
        "model1.compile(optimizer='adam', loss='categorical_crossentropy', metrics=['accuracy'])"
      ],
      "metadata": {
        "execution": {
          "iopub.status.busy": "2024-01-14T10:51:39.863600Z",
          "iopub.execute_input": "2024-01-14T10:51:39.864315Z",
          "iopub.status.idle": "2024-01-14T10:51:39.886201Z",
          "shell.execute_reply.started": "2024-01-14T10:51:39.864281Z",
          "shell.execute_reply": "2024-01-14T10:51:39.885311Z"
        },
        "trusted": true,
        "id": "_od2YHQOJ5MT"
      },
      "execution_count": null,
      "outputs": []
    },
    {
      "cell_type": "code",
      "source": [
        "steps_per_epoch_training = len(train_generator)\n",
        "steps_per_epoch_validation = len(validation_generator)\n",
        "num_epochs = 2"
      ],
      "metadata": {
        "execution": {
          "iopub.status.busy": "2024-01-14T10:51:56.535851Z",
          "iopub.execute_input": "2024-01-14T10:51:56.536588Z",
          "iopub.status.idle": "2024-01-14T10:51:56.540940Z",
          "shell.execute_reply.started": "2024-01-14T10:51:56.536554Z",
          "shell.execute_reply": "2024-01-14T10:51:56.539968Z"
        },
        "trusted": true,
        "id": "dwCQzGhvJ5MT"
      },
      "execution_count": null,
      "outputs": []
    },
    {
      "cell_type": "code",
      "source": [
        "fit_history = model1.fit_generator(\n",
        "    train_generator,\n",
        "    steps_per_epoch=steps_per_epoch_training,\n",
        "    epochs=num_epochs,\n",
        "    validation_data=validation_generator,\n",
        "    validation_steps=steps_per_epoch_validation,\n",
        "    verbose=1,\n",
        ")"
      ],
      "metadata": {
        "execution": {
          "iopub.status.busy": "2024-01-14T10:52:13.811478Z",
          "iopub.execute_input": "2024-01-14T10:52:13.812207Z",
          "iopub.status.idle": "2024-01-14T10:58:21.546765Z",
          "shell.execute_reply.started": "2024-01-14T10:52:13.812176Z",
          "shell.execute_reply": "2024-01-14T10:58:21.545927Z"
        },
        "trusted": true,
        "colab": {
          "base_uri": "https://localhost:8080/"
        },
        "id": "uP6qLQOrJ5MT",
        "outputId": "d32f48bc-7c63-4188-b89c-6cc4398a558e"
      },
      "execution_count": null,
      "outputs": [
        {
          "output_type": "stream",
          "name": "stderr",
          "text": [
            "<ipython-input-42-52ebed9b3d5d>:1: UserWarning: `Model.fit_generator` is deprecated and will be removed in a future version. Please use `Model.fit`, which supports generators.\n",
            "  fit_history = model1.fit_generator(\n"
          ]
        },
        {
          "output_type": "stream",
          "name": "stdout",
          "text": [
            "Epoch 1/2\n",
            "301/301 [==============================] - 186s 614ms/step - loss: 0.1380 - accuracy: 0.9545 - val_loss: 0.0279 - val_accuracy: 0.9948\n",
            "Epoch 2/2\n",
            "301/301 [==============================] - 182s 603ms/step - loss: 0.0214 - accuracy: 0.9954 - val_loss: 0.0164 - val_accuracy: 0.9966\n"
          ]
        }
      ]
    },
    {
      "cell_type": "markdown",
      "source": [
        "   "
      ],
      "metadata": {
        "id": "TQC_6egJJ5MT"
      }
    },
    {
      "cell_type": "markdown",
      "source": [
        "<a id=\"item43\"></a>"
      ],
      "metadata": {
        "id": "G4rUCxbrJ5MT"
      }
    },
    {
      "cell_type": "markdown",
      "source": [
        "## Part 2"
      ],
      "metadata": {
        "id": "Ge2GhHUWJ5MU"
      }
    },
    {
      "cell_type": "markdown",
      "source": [
        "In this part, you will evaluate your deep learning models on a test data. For this part, you will need to do the following:\n",
        "\n",
        "1. Load your saved model that was built using the ResNet50 model.\n",
        "2. Construct an ImageDataGenerator for the test set. For this ImageDataGenerator instance, you only need to pass the directory of the test images, target size, and the **shuffle** parameter and set it to False.\n",
        "3. Use the **evaluate_generator** method to evaluate your models on the test data, by passing the above ImageDataGenerator as an argument. You can learn more about **evaluate_generator** [here](https://keras.io/models/sequential/).\n",
        "4. Print the performance of the classifier using the VGG16 pre-trained model.\n",
        "5. Print the performance of the classifier using the ResNet pre-trained model.\n"
      ],
      "metadata": {
        "id": "xcDDqRK9J5MU"
      }
    },
    {
      "cell_type": "markdown",
      "source": [
        "Use the following cells to evaluate your models."
      ],
      "metadata": {
        "id": "JM48TFqjJ5MU"
      }
    },
    {
      "cell_type": "code",
      "source": [
        "from tensorflow.keras.models import load_model\n",
        "\n",
        "model2 = load_model('classifier_resnet_model.h5')"
      ],
      "metadata": {
        "id": "8n92M7vJJ5MU"
      },
      "execution_count": null,
      "outputs": []
    },
    {
      "cell_type": "code",
      "source": [
        "test_generator = data_generator.flow_from_directory(\n",
        "    'concrete_data_week4/test',\n",
        "    target_size=(image_resize, image_resize),\n",
        "    shuffle = False,\n",
        "    class_mode='categorical')"
      ],
      "metadata": {
        "colab": {
          "base_uri": "https://localhost:8080/"
        },
        "id": "xx372J12J5MU",
        "outputId": "48be952b-6b2d-4e31-c137-2de8310ef1d2"
      },
      "execution_count": null,
      "outputs": [
        {
          "output_type": "stream",
          "name": "stdout",
          "text": [
            "Found 500 images belonging to 2 classes.\n"
          ]
        }
      ]
    },
    {
      "cell_type": "code",
      "source": [
        "evaluation_vgg = model1.evaluate_generator(\n",
        "    test_generator,\n",
        "    steps=test_generator.samples // test_generator.batch_size,\n",
        "    verbose=1\n",
        ")"
      ],
      "metadata": {
        "colab": {
          "base_uri": "https://localhost:8080/"
        },
        "id": "VEh1XM9_J5MU",
        "outputId": "4309825f-76c7-432c-af82-7687c6406680"
      },
      "execution_count": null,
      "outputs": [
        {
          "output_type": "stream",
          "name": "stderr",
          "text": [
            "<ipython-input-74-7cab6b038acf>:1: UserWarning: `Model.evaluate_generator` is deprecated and will be removed in a future version. Please use `Model.evaluate`, which supports generators.\n",
            "  evaluation_vgg = model1.evaluate_generator(\n"
          ]
        },
        {
          "output_type": "stream",
          "name": "stdout",
          "text": [
            "15/15 [==============================] - 2s 137ms/step - loss: 0.0157 - accuracy: 0.9979\n"
          ]
        }
      ]
    },
    {
      "cell_type": "code",
      "source": [
        "evaluation_resnet = model2.evaluate_generator(\n",
        "    test_generator,\n",
        "    steps=test_generator.samples // test_generator.batch_size,\n",
        "    verbose=1\n",
        ")"
      ],
      "metadata": {
        "colab": {
          "base_uri": "https://localhost:8080/"
        },
        "id": "iF-lVuLbPkAu",
        "outputId": "4caed101-2a29-4bdf-f56a-a3d6452c580a"
      },
      "execution_count": null,
      "outputs": [
        {
          "output_type": "stream",
          "name": "stderr",
          "text": [
            "<ipython-input-75-ae8a64d75017>:1: UserWarning: `Model.evaluate_generator` is deprecated and will be removed in a future version. Please use `Model.evaluate`, which supports generators.\n",
            "  evaluation_resnet = model2.evaluate_generator(\n"
          ]
        },
        {
          "output_type": "stream",
          "name": "stdout",
          "text": [
            "15/15 [==============================] - 2s 111ms/step - loss: 0.0029 - accuracy: 1.0000\n"
          ]
        }
      ]
    },
    {
      "cell_type": "code",
      "source": [
        "print(f\"The performance of the classifier on the test set using vgg is: {evaluation_vgg[1]}\")\n",
        "print(f\"The performance of the classifier on the test set using resnet is: {evaluation_resnet[1]}\")"
      ],
      "metadata": {
        "colab": {
          "base_uri": "https://localhost:8080/"
        },
        "id": "nMqa5CIiQVNI",
        "outputId": "6776a1b2-548a-4679-f8c6-cf8b2d729151"
      },
      "execution_count": null,
      "outputs": [
        {
          "output_type": "stream",
          "name": "stdout",
          "text": [
            "The performance of the classifier on the test set using vgg is: 0.9979166388511658\n",
            "The performance of the classifier on the test set using resnet is: 1.0\n"
          ]
        }
      ]
    },
    {
      "cell_type": "markdown",
      "source": [
        "   "
      ],
      "metadata": {
        "id": "zyk-L7zgJ5MU"
      }
    },
    {
      "cell_type": "markdown",
      "source": [
        "<a id=\"item44\"></a>"
      ],
      "metadata": {
        "id": "Itelqr5MJ5MU"
      }
    },
    {
      "cell_type": "markdown",
      "source": [
        "## Part 3"
      ],
      "metadata": {
        "id": "9C-Sxol3J5MU"
      }
    },
    {
      "cell_type": "markdown",
      "source": [
        "In this model, you will predict whether the images in the test data are images of cracked concrete or not. You will do the following:\n",
        "\n",
        "1. Use the **predict_generator** method to predict the class of the images in the test data, by passing the test data ImageDataGenerator instance defined in the previous part as an argument. You can learn more about the **predict_generator** method [here](https://keras.io/models/sequential/).\n",
        "2. Report the class predictions of the first five images in the test set. You should print something list this:\n",
        "\n",
        "<center>\n",
        "    <ul style=\"list-style-type:none\">\n",
        "        <li>Positive</li>  \n",
        "        <li>Negative</li>\n",
        "        <li>Positive</li>\n",
        "        <li>Positive</li>\n",
        "        <li>Negative</li>\n",
        "    </ul>\n",
        "</center>"
      ],
      "metadata": {
        "id": "s5zrxEDdJ5MU"
      }
    },
    {
      "cell_type": "markdown",
      "source": [
        "Use the following cells to make your predictions."
      ],
      "metadata": {
        "id": "Wl0NSZAuJ5MU"
      }
    },
    {
      "cell_type": "code",
      "source": [
        "prediction_vgg = model1.predict_generator(\n",
        "    test_generator,\n",
        "    steps=test_generator.samples // test_generator.batch_size,\n",
        "    verbose=1\n",
        ")"
      ],
      "metadata": {
        "colab": {
          "base_uri": "https://localhost:8080/"
        },
        "id": "Foy5DVjPJ5MU",
        "outputId": "abbdb7c6-be82-49b1-caa1-e62fb283cfa2"
      },
      "execution_count": null,
      "outputs": [
        {
          "output_type": "stream",
          "name": "stderr",
          "text": [
            "<ipython-input-76-076319d41fc2>:1: UserWarning: `Model.predict_generator` is deprecated and will be removed in a future version. Please use `Model.predict`, which supports generators.\n",
            "  prediction_vgg = model1.predict_generator(\n"
          ]
        },
        {
          "output_type": "stream",
          "name": "stdout",
          "text": [
            "15/15 [==============================] - 2s 134ms/step\n"
          ]
        }
      ]
    },
    {
      "cell_type": "code",
      "source": [
        "prediction_resnet =  model1.predict_generator(\n",
        "    test_generator,\n",
        "    steps=test_generator.samples // test_generator.batch_size,\n",
        "    verbose=1\n",
        ")"
      ],
      "metadata": {
        "colab": {
          "base_uri": "https://localhost:8080/"
        },
        "id": "-cRVGRsaJ5MU",
        "outputId": "0b8ec187-5ec3-4388-b353-804b2f182758"
      },
      "execution_count": null,
      "outputs": [
        {
          "output_type": "stream",
          "name": "stderr",
          "text": [
            "<ipython-input-77-591626a77565>:1: UserWarning: `Model.predict_generator` is deprecated and will be removed in a future version. Please use `Model.predict`, which supports generators.\n",
            "  prediction_resnet =  model1.predict_generator(\n"
          ]
        },
        {
          "output_type": "stream",
          "name": "stdout",
          "text": [
            "15/15 [==============================] - 2s 131ms/step\n"
          ]
        }
      ]
    },
    {
      "cell_type": "code",
      "source": [
        "dict_ = {0:\"Negative\" , 1:\"Positive\"}\n",
        "resnet_pred = np.argmax(prediction_resnet[:5] , axis = 1)\n",
        "vgg_pred = np.argmax(prediction_vgg[:5] , axis = 1)\n",
        "\n",
        "print(f\"The predictions of the first five images in the test set using the classifier based on vgg are:\")\n",
        "for i in range(5):\n",
        "    print(dict_[vgg_pred[i]])\n",
        "print(\"-------------------------------------------------------------------------------------------------------------\")\n",
        "print(f\"The predictions of the first five images in the test set using the classifier based on resnet are:\")\n",
        "for i in range(5):\n",
        "    print(dict_[resnet_pred[i]])"
      ],
      "metadata": {
        "colab": {
          "base_uri": "https://localhost:8080/"
        },
        "id": "piBHxPMsJ5MU",
        "outputId": "af7b1dd1-8cf9-495f-c473-33d751d1b7f8"
      },
      "execution_count": null,
      "outputs": [
        {
          "output_type": "stream",
          "name": "stdout",
          "text": [
            "The predictions of the first five images in the test set using the classifier based on vgg are:\n",
            "Negative\n",
            "Negative\n",
            "Negative\n",
            "Negative\n",
            "Negative\n",
            "-------------------------------------------------------------------------------------------------------------\n",
            "The predictions of the first five images in the test set using the classifier based on resnet are:\n",
            "Negative\n",
            "Negative\n",
            "Negative\n",
            "Negative\n",
            "Negative\n"
          ]
        }
      ]
    },
    {
      "cell_type": "markdown",
      "source": [
        "  "
      ],
      "metadata": {
        "id": "B3JASC09J5MV"
      }
    },
    {
      "cell_type": "markdown",
      "source": [
        "### Thank you for completing this lab!\n",
        "\n",
        "This notebook was created by Alex Aklson."
      ],
      "metadata": {
        "button": false,
        "deletable": true,
        "new_sheet": false,
        "run_control": {
          "read_only": false
        },
        "id": "h2C3YXJ0J5MV"
      }
    },
    {
      "cell_type": "markdown",
      "source": [
        "This notebook is part of a course on **Coursera** called *AI Capstone Project with Deep Learning*. If you accessed this notebook outside the course, you can take this course online by clicking [here](https://cocl.us/DL0321EN_Coursera_Week4_LAB1)."
      ],
      "metadata": {
        "button": false,
        "deletable": true,
        "new_sheet": false,
        "run_control": {
          "read_only": false
        },
        "id": "U_FyuP8MJ5MV"
      }
    },
    {
      "cell_type": "markdown",
      "source": [
        "<hr>\n",
        "\n",
        "Copyright &copy; 2020 [IBM Developer Skills Network](https://cognitiveclass.ai/?utm_source=bducopyrightlink&utm_medium=dswb&utm_campaign=bdu). This notebook and its source code are released under the terms of the [MIT License](https://bigdatauniversity.com/mit-license/)."
      ],
      "metadata": {
        "button": false,
        "deletable": true,
        "new_sheet": false,
        "run_control": {
          "read_only": false
        },
        "id": "Ag_mRYETJ5MV"
      }
    }
  ]
}