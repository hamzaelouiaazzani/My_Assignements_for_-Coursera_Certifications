{
 "cells": [
  {
   "cell_type": "markdown",
   "metadata": {},
   "source": [
    "<img src=\"https://cf-courses-data.s3.us.cloud-object-storage.appdomain.cloud/IBMDeveloperSkillsNetwork-DL0120EN-SkillsNetwork/images/IDSN-logo.png\" width=\"300\" alt=\"cognitiveclass.ai logo\">\n",
    "\n",
    "<h1 align=\"center\"><font size=\"5\">RESTRICTED BOLTZMANN MACHINES</font></h1>\n"
   ]
  },
  {
   "cell_type": "markdown",
   "metadata": {},
   "source": [
    "Estimated time needed: **25** minutes\n"
   ]
  },
  {
   "cell_type": "markdown",
   "metadata": {},
   "source": [
    "<h3>Introduction</h3>\n",
    "<b>Restricted Boltzmann Machine (RBM):</b>  RBMs are shallow neural nets that learn to reconstruct data by themselves in an unsupervised fashion.  \n",
    "\n",
    "\n",
    "<h4>Why are RBMs important?</h4>\n",
    "An RBM are a basic form of autoencoder.  It can automatically extract <b>meaningful</b> features from a given input.\n",
    "\n",
    "\n",
    "<h4>How does it work?</h4>\n",
    "RBM is a 2 layer neural network. Simply, RBM takes the inputs and translates those into a set of binary values that represents them in the hidden layer. Then, these numbers can be translated back to reconstruct the inputs. Through several forward and backward passes, the RBM will be trained, and a trained RBM can reveal which features are the most important ones when detecting patterns.   \n",
    "\n",
    "\n",
    "<h4>What are the applications of an RBM?</h4>\n",
    "RBM is useful for <a href='http://www.cs.utoronto.ca/~hinton/absps/netflixICML.pdf'>  Collaborative Filtering</a>, dimensionality reduction, classification, regression, feature learning, topic modeling and even <b>Deep Belief Networks</b>.\n",
    "\n",
    "<h4>Is RBM a generative or Discriminative model?</h4>\n",
    "RBM is a generative model. Let me explain it by first, see what is different between discriminative and generative models: \n",
    "\n",
    "<b>Discriminative:</b> Consider a classification problem where we want to learn to distinguish between Sedan cars (y = 1) and SUV cars (y = 0), based on some features of cars. Given a training set, an algorithm like logistic regression tries to find a straight line, or <i>decision boundary</i>, that separates the suv and sedan.  \n",
    "\n",
    "<b>Generative:</b> looking at cars, we can build a model of what Sedan cars look like. Then, looking at SUVs, we can build a separate model of what SUV cars look like. Finally, to classify a new car, we can match the new car against the Sedan model, and match it against the SUV model, to see whether the new car looks more like the SUV or Sedan. \n",
    "\n",
    "Generative Models specify a probability distribution over a dataset of input vectors. We can carry out both supervised and unsupervised tasks with generative models:\n",
    "<ul>\n",
    "    <li>In an unsupervised task, we try to form a model for $P(x)$, where $P$ is the probability given $x$ as an input vector.</li>\n",
    "    <li>In the supervised task, we first form a model for $P(x|y)$, where $P$ is the probability of $x$ given $y$(the label for $x$). For example, if $y = 0$ indicates that a car is an SUV, and $y = 1$ indicates that a car is a sedan, then $p(x|y = 0)$ models the distribution of SUV features, and $p(x|y = 1)$ models the distribution of sedan features. If we manage to find $P(x|y)$ and $P(y)$, then we can use <b>Bayes rule</b> to estimate $P(y|x)$, because:   \n",
    "        $$p(y|x) = \\frac{p(x|y)p(y)}{p(x)}$$</li>\n",
    "</ul>\n",
    "Now the question is, can we build a generative model, and then use it to create synthetic data by directly sampling from the modeled probability distributions? Lets see. \n"
   ]
  },
  {
   "cell_type": "markdown",
   "metadata": {},
   "source": [
    "<h2>Table of Contents</h2>\n",
    "<ol>\n",
    "    <li><a href=\"#ref1\">Initialization</a></li>\n",
    "    <li><a href=\"#ref2\">RBM layers</a></li>\n",
    "    <li><a href=\"#ref3\">What RBM can do after training?</a></li>\n",
    "    <li><a href=\"#ref4\">How to train the model?</a></li>\n",
    "    <li><a href=\"#ref5\">Learned features</a></li>\n",
    "</ol>\n",
    "<p></p>\n",
    "</div>\n",
    "<br>\n",
    "\n",
    "<hr>\n"
   ]
  },
  {
   "cell_type": "markdown",
   "metadata": {},
   "source": [
    "<a id=\"ref1\"></a>\n",
    "<h3>Initialization</h3>\n",
    "\n",
    "First, we have to load the utility file which contains different utility functions that are not connected\n",
    "in any way to the networks presented in the tutorials, but rather help in\n",
    "processing the outputs into a more understandable way.\n"
   ]
  },
  {
   "cell_type": "code",
   "execution_count": 1,
   "metadata": {
    "tags": []
   },
   "outputs": [],
   "source": [
    "import urllib.request\n",
    "with urllib.request.urlopen(\"https://cf-courses-data.s3.us.cloud-object-storage.appdomain.cloud/IBMDeveloperSkillsNetwork-DL0120EN-SkillsNetwork/labs/Week4/data/utils.py\") as url:\n",
    "    response = url.read()\n",
    "target = open('utils.py', 'w')\n",
    "target.write(response.decode('utf-8'))\n",
    "target.close()"
   ]
  },
  {
   "cell_type": "markdown",
   "metadata": {},
   "source": [
    "<h2>Installing TensorFlow </h2>\n",
    "\n",
    "We will installing TensorFlow version 2.9.0 and its required prerequistes.  Also installing pillow...\n"
   ]
  },
  {
   "cell_type": "code",
   "execution_count": 2,
   "metadata": {
    "tags": []
   },
   "outputs": [
    {
     "name": "stdout",
     "output_type": "stream",
     "text": [
      "Collecting grpcio==1.24.3\n",
      "  Downloading grpcio-1.24.3-cp37-cp37m-manylinux2010_x86_64.whl (2.2 MB)\n",
      "\u001b[2K     \u001b[90m━━━━━━━━━━━━━━━━━━━━━━━━━━━━━━━━━━━━━━━━\u001b[0m \u001b[32m2.2/2.2 MB\u001b[0m \u001b[31m37.7 MB/s\u001b[0m eta \u001b[36m0:00:00\u001b[0ma \u001b[36m0:00:01\u001b[0m\n",
      "\u001b[?25hRequirement already satisfied: six>=1.5.2 in /home/jupyterlab/conda/envs/python/lib/python3.7/site-packages (from grpcio==1.24.3) (1.16.0)\n",
      "Installing collected packages: grpcio\n",
      "  Attempting uninstall: grpcio\n",
      "    Found existing installation: grpcio 1.48.1\n",
      "    Uninstalling grpcio-1.48.1:\n",
      "      Successfully uninstalled grpcio-1.48.1\n",
      "Successfully installed grpcio-1.24.3\n",
      "Collecting tensorflow==2.9.0\n",
      "  Downloading tensorflow-2.9.0-cp37-cp37m-manylinux_2_17_x86_64.manylinux2014_x86_64.whl (511.7 MB)\n",
      "\u001b[2K     \u001b[90m━━━━━━━━━━━━━━━━━━━━━━━━━━━━━━━━━━━━━\u001b[0m \u001b[32m511.7/511.7 MB\u001b[0m \u001b[31m807.8 kB/s\u001b[0m eta \u001b[36m0:00:00\u001b[0m00:01\u001b[0m00:01\u001b[0m\n",
      "\u001b[?25hRequirement already satisfied: absl-py>=1.0.0 in /home/jupyterlab/conda/envs/python/lib/python3.7/site-packages (from tensorflow==2.9.0) (1.4.0)\n",
      "Collecting astunparse>=1.6.0 (from tensorflow==2.9.0)\n",
      "  Downloading astunparse-1.6.3-py2.py3-none-any.whl (12 kB)\n",
      "Collecting flatbuffers<2,>=1.12 (from tensorflow==2.9.0)\n",
      "  Downloading flatbuffers-1.12-py2.py3-none-any.whl (15 kB)\n",
      "Collecting gast<=0.4.0,>=0.2.1 (from tensorflow==2.9.0)\n",
      "  Downloading gast-0.4.0-py3-none-any.whl (9.8 kB)\n",
      "Requirement already satisfied: google-pasta>=0.1.1 in /home/jupyterlab/conda/envs/python/lib/python3.7/site-packages (from tensorflow==2.9.0) (0.2.0)\n",
      "Requirement already satisfied: grpcio<2.0,>=1.24.3 in /home/jupyterlab/conda/envs/python/lib/python3.7/site-packages (from tensorflow==2.9.0) (1.24.3)\n",
      "Collecting h5py>=2.9.0 (from tensorflow==2.9.0)\n",
      "  Downloading h5py-3.8.0-cp37-cp37m-manylinux_2_17_x86_64.manylinux2014_x86_64.whl (4.3 MB)\n",
      "\u001b[2K     \u001b[90m━━━━━━━━━━━━━━━━━━━━━━━━━━━━━━━━━━━━━━━━\u001b[0m \u001b[32m4.3/4.3 MB\u001b[0m \u001b[31m58.0 MB/s\u001b[0m eta \u001b[36m0:00:00\u001b[0m:00:01\u001b[0m\n",
      "\u001b[?25hCollecting keras<2.10.0,>=2.9.0rc0 (from tensorflow==2.9.0)\n",
      "  Downloading keras-2.9.0-py2.py3-none-any.whl (1.6 MB)\n",
      "\u001b[2K     \u001b[90m━━━━━━━━━━━━━━━━━━━━━━━━━━━━━━━━━━━━━━━━\u001b[0m \u001b[32m1.6/1.6 MB\u001b[0m \u001b[31m39.1 MB/s\u001b[0m eta \u001b[36m0:00:00\u001b[0m:00:01\u001b[0m\n",
      "\u001b[?25hRequirement already satisfied: keras-preprocessing>=1.1.1 in /home/jupyterlab/conda/envs/python/lib/python3.7/site-packages (from tensorflow==2.9.0) (1.1.2)\n",
      "Collecting libclang>=13.0.0 (from tensorflow==2.9.0)\n",
      "  Downloading libclang-16.0.6-py2.py3-none-manylinux2010_x86_64.whl (22.9 MB)\n",
      "\u001b[2K     \u001b[90m━━━━━━━━━━━━━━━━━━━━━━━━━━━━━━━━━━━━━━━━\u001b[0m \u001b[32m22.9/22.9 MB\u001b[0m \u001b[31m40.8 MB/s\u001b[0m eta \u001b[36m0:00:00\u001b[0m00:01\u001b[0m00:01\u001b[0m\n",
      "\u001b[?25hRequirement already satisfied: numpy>=1.20 in /home/jupyterlab/conda/envs/python/lib/python3.7/site-packages (from tensorflow==2.9.0) (1.21.6)\n",
      "Collecting opt-einsum>=2.3.2 (from tensorflow==2.9.0)\n",
      "  Downloading opt_einsum-3.3.0-py3-none-any.whl (65 kB)\n",
      "\u001b[2K     \u001b[90m━━━━━━━━━━━━━━━━━━━━━━━━━━━━━━━━━━━━━━━━\u001b[0m \u001b[32m65.5/65.5 kB\u001b[0m \u001b[31m7.0 MB/s\u001b[0m eta \u001b[36m0:00:00\u001b[0m\n",
      "\u001b[?25hRequirement already satisfied: packaging in /home/jupyterlab/conda/envs/python/lib/python3.7/site-packages (from tensorflow==2.9.0) (23.1)\n",
      "Requirement already satisfied: protobuf>=3.9.2 in /home/jupyterlab/conda/envs/python/lib/python3.7/site-packages (from tensorflow==2.9.0) (4.21.8)\n",
      "Requirement already satisfied: setuptools in /home/jupyterlab/conda/envs/python/lib/python3.7/site-packages (from tensorflow==2.9.0) (67.7.2)\n",
      "Requirement already satisfied: six>=1.12.0 in /home/jupyterlab/conda/envs/python/lib/python3.7/site-packages (from tensorflow==2.9.0) (1.16.0)\n",
      "Collecting tensorboard<2.10,>=2.9 (from tensorflow==2.9.0)\n",
      "  Downloading tensorboard-2.9.1-py3-none-any.whl (5.8 MB)\n",
      "\u001b[2K     \u001b[90m━━━━━━━━━━━━━━━━━━━━━━━━━━━━━━━━━━━━━━━━\u001b[0m \u001b[32m5.8/5.8 MB\u001b[0m \u001b[31m50.7 MB/s\u001b[0m eta \u001b[36m0:00:00\u001b[0m:00:01\u001b[0m00:01\u001b[0m\n",
      "\u001b[?25hCollecting tensorflow-io-gcs-filesystem>=0.23.1 (from tensorflow==2.9.0)\n",
      "  Downloading tensorflow_io_gcs_filesystem-0.34.0-cp37-cp37m-manylinux_2_12_x86_64.manylinux2010_x86_64.whl (2.4 MB)\n",
      "\u001b[2K     \u001b[90m━━━━━━━━━━━━━━━━━━━━━━━━━━━━━━━━━━━━━━━━\u001b[0m \u001b[32m2.4/2.4 MB\u001b[0m \u001b[31m65.1 MB/s\u001b[0m eta \u001b[36m0:00:00\u001b[0m:00:01\u001b[0m\n",
      "\u001b[?25hCollecting tensorflow-estimator<2.10.0,>=2.9.0rc0 (from tensorflow==2.9.0)\n",
      "  Downloading tensorflow_estimator-2.9.0-py2.py3-none-any.whl (438 kB)\n",
      "\u001b[2K     \u001b[90m━━━━━━━━━━━━━━━━━━━━━━━━━━━━━━━━━━━━━━\u001b[0m \u001b[32m438.7/438.7 kB\u001b[0m \u001b[31m52.8 MB/s\u001b[0m eta \u001b[36m0:00:00\u001b[0m\n",
      "\u001b[?25hRequirement already satisfied: termcolor>=1.1.0 in /home/jupyterlab/conda/envs/python/lib/python3.7/site-packages (from tensorflow==2.9.0) (2.3.0)\n",
      "Requirement already satisfied: typing-extensions>=3.6.6 in /home/jupyterlab/conda/envs/python/lib/python3.7/site-packages (from tensorflow==2.9.0) (4.5.0)\n",
      "Requirement already satisfied: wrapt>=1.11.0 in /home/jupyterlab/conda/envs/python/lib/python3.7/site-packages (from tensorflow==2.9.0) (1.14.1)\n",
      "Requirement already satisfied: wheel<1.0,>=0.23.0 in /home/jupyterlab/conda/envs/python/lib/python3.7/site-packages (from astunparse>=1.6.0->tensorflow==2.9.0) (0.40.0)\n",
      "Collecting google-auth<3,>=1.6.3 (from tensorboard<2.10,>=2.9->tensorflow==2.9.0)\n",
      "  Downloading google_auth-2.26.1-py2.py3-none-any.whl (186 kB)\n",
      "\u001b[2K     \u001b[90m━━━━━━━━━━━━━━━━━━━━━━━━━━━━━━━━━━━━━━\u001b[0m \u001b[32m186.4/186.4 kB\u001b[0m \u001b[31m22.8 MB/s\u001b[0m eta \u001b[36m0:00:00\u001b[0m\n",
      "\u001b[?25hCollecting google-auth-oauthlib<0.5,>=0.4.1 (from tensorboard<2.10,>=2.9->tensorflow==2.9.0)\n",
      "  Downloading google_auth_oauthlib-0.4.6-py2.py3-none-any.whl (18 kB)\n",
      "Requirement already satisfied: markdown>=2.6.8 in /home/jupyterlab/conda/envs/python/lib/python3.7/site-packages (from tensorboard<2.10,>=2.9->tensorflow==2.9.0) (3.4.3)\n",
      "Collecting protobuf>=3.9.2 (from tensorflow==2.9.0)\n",
      "  Downloading protobuf-3.19.6-cp37-cp37m-manylinux_2_17_x86_64.manylinux2014_x86_64.whl (1.1 MB)\n",
      "\u001b[2K     \u001b[90m━━━━━━━━━━━━━━━━━━━━━━━━━━━━━━━━━━━━━━━━\u001b[0m \u001b[32m1.1/1.1 MB\u001b[0m \u001b[31m29.0 MB/s\u001b[0m eta \u001b[36m0:00:00\u001b[0m:00:01\u001b[0m\n",
      "\u001b[?25hRequirement already satisfied: requests<3,>=2.21.0 in /home/jupyterlab/conda/envs/python/lib/python3.7/site-packages (from tensorboard<2.10,>=2.9->tensorflow==2.9.0) (2.29.0)\n",
      "Collecting tensorboard-data-server<0.7.0,>=0.6.0 (from tensorboard<2.10,>=2.9->tensorflow==2.9.0)\n",
      "  Downloading tensorboard_data_server-0.6.1-py3-none-manylinux2010_x86_64.whl (4.9 MB)\n",
      "\u001b[2K     \u001b[90m━━━━━━━━━━━━━━━━━━━━━━━━━━━━━━━━━━━━━━━━\u001b[0m \u001b[32m4.9/4.9 MB\u001b[0m \u001b[31m66.5 MB/s\u001b[0m eta \u001b[36m0:00:00\u001b[0m:00:01\u001b[0m00:01\u001b[0m\n",
      "\u001b[?25hCollecting tensorboard-plugin-wit>=1.6.0 (from tensorboard<2.10,>=2.9->tensorflow==2.9.0)\n",
      "  Downloading tensorboard_plugin_wit-1.8.1-py3-none-any.whl (781 kB)\n",
      "\u001b[2K     \u001b[90m━━━━━━━━━━━━━━━━━━━━━━━━━━━━━━━━━━━━━━\u001b[0m \u001b[32m781.3/781.3 kB\u001b[0m \u001b[31m72.2 MB/s\u001b[0m eta \u001b[36m0:00:00\u001b[0m\n",
      "\u001b[?25hRequirement already satisfied: werkzeug>=1.0.1 in /home/jupyterlab/conda/envs/python/lib/python3.7/site-packages (from tensorboard<2.10,>=2.9->tensorflow==2.9.0) (2.2.3)\n",
      "Collecting cachetools<6.0,>=2.0.0 (from google-auth<3,>=1.6.3->tensorboard<2.10,>=2.9->tensorflow==2.9.0)\n",
      "  Downloading cachetools-5.3.2-py3-none-any.whl (9.3 kB)\n",
      "Requirement already satisfied: pyasn1-modules>=0.2.1 in /home/jupyterlab/conda/envs/python/lib/python3.7/site-packages (from google-auth<3,>=1.6.3->tensorboard<2.10,>=2.9->tensorflow==2.9.0) (0.3.0)\n",
      "Collecting rsa<5,>=3.1.4 (from google-auth<3,>=1.6.3->tensorboard<2.10,>=2.9->tensorflow==2.9.0)\n",
      "  Downloading rsa-4.9-py3-none-any.whl (34 kB)\n",
      "Collecting requests-oauthlib>=0.7.0 (from google-auth-oauthlib<0.5,>=0.4.1->tensorboard<2.10,>=2.9->tensorflow==2.9.0)\n",
      "  Downloading requests_oauthlib-1.3.1-py2.py3-none-any.whl (23 kB)\n",
      "Requirement already satisfied: importlib-metadata>=4.4 in /home/jupyterlab/conda/envs/python/lib/python3.7/site-packages (from markdown>=2.6.8->tensorboard<2.10,>=2.9->tensorflow==2.9.0) (4.11.4)\n",
      "Requirement already satisfied: charset-normalizer<4,>=2 in /home/jupyterlab/conda/envs/python/lib/python3.7/site-packages (from requests<3,>=2.21.0->tensorboard<2.10,>=2.9->tensorflow==2.9.0) (3.1.0)\n",
      "Requirement already satisfied: idna<4,>=2.5 in /home/jupyterlab/conda/envs/python/lib/python3.7/site-packages (from requests<3,>=2.21.0->tensorboard<2.10,>=2.9->tensorflow==2.9.0) (3.4)\n",
      "Requirement already satisfied: urllib3<1.27,>=1.21.1 in /home/jupyterlab/conda/envs/python/lib/python3.7/site-packages (from requests<3,>=2.21.0->tensorboard<2.10,>=2.9->tensorflow==2.9.0) (1.26.15)\n",
      "Requirement already satisfied: certifi>=2017.4.17 in /home/jupyterlab/conda/envs/python/lib/python3.7/site-packages (from requests<3,>=2.21.0->tensorboard<2.10,>=2.9->tensorflow==2.9.0) (2023.5.7)\n",
      "Requirement already satisfied: MarkupSafe>=2.1.1 in /home/jupyterlab/conda/envs/python/lib/python3.7/site-packages (from werkzeug>=1.0.1->tensorboard<2.10,>=2.9->tensorflow==2.9.0) (2.1.1)\n",
      "Requirement already satisfied: zipp>=0.5 in /home/jupyterlab/conda/envs/python/lib/python3.7/site-packages (from importlib-metadata>=4.4->markdown>=2.6.8->tensorboard<2.10,>=2.9->tensorflow==2.9.0) (3.15.0)\n",
      "Requirement already satisfied: pyasn1<0.6.0,>=0.4.6 in /home/jupyterlab/conda/envs/python/lib/python3.7/site-packages (from pyasn1-modules>=0.2.1->google-auth<3,>=1.6.3->tensorboard<2.10,>=2.9->tensorflow==2.9.0) (0.5.0)\n",
      "Collecting oauthlib>=3.0.0 (from requests-oauthlib>=0.7.0->google-auth-oauthlib<0.5,>=0.4.1->tensorboard<2.10,>=2.9->tensorflow==2.9.0)\n",
      "  Downloading oauthlib-3.2.2-py3-none-any.whl (151 kB)\n",
      "\u001b[2K     \u001b[90m━━━━━━━━━━━━━━━━━━━━━━━━━━━━━━━━━━━━━━\u001b[0m \u001b[32m151.7/151.7 kB\u001b[0m \u001b[31m19.3 MB/s\u001b[0m eta \u001b[36m0:00:00\u001b[0m\n",
      "\u001b[?25hInstalling collected packages: tensorboard-plugin-wit, libclang, keras, flatbuffers, tensorflow-io-gcs-filesystem, tensorflow-estimator, tensorboard-data-server, rsa, protobuf, opt-einsum, oauthlib, h5py, gast, cachetools, astunparse, requests-oauthlib, google-auth, google-auth-oauthlib, tensorboard, tensorflow\n",
      "  Attempting uninstall: keras\n",
      "    Found existing installation: Keras 2.1.6\n",
      "    Uninstalling Keras-2.1.6:\n",
      "      Successfully uninstalled Keras-2.1.6\n",
      "  Attempting uninstall: tensorflow-estimator\n",
      "    Found existing installation: tensorflow-estimator 1.14.0\n",
      "    Uninstalling tensorflow-estimator-1.14.0:\n",
      "      Successfully uninstalled tensorflow-estimator-1.14.0\n",
      "  Attempting uninstall: protobuf\n",
      "    Found existing installation: protobuf 4.21.8\n",
      "    Uninstalling protobuf-4.21.8:\n",
      "      Successfully uninstalled protobuf-4.21.8\n",
      "  Attempting uninstall: h5py\n",
      "    Found existing installation: h5py 2.8.0\n",
      "    Uninstalling h5py-2.8.0:\n",
      "      Successfully uninstalled h5py-2.8.0\n",
      "  Attempting uninstall: gast\n",
      "    Found existing installation: gast 0.5.3\n",
      "    Uninstalling gast-0.5.3:\n",
      "      Successfully uninstalled gast-0.5.3\n",
      "  Attempting uninstall: tensorboard\n",
      "    Found existing installation: tensorboard 1.14.0\n",
      "    Uninstalling tensorboard-1.14.0:\n",
      "      Successfully uninstalled tensorboard-1.14.0\n",
      "  Attempting uninstall: tensorflow\n",
      "    Found existing installation: tensorflow 1.14.0\n",
      "    Uninstalling tensorflow-1.14.0:\n",
      "      Successfully uninstalled tensorflow-1.14.0\n",
      "Successfully installed astunparse-1.6.3 cachetools-5.3.2 flatbuffers-1.12 gast-0.4.0 google-auth-2.26.1 google-auth-oauthlib-0.4.6 h5py-3.8.0 keras-2.9.0 libclang-16.0.6 oauthlib-3.2.2 opt-einsum-3.3.0 protobuf-3.19.6 requests-oauthlib-1.3.1 rsa-4.9 tensorboard-2.9.1 tensorboard-data-server-0.6.1 tensorboard-plugin-wit-1.8.1 tensorflow-2.9.0 tensorflow-estimator-2.9.0 tensorflow-io-gcs-filesystem-0.34.0\n",
      "Requirement already satisfied: pillow==8.1.0 in /home/jupyterlab/conda/envs/python/lib/python3.7/site-packages (8.1.0)\n"
     ]
    }
   ],
   "source": [
    "!pip install grpcio==1.24.3\n",
    "!pip install tensorflow==2.9.0\n",
    "!pip install pillow==8.1.0"
   ]
  },
  {
   "cell_type": "markdown",
   "metadata": {},
   "source": [
    "**Restart kernel for latest version of TensorFlow to be activated, then continue to the next section.**\n"
   ]
  },
  {
   "cell_type": "markdown",
   "metadata": {},
   "source": [
    "<b>Notice:</b> This notebook has been created with TensorFlow version 2.9.0, and might not work with other versions. Therefore we check:\n"
   ]
  },
  {
   "cell_type": "code",
   "execution_count": 3,
   "metadata": {},
   "outputs": [
    {
     "name": "stderr",
     "output_type": "stream",
     "text": [
      "2024-01-07 22:16:05.136756: I tensorflow/core/util/util.cc:169] oneDNN custom operations are on. You may see slightly different numerical results due to floating-point round-off errors from different computation orders. To turn them off, set the environment variable `TF_ENABLE_ONEDNN_OPTS=0`.\n",
      "2024-01-07 22:16:05.144136: W tensorflow/stream_executor/platform/default/dso_loader.cc:64] Could not load dynamic library 'libcudart.so.11.0'; dlerror: libcudart.so.11.0: cannot open shared object file: No such file or directory\n",
      "2024-01-07 22:16:05.144169: I tensorflow/stream_executor/cuda/cudart_stub.cc:29] Ignore above cudart dlerror if you do not have a GPU set up on your machine.\n"
     ]
    }
   ],
   "source": [
    "import tensorflow as tf\n",
    "from IPython.display import Markdown, display\n",
    "\n",
    "def printmd(string):\n",
    "    display(Markdown('# <span style=\"color:red\">'+string+'</span>'))\n",
    "\n",
    "\n",
    "if not tf.__version__ == '2.9.0':\n",
    "    printmd('<<<<<!!!!! ERROR !!!! please upgrade to TensorFlow 2.9.0, or restart your Kernel (Kernel->Restart & Clear Output)>>>>>')"
   ]
  },
  {
   "cell_type": "code",
   "execution_count": 4,
   "metadata": {
    "tags": []
   },
   "outputs": [
    {
     "name": "stdout",
     "output_type": "stream",
     "text": [
      "ML0120EN-4.1-Review-RBMMNIST.ipynb  \u001b[0m\u001b[01;34m__pycache__\u001b[0m/  utils.py\n"
     ]
    }
   ],
   "source": [
    "ls"
   ]
  },
  {
   "cell_type": "markdown",
   "metadata": {},
   "source": [
    "Now, we load in all the packages that we use to create the net including the TensorFlow package:\n"
   ]
  },
  {
   "cell_type": "code",
   "execution_count": 5,
   "metadata": {},
   "outputs": [],
   "source": [
    "import tensorflow as tf\n",
    "import numpy as np\n",
    "\n",
    "from PIL import Image\n",
    "from utils import tile_raster_images\n",
    "import matplotlib.pyplot as plt\n",
    "%matplotlib inline"
   ]
  },
  {
   "cell_type": "markdown",
   "metadata": {},
   "source": [
    "<hr>\n"
   ]
  },
  {
   "cell_type": "markdown",
   "metadata": {},
   "source": [
    "<a id=\"ref2\"></a>\n",
    "<h3>RBM layers</h3>\n",
    "\n",
    "An RBM has two layers. The first layer of the RBM is called the <b>visible</b> (or input layer). Imagine that our toy example, has only vectors with 7 values, so the visible layer must have $V=7$ input nodes. \n",
    "The second layer is the <b>hidden</b> layer, which has $H$ neurons in our case. Each hidden node takes on values of either 0 or 1 (i.e., $h_i = 1$ or $h_i$ = 0), with a probability that is a logistic function of the inputs it receives from the other $V$ visible units, called for example, $p(h_i = 1)$. For our toy sample, we'll use 2 nodes in the hidden layer, so $H = 2$.\n",
    "\n",
    "<center><img src=\"https://ibm.box.com/shared/static/eu26opvcefgls6vnwuo29uwp0nudmokh.png\" alt=\"RBM Model\" style=\"width: 400px;\"></center>\n"
   ]
  },
  {
   "cell_type": "markdown",
   "metadata": {},
   "source": [
    "     \n",
    "\n",
    "Each node in the first layer also has a <b>bias</b>. We will denote the bias as $v_{bias}$, and this single value is shared among the $V$ visible units.\n",
    "\n",
    "The <b>bias</b> of the second is defined similarly as $h_{bias}$, and this single value among the $H$ hidden units.\n"
   ]
  },
  {
   "cell_type": "code",
   "execution_count": 6,
   "metadata": {},
   "outputs": [
    {
     "name": "stderr",
     "output_type": "stream",
     "text": [
      "2024-01-07 22:16:10.022687: W tensorflow/stream_executor/platform/default/dso_loader.cc:64] Could not load dynamic library 'libcuda.so.1'; dlerror: libcuda.so.1: cannot open shared object file: No such file or directory\n",
      "2024-01-07 22:16:10.022773: W tensorflow/stream_executor/cuda/cuda_driver.cc:269] failed call to cuInit: UNKNOWN ERROR (303)\n",
      "2024-01-07 22:16:10.022824: I tensorflow/stream_executor/cuda/cuda_diagnostics.cc:156] kernel driver does not appear to be running on this host (jupyterlab-hamzaelouiaa): /proc/driver/nvidia/version does not exist\n",
      "2024-01-07 22:16:10.023781: I tensorflow/core/platform/cpu_feature_guard.cc:193] This TensorFlow binary is optimized with oneAPI Deep Neural Network Library (oneDNN) to use the following CPU instructions in performance-critical operations:  AVX2 AVX512F AVX512_VNNI FMA\n",
      "To enable them in other operations, rebuild TensorFlow with the appropriate compiler flags.\n"
     ]
    }
   ],
   "source": [
    "v_bias = tf.Variable(tf.zeros([7]), tf.float32)\n",
    "h_bias = tf.Variable(tf.zeros([2]), tf.float32)"
   ]
  },
  {
   "cell_type": "markdown",
   "metadata": {},
   "source": [
    "We have to define weights among the input layer and hidden layer nodes. In the weight matrix, the number of rows are equal to the input nodes, and the number of columns are equal to the output nodes. We define a tensor $\\mathbf{W}$ of shape = (7,2), where the number of visible neurons = 7, and the number of hidden neurons = 2. \n"
   ]
  },
  {
   "cell_type": "code",
   "execution_count": 7,
   "metadata": {},
   "outputs": [],
   "source": [
    "W = tf.constant(np.random.normal(loc=0.0, scale=1.0, size=(7, 2)).astype(np.float32))"
   ]
  },
  {
   "cell_type": "markdown",
   "metadata": {},
   "source": [
    "<hr>\n"
   ]
  },
  {
   "cell_type": "markdown",
   "metadata": {},
   "source": [
    "<a id=\"ref3\"></a>\n",
    "<h3>What RBM can do after training?</h3>\n",
    "Think of RBM as a model that has been trained based on images of a dataset of many SUV and sedan cars. Also, imagine that the RBM network has only two hidden nodes, where one node encodes the weight and, and the other encodes the size.  \n",
    "In a sense, the different configurations represent different cars, where one is an SUV and the other is Sedan.  In a training process, through many forward and backward passes, the RBM adjust its weights to send a stronger signal to either the SUV node (0, 1) or the sedan node (1, 0) in the hidden layer, given the pixels of images. Now, given an SUV in hidden layer, which distribution of pixels should we expect? RBM can give you 2 things. First, it encodes your images in hidden layer. Second, it gives you the probability of observing a case, given some hidden values.\n",
    "\n",
    "\n",
    "<h3>The Inference Process</h3>\n",
    "\n",
    "RBM has two phases:\n",
    "<ul>\n",
    "    <li>Forward Pass</li>  \n",
    "    <li>Backward Pass or Reconstruction</li>\n",
    "</ul>\n",
    "\n",
    "<b>Phase 1) Forward pass:</b>  \n",
    "\n",
    "Input one training sample (one image) $\\mathbf{x}$ through all visible nodes, and pass it to all hidden nodes. Processing happens in each node in the hidden layer. This computation begins by making stochastic decisions about whether to transmit that input or not (i.e. to determine the state of each hidden layer).  First, the probability vector is computed using the input feature vector $\\mathbf{x}$, the weight matrix $\\mathbf{W}$, and the bias term $h_{bias}$, as \n",
    "\n",
    "\n",
    "$$p({h_j}|\\mathbf x)= \\sigma( \\sum_{i=1}^V W_{ij} x_i + h_{bias} )$$, \n",
    "\n",
    "where $\\sigma(z) = (1+e^{-z})^{-1}$ is the logistic function.\n",
    "\n",
    "\n",
    "So, what does $p({h_j})$ represent? It is the <b>probability distribution</b> of the hidden units. That is, RBM uses inputs $x_i$ to make predictions about hidden node activations. For example, imagine that the hidden node activation values are [0.51 0.84] for the first training item. It tells you that the conditional probability for each hidden neuron for Phase 1 is: \n",
    "\n",
    "$$p(h_{1} = 1|\\mathbf{v}) = 0.51$$\n",
    "$$p(h_{2} = 1|\\mathbf{v}) = 0.84$$\n",
    "\n",
    "As a result, for each row in the training set, vector of probabilities is generated.  In TensorFlow, this is referred to as a `tensor` with a shape of (1,2). \n",
    "\n",
    "We then turn unit $j$ with probability $p(h_{j}|\\mathbf{v})$, and turn it off with probability $1 - p(h_{j}|\\mathbf{v})$ by generating a uniform random number vector $\\mathbf{\\xi}$, and comparing it to the activation probability as \n",
    "\n",
    "<center>If $\\xi_j>p(h_{j}|\\mathbf{v})$, then $h_j=1$, else $h_j=0$.</center>\n",
    "\n",
    "\n",
    "Therefore, the conditional probability of a configuration of $\\mathbf{h}$ given $\\mathbf{v}$ (for a training sample) is:\n",
    "\n",
    "$$p(\\mathbf{h} \\mid \\mathbf{v}) = \\prod_{j=1}^H p(h_j \\mid \\mathbf{v})$$\n",
    "\n",
    "\n",
    "where $H$ is the number of hidden units.\n",
    "\n"
   ]
  },
  {
   "cell_type": "markdown",
   "metadata": {},
   "source": [
    "Before we go further, let's look at a toy example for one case out of all input. Assume that we have a trained RBM, and a very simple input vector, such as [1.0, 0.0, 0.0, 1.0, 0.0, 0.0, 0.0].   \n",
    "Let's see what the output of forward pass would look like:\n"
   ]
  },
  {
   "cell_type": "code",
   "execution_count": 8,
   "metadata": {},
   "outputs": [
    {
     "name": "stdout",
     "output_type": "stream",
     "text": [
      "p(h|v):  tf.Tensor([[0.39236397 0.39189684]], shape=(1, 2), dtype=float32)\n",
      "sample is:  tf.Tensor([[0.7721571 0.8641912]], shape=(1, 2), dtype=float32)\n",
      "difference h_prob - sample is  tf.Tensor([[-0.3797931  -0.47229433]], shape=(1, 2), dtype=float32)\n",
      "sign of the difference is:  tf.Tensor([[-1. -1.]], shape=(1, 2), dtype=float32)\n",
      "h0 states: tf.Tensor([[0. 0.]], shape=(1, 2), dtype=float32)\n"
     ]
    }
   ],
   "source": [
    "X = tf.constant([[1.0, 0.0, 0.0, 1.0, 0.0, 0.0, 0.0]], tf.float32)\n",
    "\n",
    "v_state = X\n",
    "# print (\"Input: \", v_state)\n",
    "\n",
    "h_bias = tf.constant([0.1, 0.1])\n",
    "# print (\"hb: \", h_bias)\n",
    "# print (\"w: \", W)\n",
    "\n",
    "# Calculate the probabilities of turning the hidden units on:\n",
    "h_prob = tf.nn.sigmoid(tf.matmul(v_state, W) + h_bias)  #probabilities of the hidden units\n",
    "print (\"p(h|v): \", h_prob)\n",
    "\n",
    "# Draw samples from the distribution:\n",
    "sample =  tf.random.uniform(tf.shape(h_prob))\n",
    "print(\"sample is: \" , sample)\n",
    "print(\"difference h_prob - sample is \" , h_prob - sample)\n",
    "print(\"sign of the difference is: \" , tf.sign(h_prob - sample))\n",
    "h_state = tf.nn.relu(tf.sign(h_prob - sample)) #states\n",
    "print (\"h0 states:\", h_state)"
   ]
  },
  {
   "cell_type": "markdown",
   "metadata": {},
   "source": [
    "<b>Phase 2) Backward Pass (Reconstruction):</b>\n",
    "The RBM reconstructs data by making several forward and backward passes between the visible and hidden layers.\n",
    "\n",
    "So, in the second phase (i.e. reconstruction phase), the samples from the hidden layer (i.e. $\\mathbf h$) becomes the input in the backward pass. The same weight matrix and visible layer biases are used to passed to the sigmoid function. The reproduced output is a reconstruction which is an approximation of the original input.\n"
   ]
  },
  {
   "cell_type": "code",
   "execution_count": 9,
   "metadata": {},
   "outputs": [
    {
     "name": "stdout",
     "output_type": "stream",
     "text": [
      "b:  tf.Tensor([0.1 0.2 0.1 0.1 0.1 0.2 0.1], shape=(7,), dtype=float32)\n",
      "p(vi∣h):  tf.Tensor([[0.5249792 0.549834  0.5249792 0.5249792 0.5249792 0.549834  0.5249792]], shape=(1, 7), dtype=float32)\n",
      "v probability states:  tf.Tensor([[0. 1. 1. 0. 1. 1. 1.]], shape=(1, 7), dtype=float32)\n"
     ]
    }
   ],
   "source": [
    "vb = tf.constant([0.1, 0.2, 0.1, 0.1, 0.1, 0.2, 0.1])\n",
    "print (\"b: \", vb)\n",
    "v_prob = tf.nn.sigmoid(tf.matmul(h_state, tf.transpose(W)) + vb)\n",
    "print (\"p(vi∣h): \", v_prob)\n",
    "v_state = tf.nn.relu(tf.sign(v_prob - tf.random.uniform(tf.shape(v_prob))))\n",
    "print (\"v probability states: \", v_state)"
   ]
  },
  {
   "cell_type": "markdown",
   "metadata": {},
   "source": [
    "RBM learns a probability distribution over the input, and then, after being trained, the RBM can generate new samples from the learned probability distribution. As you know, <b>probability distribution</b>, is a mathematical function that provides the probabilities of occurrence of different possible outcomes in an experiment.\n",
    "\n",
    "The (conditional) probability distribution over the visible units v is given by\n",
    "\n",
    "$$p(\\mathbf{v} \\mid \\mathbf{h}) = \\prod_{i=1}^V p(v_i \\mid \\mathbf{h}),$$\n",
    "\n",
    "\n",
    "where,\n",
    "\n",
    "$$p(v_i \\mid \\mathbf{h}) = \\sigma\\left(\\sum_{j=1}^H W_{ji} h_j + v_{bias} \\right)$$\n",
    "\n",
    "so, given current state of hidden units and weights, what is the probability of generating [1. 0. 0. 1. 0. 0. 0.] in reconstruction phase, based on the above <b>probability distribution</b> function?\n"
   ]
  },
  {
   "cell_type": "code",
   "execution_count": 10,
   "metadata": {},
   "outputs": [
    {
     "name": "stdout",
     "output_type": "stream",
     "text": [
      "input X: [[1. 0. 0. 1. 0. 0. 0.]]\n",
      "probablity vector: [0.5249792 0.549834  0.5249792 0.5249792 0.5249792 0.549834  0.5249792]\n",
      "probability of generating X:  0.005986424\n"
     ]
    }
   ],
   "source": [
    "inp = X\n",
    "print(\"input X:\" , inp.numpy())\n",
    "\n",
    "print(\"probablity vector:\" , v_prob[0].numpy())\n",
    "v_probability = 1\n",
    "\n",
    "for elm, p in zip(inp[0],v_prob[0]) :\n",
    "    if elm ==1:\n",
    "        v_probability *= p\n",
    "    else:\n",
    "        v_probability *= (1-p)\n",
    "\n",
    "print(\"probability of generating X: \" , v_probability.numpy())"
   ]
  },
  {
   "cell_type": "markdown",
   "metadata": {},
   "source": [
    "How similar are vectors $\\mathbf{x}$ and $\\mathbf{v}$? Of course, the reconstructed values most likely will not look anything like the input vector, because our network has not been trained yet. Our objective is to train the model in such a way that the input vector and reconstructed vector to be same. Therefore, based on how different the input values look to the ones that we just reconstructed, the weights are adjusted. \n"
   ]
  },
  {
   "cell_type": "markdown",
   "metadata": {},
   "source": [
    "<hr>\n"
   ]
  },
  {
   "cell_type": "markdown",
   "metadata": {},
   "source": [
    "\n",
    "<h2>MNIST</h2>\n"
   ]
  },
  {
   "cell_type": "markdown",
   "metadata": {},
   "source": [
    "We will be using the MNIST dataset to practice the usage of RBMs. The following cell loads the MNIST dataset.\n"
   ]
  },
  {
   "cell_type": "code",
   "execution_count": 11,
   "metadata": {},
   "outputs": [
    {
     "name": "stdout",
     "output_type": "stream",
     "text": [
      "Downloading data from https://storage.googleapis.com/tensorflow/tf-keras-datasets/mnist.npz\n",
      "11490434/11490434 [==============================] - 0s 0us/step\n"
     ]
    }
   ],
   "source": [
    "#loading training and test data\n",
    "mnist = tf.keras.datasets.mnist\n",
    "(trX, trY), (teX, teY) = mnist.load_data()\n",
    "\n",
    "# showing an example of the Flatten class and operation\n",
    "from tensorflow.keras.layers import Flatten\n",
    "flatten = Flatten(dtype='float32')\n",
    "trX = flatten(trX/255.0)\n",
    "trY = flatten(trY/255.0)"
   ]
  },
  {
   "cell_type": "markdown",
   "metadata": {},
   "source": [
    "Lets look at the dimension of the images.\n"
   ]
  },
  {
   "cell_type": "markdown",
   "metadata": {},
   "source": [
    "MNIST images have 784 pixels, so the visible layer must have 784 input nodes.  For our case, we'll use 50 nodes in the hidden layer, so i = 50.\n"
   ]
  },
  {
   "cell_type": "code",
   "execution_count": 12,
   "metadata": {},
   "outputs": [],
   "source": [
    "vb = tf.Variable(tf.zeros([784]), tf.float32)\n",
    "hb = tf.Variable(tf.zeros([50]), tf.float32)"
   ]
  },
  {
   "cell_type": "markdown",
   "metadata": {},
   "source": [
    "Let $\\mathbf W$ be the Tensor of 784x50 (784 - number of visible neurons, 50 - number of hidden neurons) that represents weights between the neurons. \n"
   ]
  },
  {
   "cell_type": "code",
   "execution_count": 13,
   "metadata": {},
   "outputs": [],
   "source": [
    "W = tf.Variable(tf.zeros([784,50]), tf.float32)"
   ]
  },
  {
   "cell_type": "markdown",
   "metadata": {},
   "source": [
    "Lets define the visible layer:\n"
   ]
  },
  {
   "cell_type": "code",
   "execution_count": 14,
   "metadata": {},
   "outputs": [
    {
     "data": {
      "text/plain": [
       "<tf.Tensor: shape=(1, 50), dtype=float32, numpy=\n",
       "array([[0., 0., 0., 0., 0., 0., 0., 0., 0., 0., 0., 0., 0., 0., 0., 0.,\n",
       "        0., 0., 0., 0., 0., 0., 0., 0., 0., 0., 0., 0., 0., 0., 0., 0.,\n",
       "        0., 0., 0., 0., 0., 0., 0., 0., 0., 0., 0., 0., 0., 0., 0., 0.,\n",
       "        0., 0.]], dtype=float32)>"
      ]
     },
     "execution_count": 14,
     "metadata": {},
     "output_type": "execute_result"
    }
   ],
   "source": [
    "v0_state = tf.Variable(tf.zeros([784]), tf.float32)\n",
    "\n",
    "#testing to see if the matrix product works\n",
    "tf.matmul( [v0_state], W)"
   ]
  },
  {
   "cell_type": "markdown",
   "metadata": {},
   "source": [
    "Now, we can define hidden layer:\n"
   ]
  },
  {
   "cell_type": "code",
   "execution_count": 15,
   "metadata": {},
   "outputs": [
    {
     "name": "stdout",
     "output_type": "stream",
     "text": [
      "h0_state shape:  tf.Tensor([ 1 50], shape=(2,), dtype=int32)\n",
      "first 15 hidden states:  tf.Tensor([0. 1. 0. 1. 1. 1. 0. 1. 1. 0. 0. 1. 0. 0. 0.], shape=(15,), dtype=float32)\n"
     ]
    }
   ],
   "source": [
    "#computing the hidden nodes probability vector and checking shape\n",
    "h0_prob = tf.nn.sigmoid(tf.matmul([v0_state], W) + hb)  #probabilities of the hidden units\n",
    "print(\"h0_state shape: \" , tf.shape(h0_prob))\n",
    "\n",
    "#defining a function to return only the generated hidden states \n",
    "def hidden_layer(v0_state, W, hb):\n",
    "    h0_prob = tf.nn.sigmoid(tf.matmul([v0_state], W) + hb)  #probabilities of the hidden units\n",
    "    h0_state = tf.nn.relu(tf.sign(h0_prob - tf.random.uniform(tf.shape(h0_prob)))) #sample_h_given_X\n",
    "    return h0_state\n",
    "\n",
    "\n",
    "h0_state = hidden_layer(v0_state, W, hb)\n",
    "print(\"first 15 hidden states: \", h0_state[0][0:15])"
   ]
  },
  {
   "cell_type": "markdown",
   "metadata": {},
   "source": [
    "Now, we define reconstruction part:\n"
   ]
  },
  {
   "cell_type": "code",
   "execution_count": 16,
   "metadata": {},
   "outputs": [
    {
     "name": "stdout",
     "output_type": "stream",
     "text": [
      "hidden state shape:  (1, 50)\n",
      "v0 state shape:   (784,)\n",
      "v1 state shape:   (784,)\n"
     ]
    }
   ],
   "source": [
    "def reconstructed_output(h0_state, W, vb):\n",
    "    v1_prob = tf.nn.sigmoid(tf.matmul(h0_state, tf.transpose(W)) + vb) \n",
    "    v1_state = tf.nn.relu(tf.sign(v1_prob - tf.random.uniform(tf.shape(v1_prob)))) #sample_v_given_h\n",
    "    return v1_state[0]\n",
    "\n",
    "v1_state = reconstructed_output(h0_state, W, vb)\n",
    "print(\"hidden state shape: \", h0_state.shape)\n",
    "print(\"v0 state shape:  \", v0_state.shape)\n",
    "print(\"v1 state shape:  \", v1_state.shape)"
   ]
  },
  {
   "cell_type": "markdown",
   "metadata": {},
   "source": [
    "<h3>What is the objective function?</h3>\n",
    "\n",
    "<b>Goal</b>: Maximize the likelihood of our data being drawn from that distribution\n",
    "\n",
    "<b>Calculate error:</b>  \n",
    "In each epoch, we compute the \"error\" as a sum of the squared difference between step 1 and step n,\n",
    "e.g the error shows the difference between the data and its reconstruction.\n",
    "\n",
    "<b>Note:</b> tf.reduce_mean computes the mean of elements across dimensions of a tensor.\n"
   ]
  },
  {
   "cell_type": "code",
   "execution_count": 17,
   "metadata": {},
   "outputs": [
    {
     "name": "stdout",
     "output_type": "stream",
     "text": [
      "error 0.50382656\n"
     ]
    }
   ],
   "source": [
    "def error(v0_state, v1_state):\n",
    "    return tf.reduce_mean(tf.square(v0_state - v1_state))\n",
    "\n",
    "err = tf.reduce_mean(tf.square(v0_state - v1_state))\n",
    "print(\"error\" , err.numpy())"
   ]
  },
  {
   "cell_type": "markdown",
   "metadata": {},
   "source": [
    "<a id=\"ref4\"></a>\n",
    "<h3>Training the Model</h3>\n",
    "<b>Warning...</b> The following part is math-heavy, but you can skip it if you just want to run the cells in the next section.\n",
    "\n",
    "As mentioned, we want to give a high probability to the input data we train on. So, in order to train an RBM, we have to maximize the product of probabilities assigned to all rows $\\mathbf{v}$ (images) in the training set $\\mathbf{V}$ (a matrix, where each row of it is treated as a visible vector $\\mathbf{v}$)\n",
    "\n",
    "$$\\arg \\max_W \\prod_{\\mathbf{v}\\in\\mathbf{V}_T} p(\\mathbf{v})$$\n",
    "\n",
    "\n",
    "which is equivalent to maximizing the expectation of the log probability, given as\n",
    "\n",
    "$$\\arg\\max_W\\left[ \\mathbb{E} \\left(\\prod_{\\mathbf v\\in \\mathbf V}\\text{log} \\left(p(\\mathbf v)\\right) \\right) \\right].$$\n",
    "\n",
    "\n",
    "So, we have to update the weights $W_{ij}$  to increase $p(\\mathbf{v})$ for all $\\mathbf{v}$ in our training data during training. So we have to calculate the derivative:\n",
    "\n",
    "\n",
    "$$\\frac{\\partial \\log p(\\mathbf v)}{\\partial W_{ij}}$$\n",
    "\n",
    "This cannot be easily done by typical <b>gradient descent (SGD)</b>, so we can use another approach, which has 2 steps:\n",
    "<ol>\n",
    "    <li>Gibbs Sampling</li>\n",
    "    <li>Contrastive Divergence</li>\n",
    "</ol>    \n",
    "    \n",
    "<h3>Gibbs Sampling</h3>   \n",
    "\n",
    "<h4>Gibbs Sampling Step 1</h4> \n",
    "Given an input vector $\\mathbf{v}$, we are using $p(\\mathbf{h}|\\mathbf{v})$ to predict the hidden values $\\mathbf{h}$. \n",
    "  $$p({h_j}|\\mathbf v)= \\sigma\\left(\\sum_{i=1}^V W_{ij} v_i + h_{bias} \\right)$$\n",
    "The samples are generated from this distribution by generating the uniform random variate vector $\\mathbf{\\xi} \\sim U[0,1]$ of length $H$ and comparing to the computed probabilities as\n",
    "\n",
    "\n",
    "<center>If $\\xi_j>p(h_{j}|\\mathbf{v})$, then $h_j=1$, else $h_j=0$.</center>\n",
    "\n",
    "\n",
    "<h4>Gibbs Sampling Step 2</h4> \n",
    "Then, knowing the hidden values, we use $p(\\mathbf v| \\mathbf h)$ for reconstructing of new input values v. \n",
    "\n",
    "   $$p({v_i}|\\mathbf h)= \\sigma\\left(\\sum_{j=1}^H W^{T}_{ij} h_j + v_{bias} \\right)$$\n",
    "\n",
    "\n",
    "The samples are generated from this distribution by generating a uniform random variate vector $\\mathbf{\\xi} \\sim U[0,1]$ of length $V$ and comparing to the computed probabilities as\n",
    "\n",
    "<center>If $\\xi_i>p(v_{i}|\\mathbf{h})$, then $v_i=1$, else $v_i=0$.</center>\n",
    "\n",
    "Let vectors $\\mathbf v_k$ and $\\mathbf h_k$ be for the $k$th iteration.  In general, the $kth$ state is generrated as: \n",
    "\n",
    "\n",
    "    \n",
    "<b>Iteration</b> $k$: \n",
    "\n",
    "$$\\mathbf v_{k-1} \\Rightarrow p(\\mathbf h_{k-1}|\\mathbf v_{k-1})\\Rightarrow \\mathbf h_{k-1}\\Rightarrow p(\\mathbf v_{k}|\\mathbf h_{k-1})\\Rightarrow \\mathbf v_k$$       \n",
    "    \n",
    "<h3>Contrastive Divergence (CD-k)</h3>\n",
    "The update of the weight matrix is done during the Contrastive Divergence step. \n",
    "\n",
    "Vectors v0 and vk are used to calculate the activation probabilities for hidden values h0 and hk. The difference between the outer products of those probabilities with input vectors v0 and vk results in the update matrix:\n",
    "\n",
    "\n",
    "$$\\Delta \\mathbf W_k =\\mathbf v_k \\otimes \\mathbf h_k - \\mathbf v_{k-1} \\otimes \\mathbf h_{k-1}$$\n",
    "\n",
    "Contrastive Divergence is actually matrix of values that is computed and used to adjust values of the $\\mathbf W$ matrix. Changing $\\mathbf W$ incrementally leads to training of the  $\\mathbf W$ values. Then, on each step (epoch), $\\mathbf W$ is updated using the following:\n",
    "\n",
    "$$\\mathbf W_k = \\mathbf W_{k-1} + \\alpha * \\Delta \\mathbf W_k$$\n",
    "\n",
    "\n",
    "\n",
    "Reconstruction steps:\n",
    "<ul>\n",
    "    <li> Get one data point from data set, like <i>x</i>, and pass it through the following steps:</li>\n",
    "    \n",
    "<b>Iteration</b> $k=1$: \n",
    "    \n",
    "Sampling (starting with input image)\n",
    "    $$\\mathbf x = \\mathbf v_0 \\Rightarrow p(\\mathbf h_0|\\mathbf v_0)\\Rightarrow \\mathbf h_0 \\Rightarrow p(\\mathbf v_1|\\mathbf h_0)\\Rightarrow \\mathbf v_1$$   \n",
    "    followed by the CD-k step\n",
    "$$\\Delta \\mathbf W_1 =\\mathbf v_1 \\otimes \\mathbf h_1 - \\mathbf v_{0} \\otimes \\mathbf h_{0}$$     \n",
    "$$\\mathbf W_1 = \\mathbf W_{0} + \\alpha * \\Delta \\mathbf W_1$$ \n",
    " \n",
    "<li> $\\mathbf v_1$ is the reconstruction of $\\mathbf x$ sent to the next iteration).</li>\n",
    "\n",
    "<b>Iteration</b> $k=2$: \n",
    "\n",
    "Sampling (starting with $\\mathbf v_1$)\n",
    "\n",
    "$$\\mathbf v_1 \\Rightarrow p(\\mathbf h_1|\\mathbf v_1)\\Rightarrow \\mathbf h_1\\Rightarrow p(\\mathbf v_2|\\mathbf h_1)\\Rightarrow \\mathbf v_2$$   \n",
    "\n",
    "followed by the CD-k step\n",
    "$$\\Delta \\mathbf W_2 =\\mathbf v_2 \\otimes \\mathbf h_2 - \\mathbf v_{1} \\otimes \\mathbf h_{1}$$     \n",
    "$$\\mathbf W_2 = \\mathbf W_{1} + \\alpha * \\Delta \\mathbf W_2$$ \n",
    "\n",
    "<li> $\\mathbf v_2$ is the reconstruction of $\\mathbf v_1$ sent to the next iteration).</li>    \n",
    "      \n",
    "<b>Iteration</b> $k=K$:\n",
    "    \n",
    "Sampling (starting with $\\mathbf v_{K-1}$)\n",
    "\n",
    "$$\\mathbf v_{K-1} \\Rightarrow p(\\mathbf h_{K-1}|\\mathbf v_{K-1})\\Rightarrow \\mathbf h_{K-1}\\Rightarrow p(\\mathbf v_K|\\mathbf h_{K-1})\\Rightarrow \\mathbf v_K$$   \n",
    "\n",
    "followed by the CD-k step\n",
    "$$\\Delta \\mathbf W_K =\\mathbf v_K \\otimes \\mathbf h_K - \\mathbf v_{K-1} \\otimes \\mathbf h_{K-1}$$     \n",
    "$$\\mathbf W_K = \\mathbf W_{K-1} + \\alpha * \\Delta \\mathbf W_K$$ \n",
    "    \n",
    "<b>What is $\\alpha$?</b>  \n",
    "Here, alpha is some small step size, and is also known as the \"learning rate\".\n"
   ]
  },
  {
   "cell_type": "markdown",
   "metadata": {},
   "source": [
    "$K$ is adjustable, and good performance can be achieved with $K=1$, so that we just take one set of sampling steps per image.\n"
   ]
  },
  {
   "cell_type": "code",
   "execution_count": 18,
   "metadata": {},
   "outputs": [],
   "source": [
    "h1_prob = tf.nn.sigmoid(tf.matmul([v1_state], W) + hb)\n",
    "h1_state = tf.nn.relu(tf.sign(h1_prob - tf.random.uniform(tf.shape(h1_prob)))) #sample_h_given_X"
   ]
  },
  {
   "cell_type": "markdown",
   "metadata": {},
   "source": [
    "Lets look at the error of the first run:\n"
   ]
  },
  {
   "cell_type": "code",
   "execution_count": 19,
   "metadata": {},
   "outputs": [
    {
     "name": "stdout",
     "output_type": "stream",
     "text": [
      "error:  tf.Tensor(0.50382656, shape=(), dtype=float32)\n"
     ]
    }
   ],
   "source": [
    "print(\"error: \", error(v0_state, v1_state))"
   ]
  },
  {
   "cell_type": "code",
   "execution_count": 20,
   "metadata": {},
   "outputs": [
    {
     "name": "stdout",
     "output_type": "stream",
     "text": [
      "Epoch: 0 batch #: 1  of 300 sample #: 199 reconstruction error: 0.158566\n",
      "Epoch: 0 batch #: 2  of 300 sample #: 199 reconstruction error: 0.207496\n",
      "Epoch: 0 batch #: 3  of 300 sample #: 199 reconstruction error: 0.103938\n",
      "Epoch: 0 batch #: 4  of 300 sample #: 199 reconstruction error: 0.113191\n",
      "Epoch: 0 batch #: 5  of 300 sample #: 199 reconstruction error: 0.096807\n",
      "Epoch: 0 batch #: 6  of 300 sample #: 199 reconstruction error: 0.175264\n",
      "Epoch: 0 batch #: 7  of 300 sample #: 199 reconstruction error: 0.093261\n",
      "Epoch: 0 batch #: 8  of 300 sample #: 199 reconstruction error: 0.107369\n",
      "Epoch: 0 batch #: 9  of 300 sample #: 199 reconstruction error: 0.091529\n",
      "Epoch: 0 batch #: 10  of 300 sample #: 199 reconstruction error: 0.177101\n",
      "Epoch: 0 batch #: 11  of 300 sample #: 199 reconstruction error: 0.097203\n",
      "Epoch: 0 batch #: 12  of 300 sample #: 199 reconstruction error: 0.140472\n",
      "Epoch: 0 batch #: 13  of 300 sample #: 199 reconstruction error: 0.066379\n",
      "Epoch: 0 batch #: 14  of 300 sample #: 199 reconstruction error: 0.119134\n",
      "Epoch: 0 batch #: 15  of 300 sample #: 199 reconstruction error: 0.099611\n",
      "Epoch: 0 batch #: 16  of 300 sample #: 199 reconstruction error: 0.099264\n",
      "Epoch: 0 batch #: 17  of 300 sample #: 199 reconstruction error: 0.084741\n",
      "Epoch: 0 batch #: 18  of 300 sample #: 199 reconstruction error: 0.130149\n",
      "Epoch: 0 batch #: 19  of 300 sample #: 199 reconstruction error: 0.133763\n",
      "Epoch: 0 batch #: 20  of 300 sample #: 199 reconstruction error: 0.099880\n",
      "Epoch: 0 batch #: 21  of 300 sample #: 199 reconstruction error: 0.092745\n",
      "Epoch: 0 batch #: 22  of 300 sample #: 199 reconstruction error: 0.089964\n",
      "Epoch: 0 batch #: 23  of 300 sample #: 199 reconstruction error: 0.102291\n",
      "Epoch: 0 batch #: 24  of 300 sample #: 199 reconstruction error: 0.134093\n",
      "Epoch: 0 batch #: 25  of 300 sample #: 199 reconstruction error: 0.101730\n",
      "Epoch: 0 batch #: 26  of 300 sample #: 199 reconstruction error: 0.121571\n",
      "Epoch: 0 batch #: 27  of 300 sample #: 199 reconstruction error: 0.104992\n",
      "Epoch: 0 batch #: 28  of 300 sample #: 199 reconstruction error: 0.086671\n",
      "Epoch: 0 batch #: 29  of 300 sample #: 199 reconstruction error: 0.090967\n",
      "Epoch: 0 batch #: 30  of 300 sample #: 199 reconstruction error: 0.074622\n",
      "Epoch: 0 batch #: 31  of 300 sample #: 199 reconstruction error: 0.082055\n",
      "Epoch: 0 batch #: 32  of 300 sample #: 199 reconstruction error: 0.109640\n",
      "Epoch: 0 batch #: 33  of 300 sample #: 199 reconstruction error: 0.054235\n",
      "Epoch: 0 batch #: 34  of 300 sample #: 199 reconstruction error: 0.080857\n",
      "Epoch: 0 batch #: 35  of 300 sample #: 199 reconstruction error: 0.086810\n",
      "Epoch: 0 batch #: 36  of 300 sample #: 199 reconstruction error: 0.088865\n",
      "Epoch: 0 batch #: 37  of 300 sample #: 199 reconstruction error: 0.059962\n",
      "Epoch: 0 batch #: 38  of 300 sample #: 199 reconstruction error: 0.075440\n",
      "Epoch: 0 batch #: 39  of 300 sample #: 199 reconstruction error: 0.082963\n",
      "Epoch: 0 batch #: 40  of 300 sample #: 199 reconstruction error: 0.126955\n",
      "Epoch: 0 batch #: 41  of 300 sample #: 199 reconstruction error: 0.078798\n",
      "Epoch: 0 batch #: 42  of 300 sample #: 199 reconstruction error: 0.063494\n",
      "Epoch: 0 batch #: 43  of 300 sample #: 199 reconstruction error: 0.120287\n",
      "Epoch: 0 batch #: 44  of 300 sample #: 199 reconstruction error: 0.066983\n",
      "Epoch: 0 batch #: 45  of 300 sample #: 199 reconstruction error: 0.064493\n",
      "Epoch: 0 batch #: 46  of 300 sample #: 199 reconstruction error: 0.034052\n",
      "Epoch: 0 batch #: 47  of 300 sample #: 199 reconstruction error: 0.034578\n",
      "Epoch: 0 batch #: 48  of 300 sample #: 199 reconstruction error: 0.046129\n",
      "Epoch: 0 batch #: 49  of 300 sample #: 199 reconstruction error: 0.112798\n",
      "Epoch: 0 batch #: 50  of 300 sample #: 199 reconstruction error: 0.060342\n",
      "Epoch: 0 batch #: 51  of 300 sample #: 199 reconstruction error: 0.055012\n",
      "Epoch: 0 batch #: 52  of 300 sample #: 199 reconstruction error: 0.039677\n",
      "Epoch: 0 batch #: 53  of 300 sample #: 199 reconstruction error: 0.105307\n",
      "Epoch: 0 batch #: 54  of 300 sample #: 199 reconstruction error: 0.057036\n",
      "Epoch: 0 batch #: 55  of 300 sample #: 199 reconstruction error: 0.107048\n",
      "Epoch: 0 batch #: 56  of 300 sample #: 199 reconstruction error: 0.050413\n",
      "Epoch: 0 batch #: 57  of 300 sample #: 199 reconstruction error: 0.036095\n",
      "Epoch: 0 batch #: 58  of 300 sample #: 199 reconstruction error: 0.070946\n",
      "Epoch: 0 batch #: 59  of 300 sample #: 199 reconstruction error: 0.056481\n",
      "Epoch: 0 batch #: 60  of 300 sample #: 199 reconstruction error: 0.085011\n",
      "Epoch: 0 batch #: 61  of 300 sample #: 199 reconstruction error: 0.072979\n",
      "Epoch: 0 batch #: 62  of 300 sample #: 199 reconstruction error: 0.087556\n",
      "Epoch: 0 batch #: 63  of 300 sample #: 199 reconstruction error: 0.039845\n",
      "Epoch: 0 batch #: 64  of 300 sample #: 199 reconstruction error: 0.097542\n",
      "Epoch: 0 batch #: 65  of 300 sample #: 199 reconstruction error: 0.094803\n",
      "Epoch: 0 batch #: 66  of 300 sample #: 199 reconstruction error: 0.060066\n",
      "Epoch: 0 batch #: 67  of 300 sample #: 199 reconstruction error: 0.044628\n",
      "Epoch: 0 batch #: 68  of 300 sample #: 199 reconstruction error: 0.061308\n",
      "Epoch: 0 batch #: 69  of 300 sample #: 199 reconstruction error: 0.087199\n",
      "Epoch: 0 batch #: 70  of 300 sample #: 199 reconstruction error: 0.079306\n",
      "Epoch: 0 batch #: 71  of 300 sample #: 199 reconstruction error: 0.063070\n",
      "Epoch: 0 batch #: 72  of 300 sample #: 199 reconstruction error: 0.062226\n",
      "Epoch: 0 batch #: 73  of 300 sample #: 199 reconstruction error: 0.076594\n",
      "Epoch: 0 batch #: 74  of 300 sample #: 199 reconstruction error: 0.107144\n",
      "Epoch: 0 batch #: 75  of 300 sample #: 199 reconstruction error: 0.056491\n",
      "Epoch: 0 batch #: 76  of 300 sample #: 199 reconstruction error: 0.081297\n",
      "Epoch: 0 batch #: 77  of 300 sample #: 199 reconstruction error: 0.103960\n",
      "Epoch: 0 batch #: 78  of 300 sample #: 199 reconstruction error: 0.093005\n",
      "Epoch: 0 batch #: 79  of 300 sample #: 199 reconstruction error: 0.109572\n",
      "Epoch: 0 batch #: 80  of 300 sample #: 199 reconstruction error: 0.030530\n",
      "Epoch: 0 batch #: 81  of 300 sample #: 199 reconstruction error: 0.054071\n",
      "Epoch: 0 batch #: 82  of 300 sample #: 199 reconstruction error: 0.045832\n",
      "Epoch: 0 batch #: 83  of 300 sample #: 199 reconstruction error: 0.086154\n",
      "Epoch: 0 batch #: 84  of 300 sample #: 199 reconstruction error: 0.075807\n",
      "Epoch: 0 batch #: 85  of 300 sample #: 199 reconstruction error: 0.047394\n",
      "Epoch: 0 batch #: 86  of 300 sample #: 199 reconstruction error: 0.084358\n",
      "Epoch: 0 batch #: 87  of 300 sample #: 199 reconstruction error: 0.094303\n",
      "Epoch: 0 batch #: 88  of 300 sample #: 199 reconstruction error: 0.026056\n",
      "Epoch: 0 batch #: 89  of 300 sample #: 199 reconstruction error: 0.066571\n",
      "Epoch: 0 batch #: 90  of 300 sample #: 199 reconstruction error: 0.066091\n",
      "Epoch: 0 batch #: 91  of 300 sample #: 199 reconstruction error: 0.053218\n",
      "Epoch: 0 batch #: 92  of 300 sample #: 199 reconstruction error: 0.073391\n",
      "Epoch: 0 batch #: 93  of 300 sample #: 199 reconstruction error: 0.104533\n",
      "Epoch: 0 batch #: 94  of 300 sample #: 199 reconstruction error: 0.131177\n",
      "Epoch: 0 batch #: 95  of 300 sample #: 199 reconstruction error: 0.055351\n",
      "Epoch: 0 batch #: 96  of 300 sample #: 199 reconstruction error: 0.043076\n",
      "Epoch: 0 batch #: 97  of 300 sample #: 199 reconstruction error: 0.099523\n",
      "Epoch: 0 batch #: 98  of 300 sample #: 199 reconstruction error: 0.096022\n",
      "Epoch: 0 batch #: 99  of 300 sample #: 199 reconstruction error: 0.061692\n",
      "Epoch: 0 batch #: 100  of 300 sample #: 199 reconstruction error: 0.097353\n",
      "Epoch: 0 batch #: 101  of 300 sample #: 199 reconstruction error: 0.063323\n",
      "Epoch: 0 batch #: 102  of 300 sample #: 199 reconstruction error: 0.073918\n",
      "Epoch: 0 batch #: 103  of 300 sample #: 199 reconstruction error: 0.067310\n",
      "Epoch: 0 batch #: 104  of 300 sample #: 199 reconstruction error: 0.063094\n",
      "Epoch: 0 batch #: 105  of 300 sample #: 199 reconstruction error: 0.061126\n",
      "Epoch: 0 batch #: 106  of 300 sample #: 199 reconstruction error: 0.104111\n",
      "Epoch: 0 batch #: 107  of 300 sample #: 199 reconstruction error: 0.120486\n",
      "Epoch: 0 batch #: 108  of 300 sample #: 199 reconstruction error: 0.064090\n",
      "Epoch: 0 batch #: 109  of 300 sample #: 199 reconstruction error: 0.104073\n",
      "Epoch: 0 batch #: 110  of 300 sample #: 199 reconstruction error: 0.063638\n",
      "Epoch: 0 batch #: 111  of 300 sample #: 199 reconstruction error: 0.100177\n",
      "Epoch: 0 batch #: 112  of 300 sample #: 199 reconstruction error: 0.040731\n",
      "Epoch: 0 batch #: 113  of 300 sample #: 199 reconstruction error: 0.062709\n",
      "Epoch: 0 batch #: 114  of 300 sample #: 199 reconstruction error: 0.058963\n",
      "Epoch: 0 batch #: 115  of 300 sample #: 199 reconstruction error: 0.067149\n",
      "Epoch: 0 batch #: 116  of 300 sample #: 199 reconstruction error: 0.044348\n",
      "Epoch: 0 batch #: 117  of 300 sample #: 199 reconstruction error: 0.046924\n",
      "Epoch: 0 batch #: 118  of 300 sample #: 199 reconstruction error: 0.093979\n",
      "Epoch: 0 batch #: 119  of 300 sample #: 199 reconstruction error: 0.119636\n",
      "Epoch: 0 batch #: 120  of 300 sample #: 199 reconstruction error: 0.066262\n",
      "Epoch: 0 batch #: 121  of 300 sample #: 199 reconstruction error: 0.040517\n",
      "Epoch: 0 batch #: 122  of 300 sample #: 199 reconstruction error: 0.091609\n",
      "Epoch: 0 batch #: 123  of 300 sample #: 199 reconstruction error: 0.070080\n",
      "Epoch: 0 batch #: 124  of 300 sample #: 199 reconstruction error: 0.066286\n",
      "Epoch: 0 batch #: 125  of 300 sample #: 199 reconstruction error: 0.047557\n",
      "Epoch: 0 batch #: 126  of 300 sample #: 199 reconstruction error: 0.081696\n",
      "Epoch: 0 batch #: 127  of 300 sample #: 199 reconstruction error: 0.090680\n",
      "Epoch: 0 batch #: 128  of 300 sample #: 199 reconstruction error: 0.064765\n",
      "Epoch: 0 batch #: 129  of 300 sample #: 199 reconstruction error: 0.050530\n",
      "Epoch: 0 batch #: 130  of 300 sample #: 199 reconstruction error: 0.071868\n",
      "Epoch: 0 batch #: 131  of 300 sample #: 199 reconstruction error: 0.072876\n",
      "Epoch: 0 batch #: 132  of 300 sample #: 199 reconstruction error: 0.056165\n",
      "Epoch: 0 batch #: 133  of 300 sample #: 199 reconstruction error: 0.052168\n",
      "Epoch: 0 batch #: 134  of 300 sample #: 199 reconstruction error: 0.100379\n",
      "Epoch: 0 batch #: 135  of 300 sample #: 199 reconstruction error: 0.092648\n",
      "Epoch: 0 batch #: 136  of 300 sample #: 199 reconstruction error: 0.084792\n",
      "Epoch: 0 batch #: 137  of 300 sample #: 199 reconstruction error: 0.081366\n",
      "Epoch: 0 batch #: 138  of 300 sample #: 199 reconstruction error: 0.077949\n",
      "Epoch: 0 batch #: 139  of 300 sample #: 199 reconstruction error: 0.111605\n",
      "Epoch: 0 batch #: 140  of 300 sample #: 199 reconstruction error: 0.068698\n",
      "Epoch: 0 batch #: 141  of 300 sample #: 199 reconstruction error: 0.090253\n",
      "Epoch: 0 batch #: 142  of 300 sample #: 199 reconstruction error: 0.056424\n",
      "Epoch: 0 batch #: 143  of 300 sample #: 199 reconstruction error: 0.060413\n",
      "Epoch: 0 batch #: 144  of 300 sample #: 199 reconstruction error: 0.069864\n",
      "Epoch: 0 batch #: 145  of 300 sample #: 199 reconstruction error: 0.089820\n",
      "Epoch: 0 batch #: 146  of 300 sample #: 199 reconstruction error: 0.103790\n",
      "Epoch: 0 batch #: 147  of 300 sample #: 199 reconstruction error: 0.080734\n",
      "Epoch: 0 batch #: 148  of 300 sample #: 199 reconstruction error: 0.088044\n",
      "Epoch: 0 batch #: 149  of 300 sample #: 199 reconstruction error: 0.046118\n",
      "Epoch: 0 batch #: 150  of 300 sample #: 199 reconstruction error: 0.036842\n",
      "Epoch: 0 batch #: 151  of 300 sample #: 199 reconstruction error: 0.093326\n",
      "Epoch: 0 batch #: 152  of 300 sample #: 199 reconstruction error: 0.085035\n",
      "Epoch: 0 batch #: 153  of 300 sample #: 199 reconstruction error: 0.048042\n",
      "Epoch: 0 batch #: 154  of 300 sample #: 199 reconstruction error: 0.075978\n",
      "Epoch: 0 batch #: 155  of 300 sample #: 199 reconstruction error: 0.074628\n",
      "Epoch: 0 batch #: 156  of 300 sample #: 199 reconstruction error: 0.084130\n",
      "Epoch: 0 batch #: 157  of 300 sample #: 199 reconstruction error: 0.098741\n",
      "Epoch: 0 batch #: 158  of 300 sample #: 199 reconstruction error: 0.078798\n",
      "Epoch: 0 batch #: 159  of 300 sample #: 199 reconstruction error: 0.061057\n",
      "Epoch: 0 batch #: 160  of 300 sample #: 199 reconstruction error: 0.072119\n",
      "Epoch: 0 batch #: 161  of 300 sample #: 199 reconstruction error: 0.076172\n",
      "Epoch: 0 batch #: 162  of 300 sample #: 199 reconstruction error: 0.112578\n",
      "Epoch: 0 batch #: 163  of 300 sample #: 199 reconstruction error: 0.042513\n",
      "Epoch: 0 batch #: 164  of 300 sample #: 199 reconstruction error: 0.066141\n",
      "Epoch: 0 batch #: 165  of 300 sample #: 199 reconstruction error: 0.089738\n",
      "Epoch: 0 batch #: 166  of 300 sample #: 199 reconstruction error: 0.065502\n",
      "Epoch: 0 batch #: 167  of 300 sample #: 199 reconstruction error: 0.094412\n",
      "Epoch: 0 batch #: 168  of 300 sample #: 199 reconstruction error: 0.050082\n",
      "Epoch: 0 batch #: 169  of 300 sample #: 199 reconstruction error: 0.040117\n",
      "Epoch: 0 batch #: 170  of 300 sample #: 199 reconstruction error: 0.049405\n",
      "Epoch: 0 batch #: 171  of 300 sample #: 199 reconstruction error: 0.037048\n",
      "Epoch: 0 batch #: 172  of 300 sample #: 199 reconstruction error: 0.053568\n",
      "Epoch: 0 batch #: 173  of 300 sample #: 199 reconstruction error: 0.077211\n",
      "Epoch: 0 batch #: 174  of 300 sample #: 199 reconstruction error: 0.105857\n",
      "Epoch: 0 batch #: 175  of 300 sample #: 199 reconstruction error: 0.077655\n",
      "Epoch: 0 batch #: 176  of 300 sample #: 199 reconstruction error: 0.046582\n",
      "Epoch: 0 batch #: 177  of 300 sample #: 199 reconstruction error: 0.029669\n",
      "Epoch: 0 batch #: 178  of 300 sample #: 199 reconstruction error: 0.119136\n",
      "Epoch: 0 batch #: 179  of 300 sample #: 199 reconstruction error: 0.070047\n",
      "Epoch: 0 batch #: 180  of 300 sample #: 199 reconstruction error: 0.107571\n",
      "Epoch: 0 batch #: 181  of 300 sample #: 199 reconstruction error: 0.099024\n",
      "Epoch: 0 batch #: 182  of 300 sample #: 199 reconstruction error: 0.078762\n",
      "Epoch: 0 batch #: 183  of 300 sample #: 199 reconstruction error: 0.099680\n",
      "Epoch: 0 batch #: 184  of 300 sample #: 199 reconstruction error: 0.077158\n",
      "Epoch: 0 batch #: 185  of 300 sample #: 199 reconstruction error: 0.055036\n",
      "Epoch: 0 batch #: 186  of 300 sample #: 199 reconstruction error: 0.111537\n",
      "Epoch: 0 batch #: 187  of 300 sample #: 199 reconstruction error: 0.061160\n",
      "Epoch: 0 batch #: 188  of 300 sample #: 199 reconstruction error: 0.108429\n",
      "Epoch: 0 batch #: 189  of 300 sample #: 199 reconstruction error: 0.090471\n",
      "Epoch: 0 batch #: 190  of 300 sample #: 199 reconstruction error: 0.065664\n",
      "Epoch: 0 batch #: 191  of 300 sample #: 199 reconstruction error: 0.100606\n",
      "Epoch: 0 batch #: 192  of 300 sample #: 199 reconstruction error: 0.105328\n",
      "Epoch: 0 batch #: 193  of 300 sample #: 199 reconstruction error: 0.088138\n",
      "Epoch: 0 batch #: 194  of 300 sample #: 199 reconstruction error: 0.076198\n",
      "Epoch: 0 batch #: 195  of 300 sample #: 199 reconstruction error: 0.047094\n",
      "Epoch: 0 batch #: 196  of 300 sample #: 199 reconstruction error: 0.048153\n",
      "Epoch: 0 batch #: 197  of 300 sample #: 199 reconstruction error: 0.053924\n",
      "Epoch: 0 batch #: 198  of 300 sample #: 199 reconstruction error: 0.084257\n",
      "Epoch: 0 batch #: 199  of 300 sample #: 199 reconstruction error: 0.078373\n",
      "Epoch: 0 batch #: 200  of 300 sample #: 199 reconstruction error: 0.106488\n",
      "Epoch: 0 batch #: 201  of 300 sample #: 199 reconstruction error: 0.083420\n",
      "Epoch: 0 batch #: 202  of 300 sample #: 199 reconstruction error: 0.026462\n",
      "Epoch: 0 batch #: 203  of 300 sample #: 199 reconstruction error: 0.064386\n",
      "Epoch: 0 batch #: 204  of 300 sample #: 199 reconstruction error: 0.049454\n",
      "Epoch: 0 batch #: 205  of 300 sample #: 199 reconstruction error: 0.027113\n",
      "Epoch: 0 batch #: 206  of 300 sample #: 199 reconstruction error: 0.055204\n",
      "Epoch: 0 batch #: 207  of 300 sample #: 199 reconstruction error: 0.068893\n",
      "Epoch: 0 batch #: 208  of 300 sample #: 199 reconstruction error: 0.047872\n",
      "Epoch: 0 batch #: 209  of 300 sample #: 199 reconstruction error: 0.031401\n",
      "Epoch: 0 batch #: 210  of 300 sample #: 199 reconstruction error: 0.108456\n",
      "Epoch: 0 batch #: 211  of 300 sample #: 199 reconstruction error: 0.097481\n",
      "Epoch: 0 batch #: 212  of 300 sample #: 199 reconstruction error: 0.089084\n",
      "Epoch: 0 batch #: 213  of 300 sample #: 199 reconstruction error: 0.086237\n",
      "Epoch: 0 batch #: 214  of 300 sample #: 199 reconstruction error: 0.118405\n",
      "Epoch: 0 batch #: 215  of 300 sample #: 199 reconstruction error: 0.032233\n",
      "Epoch: 0 batch #: 216  of 300 sample #: 199 reconstruction error: 0.079419\n",
      "Epoch: 0 batch #: 217  of 300 sample #: 199 reconstruction error: 0.085513\n",
      "Epoch: 0 batch #: 218  of 300 sample #: 199 reconstruction error: 0.077010\n",
      "Epoch: 0 batch #: 219  of 300 sample #: 199 reconstruction error: 0.061732\n",
      "Epoch: 0 batch #: 220  of 300 sample #: 199 reconstruction error: 0.055584\n",
      "Epoch: 0 batch #: 221  of 300 sample #: 199 reconstruction error: 0.098417\n",
      "Epoch: 0 batch #: 222  of 300 sample #: 199 reconstruction error: 0.093784\n",
      "Epoch: 0 batch #: 223  of 300 sample #: 199 reconstruction error: 0.080666\n",
      "Epoch: 0 batch #: 224  of 300 sample #: 199 reconstruction error: 0.063231\n",
      "Epoch: 0 batch #: 225  of 300 sample #: 199 reconstruction error: 0.073479\n",
      "Epoch: 0 batch #: 226  of 300 sample #: 199 reconstruction error: 0.116163\n",
      "Epoch: 0 batch #: 227  of 300 sample #: 199 reconstruction error: 0.073580\n",
      "Epoch: 0 batch #: 228  of 300 sample #: 199 reconstruction error: 0.064365\n",
      "Epoch: 0 batch #: 229  of 300 sample #: 199 reconstruction error: 0.101115\n",
      "Epoch: 0 batch #: 230  of 300 sample #: 199 reconstruction error: 0.038110\n",
      "Epoch: 0 batch #: 231  of 300 sample #: 199 reconstruction error: 0.026800\n",
      "Epoch: 0 batch #: 232  of 300 sample #: 199 reconstruction error: 0.094084\n",
      "Epoch: 0 batch #: 233  of 300 sample #: 199 reconstruction error: 0.073481\n",
      "Epoch: 0 batch #: 234  of 300 sample #: 199 reconstruction error: 0.058254\n",
      "Epoch: 0 batch #: 235  of 300 sample #: 199 reconstruction error: 0.062112\n",
      "Epoch: 0 batch #: 236  of 300 sample #: 199 reconstruction error: 0.098006\n",
      "Epoch: 0 batch #: 237  of 300 sample #: 199 reconstruction error: 0.089189\n",
      "Epoch: 0 batch #: 238  of 300 sample #: 199 reconstruction error: 0.096078\n",
      "Epoch: 0 batch #: 239  of 300 sample #: 199 reconstruction error: 0.027890\n",
      "Epoch: 0 batch #: 240  of 300 sample #: 199 reconstruction error: 0.116709\n",
      "Epoch: 0 batch #: 241  of 300 sample #: 199 reconstruction error: 0.072156\n",
      "Epoch: 0 batch #: 242  of 300 sample #: 199 reconstruction error: 0.079529\n",
      "Epoch: 0 batch #: 243  of 300 sample #: 199 reconstruction error: 0.065883\n",
      "Epoch: 0 batch #: 244  of 300 sample #: 199 reconstruction error: 0.093868\n",
      "Epoch: 0 batch #: 245  of 300 sample #: 199 reconstruction error: 0.060912\n",
      "Epoch: 0 batch #: 246  of 300 sample #: 199 reconstruction error: 0.085779\n",
      "Epoch: 0 batch #: 247  of 300 sample #: 199 reconstruction error: 0.052523\n",
      "Epoch: 0 batch #: 248  of 300 sample #: 199 reconstruction error: 0.062500\n",
      "Epoch: 0 batch #: 249  of 300 sample #: 199 reconstruction error: 0.047997\n",
      "Epoch: 0 batch #: 250  of 300 sample #: 199 reconstruction error: 0.083310\n",
      "Epoch: 0 batch #: 251  of 300 sample #: 199 reconstruction error: 0.040738\n",
      "Epoch: 0 batch #: 252  of 300 sample #: 199 reconstruction error: 0.063109\n",
      "Epoch: 0 batch #: 253  of 300 sample #: 199 reconstruction error: 0.066504\n",
      "Epoch: 0 batch #: 254  of 300 sample #: 199 reconstruction error: 0.038316\n",
      "Epoch: 0 batch #: 255  of 300 sample #: 199 reconstruction error: 0.056458\n",
      "Epoch: 0 batch #: 256  of 300 sample #: 199 reconstruction error: 0.078765\n",
      "Epoch: 0 batch #: 257  of 300 sample #: 199 reconstruction error: 0.099547\n",
      "Epoch: 0 batch #: 258  of 300 sample #: 199 reconstruction error: 0.083206\n",
      "Epoch: 0 batch #: 259  of 300 sample #: 199 reconstruction error: 0.074263\n",
      "Epoch: 0 batch #: 260  of 300 sample #: 199 reconstruction error: 0.100134\n",
      "Epoch: 0 batch #: 261  of 300 sample #: 199 reconstruction error: 0.033727\n",
      "Epoch: 0 batch #: 262  of 300 sample #: 199 reconstruction error: 0.060556\n",
      "Epoch: 0 batch #: 263  of 300 sample #: 199 reconstruction error: 0.090207\n",
      "Epoch: 0 batch #: 264  of 300 sample #: 199 reconstruction error: 0.067267\n",
      "Epoch: 0 batch #: 265  of 300 sample #: 199 reconstruction error: 0.066807\n",
      "Epoch: 0 batch #: 266  of 300 sample #: 199 reconstruction error: 0.037499\n",
      "Epoch: 0 batch #: 267  of 300 sample #: 199 reconstruction error: 0.059833\n",
      "Epoch: 0 batch #: 268  of 300 sample #: 199 reconstruction error: 0.030902\n",
      "Epoch: 0 batch #: 269  of 300 sample #: 199 reconstruction error: 0.086072\n",
      "Epoch: 0 batch #: 270  of 300 sample #: 199 reconstruction error: 0.084862\n",
      "Epoch: 0 batch #: 271  of 300 sample #: 199 reconstruction error: 0.053456\n",
      "Epoch: 0 batch #: 272  of 300 sample #: 199 reconstruction error: 0.057514\n",
      "Epoch: 0 batch #: 273  of 300 sample #: 199 reconstruction error: 0.050491\n",
      "Epoch: 0 batch #: 274  of 300 sample #: 199 reconstruction error: 0.051295\n",
      "Epoch: 0 batch #: 275  of 300 sample #: 199 reconstruction error: 0.090817\n",
      "Epoch: 0 batch #: 276  of 300 sample #: 199 reconstruction error: 0.069060\n",
      "Epoch: 0 batch #: 277  of 300 sample #: 199 reconstruction error: 0.083298\n",
      "Epoch: 0 batch #: 278  of 300 sample #: 199 reconstruction error: 0.050616\n",
      "Epoch: 0 batch #: 279  of 300 sample #: 199 reconstruction error: 0.043878\n",
      "Epoch: 0 batch #: 280  of 300 sample #: 199 reconstruction error: 0.086623\n",
      "Epoch: 0 batch #: 281  of 300 sample #: 199 reconstruction error: 0.064985\n",
      "Epoch: 0 batch #: 282  of 300 sample #: 199 reconstruction error: 0.106036\n",
      "Epoch: 0 batch #: 283  of 300 sample #: 199 reconstruction error: 0.048052\n",
      "Epoch: 0 batch #: 284  of 300 sample #: 199 reconstruction error: 0.046691\n",
      "Epoch: 0 batch #: 285  of 300 sample #: 199 reconstruction error: 0.066846\n",
      "Epoch: 0 batch #: 286  of 300 sample #: 199 reconstruction error: 0.091862\n",
      "Epoch: 0 batch #: 287  of 300 sample #: 199 reconstruction error: 0.082684\n",
      "Epoch: 0 batch #: 288  of 300 sample #: 199 reconstruction error: 0.026782\n",
      "Epoch: 0 batch #: 289  of 300 sample #: 199 reconstruction error: 0.104870\n",
      "Epoch: 0 batch #: 290  of 300 sample #: 199 reconstruction error: 0.104991\n",
      "Epoch: 0 batch #: 291  of 300 sample #: 199 reconstruction error: 0.101055\n",
      "Epoch: 0 batch #: 292  of 300 sample #: 199 reconstruction error: 0.057972\n",
      "Epoch: 0 batch #: 293  of 300 sample #: 199 reconstruction error: 0.055015\n",
      "Epoch: 0 batch #: 294  of 300 sample #: 199 reconstruction error: 0.085953\n",
      "Epoch: 0 batch #: 295  of 300 sample #: 199 reconstruction error: 0.077423\n",
      "Epoch: 0 batch #: 296  of 300 sample #: 199 reconstruction error: 0.017000\n",
      "Epoch: 0 batch #: 297  of 300 sample #: 199 reconstruction error: 0.103306\n",
      "Epoch: 0 batch #: 298  of 300 sample #: 199 reconstruction error: 0.051747\n",
      "Epoch: 0 batch #: 299  of 300 sample #: 199 reconstruction error: 0.049430\n",
      "Epoch: 0 batch #: 300  of 300 sample #: 199 reconstruction error: 0.082244\n"
     ]
    }
   ],
   "source": [
    "#Parameters\n",
    "alpha = 0.01\n",
    "epochs = 1\n",
    "batchsize = 200\n",
    "weights = []\n",
    "errors = []\n",
    "batch_number = 0\n",
    "K = 1\n",
    "\n",
    "#creating datasets\n",
    "train_ds = \\\n",
    "    tf.data.Dataset.from_tensor_slices((trX, trY)).batch(batchsize)\n",
    "\n",
    "for epoch in range(epochs):\n",
    "    for batch_x, batch_y in train_ds:\n",
    "        batch_number += 1\n",
    "        for i_sample in range(batchsize):           \n",
    "            for k in range(K):\n",
    "                v0_state = batch_x[i_sample]\n",
    "                h0_state = hidden_layer(v0_state, W, hb)\n",
    "                v1_state = reconstructed_output(h0_state, W, vb)\n",
    "                h1_state = hidden_layer(v1_state, W, hb)\n",
    "\n",
    "                delta_W = tf.matmul(tf.transpose([v0_state]), h0_state) - tf.matmul(tf.transpose([v1_state]), h1_state)\n",
    "                W = W + alpha * delta_W\n",
    "\n",
    "                vb = vb + alpha * tf.reduce_mean(v0_state - v1_state, 0)\n",
    "                hb = hb + alpha * tf.reduce_mean(h0_state - h1_state, 0) \n",
    "\n",
    "                v0_state = v1_state\n",
    "\n",
    "            if i_sample == batchsize-1:\n",
    "                err = error(batch_x[i_sample], v1_state)\n",
    "                errors.append(err)\n",
    "                weights.append(W)\n",
    "                print ( 'Epoch: %d' % epoch, \n",
    "                       \"batch #: %i \" % batch_number, \"of %i\" % int(60e3/batchsize), \n",
    "                       \"sample #: %i\" % i_sample,\n",
    "                       'reconstruction error: %f' % err)\n",
    "\n"
   ]
  },
  {
   "cell_type": "markdown",
   "metadata": {},
   "source": [
    "Let's take a look at the errors at the end of each batch:\n"
   ]
  },
  {
   "cell_type": "code",
   "execution_count": 21,
   "metadata": {},
   "outputs": [
    {
     "data": {
      "image/png": "[encoded data removed]",
      "text/plain": [
       "<Figure size 640x480 with 1 Axes>"
      ]
     },
     "metadata": {},
     "output_type": "display_data"
    }
   ],
   "source": [
    "plt.plot(errors)\n",
    "plt.xlabel(\"Batch Number\")\n",
    "plt.ylabel(\"Error\")\n",
    "plt.show()"
   ]
  },
  {
   "cell_type": "markdown",
   "metadata": {},
   "source": [
    "What is the final weight matrix $W$ after training?\n"
   ]
  },
  {
   "cell_type": "code",
   "execution_count": 22,
   "metadata": {},
   "outputs": [
    {
     "name": "stdout",
     "output_type": "stream",
     "text": [
      "[[-0.36999992 -0.27       -0.41999987 ... -0.19000001 -0.4999998\n",
      "  -0.4799998 ]\n",
      " [-0.3799999  -0.23000003 -0.42999986 ... -0.28       -0.56999975\n",
      "  -0.4799998 ]\n",
      " [-0.3999999  -0.23000003 -0.40999988 ... -0.23000003 -0.5299998\n",
      "  -0.4999998 ]\n",
      " ...\n",
      " [-0.31999996 -0.24000004 -0.3999999  ... -0.26000002 -0.5199998\n",
      "  -0.5099998 ]\n",
      " [-0.36999992 -0.23000003 -0.42999986 ... -0.33999994 -0.5299998\n",
      "  -0.55999976]\n",
      " [-0.35999992 -0.20000002 -0.41999987 ... -0.26000002 -0.46999982\n",
      "  -0.5399998 ]]\n"
     ]
    }
   ],
   "source": [
    "print(W.numpy()) # a weight matrix of shape (50,784)"
   ]
  },
  {
   "cell_type": "markdown",
   "metadata": {},
   "source": [
    "<a id=\"ref5\"></a>\n",
    "<h3>Learned features</h3> \n"
   ]
  },
  {
   "cell_type": "markdown",
   "metadata": {},
   "source": [
    "We can take each hidden unit and visualize the connections between that hidden unit and each element in the input vector. In our case, we have 50 hidden units. Lets visualize those.\n"
   ]
  },
  {
   "cell_type": "markdown",
   "metadata": {},
   "source": [
    "Let's plot the current weights:\n",
    "<b>tile_raster_images</b> helps in generating an easy to grasp image from a set of samples or weights. It transforms the <b>uw</b> (with one flattened image per row of size 784), into an array (of size $28\\times28$) in which images are reshaped and laid out like tiles on a floor.\n"
   ]
  },
  {
   "cell_type": "code",
   "execution_count": 23,
   "metadata": {},
   "outputs": [
    {
     "data": {
      "image/png": "[encoded data removed]",
      "text/plain": [
       "<Figure size 1800x1800 with 1 Axes>"
      ]
     },
     "metadata": {},
     "output_type": "display_data"
    }
   ],
   "source": [
    "tile_raster_images(X=W.numpy().T, img_shape=(28, 28), tile_shape=(5, 10), tile_spacing=(1, 1))\n",
    "import matplotlib.pyplot as plt\n",
    "from PIL import Image\n",
    "%matplotlib inline\n",
    "image = Image.fromarray(tile_raster_images(X=W.numpy().T, img_shape=(28, 28) ,tile_shape=(5, 10), tile_spacing=(1, 1)))\n",
    "### Plot image\n",
    "plt.rcParams['figure.figsize'] = (18.0, 18.0)\n",
    "imgplot = plt.imshow(image)\n",
    "imgplot.set_cmap('gray')  "
   ]
  },
  {
   "cell_type": "markdown",
   "metadata": {},
   "source": [
    "Each tile in the above visualization corresponds to a vector of connections between a hidden unit and visible layer's units. \n"
   ]
  },
  {
   "cell_type": "markdown",
   "metadata": {},
   "source": [
    "Let's look at one of the learned weights corresponding to one of hidden units for example. In this particular square, the gray color represents weight = 0, and the whiter it is, the more positive the weights are (closer to 1). Conversely, the darker pixels are, the more negative the weights. The positive pixels will increase the probability of activation in hidden units (after multiplying by input/visible pixels), and negative pixels will decrease the probability of a unit hidden to be 1 (activated). So, why is this important?  So we can see that this specific square (hidden unit) can detect a feature (e.g. a \"/\" shape) and if it exists in the input.\n"
   ]
  },
  {
   "cell_type": "code",
   "execution_count": 24,
   "metadata": {},
   "outputs": [
    {
     "data": {
      "image/png": "[encoded data removed]",
      "text/plain": [
       "<Figure size 400x400 with 1 Axes>"
      ]
     },
     "metadata": {},
     "output_type": "display_data"
    }
   ],
   "source": [
    "from PIL import Image\n",
    "image = Image.fromarray(tile_raster_images(X =W.numpy().T[10:11], img_shape=(28, 28),tile_shape=(1, 1), tile_spacing=(1, 1)))\n",
    "### Plot image\n",
    "plt.rcParams['figure.figsize'] = (4.0, 4.0)\n",
    "imgplot = plt.imshow(image)\n",
    "imgplot.set_cmap('gray')  "
   ]
  },
  {
   "cell_type": "markdown",
   "metadata": {},
   "source": [
    "Let's look at the reconstruction of an image now. Imagine that we have a destructed image of figure 3. Lets see if our trained network can fix it:\n",
    "\n",
    "First we plot the image:\n"
   ]
  },
  {
   "cell_type": "code",
   "execution_count": 25,
   "metadata": {},
   "outputs": [
    {
     "name": "stdout",
     "output_type": "stream",
     "text": [
      "--2024-01-07 22:19:25--  https://ibm.box.com/shared/static/vvm1b63uvuxq88vbw9znpwu5ol380mco.jpg\n",
      "Resolving ibm.box.com (ibm.box.com)... 74.112.186.144, 74.112.186.144\n",
      "Connecting to ibm.box.com (ibm.box.com)|74.112.186.144|:443... connected.\n",
      "HTTP request sent, awaiting response... 301 Moved Permanently\n",
      "Location: /public/static/vvm1b63uvuxq88vbw9znpwu5ol380mco.jpg [following]\n",
      "--2024-01-07 22:19:25--  https://ibm.box.com/public/static/vvm1b63uvuxq88vbw9znpwu5ol380mco.jpg\n",
      "Reusing existing connection to ibm.box.com:443.\n",
      "HTTP request sent, awaiting response... 301 Moved Permanently\n",
      "Location: https://ibm.ent.box.com/public/static/vvm1b63uvuxq88vbw9znpwu5ol380mco.jpg [following]\n",
      "--2024-01-07 22:19:25--  https://ibm.ent.box.com/public/static/vvm1b63uvuxq88vbw9znpwu5ol380mco.jpg\n",
      "Resolving ibm.ent.box.com (ibm.ent.box.com)... 74.112.186.144, 74.112.186.144\n",
      "Connecting to ibm.ent.box.com (ibm.ent.box.com)|74.112.186.144|:443... connected.\n",
      "HTTP request sent, awaiting response... 302 Found\n",
      "Location: https://public.boxcloud.com/d/1/b1!nz3L5CQq3nECWQ93fE-hg3dNZOXfnfQtE57BKmYaXRzFXnRWoXbzSYYYHTN29X_kae4h73MYEYy-hfpEBG1AF_RelD8szoNG1sPsttYTarycFS8_VjXRLUh70B3_RjwEcRzRSUh2TVT4LgAXaf_XgxghwGAE-fkgYxFWjeUo3O-vC_BF_EukpQNJTd1Y2jf7oKUPa7sddbL7fGiah_b0vHEkq5oMLLTSF7kfPrnf4GOeuB5LhEzR0wIusyyVfGX1SxuP8fbOvt2MFB2SOjt1k4Dj_uzwBOzs3fje93iCvROpDi0TutqZ2bDlV_H5cx9hvo4fFsfN6GFbY0Xv-LAupURIIj_LIRu_Tp-7wtgSsYD1a0X5-ih5SlCQW6H8g0fRZEWunXP4GiwGNd6X9j7v1r5mvnjExD_vNJffeKl_G-RQObthriZfIsdYaODqhMywpSy4W4y9w-JOw4L-ftx_Fke4PUNGvSI6-ivTwhkG3OeMMYEeIA7T6iR2D6FU-K_tvZ_OrcMXI-thKkMxSQbDg0M6_XYiDnOJJQE9Kao1duQv5zPP37E3txJGBi2puHuVICf-RBi4DgdVq2KUDzdqf-c3dGetBrYkQ7Bddq8voScvytk9-LZWmvZXOQJPHjfep_vUBMd-bwGmycJPbth266yaIaFpzQiuvCu5bAiptn8wqgbAqfKfos9FyJ549hRTNp_X0eLw6jPVW07QRVOpfMDvkrE6oOv_-PvQCObP0r6wTk1AkUZAG4Enw9XuDBfJWkxGUTChp0sNsOGuHDlqMr8_LixhG9Zrr_VuFoy2UyhgB3z60VuJXBBzctc2TlgZNq732J9m3z4DC2jH8GjqHfJ6Ndch6vBzVBgZ51y_HRpa7gaSavgHGsO4WeGp6tMezbLX4B2hyat1eVJUBki6boHN_Ww3Zryh0YmeFxrZPFzTDjgXJ09jkAW0w8aDWxsWCEfa6nWYN9PWg3iFeh4mCzVHu97kdOJf70W7-1k-qCW-IJ0NHVJSVV8vJyT5OpzCOdOCt1NosrCVZ725l6la5x4__k8FvGIohokF_bi74v1HETibQ83mJyRlSZW58sfofWaa7ED3qg2NbuPNCDFkzWe1jd0ktmlAOpT_B4tiOKWCcmd-06F7_mGU69hiN0dIC0hX-r9H0aOQCKr2Uy_yPA5vstic2Bbxp-2hrRY-EACZVIyyoo9YzLuiWrdHOpUAfUJRXaos5YZ5u2Jzx-SyXjujiBL2rYS_PNdheOYsbPLU6Zi_FKP98M4Zl7dX-EppKlOJvV-4tnfwRJ13sBQmCll_lFYJbEWFwUvtaCS2LAZgj8Bz4HSXYnLwJ5YoZI-r9YJIThOoSzg1XWFMpoFLh1QHzGWnLgpaPYBcazr6rS-a9h7OAN596Nc2ifTzEUqbLTVIsjxwJ3oA9iRsR-4Bmpgw/download [following]\n",
      "--2024-01-07 22:19:26--  https://public.boxcloud.com/d/1/b1!nz3L5CQq3nECWQ93fE-hg3dNZOXfnfQtE57BKmYaXRzFXnRWoXbzSYYYHTN29X_kae4h73MYEYy-hfpEBG1AF_RelD8szoNG1sPsttYTarycFS8_VjXRLUh70B3_RjwEcRzRSUh2TVT4LgAXaf_XgxghwGAE-fkgYxFWjeUo3O-vC_BF_EukpQNJTd1Y2jf7oKUPa7sddbL7fGiah_b0vHEkq5oMLLTSF7kfPrnf4GOeuB5LhEzR0wIusyyVfGX1SxuP8fbOvt2MFB2SOjt1k4Dj_uzwBOzs3fje93iCvROpDi0TutqZ2bDlV_H5cx9hvo4fFsfN6GFbY0Xv-LAupURIIj_LIRu_Tp-7wtgSsYD1a0X5-ih5SlCQW6H8g0fRZEWunXP4GiwGNd6X9j7v1r5mvnjExD_vNJffeKl_G-RQObthriZfIsdYaODqhMywpSy4W4y9w-JOw4L-ftx_Fke4PUNGvSI6-ivTwhkG3OeMMYEeIA7T6iR2D6FU-K_tvZ_OrcMXI-thKkMxSQbDg0M6_XYiDnOJJQE9Kao1duQv5zPP37E3txJGBi2puHuVICf-RBi4DgdVq2KUDzdqf-c3dGetBrYkQ7Bddq8voScvytk9-LZWmvZXOQJPHjfep_vUBMd-bwGmycJPbth266yaIaFpzQiuvCu5bAiptn8wqgbAqfKfos9FyJ549hRTNp_X0eLw6jPVW07QRVOpfMDvkrE6oOv_-PvQCObP0r6wTk1AkUZAG4Enw9XuDBfJWkxGUTChp0sNsOGuHDlqMr8_LixhG9Zrr_VuFoy2UyhgB3z60VuJXBBzctc2TlgZNq732J9m3z4DC2jH8GjqHfJ6Ndch6vBzVBgZ51y_HRpa7gaSavgHGsO4WeGp6tMezbLX4B2hyat1eVJUBki6boHN_Ww3Zryh0YmeFxrZPFzTDjgXJ09jkAW0w8aDWxsWCEfa6nWYN9PWg3iFeh4mCzVHu97kdOJf70W7-1k-qCW-IJ0NHVJSVV8vJyT5OpzCOdOCt1NosrCVZ725l6la5x4__k8FvGIohokF_bi74v1HETibQ83mJyRlSZW58sfofWaa7ED3qg2NbuPNCDFkzWe1jd0ktmlAOpT_B4tiOKWCcmd-06F7_mGU69hiN0dIC0hX-r9H0aOQCKr2Uy_yPA5vstic2Bbxp-2hrRY-EACZVIyyoo9YzLuiWrdHOpUAfUJRXaos5YZ5u2Jzx-SyXjujiBL2rYS_PNdheOYsbPLU6Zi_FKP98M4Zl7dX-EppKlOJvV-4tnfwRJ13sBQmCll_lFYJbEWFwUvtaCS2LAZgj8Bz4HSXYnLwJ5YoZI-r9YJIThOoSzg1XWFMpoFLh1QHzGWnLgpaPYBcazr6rS-a9h7OAN596Nc2ifTzEUqbLTVIsjxwJ3oA9iRsR-4Bmpgw/download\n",
      "Resolving public.boxcloud.com (public.boxcloud.com)... 74.112.186.128, 74.112.186.128\n",
      "Connecting to public.boxcloud.com (public.boxcloud.com)|74.112.186.128|:443... connected.\n",
      "HTTP request sent, awaiting response... 200 OK\n",
      "Length: 24383 (24K) [image/jpeg]\n",
      "Saving to: ‘destructed3.jpg’\n",
      "\n",
      "destructed3.jpg     100%[===================>]  23.81K  --.-KB/s    in 0.008s  \n",
      "\n",
      "2024-01-07 22:19:26 (3.03 MB/s) - ‘destructed3.jpg’ saved [24383/24383]\n",
      "\n"
     ]
    },
    {
     "data": {
      "image/png": "[encoded data removed]",
      "text/plain": [
       "<PIL.JpegImagePlugin.JpegImageFile image mode=RGB size=181x181 at 0x7FE3BAC8CE10>"
      ]
     },
     "execution_count": 25,
     "metadata": {},
     "output_type": "execute_result"
    }
   ],
   "source": [
    "!wget -O destructed3.jpg  https://ibm.box.com/shared/static/vvm1b63uvuxq88vbw9znpwu5ol380mco.jpg\n",
    "img = Image.open('destructed3.jpg')\n",
    "img"
   ]
  },
  {
   "cell_type": "markdown",
   "metadata": {},
   "source": [
    "Now let's pass this image through the neural net:\n"
   ]
  },
  {
   "cell_type": "code",
   "execution_count": 26,
   "metadata": {},
   "outputs": [],
   "source": [
    "# convert the image to a 1d numpy array\n",
    "sample_case = np.array(img.convert('I').resize((28,28))).ravel().reshape((1, -1))/255.0\n",
    "\n",
    "sample_case = tf.cast(sample_case, dtype=tf.float32)"
   ]
  },
  {
   "cell_type": "markdown",
   "metadata": {},
   "source": [
    "Feed the sample case into the network and reconstruct the output:\n"
   ]
  },
  {
   "cell_type": "code",
   "execution_count": 27,
   "metadata": {},
   "outputs": [
    {
     "name": "stdout",
     "output_type": "stream",
     "text": [
      "Probability nodes in hidden layer: tf.Tensor(\n",
      "[[1.05110765e-08 2.40219932e-04 9.99997914e-01 4.12045777e-01\n",
      "  3.92461880e-06 5.39403061e-07 3.26274012e-08 9.91315484e-01\n",
      "  1.00000000e+00 1.68807863e-04 9.98841405e-01 9.99999523e-01\n",
      "  1.32044137e-03 5.66885341e-12 9.99901593e-01 1.65274479e-08\n",
      "  3.46226492e-10 1.00000000e+00 3.16577712e-06 6.42744899e-01\n",
      "  9.99741137e-01 1.79061928e-07 1.11020948e-09 9.99828815e-01\n",
      "  9.99999285e-01 9.77267265e-01 5.02919219e-02 9.99002934e-01\n",
      "  2.20768653e-10 8.59830252e-05 9.88641798e-01 1.37258015e-04\n",
      "  5.61472325e-06 2.15805562e-06 6.83860242e-01 1.71746637e-14\n",
      "  2.53499388e-06 1.07377632e-16 9.99977469e-01 1.00000000e+00\n",
      "  1.68295145e-01 1.15380589e-12 1.28243223e-11 9.64087907e-11\n",
      "  2.81742643e-07 3.61183028e-10 1.23284017e-05 2.18849543e-08\n",
      "  9.99969006e-01 9.99913275e-01]], shape=(1, 50), dtype=float32)\n",
      "activated nodes in hidden layer: tf.Tensor(\n",
      "[[0. 0. 1. 0. 0. 0. 0. 1. 1. 0. 1. 1. 0. 0. 1. 0. 0. 1. 0. 1. 1. 0. 0. 1.\n",
      "  1. 1. 0. 1. 0. 0. 1. 0. 0. 0. 1. 0. 0. 0. 1. 1. 0. 0. 0. 0. 0. 0. 0. 0.\n",
      "  1. 1.]], shape=(1, 50), dtype=float32)\n",
      "tf.Tensor(\n",
      "[[1.20939905e-04 8.95974517e-05 8.35405663e-05 1.29707987e-04\n",
      "  1.73337758e-04 1.24622689e-04 9.70589463e-05 1.13897775e-04\n",
      "  1.00014593e-04 1.04095845e-04 9.80344194e-05 1.43347454e-04\n",
      "  1.06244326e-04 1.29388034e-04 1.61260163e-04 7.88984980e-05\n",
      "  9.70589463e-05 1.17366151e-04 2.05451492e-04 1.71613268e-04\n",
      "  1.35000751e-04 1.47712504e-04 9.14072225e-05 1.41921293e-04\n",
      "  1.11642752e-04 1.10531997e-04 1.84054297e-04 1.09432280e-04\n",
      "  1.08343600e-04 1.04095845e-04 1.20939905e-04 1.31011446e-04\n",
      "  1.38507443e-04 1.00833546e-04 1.22395082e-04 1.23436112e-04\n",
      "  1.29631822e-04 1.31949593e-04 2.15374486e-04 1.39144569e-04\n",
      "  3.57416749e-04 1.85408979e-04 2.69730313e-04 2.80009350e-04\n",
      "  2.94223544e-04 2.66012590e-04 2.24047777e-04 1.36015849e-04\n",
      "  1.75161884e-04 1.20197794e-04 1.06971689e-04 1.13951552e-04\n",
      "  1.58421113e-04 1.41921424e-04 1.18545475e-04 1.19736877e-04\n",
      "  8.52280937e-05 1.32327987e-04 1.60830823e-04 9.30781825e-05\n",
      "  1.81112351e-04 9.68992244e-05 1.29865890e-04 1.47631668e-04\n",
      "  8.55665203e-05 8.65178808e-05 4.00860154e-05 3.45974149e-05\n",
      "  4.67211576e-05 5.40502479e-05 5.54460821e-05 1.26326689e-04\n",
      "  1.61426782e-04 3.04183224e-04 3.11691780e-04 2.29660829e-04\n",
      "  1.14704882e-04 2.38038934e-04 3.65737302e-04 2.00093404e-04\n",
      "  2.25448370e-04 1.46449587e-04 7.55913425e-05 1.05141837e-04\n",
      "  1.06198539e-04 1.89658647e-04 1.21877871e-04 1.67603532e-04\n",
      "  2.21427792e-04 1.10367590e-04 1.26558181e-04 8.71136945e-05\n",
      "  5.90774689e-05 3.35184195e-05 2.16162553e-05 2.64300052e-05\n",
      "  3.10729774e-05 8.57665800e-05 7.26363796e-05 6.17401034e-04\n",
      "  1.63622911e-03 1.47652300e-03 9.78234457e-04 9.09445866e-04\n",
      "  3.88331275e-04 3.58920137e-04 3.40632250e-04 3.95999668e-04\n",
      "  3.55098076e-04 1.56783863e-04 6.79918303e-05 1.73337758e-04\n",
      "  8.10717902e-05 1.44481906e-04 1.46369319e-04 1.02235201e-04\n",
      "  2.81980552e-04 2.60807865e-04 1.14058967e-04 1.03482220e-04\n",
      "  6.42750310e-05 7.26945073e-05 7.59526956e-05 1.68300146e-04\n",
      "  3.48253350e-04 2.39928835e-03 1.25187850e-02 4.03041579e-02\n",
      "  7.42027313e-02 5.20861372e-02 1.15522454e-02 4.10033995e-03\n",
      "  1.70946971e-03 1.81356061e-03 3.21338372e-03 4.63669561e-03\n",
      "  2.83688470e-03 1.43006619e-03 1.52353750e-04 1.34710019e-04\n",
      "  1.02034770e-04 1.13897775e-04 1.18243821e-04 1.55711459e-04\n",
      "  2.67235591e-04 1.93968532e-04 2.67301803e-04 4.82384465e-04\n",
      "  2.21337876e-04 1.07340550e-03 1.41331705e-03 4.16122423e-03\n",
      "  3.15825790e-02 2.21663281e-01 6.76805198e-01 9.55961049e-01\n",
      "  9.56727564e-01 8.81164730e-01 3.76613379e-01 6.99639916e-02\n",
      "  3.77558842e-02 7.68212089e-03 1.62032899e-02 8.33438337e-03\n",
      "  6.53235707e-03 3.69369541e-03 9.22098116e-04 1.14974697e-04\n",
      "  1.01019672e-04 1.31892855e-04 1.58222305e-04 2.31404279e-04\n",
      "  4.08584368e-04 1.94495035e-04 1.30210130e-04 4.05193743e-04\n",
      "  3.67987348e-04 8.30408186e-04 7.75950868e-03 1.12208091e-01\n",
      "  7.02655375e-01 9.12782550e-01 9.84155118e-01 9.89310205e-01\n",
      "  9.74288285e-01 8.71953130e-01 5.91301322e-01 2.68153250e-01\n",
      "  1.90015137e-01 7.15560615e-02 4.76817973e-02 2.89810449e-02\n",
      "  1.34649305e-02 8.30370374e-03 2.21915636e-03 1.62491429e-04\n",
      "  1.05447463e-04 1.33731184e-04 2.62860354e-04 4.65389574e-04\n",
      "  2.79857224e-04 4.36062430e-04 3.71105532e-04 8.14759871e-04\n",
      "  1.41615397e-03 7.52518652e-03 1.90486535e-01 7.35936463e-01\n",
      "  9.36096907e-01 9.86393392e-01 9.87574160e-01 9.69925165e-01\n",
      "  9.32659864e-01 5.14469802e-01 3.54334116e-01 5.52499533e-01\n",
      "  5.45606792e-01 2.46525317e-01 1.54548869e-01 1.07597120e-01\n",
      "  1.70005877e-02 2.96529057e-03 1.64945261e-03 1.72301254e-04\n",
      "  1.32754154e-04 1.16728304e-04 2.32741630e-04 2.61924986e-04\n",
      "  5.98669110e-04 5.57482243e-04 8.45001428e-04 5.56774146e-04\n",
      "  4.50212043e-03 2.44119689e-02 3.65660757e-01 9.05082226e-01\n",
      "  9.64400411e-01 9.52421010e-01 9.15045857e-01 7.04882860e-01\n",
      "  3.09700876e-01 1.30381808e-01 9.29501280e-02 7.14373291e-01\n",
      "  8.38120162e-01 7.46268749e-01 2.73454010e-01 4.24124673e-02\n",
      "  1.01768840e-02 3.45267821e-03 7.37673836e-04 1.61678181e-04\n",
      "  1.25544815e-04 1.28467975e-04 1.61513613e-04 2.31495433e-04\n",
      "  5.47602482e-04 6.04096742e-04 9.01990687e-04 1.24012015e-03\n",
      "  4.14886884e-03 5.53453453e-02 4.74661976e-01 8.57917607e-01\n",
      "  7.83083439e-01 4.44563717e-01 3.15559000e-01 1.68821409e-01\n",
      "  7.00887516e-02 4.26149927e-02 2.11667106e-01 8.16548526e-01\n",
      "  9.18821156e-01 8.20988894e-01 1.99691415e-01 3.07378508e-02\n",
      "  7.04791956e-03 1.45515369e-03 4.14731447e-04 1.41144483e-04\n",
      "  1.47434868e-04 2.69856362e-04 1.51930275e-04 1.05758132e-04\n",
      "  2.70591874e-04 3.58628255e-04 4.72747139e-04 1.19448651e-03\n",
      "  1.11135989e-02 1.15474939e-01 3.19283515e-01 3.06411803e-01\n",
      "  1.75946251e-01 2.22606823e-01 1.04904465e-01 8.59293640e-02\n",
      "  7.86635280e-02 6.49582595e-02 6.13228738e-01 9.38874543e-01\n",
      "  9.31165695e-01 7.74474740e-01 8.54173824e-02 9.80587676e-03\n",
      "  2.08230782e-03 1.17726054e-03 4.07815678e-04 1.56679234e-04\n",
      "  1.82287695e-04 2.74691876e-04 2.43532908e-04 1.66915517e-04\n",
      "  3.37760401e-04 2.24298507e-04 2.58289714e-04 1.00571627e-03\n",
      "  8.32372159e-03 3.45763937e-02 1.50021881e-01 8.60203803e-02\n",
      "  1.20082565e-01 2.29376927e-01 3.21235090e-01 2.43625134e-01\n",
      "  3.25423837e-01 3.27240586e-01 6.77607775e-01 8.03983986e-01\n",
      "  9.02565122e-01 2.69761890e-01 1.84120759e-02 5.64371189e-03\n",
      "  2.81041372e-03 8.26159958e-04 3.46544723e-04 1.37614203e-04\n",
      "  8.94113837e-05 1.89405997e-04 3.35595134e-04 3.86931148e-04\n",
      "  1.72404150e-04 2.57481035e-04 4.23332123e-04 1.69085071e-03\n",
      "  1.10489707e-02 5.01572415e-02 8.38377401e-02 1.21428244e-01\n",
      "  4.08817768e-01 7.06068873e-01 7.56739378e-01 6.94780350e-01\n",
      "  6.41086221e-01 6.48627281e-01 6.51399851e-01 6.25560343e-01\n",
      "  2.98944145e-01 2.77899280e-02 6.29347656e-03 9.58094606e-04\n",
      "  4.86812845e-04 5.50241792e-04 1.29647262e-04 1.04296050e-04\n",
      "  1.13478891e-04 1.73821216e-04 1.83032767e-04 2.16059605e-04\n",
      "  1.01040583e-04 2.89751741e-04 5.67614799e-04 2.93437135e-03\n",
      "  1.59079656e-02 5.96631914e-02 1.72482640e-01 5.18021762e-01\n",
      "  9.12905872e-01 9.61785853e-01 9.52736259e-01 8.33490431e-01\n",
      "  7.92430699e-01 5.66636503e-01 3.35749418e-01 2.91453004e-01\n",
      "  3.92360613e-02 5.61136147e-03 2.63621472e-03 6.00834726e-04\n",
      "  2.94215686e-04 4.57055983e-04 2.36419888e-04 1.40884702e-04\n",
      "  1.79979615e-04 1.18322772e-04 1.65059930e-04 3.25999135e-04\n",
      "  2.13343737e-04 1.88943159e-04 1.01499492e-03 1.93812011e-03\n",
      "  3.13100070e-02 1.26234025e-01 2.83592522e-01 8.06189895e-01\n",
      "  9.44776535e-01 9.65736985e-01 9.64913189e-01 9.01232123e-01\n",
      "  8.17601681e-01 5.65028131e-01 2.61897653e-01 3.46318111e-02\n",
      "  6.85051223e-03 2.43391888e-03 1.41380099e-03 3.15269135e-04\n",
      "  1.10395900e-04 1.21544552e-04 1.82280739e-04 1.37124196e-04\n",
      "  1.24857499e-04 1.47249826e-04 2.22437360e-04 4.71779786e-04\n",
      "  3.78548750e-04 3.20267747e-04 1.00777321e-03 5.99579839e-03\n",
      "  2.22380906e-02 7.74132609e-02 2.51627058e-01 5.67406714e-01\n",
      "  7.44968534e-01 7.99288273e-01 6.35276735e-01 5.26410818e-01\n",
      "  6.94589734e-01 4.78948444e-01 2.52079964e-01 1.04694171e-02\n",
      "  1.34730781e-03 1.19362213e-03 1.31370558e-03 5.12931438e-04\n",
      "  1.86895501e-04 1.35320006e-04 1.73644279e-04 1.51317698e-04\n",
      "  1.02777703e-04 1.01098987e-04 4.53343411e-04 1.62776525e-03\n",
      "  1.55661104e-03 4.53104702e-04 3.50648980e-03 1.55311907e-02\n",
      "  4.39374521e-02 9.00229961e-02 1.25426844e-01 2.74587661e-01\n",
      "  1.90112337e-01 1.16133928e-01 1.58097476e-01 2.92927057e-01\n",
      "  5.27344882e-01 6.94628000e-01 1.59395903e-01 7.00682076e-03\n",
      "  8.88732553e-04 1.29483221e-03 8.17237189e-04 2.84006557e-04\n",
      "  2.03821313e-04 9.03000255e-05 3.03978537e-04 1.23639693e-04\n",
      "  1.29707987e-04 1.51015454e-04 4.65625897e-04 2.13315990e-03\n",
      "  2.83306837e-03 4.95920423e-03 9.26923938e-03 3.84486653e-02\n",
      "  8.44253898e-02 1.52183905e-01 9.69018713e-02 8.45009834e-02\n",
      "  5.34543358e-02 4.04634662e-02 7.66371563e-02 1.11628704e-01\n",
      "  4.64788705e-01 6.97971880e-01 2.01013118e-01 8.67073331e-03\n",
      "  2.53421068e-03 2.83059780e-03 1.24873791e-03 9.17547732e-04\n",
      "  7.04664853e-04 1.77590802e-04 2.93095247e-04 1.18731688e-04\n",
      "  1.68750892e-04 1.24490864e-04 1.13026530e-03 5.48173022e-03\n",
      "  1.17111085e-02 1.58854853e-02 3.96312177e-02 8.94905776e-02\n",
      "  1.29521921e-01 1.49150163e-01 6.02055788e-02 1.76897384e-02\n",
      "  7.24286446e-03 1.42565481e-02 7.81386271e-02 1.63790539e-01\n",
      "  5.22586524e-01 6.92957997e-01 3.14324975e-01 2.60086209e-02\n",
      "  3.36828479e-03 5.99720236e-03 2.63881753e-03 1.54420361e-03\n",
      "  7.64025899e-04 1.12844500e-04 2.07842080e-04 1.56660884e-04\n",
      "  1.59449512e-04 1.58340466e-04 1.35759206e-03 1.12755690e-02\n",
      "  7.92609081e-02 8.30772594e-02 2.54478991e-01 2.15234473e-01\n",
      "  1.96222976e-01 1.12879328e-01 3.75238135e-02 1.30412066e-02\n",
      "  1.41925598e-02 5.59375323e-02 1.10124417e-01 2.64134258e-01\n",
      "  5.10913551e-01 5.48470199e-01 4.06387180e-01 4.41441908e-02\n",
      "  2.02894285e-02 4.89495182e-03 3.96994827e-03 1.92080089e-03\n",
      "  7.79500522e-04 2.99776671e-04 3.27189773e-04 9.34512718e-05\n",
      "  1.46242906e-04 1.92362277e-04 2.55437871e-03 7.01973811e-02\n",
      "  1.55786082e-01 2.73578107e-01 5.79592764e-01 6.40758991e-01\n",
      "  5.71441233e-01 2.47092381e-01 9.79555994e-02 5.36294505e-02\n",
      "  1.38406873e-01 1.74417973e-01 1.79906234e-01 4.01104063e-01\n",
      "  6.59051716e-01 6.69948220e-01 1.93711698e-01 8.02554637e-02\n",
      "  1.95357874e-02 9.36081540e-03 4.55654226e-03 1.93701754e-03\n",
      "  1.19011465e-03 8.81542335e-04 3.43784399e-04 1.68453465e-04\n",
      "  1.08893066e-04 9.85432562e-05 1.72196620e-03 3.01695727e-02\n",
      "  2.61303157e-01 4.68490690e-01 6.80063486e-01 8.43393922e-01\n",
      "  7.05749393e-01 4.10418093e-01 2.87514657e-01 1.73744082e-01\n",
      "  3.71689498e-01 3.34170640e-01 4.18428391e-01 5.43313861e-01\n",
      "  5.06400824e-01 3.79377663e-01 8.85038897e-02 3.94712761e-02\n",
      "  8.27694684e-03 4.45107091e-03 2.10271752e-03 1.18759891e-03\n",
      "  1.18137640e-03 5.40516223e-04 2.26529592e-04 1.31196575e-04\n",
      "  1.38360905e-04 7.84972945e-05 1.32264197e-03 1.15167340e-02\n",
      "  9.39644352e-02 3.40733171e-01 7.23525107e-01 8.13117504e-01\n",
      "  7.08953321e-01 5.25407255e-01 5.63320518e-01 5.79558372e-01\n",
      "  5.39214134e-01 4.15447146e-01 6.07492685e-01 3.94786805e-01\n",
      "  4.08107728e-01 1.52566791e-01 3.16499248e-02 1.31526068e-02\n",
      "  9.33489855e-03 3.16477846e-03 1.51286204e-03 8.18784814e-04\n",
      "  6.17467507e-04 3.98273085e-04 1.04533516e-04 1.63168210e-04\n",
      "  1.31011446e-04 1.09432382e-04 3.78944853e-04 4.30130912e-03\n",
      "  2.16330383e-02 1.38921574e-01 4.00446236e-01 7.01864421e-01\n",
      "  7.92774618e-01 8.96428883e-01 8.87816727e-01 8.63354862e-01\n",
      "  7.25236833e-01 4.98669833e-01 3.90205026e-01 1.72772840e-01\n",
      "  9.71815363e-02 2.90331412e-02 1.71849951e-02 8.46651290e-03\n",
      "  2.12561549e-03 9.41232138e-04 4.80745424e-04 5.33592654e-04\n",
      "  4.11799992e-04 2.41441041e-04 8.73083845e-05 8.87060087e-05\n",
      "  1.56845010e-04 1.22155252e-04 1.49319807e-04 6.58402743e-04\n",
      "  6.28337264e-03 3.52986008e-02 1.29886121e-01 2.52581447e-01\n",
      "  5.55834591e-01 7.21244752e-01 6.11374855e-01 5.05086541e-01\n",
      "  4.15166199e-01 2.82905757e-01 6.12292886e-02 2.85122897e-02\n",
      "  1.24134626e-02 6.34725299e-03 4.33343137e-03 9.97814815e-04\n",
      "  4.66359925e-04 2.66922347e-04 1.82317410e-04 4.25283739e-04\n",
      "  1.65929741e-04 2.75349506e-04 9.63197672e-05 1.76838686e-04\n",
      "  1.02034770e-04 1.44788079e-04 1.20854711e-04 1.39477590e-04\n",
      "  4.59786010e-04 2.14698096e-03 5.00799762e-03 1.09223062e-02\n",
      "  1.94176864e-02 1.52942427e-02 1.06128836e-02 1.67328212e-02\n",
      "  1.26375519e-02 4.44405526e-03 1.00275839e-03 9.44464759e-04\n",
      "  1.72355643e-03 2.26677861e-03 5.45331219e-04 3.45543784e-04\n",
      "  2.47994700e-04 2.60245986e-04 1.41205586e-04 1.88546852e-04\n",
      "  1.26038169e-04 1.91661980e-04 1.15816372e-04 1.23382822e-04\n",
      "  1.89658473e-04 1.61620846e-04 1.27139865e-04 1.65942562e-04\n",
      "  1.58950090e-04 4.24367696e-04 8.92245735e-04 6.62075588e-04\n",
      "  3.95381066e-04 4.26108338e-04 1.95107976e-04 1.77780385e-04\n",
      "  2.05600823e-04 1.27931431e-04 1.14472583e-04 2.30080099e-04\n",
      "  3.24408349e-04 1.77138762e-04 1.71366191e-04 1.40913195e-04\n",
      "  1.66060330e-04 2.54364917e-04 1.55211761e-04 1.98017442e-04\n",
      "  9.22100298e-05 1.26562896e-04 1.24622689e-04 1.69905921e-04\n",
      "  1.50696113e-04 1.39111522e-04 1.08343600e-04 1.16198455e-04\n",
      "  9.28960580e-05 2.14565080e-04 1.50879423e-04 1.70426618e-04\n",
      "  3.05854745e-04 5.16673317e-04 2.79373664e-04 2.44202995e-04\n",
      "  9.97133830e-05 1.22688638e-04 1.02842401e-04 1.19207936e-04\n",
      "  1.33909576e-04 2.41214409e-04 1.43623416e-04 1.20476274e-04\n",
      "  8.89672665e-05 9.52455594e-05 1.01221885e-04 7.66088197e-05\n",
      "  1.04095845e-04 1.15042370e-04 1.22155252e-04 1.29707871e-04]], shape=(1, 784), dtype=float32)\n"
     ]
    }
   ],
   "source": [
    "hh0_p = tf.nn.sigmoid(tf.matmul(sample_case, W) + hb)\n",
    "hh0_s = tf.round(hh0_p)\n",
    "\n",
    "print(\"Probability nodes in hidden layer:\" ,hh0_p)\n",
    "print(\"activated nodes in hidden layer:\" ,hh0_s)\n",
    "\n",
    "# reconstruct\n",
    "vv1_p = tf.nn.sigmoid(tf.matmul(hh0_s, tf.transpose(W)) + vb)\n",
    "\n",
    "print(vv1_p)\n",
    "#rec_prob = sess.run(vv1_p, feed_dict={ hh0_s: hh0_s_val, W: prv_w, vb: prv_vb})"
   ]
  },
  {
   "cell_type": "markdown",
   "metadata": {},
   "source": [
    "Here we plot the reconstructed image:\n"
   ]
  },
  {
   "cell_type": "code",
   "execution_count": 28,
   "metadata": {},
   "outputs": [
    {
     "data": {
      "image/png": "[encoded data removed]",
      "text/plain": [
       "<Figure size 400x400 with 1 Axes>"
      ]
     },
     "metadata": {},
     "output_type": "display_data"
    }
   ],
   "source": [
    "img = Image.fromarray(tile_raster_images(X=vv1_p.numpy(), img_shape=(28, 28),tile_shape=(1, 1), tile_spacing=(1, 1)))\n",
    "plt.rcParams['figure.figsize'] = (4.0, 4.0)\n",
    "imgplot = plt.imshow(img)\n",
    "imgplot.set_cmap('gray') "
   ]
  },
  {
   "cell_type": "markdown",
   "metadata": {},
   "source": [
    "<hr>\n",
    "\n",
    "## Want to learn more?\n",
    "\n",
    "Also, you can use __Watson Studio__ to run these notebooks faster with bigger datasets.__Watson Studio__ is IBM’s leading cloud solution for data scientists, built by data scientists. With Jupyter notebooks, RStudio, Apache Spark and popular libraries pre-packaged in the cloud, __Watson Studio__ enables data scientists to collaborate on their projects without having to install anything. Join the fast-growing community of __Watson Studio__ users today with a free account at [Watson Studio](https://cocl.us/ML0120EN_DSX).This is the end of this lesson. Thank you for reading this notebook, and good luck on your studies.\n"
   ]
  },
  {
   "cell_type": "markdown",
   "metadata": {},
   "source": [
    "### Thanks for completing this lesson!\n",
    "\n",
    "Notebook created by: <a href = \"https://ca.linkedin.com/in/saeedaghabozorgi\">Saeed Aghabozorgi</a>\n",
    "\n",
    "Updated to TF 2.X by  <a href=\"https://ca.linkedin.com/in/nilmeier\"> Jerome Nilmeier</a><br />\n"
   ]
  },
  {
   "cell_type": "markdown",
   "metadata": {},
   "source": [
    "### References:\n",
    "https://en.wikipedia.org/wiki/Restricted_Boltzmann_machine  \n",
    "http://deeplearning.net/tutorial/rbm.html  \n",
    "http://www.cs.utoronto.ca/~hinton/absps/netflixICML.pdf<br>\n",
    "http://imonad.com/rbm/restricted-boltzmann-machine/  \n"
   ]
  },
  {
   "cell_type": "markdown",
   "metadata": {},
   "source": [
    "<hr>\n",
    "\n",
    "Copyright &copy; 2018 [Cognitive Class](https://cocl.us/DX0108EN_CC). This notebook and its source code are released under the terms of the [MIT License](https://bigdatauniversity.com/mit-license/).\n"
   ]
  }
 ],
 "metadata": {
  "kernelspec": {
   "display_name": "Python",
   "language": "python",
   "name": "conda-env-python-py"
  },
  "language_info": {
   "codemirror_mode": {
    "name": "ipython",
    "version": 3
   },
   "file_extension": ".py",
   "mimetype": "text/x-python",
   "name": "python",
   "nbconvert_exporter": "python",
   "pygments_lexer": "ipython3",
   "version": "3.7.12"
  }
 },
 "nbformat": 4,
 "nbformat_minor": 4
}
