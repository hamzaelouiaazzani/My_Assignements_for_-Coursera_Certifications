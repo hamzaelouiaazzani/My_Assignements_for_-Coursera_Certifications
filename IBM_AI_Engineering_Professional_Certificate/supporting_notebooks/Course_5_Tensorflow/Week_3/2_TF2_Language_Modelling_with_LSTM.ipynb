{
 "cells": [
  {
   "cell_type": "markdown",
   "metadata": {},
   "source": [
    "<img src=\"https://cf-courses-data.s3.us.cloud-object-storage.appdomain.cloud/IBMDeveloperSkillsNetwork-DL0120EN-SkillsNetwork/images/IDSN-logo.png\" width=\"300\" alt=\"cognitiveclass.ai logo\">\n",
    "\n",
    "<h1 align=\"center\"><font size=\"5\">RECURRENT NETWORKS and LSTM IN DEEP LEARNING</font></h1>\n"
   ]
  },
  {
   "cell_type": "markdown",
   "metadata": {},
   "source": [
    "Estimated time needed: **30** minutes\n"
   ]
  },
  {
   "cell_type": "markdown",
   "metadata": {},
   "source": [
    "<h2>Applying Recurrent Neural Networks/LSTM for Language Modeling</h2>\n",
    "Hello and welcome to this part. In this notebook, we will go over the topic of Language Modelling, and create a Recurrent Neural Network model based on the Long Short-Term Memory unit to train and benchmark on the Penn Treebank dataset. By the end of this notebook, you should be able to understand how TensorFlow builds and executes a RNN model for Language Modelling.\n"
   ]
  },
  {
   "cell_type": "markdown",
   "metadata": {},
   "source": [
    "<h2>The Objective</h2>\n",
    "By now, you should have an understanding of how Recurrent Networks work -- a specialized model to process sequential data by keeping track of the \"state\" or context. In this notebook, we go over a TensorFlow code snippet for creating a model focused on <b>Language Modelling</b> -- a very relevant task that is the cornerstone of many different linguistic problems such as <b>Speech Recognition, Machine Translation and Image Captioning</b>. For this, we will be using the Penn Treebank dataset, which is an often-used dataset for benchmarking Language Modelling models.\n"
   ]
  },
  {
   "cell_type": "markdown",
   "metadata": {},
   "source": [
    "\n",
    "<h2>Table of Contents</h2>\n",
    "<ol>\n",
    "    <li><a href=\"#language_modelling\">What exactly is Language Modelling?</a></li>\n",
    "    <li><a href=\"#treebank_dataset\">The Penn Treebank dataset</a></li>\n",
    "    <li><a href=\"#word_embedding\">Word Embedding</a></li>\n",
    "    <li><a href=\"#building_lstm_model\">Building the LSTM model for Language Modeling</a></li>\n",
    "    <li><a href=\"#ltsm\">LTSM</a></li>\n",
    "</ol>\n",
    "<p></p>\n",
    "</div>\n",
    "<br>\n"
   ]
  },
  {
   "cell_type": "markdown",
   "metadata": {},
   "source": [
    "--------\n"
   ]
  },
  {
   "cell_type": "markdown",
   "metadata": {},
   "source": [
    "<a id=\"language_modelling\"></a>\n",
    "<h2>What exactly is Language Modelling?</h2>\n",
    "Language Modelling, to put it simply, <b>is the task of assigning probabilities to sequences of words</b>. This means that, given a context of one or a sequence of words in the language the model was trained on, the model should provide the next most probable words or sequence of words that follows from the given sequence of words the sentence. Language Modelling is one of the most important tasks in Natural Language Processing.\n",
    "\n",
    "<img src=\"https://ibm.box.com/shared/static/1d1i5gub6wljby2vani2vzxp0xsph702.png\" width=\"1080\">\n",
    "<center><i>Example of a sentence being predicted</i></center>\n",
    "<br><br>\n",
    "In this example, one can see the predictions for the next word of a sentence, given the context \"This is an\". As you can see, this boils down to a sequential data analysis task -- you are given a word or a sequence of words (the input data), and, given the context (the state), you need to find out what is the next word (the prediction). This kind of analysis is very important for language-related tasks such as <b>Speech Recognition, Machine Translation, Image Captioning, Text Correction</b> and many other very relevant problems. \n",
    "\n",
    "<img src=\"https://ibm.box.com/shared/static/az39idf9ipfdpc5ugifpgxnydelhyf3i.png\" width=\"1080\">\n",
    "<center><i>The above example is a schema of an RNN in execution</i></center>\n",
    "<br><br>\n",
    "As the above image shows, Recurrent Network models fit this problem like a glove. Alongside LSTM and its capacity to maintain the model's state for over one thousand time steps, we have all the tools we need to undertake this problem. The goal for this notebook is to create a model that can reach <b>low levels of perplexity</b> on our desired dataset.\n",
    "\n",
    "For Language Modelling problems, <b>perplexity</b> is the way to gauge efficiency. Perplexity is simply a measure of how well a probabilistic model is able to predict its sample. A higher-level way to explain this would be saying that <b>low perplexity means a higher degree of trust in the predictions the model makes</b>. Therefore, the lower perplexity is, the better.\n"
   ]
  },
  {
   "cell_type": "markdown",
   "metadata": {},
   "source": [
    "<a id=\"treebank_dataset\"></a>\n",
    "<h2>The Penn Treebank dataset</h2>\n",
    "Historically, datasets big enough for Natural Language Processing are hard to come by. This is in part due to the necessity of the sentences to be broken down and tagged with a certain degree of correctness -- or else the models trained on it won't be able to be correct at all. This means that we need a <b>large amount of data, annotated by or at least corrected by humans</b>. This is, of course, not an easy task at all.\n",
    "\n",
    "The Penn Treebank, or PTB for short, is a dataset maintained by the University of Pennsylvania. It is <i>huge</i> -- there are over <b>four million and eight hundred thousand</b> annotated words in it, all corrected by humans. It is composed of many different sources, from abstracts of Department of Energy papers to texts from the Library of America. Since it is verifiably correct and of such a huge size, the Penn Treebank is commonly used as a benchmark dataset for Language Modelling.\n",
    "\n",
    "The dataset is divided in different kinds of annotations, such as Piece-of-Speech, Syntactic and Semantic skeletons. For this example, we will simply use a sample of clean, non-annotated words (with the exception of one tag --<code>&lt;unk&gt;</code>\n",
    ", which is used for rare words such as uncommon proper nouns) for our model. This means that we just want to predict what the next words would be, not what they mean in context or their classes on a given sentence.\n",
    "\n",
    "<center>Example of text from the dataset we are going to use, <b>ptb.train</b></center>\n",
    "<br><br>\n",
    "\n",
    "<div class=\"alert alert-block alert-info\" style=\"margin-top: 20px\">\n",
    "    <center>the percentage of lung cancer deaths among the workers at the west <code>&lt;unk&gt;</code> mass. paper factory appears to be the highest for any asbestos workers studied in western industrialized countries he said \n",
    " the plant which is owned by <code>&lt;unk&gt;</code> & <code>&lt;unk&gt;</code> co. was under contract with <code>&lt;unk&gt;</code> to make the cigarette filters \n",
    " the finding probably will support those who argue that the U.S. should regulate the class of asbestos including <code>&lt;unk&gt;</code> more <code>&lt;unk&gt;</code> than the common kind of asbestos <code>&lt;unk&gt;</code> found in most schools and other buildings dr. <code>&lt;unk&gt;</code> said</center>\n",
    "</div>\n"
   ]
  },
  {
   "cell_type": "markdown",
   "metadata": {},
   "source": [
    "<a id=\"word_embedding\"></a>\n",
    "<h2>Word Embeddings</h2><br/>\n",
    "\n",
    "For better processing, in this example, we will make use of <a href=\"https://www.tensorflow.org/tutorials/word2vec/?utm_medium=Exinfluencer&utm_source=Exinfluencer&utm_content=000026UJ&utm_term=10006555&utm_id=NA-SkillsNetwork-Channel-SkillsNetworkCoursesIBMDeveloperSkillsNetworkDL0120ENSkillsNetwork954-2023-01-01\"><b>word embeddings</b></a>, which is <b>a way of representing sentence structures or words as n-dimensional vectors (where n is a reasonably high number, such as 200 or 500) of real numbers</b>. Basically, we will assign each word a randomly-initialized vector, and input those into the network to be processed. After a number of iterations, these vectors are expected to assume values that help the network to correctly predict what it needs to -- in our case, the probable next word in the sentence. This is shown to be a very effective task in Natural Language Processing, and is a commonplace practice.\n",
    "<br><br>\n",
    "<font size=\"4\"><strong>\n",
    "$$Vec(\"Example\") = [0.02, 0.00, 0.00, 0.92, 0.30, \\ldots]$$\n",
    "</strong></font>\n",
    "<br>\n",
    "Word Embedding tends to group up similarly used words <i>reasonably</i> close together in the vectorial space. For example, if we use T-SNE (a dimensional reduction visualization algorithm) to flatten the dimensions of our vectors into a 2-dimensional space and plot these words in a 2-dimensional space, we might see something like this:\n",
    "\n",
    "<img src=\"https://ibm.box.com/shared/static/bqhc5dg879gcoabzhxra1w8rkg3od1cu.png\" width=\"800\">\n",
    "<center><i>T-SNE Mockup with clusters marked for easier visualization</i></center>\n",
    "<br><br>\n",
    "As you can see, words that are frequently used together, in place of each other, or in the same places as them tend to be grouped together -- being closer together the higher they are correlated. For example, \"None\" is pretty semantically close to \"Zero\", while a phrase that uses \"Italy\", you could probably also fit \"Germany\" in it, with little damage to the sentence structure. The vectorial \"closeness\" for similar words like this is a great indicator of a well-built model.\n",
    "\n",
    "<hr>\n",
    " \n"
   ]
  },
  {
   "cell_type": "markdown",
   "metadata": {},
   "source": [
    "We need to import the necessary modules for our code. We need <b><code>numpy</code></b> and <b><code>tensorflow</code></b>, obviously. Additionally, we can import directly the <b><code>tensorflow.models.rnn</code></b> model, which includes the function for building RNNs, and <b><code>tensorflow.models.rnn.ptb.reader</code></b> which is the helper module for getting the input data from the dataset we just downloaded.\n",
    "\n",
    "If you want to learn more take a look at https://github.com/tensorflow/models/blob/master/tutorials/rnn/ptb/reader.py\n"
   ]
  },
  {
   "cell_type": "code",
   "execution_count": 1,
   "metadata": {},
   "outputs": [
    {
     "name": "stdout",
     "output_type": "stream",
     "text": [
      "Collecting tensorflow==2.9.0\n",
      "  Downloading tensorflow-2.9.0-cp37-cp37m-manylinux_2_17_x86_64.manylinux2014_x86_64.whl (511.7 MB)\n",
      "\u001b[2K     \u001b[90m━━━━━━━━━━━━━━━━━━━━━━━━━━━━━━━━━━━━━\u001b[0m \u001b[32m511.7/511.7 MB\u001b[0m \u001b[31m945.3 kB/s\u001b[0m eta \u001b[36m0:00:00\u001b[0m00:01\u001b[0m00:01\u001b[0m\n",
      "\u001b[?25hRequirement already satisfied: absl-py>=1.0.0 in /home/jupyterlab/conda/envs/python/lib/python3.7/site-packages (from tensorflow==2.9.0) (1.4.0)\n",
      "Collecting astunparse>=1.6.0 (from tensorflow==2.9.0)\n",
      "  Downloading astunparse-1.6.3-py2.py3-none-any.whl (12 kB)\n",
      "Collecting flatbuffers<2,>=1.12 (from tensorflow==2.9.0)\n",
      "  Downloading flatbuffers-1.12-py2.py3-none-any.whl (15 kB)\n",
      "Collecting gast<=0.4.0,>=0.2.1 (from tensorflow==2.9.0)\n",
      "  Downloading gast-0.4.0-py3-none-any.whl (9.8 kB)\n",
      "Requirement already satisfied: google-pasta>=0.1.1 in /home/jupyterlab/conda/envs/python/lib/python3.7/site-packages (from tensorflow==2.9.0) (0.2.0)\n",
      "Requirement already satisfied: grpcio<2.0,>=1.24.3 in /home/jupyterlab/conda/envs/python/lib/python3.7/site-packages (from tensorflow==2.9.0) (1.48.1)\n",
      "Collecting h5py>=2.9.0 (from tensorflow==2.9.0)\n",
      "  Downloading h5py-3.8.0-cp37-cp37m-manylinux_2_17_x86_64.manylinux2014_x86_64.whl (4.3 MB)\n",
      "\u001b[2K     \u001b[90m━━━━━━━━━━━━━━━━━━━━━━━━━━━━━━━━━━━━━━━━\u001b[0m \u001b[32m4.3/4.3 MB\u001b[0m \u001b[31m75.4 MB/s\u001b[0m eta \u001b[36m0:00:00\u001b[0m:00:01\u001b[0m\n",
      "\u001b[?25hCollecting keras<2.10.0,>=2.9.0rc0 (from tensorflow==2.9.0)\n",
      "  Downloading keras-2.9.0-py2.py3-none-any.whl (1.6 MB)\n",
      "\u001b[2K     \u001b[90m━━━━━━━━━━━━━━━━━━━━━━━━━━━━━━━━━━━━━━━━\u001b[0m \u001b[32m1.6/1.6 MB\u001b[0m \u001b[31m79.9 MB/s\u001b[0m eta \u001b[36m0:00:00\u001b[0m\n",
      "\u001b[?25hRequirement already satisfied: keras-preprocessing>=1.1.1 in /home/jupyterlab/conda/envs/python/lib/python3.7/site-packages (from tensorflow==2.9.0) (1.1.2)\n",
      "Collecting libclang>=13.0.0 (from tensorflow==2.9.0)\n",
      "  Downloading libclang-16.0.6-py2.py3-none-manylinux2010_x86_64.whl (22.9 MB)\n",
      "\u001b[2K     \u001b[90m━━━━━━━━━━━━━━━━━━━━━━━━━━━━━━━━━━━━━━━━\u001b[0m \u001b[32m22.9/22.9 MB\u001b[0m \u001b[31m50.1 MB/s\u001b[0m eta \u001b[36m0:00:00\u001b[0m00:01\u001b[0m00:01\u001b[0m\n",
      "\u001b[?25hRequirement already satisfied: numpy>=1.20 in /home/jupyterlab/conda/envs/python/lib/python3.7/site-packages (from tensorflow==2.9.0) (1.21.6)\n",
      "Collecting opt-einsum>=2.3.2 (from tensorflow==2.9.0)\n",
      "  Downloading opt_einsum-3.3.0-py3-none-any.whl (65 kB)\n",
      "\u001b[2K     \u001b[90m━━━━━━━━━━━━━━━━━━━━━━━━━━━━━━━━━━━━━━━━\u001b[0m \u001b[32m65.5/65.5 kB\u001b[0m \u001b[31m12.0 MB/s\u001b[0m eta \u001b[36m0:00:00\u001b[0m\n",
      "\u001b[?25hRequirement already satisfied: packaging in /home/jupyterlab/conda/envs/python/lib/python3.7/site-packages (from tensorflow==2.9.0) (23.1)\n",
      "Requirement already satisfied: protobuf>=3.9.2 in /home/jupyterlab/conda/envs/python/lib/python3.7/site-packages (from tensorflow==2.9.0) (4.21.8)\n",
      "Requirement already satisfied: setuptools in /home/jupyterlab/conda/envs/python/lib/python3.7/site-packages (from tensorflow==2.9.0) (67.7.2)\n",
      "Requirement already satisfied: six>=1.12.0 in /home/jupyterlab/conda/envs/python/lib/python3.7/site-packages (from tensorflow==2.9.0) (1.16.0)\n",
      "Collecting tensorboard<2.10,>=2.9 (from tensorflow==2.9.0)\n",
      "  Downloading tensorboard-2.9.1-py3-none-any.whl (5.8 MB)\n",
      "\u001b[2K     \u001b[90m━━━━━━━━━━━━━━━━━━━━━━━━━━━━━━━━━━━━━━━━\u001b[0m \u001b[32m5.8/5.8 MB\u001b[0m \u001b[31m63.7 MB/s\u001b[0m eta \u001b[36m0:00:00\u001b[0m:00:01\u001b[0m00:01\u001b[0m\n",
      "\u001b[?25hCollecting tensorflow-io-gcs-filesystem>=0.23.1 (from tensorflow==2.9.0)\n",
      "  Downloading tensorflow_io_gcs_filesystem-0.34.0-cp37-cp37m-manylinux_2_12_x86_64.manylinux2010_x86_64.whl (2.4 MB)\n",
      "\u001b[2K     \u001b[90m━━━━━━━━━━━━━━━━━━━━━━━━━━━━━━━━━━━━━━━━\u001b[0m \u001b[32m2.4/2.4 MB\u001b[0m \u001b[31m75.6 MB/s\u001b[0m eta \u001b[36m0:00:00\u001b[0m\n",
      "\u001b[?25hCollecting tensorflow-estimator<2.10.0,>=2.9.0rc0 (from tensorflow==2.9.0)\n",
      "  Downloading tensorflow_estimator-2.9.0-py2.py3-none-any.whl (438 kB)\n",
      "\u001b[2K     \u001b[90m━━━━━━━━━━━━━━━━━━━━━━━━━━━━━━━━━━━━━━\u001b[0m \u001b[32m438.7/438.7 kB\u001b[0m \u001b[31m40.4 MB/s\u001b[0m eta \u001b[36m0:00:00\u001b[0m\n",
      "\u001b[?25hRequirement already satisfied: termcolor>=1.1.0 in /home/jupyterlab/conda/envs/python/lib/python3.7/site-packages (from tensorflow==2.9.0) (2.3.0)\n",
      "Requirement already satisfied: typing-extensions>=3.6.6 in /home/jupyterlab/conda/envs/python/lib/python3.7/site-packages (from tensorflow==2.9.0) (4.5.0)\n",
      "Requirement already satisfied: wrapt>=1.11.0 in /home/jupyterlab/conda/envs/python/lib/python3.7/site-packages (from tensorflow==2.9.0) (1.14.1)\n",
      "Requirement already satisfied: wheel<1.0,>=0.23.0 in /home/jupyterlab/conda/envs/python/lib/python3.7/site-packages (from astunparse>=1.6.0->tensorflow==2.9.0) (0.40.0)\n",
      "Collecting google-auth<3,>=1.6.3 (from tensorboard<2.10,>=2.9->tensorflow==2.9.0)\n",
      "  Downloading google_auth-2.26.1-py2.py3-none-any.whl (186 kB)\n",
      "\u001b[2K     \u001b[90m━━━━━━━━━━━━━━━━━━━━━━━━━━━━━━━━━━━━━━\u001b[0m \u001b[32m186.4/186.4 kB\u001b[0m \u001b[31m21.1 MB/s\u001b[0m eta \u001b[36m0:00:00\u001b[0m\n",
      "\u001b[?25hCollecting google-auth-oauthlib<0.5,>=0.4.1 (from tensorboard<2.10,>=2.9->tensorflow==2.9.0)\n",
      "  Downloading google_auth_oauthlib-0.4.6-py2.py3-none-any.whl (18 kB)\n",
      "Requirement already satisfied: markdown>=2.6.8 in /home/jupyterlab/conda/envs/python/lib/python3.7/site-packages (from tensorboard<2.10,>=2.9->tensorflow==2.9.0) (3.4.3)\n",
      "Collecting protobuf>=3.9.2 (from tensorflow==2.9.0)\n",
      "  Downloading protobuf-3.19.6-cp37-cp37m-manylinux_2_17_x86_64.manylinux2014_x86_64.whl (1.1 MB)\n",
      "\u001b[2K     \u001b[90m━━━━━━━━━━━━━━━━━━━━━━━━━━━━━━━━━━━━━━━━\u001b[0m \u001b[32m1.1/1.1 MB\u001b[0m \u001b[31m54.9 MB/s\u001b[0m eta \u001b[36m0:00:00\u001b[0m\n",
      "\u001b[?25hRequirement already satisfied: requests<3,>=2.21.0 in /home/jupyterlab/conda/envs/python/lib/python3.7/site-packages (from tensorboard<2.10,>=2.9->tensorflow==2.9.0) (2.29.0)\n",
      "Collecting tensorboard-data-server<0.7.0,>=0.6.0 (from tensorboard<2.10,>=2.9->tensorflow==2.9.0)\n",
      "  Downloading tensorboard_data_server-0.6.1-py3-none-manylinux2010_x86_64.whl (4.9 MB)\n",
      "\u001b[2K     \u001b[90m━━━━━━━━━━━━━━━━━━━━━━━━━━━━━━━━━━━━━━━━\u001b[0m \u001b[32m4.9/4.9 MB\u001b[0m \u001b[31m94.9 MB/s\u001b[0m eta \u001b[36m0:00:00\u001b[0m:00:01\u001b[0m\n",
      "\u001b[?25hCollecting tensorboard-plugin-wit>=1.6.0 (from tensorboard<2.10,>=2.9->tensorflow==2.9.0)\n",
      "  Downloading tensorboard_plugin_wit-1.8.1-py3-none-any.whl (781 kB)\n",
      "\u001b[2K     \u001b[90m━━━━━━━━━━━━━━━━━━━━━━━━━━━━━━━━━━━━━━\u001b[0m \u001b[32m781.3/781.3 kB\u001b[0m \u001b[31m67.3 MB/s\u001b[0m eta \u001b[36m0:00:00\u001b[0m\n",
      "\u001b[?25hRequirement already satisfied: werkzeug>=1.0.1 in /home/jupyterlab/conda/envs/python/lib/python3.7/site-packages (from tensorboard<2.10,>=2.9->tensorflow==2.9.0) (2.2.3)\n",
      "Collecting cachetools<6.0,>=2.0.0 (from google-auth<3,>=1.6.3->tensorboard<2.10,>=2.9->tensorflow==2.9.0)\n",
      "  Downloading cachetools-5.3.2-py3-none-any.whl (9.3 kB)\n",
      "Requirement already satisfied: pyasn1-modules>=0.2.1 in /home/jupyterlab/conda/envs/python/lib/python3.7/site-packages (from google-auth<3,>=1.6.3->tensorboard<2.10,>=2.9->tensorflow==2.9.0) (0.3.0)\n",
      "Collecting rsa<5,>=3.1.4 (from google-auth<3,>=1.6.3->tensorboard<2.10,>=2.9->tensorflow==2.9.0)\n",
      "  Downloading rsa-4.9-py3-none-any.whl (34 kB)\n",
      "Collecting requests-oauthlib>=0.7.0 (from google-auth-oauthlib<0.5,>=0.4.1->tensorboard<2.10,>=2.9->tensorflow==2.9.0)\n",
      "  Downloading requests_oauthlib-1.3.1-py2.py3-none-any.whl (23 kB)\n",
      "Requirement already satisfied: importlib-metadata>=4.4 in /home/jupyterlab/conda/envs/python/lib/python3.7/site-packages (from markdown>=2.6.8->tensorboard<2.10,>=2.9->tensorflow==2.9.0) (4.11.4)\n",
      "Requirement already satisfied: charset-normalizer<4,>=2 in /home/jupyterlab/conda/envs/python/lib/python3.7/site-packages (from requests<3,>=2.21.0->tensorboard<2.10,>=2.9->tensorflow==2.9.0) (3.1.0)\n",
      "Requirement already satisfied: idna<4,>=2.5 in /home/jupyterlab/conda/envs/python/lib/python3.7/site-packages (from requests<3,>=2.21.0->tensorboard<2.10,>=2.9->tensorflow==2.9.0) (3.4)\n",
      "Requirement already satisfied: urllib3<1.27,>=1.21.1 in /home/jupyterlab/conda/envs/python/lib/python3.7/site-packages (from requests<3,>=2.21.0->tensorboard<2.10,>=2.9->tensorflow==2.9.0) (1.26.15)\n",
      "Requirement already satisfied: certifi>=2017.4.17 in /home/jupyterlab/conda/envs/python/lib/python3.7/site-packages (from requests<3,>=2.21.0->tensorboard<2.10,>=2.9->tensorflow==2.9.0) (2023.5.7)\n",
      "Requirement already satisfied: MarkupSafe>=2.1.1 in /home/jupyterlab/conda/envs/python/lib/python3.7/site-packages (from werkzeug>=1.0.1->tensorboard<2.10,>=2.9->tensorflow==2.9.0) (2.1.1)\n",
      "Requirement already satisfied: zipp>=0.5 in /home/jupyterlab/conda/envs/python/lib/python3.7/site-packages (from importlib-metadata>=4.4->markdown>=2.6.8->tensorboard<2.10,>=2.9->tensorflow==2.9.0) (3.15.0)\n",
      "Requirement already satisfied: pyasn1<0.6.0,>=0.4.6 in /home/jupyterlab/conda/envs/python/lib/python3.7/site-packages (from pyasn1-modules>=0.2.1->google-auth<3,>=1.6.3->tensorboard<2.10,>=2.9->tensorflow==2.9.0) (0.5.0)\n",
      "Collecting oauthlib>=3.0.0 (from requests-oauthlib>=0.7.0->google-auth-oauthlib<0.5,>=0.4.1->tensorboard<2.10,>=2.9->tensorflow==2.9.0)\n",
      "  Downloading oauthlib-3.2.2-py3-none-any.whl (151 kB)\n",
      "\u001b[2K     \u001b[90m━━━━━━━━━━━━━━━━━━━━━━━━━━━━━━━━━━━━━━\u001b[0m \u001b[32m151.7/151.7 kB\u001b[0m \u001b[31m26.2 MB/s\u001b[0m eta \u001b[36m0:00:00\u001b[0m\n",
      "\u001b[?25hInstalling collected packages: tensorboard-plugin-wit, libclang, keras, flatbuffers, tensorflow-io-gcs-filesystem, tensorflow-estimator, tensorboard-data-server, rsa, protobuf, opt-einsum, oauthlib, h5py, gast, cachetools, astunparse, requests-oauthlib, google-auth, google-auth-oauthlib, tensorboard, tensorflow\n",
      "  Attempting uninstall: keras\n",
      "    Found existing installation: Keras 2.1.6\n",
      "    Uninstalling Keras-2.1.6:\n",
      "      Successfully uninstalled Keras-2.1.6\n",
      "  Attempting uninstall: tensorflow-estimator\n",
      "    Found existing installation: tensorflow-estimator 1.14.0\n",
      "    Uninstalling tensorflow-estimator-1.14.0:\n",
      "      Successfully uninstalled tensorflow-estimator-1.14.0\n",
      "  Attempting uninstall: protobuf\n",
      "    Found existing installation: protobuf 4.21.8\n",
      "    Uninstalling protobuf-4.21.8:\n",
      "      Successfully uninstalled protobuf-4.21.8\n",
      "  Attempting uninstall: h5py\n",
      "    Found existing installation: h5py 2.8.0\n",
      "    Uninstalling h5py-2.8.0:\n",
      "      Successfully uninstalled h5py-2.8.0\n",
      "  Attempting uninstall: gast\n",
      "    Found existing installation: gast 0.5.3\n",
      "    Uninstalling gast-0.5.3:\n",
      "      Successfully uninstalled gast-0.5.3\n",
      "  Attempting uninstall: tensorboard\n",
      "    Found existing installation: tensorboard 1.14.0\n",
      "    Uninstalling tensorboard-1.14.0:\n",
      "      Successfully uninstalled tensorboard-1.14.0\n",
      "  Attempting uninstall: tensorflow\n",
      "    Found existing installation: tensorflow 1.14.0\n",
      "    Uninstalling tensorflow-1.14.0:\n",
      "      Successfully uninstalled tensorflow-1.14.0\n",
      "Successfully installed astunparse-1.6.3 cachetools-5.3.2 flatbuffers-1.12 gast-0.4.0 google-auth-2.26.1 google-auth-oauthlib-0.4.6 h5py-3.8.0 keras-2.9.0 libclang-16.0.6 oauthlib-3.2.2 opt-einsum-3.3.0 protobuf-3.19.6 requests-oauthlib-1.3.1 rsa-4.9 tensorboard-2.9.1 tensorboard-data-server-0.6.1 tensorboard-plugin-wit-1.8.1 tensorflow-2.9.0 tensorflow-estimator-2.9.0 tensorflow-io-gcs-filesystem-0.34.0\n",
      "Collecting numpy==1.21.4\n",
      "  Downloading numpy-1.21.4-cp37-cp37m-manylinux_2_12_x86_64.manylinux2010_x86_64.whl (15.7 MB)\n",
      "\u001b[2K     \u001b[90m━━━━━━━━━━━━━━━━━━━━━━━━━━━━━━━━━━━━━━━━\u001b[0m \u001b[32m15.7/15.7 MB\u001b[0m \u001b[31m68.1 MB/s\u001b[0m eta \u001b[36m0:00:00\u001b[0m00:01\u001b[0m00:01\u001b[0m\n",
      "\u001b[?25hInstalling collected packages: numpy\n",
      "  Attempting uninstall: numpy\n",
      "    Found existing installation: numpy 1.21.6\n",
      "    Uninstalling numpy-1.21.6:\n",
      "      Successfully uninstalled numpy-1.21.6\n",
      "Successfully installed numpy-1.21.4\n"
     ]
    }
   ],
   "source": [
    "!pip install tensorflow==2.9.0\n",
    "!pip install numpy==1.21.4\n"
   ]
  },
  {
   "cell_type": "code",
   "execution_count": 2,
   "metadata": {},
   "outputs": [
    {
     "name": "stderr",
     "output_type": "stream",
     "text": [
      "2024-01-07 09:01:20.359077: I tensorflow/core/util/util.cc:169] oneDNN custom operations are on. You may see slightly different numerical results due to floating-point round-off errors from different computation orders. To turn them off, set the environment variable `TF_ENABLE_ONEDNN_OPTS=0`.\n",
      "2024-01-07 09:01:20.365193: W tensorflow/stream_executor/platform/default/dso_loader.cc:64] Could not load dynamic library 'libcudart.so.11.0'; dlerror: libcudart.so.11.0: cannot open shared object file: No such file or directory\n",
      "2024-01-07 09:01:20.365234: I tensorflow/stream_executor/cuda/cudart_stub.cc:29] Ignore above cudart dlerror if you do not have a GPU set up on your machine.\n"
     ]
    }
   ],
   "source": [
    "import time\n",
    "import numpy as np\n",
    "import tensorflow as tf\n",
    "if not tf.__version__ == '2.9.0':\n",
    "    print(tf.__version__)\n",
    "    raise ValueError('please upgrade to TensorFlow 2.9.0, or restart your Kernel (Kernel->Restart & Clear Output)')"
   ]
  },
  {
   "cell_type": "markdown",
   "metadata": {},
   "source": [
    "IMPORTANT! => Please restart the kernel by clicking on \"Kernel\"->\"Restart and Clear Outout\" and wait until all output disapears. Then your changes are beeing picked up\n"
   ]
  },
  {
   "cell_type": "code",
   "execution_count": 3,
   "metadata": {},
   "outputs": [],
   "source": [
    "#!mkdir data\n",
    "#!mkdir data/ptb\n",
    "#!wget -q -O data/ptb/reader.py https://cf-courses-data.s3.us.cloud-object-storage.appdomain.cloud/IBMDeveloperSkillsNetwork-DL0120EN-SkillsNetwork/labs/Week3/data/ptb/reader.py\n",
    "#!cp data/ptb/reader.py .\n",
    "\n"
   ]
  },
  {
   "cell_type": "code",
   "execution_count": 4,
   "metadata": {},
   "outputs": [],
   "source": [
    "# Copyright 2015 The TensorFlow Authors. All Rights Reserved.\n",
    "#\n",
    "# Licensed under the Apache License, Version 2.0 (the \"License\");\n",
    "# you may not use this file except in compliance with the License.\n",
    "# You may obtain a copy of the License at\n",
    "#\n",
    "#     http://www.apache.org/licenses/LICENSE-2.0\n",
    "#\n",
    "# Unless required by applicable law or agreed to in writing, software\n",
    "# distributed under the License is distributed on an \"AS IS\" BASIS,\n",
    "# WITHOUT WARRANTIES OR CONDITIONS OF ANY KIND, either express or implied.\n",
    "# See the License for the specific language governing permissions and\n",
    "# limitations under the License.\n",
    "# ==============================================================================\n",
    "\n",
    "\n",
    "\"\"\"Utilities for parsing PTB text files.\"\"\"\n",
    "from __future__ import absolute_import\n",
    "from __future__ import division\n",
    "from __future__ import print_function\n",
    "\n",
    "import collections\n",
    "import os\n",
    "\n",
    "import numpy as np\n",
    "import tensorflow as tf\n",
    "\n",
    "\n",
    "def _read_words(filename):\n",
    "  with tf.io.gfile.GFile(filename, \"r\") as f:\n",
    "    return f.read().replace(\"\\n\", \"<eos>\").split()\n",
    "\n",
    "\n",
    "def _build_vocab(filename):\n",
    "  data = _read_words(filename)\n",
    "\n",
    "  counter = collections.Counter(data)\n",
    "  count_pairs = sorted(counter.items(), key=lambda x: (-x[1], x[0]))\n",
    "\n",
    "  words, _ = list(zip(*count_pairs))\n",
    "  word_to_id = dict(zip(words, range(len(words))))\n",
    "\n",
    "  return word_to_id\n",
    "\n",
    "\n",
    "def _file_to_word_ids(filename, word_to_id):\n",
    "  data = _read_words(filename)\n",
    "  return [word_to_id[word] for word in data if word in word_to_id]\n",
    "\n",
    "\n",
    "def ptb_raw_data(data_path=None):\n",
    "  \"\"\"Load PTB raw data from data directory \"data_path\".\n",
    "\n",
    "  Reads PTB text files, converts strings to integer ids,\n",
    "  and performs mini-batching of the inputs.\n",
    "\n",
    "  The PTB dataset comes from Tomas Mikolov's webpage:\n",
    "\n",
    "  http://www.fit.vutbr.cz/~imikolov/rnnlm/simple-examples.tgz\n",
    "\n",
    "  Args:\n",
    "    data_path: string path to the directory where simple-examples.tgz has\n",
    "      been extracted.\n",
    "\n",
    "  Returns:\n",
    "    tuple (train_data, valid_data, test_data, vocabulary)\n",
    "    where each of the data objects can be passed to PTBIterator.\n",
    "  \"\"\"\n",
    "\n",
    "  train_path = os.path.join(data_path, \"ptb.train.txt\")\n",
    "  valid_path = os.path.join(data_path, \"ptb.valid.txt\")\n",
    "  test_path = os.path.join(data_path, \"ptb.test.txt\")\n",
    "\n",
    "  word_to_id = _build_vocab(train_path)\n",
    "  train_data = _file_to_word_ids(train_path, word_to_id)\n",
    "  valid_data = _file_to_word_ids(valid_path, word_to_id)\n",
    "  test_data = _file_to_word_ids(test_path, word_to_id)\n",
    "  vocabulary = len(word_to_id)\n",
    "  return train_data, valid_data, test_data, vocabulary, word_to_id\n",
    "\n",
    "\n",
    "def ptb_iterator(raw_data, batch_size, num_steps):\n",
    "  \"\"\"Iterate on the raw PTB data.\n",
    "\n",
    "  This generates batch_size pointers into the raw PTB data, and allows\n",
    "  minibatch iteration along these pointers.\n",
    "\n",
    "  Args:\n",
    "    raw_data: one of the raw data outputs from ptb_raw_data.\n",
    "    batch_size: int, the batch size.\n",
    "    num_steps: int, the number of unrolls.\n",
    "\n",
    "  Yields:\n",
    "    Pairs of the batched data, each a matrix of shape [batch_size, num_steps].\n",
    "    The second element of the tuple is the same data time-shifted to the\n",
    "    right by one.\n",
    "\n",
    "  Raises:\n",
    "    ValueError: if batch_size or num_steps are too high.\n",
    "  \"\"\"\n",
    "  raw_data = np.array(raw_data, dtype=np.int32)\n",
    "\n",
    "  data_len = len(raw_data)\n",
    "  batch_len = data_len // batch_size\n",
    "  data = np.zeros([batch_size, batch_len], dtype=np.int32)\n",
    "  for i in range(batch_size):\n",
    "    data[i] = raw_data[batch_len * i:batch_len * (i + 1)]\n",
    "\n",
    "  epoch_size = (batch_len - 1) // num_steps\n",
    "\n",
    "  if epoch_size == 0:\n",
    "    raise ValueError(\"epoch_size == 0, decrease batch_size or num_steps\")\n",
    "\n",
    "  for i in range(epoch_size):\n",
    "    x = data[:, i*num_steps:(i+1)*num_steps]\n",
    "    y = data[:, i*num_steps+1:(i+1)*num_steps+1]\n",
    "    yield (x, y)"
   ]
  },
  {
   "cell_type": "markdown",
   "metadata": {},
   "source": [
    "<a id=\"building_lstm_model\"></a>\n",
    "<h2>Building the LSTM model for Language Modeling</h2>\n",
    "Now that we know exactly what we are doing, we can start building our model using TensorFlow. The very first thing we need to do is download and extract the <code>simple-examples</code> dataset, which can be done by executing the code cell below.\n"
   ]
  },
  {
   "cell_type": "code",
   "execution_count": 5,
   "metadata": {},
   "outputs": [
    {
     "name": "stdout",
     "output_type": "stream",
     "text": [
      "--2024-01-07 09:01:23--  http://www.fit.vutbr.cz/~imikolov/rnnlm/simple-examples.tgz\n",
      "Resolving www.fit.vutbr.cz (www.fit.vutbr.cz)... 147.229.9.23, 147.229.9.23\n",
      "Connecting to www.fit.vutbr.cz (www.fit.vutbr.cz)|147.229.9.23|:80... connected.\n",
      "HTTP request sent, awaiting response... 200 OK\n",
      "Length: 34869662 (33M) [application/x-gtar]\n",
      "Saving to: ‘simple-examples.tgz’\n",
      "\n",
      "simple-examples.tgz 100%[===================>]  33.25M  9.09MB/s    in 3.8s    \n",
      "\n",
      "2024-01-07 09:01:29 (8.66 MB/s) - ‘simple-examples.tgz’ saved [34869662/34869662]\n",
      "\n",
      "tar: data: Cannot open: No such file or directory\n",
      "tar: Error is not recoverable: exiting now\n"
     ]
    }
   ],
   "source": [
    "!wget http://www.fit.vutbr.cz/~imikolov/rnnlm/simple-examples.tgz "
   ]
  },
  {
   "cell_type": "code",
   "execution_count": 14,
   "metadata": {
    "tags": []
   },
   "outputs": [],
   "source": [
    "!tar xzf simple-examples.tgz"
   ]
  },
  {
   "cell_type": "code",
   "execution_count": 15,
   "metadata": {
    "tags": []
   },
   "outputs": [
    {
     "data": {
      "text/plain": [
       "'/resources/labs/authoride/IBMSkillsNetwork+DL0120EN/labs/Week3'"
      ]
     },
     "execution_count": 15,
     "metadata": {},
     "output_type": "execute_result"
    }
   ],
   "source": [
    "pwd"
   ]
  },
  {
   "cell_type": "markdown",
   "metadata": {},
   "source": [
    "Additionally, for the sake of making it easy to play around with the model's hyperparameters, we can declare them beforehand. Feel free to change these -- you will see a difference in performance each time you change those!  \n"
   ]
  },
  {
   "cell_type": "code",
   "execution_count": 18,
   "metadata": {},
   "outputs": [],
   "source": [
    "#Initial weight scale\n",
    "init_scale = 0.1\n",
    "#Initial learning rate\n",
    "learning_rate = 1.0\n",
    "#Maximum permissible norm for the gradient (For gradient clipping -- another measure against Exploding Gradients)\n",
    "max_grad_norm = 5\n",
    "#The number of layers in our model\n",
    "num_layers = 2\n",
    "#The total number of recurrence steps, also known as the number of layers when our RNN is \"unfolded\"\n",
    "num_steps = 20\n",
    "#The number of processing units (neurons) in the hidden layers\n",
    "hidden_size_l1 = 256\n",
    "hidden_size_l2 = 128\n",
    "#The maximum number of epochs trained with the initial learning rate\n",
    "max_epoch_decay_lr = 4\n",
    "#The total number of epochs in training\n",
    "max_epoch = 15\n",
    "#The probability for keeping data in the Dropout Layer (This is an optimization, but is outside our scope for this notebook!)\n",
    "#At 1, we ignore the Dropout Layer wrapping.\n",
    "keep_prob = 1\n",
    "#The decay for the learning rate\n",
    "decay = 0.5\n",
    "#The size for each batch of data\n",
    "batch_size = 30\n",
    "#The size of our vocabulary\n",
    "vocab_size = 10000\n",
    "embeding_vector_size= 200\n",
    "#Training flag to separate training from testing\n",
    "is_training = 1\n",
    "#Data directory for our dataset\n",
    "data_dir = \"simple-examples/data/\""
   ]
  },
  {
   "cell_type": "markdown",
   "metadata": {},
   "source": [
    "Some clarifications for LSTM architecture based on the arguments:\n",
    "\n",
    "Network structure:\n",
    "<ul>\n",
    "    <li>In this network, the number of LSTM cells are 2. To give the model more expressive power, we can add multiple layers of LSTMs to process the data. The output of the first layer will become the input of the second and so on.\n",
    "    </li>\n",
    "    <li>The recurrence steps is 20, that is, when our RNN is \"Unfolded\", the recurrence step is 20.</li>   \n",
    "    <li>the structure is like:\n",
    "        <ul>\n",
    "            <li>200 input units -> [200x200] Weight -> 200 Hidden units (first layer) -> [200x200] Weight matrix  -> 200 Hidden units (second layer) ->  [200] weight Matrix -> 200 unit output</li>\n",
    "        </ul>\n",
    "    </li>\n",
    "</ul>\n",
    "<br>\n",
    "\n",
    "Input layer: \n",
    "<ul>\n",
    "    <li>The network has 200 input units.</li>\n",
    "    <li>Suppose each word is represented by an embedding vector of dimensionality e=200. The input layer of each cell will have 200 linear units. These e=200 linear units are connected to each of the h=200 LSTM units in the hidden layer (assuming there is only one hidden layer, though our case has 2 layers).\n",
    "    </li>\n",
    "    <li>The input shape is [batch_size, num_steps], that is [30x20]. It will turn into [30x20x200] after embedding, and then 20x[30x200]\n",
    "    </li>\n",
    "</ul>\n",
    "<br>\n",
    "\n",
    "Hidden layer:\n",
    "<ul>\n",
    "    <li>Each LSTM has 200 hidden units which is equivalent to the dimensionality of the embedding words and output.</li>\n",
    "</ul>\n",
    "<br>\n"
   ]
  },
  {
   "cell_type": "markdown",
   "metadata": {},
   "source": [
    "There is a lot to be done and a ton of information to process at the same time, so go over this code slowly. It may seem complex at first, but if you try to apply what you just learned about language modelling to the code you see, you should be able to understand it.\n",
    "\n",
    "This code is adapted from the <a href=\"https://github.com/tensorflow/models\">PTBModel</a> example bundled with the TensorFlow source code.\n",
    "\n",
    "\n",
    "<h3>Training data</h3>\n",
    "The story starts from data:\n",
    "<ul>\n",
    "    <li>Train data is a list of words, of size 929589, represented by numbers, e.g. [9971, 9972, 9974, 9975,...]</li>\n",
    "    <li>We read data as mini-batch of size b=30. Assume the size of each sentence is 20 words (num_steps = 20). Then it will take $$floor(\\frac{N}{b \\times h})+1=1548$$ iterations for the learner to go through all sentences once. Where N is the size of the list of words, b is batch size, and h is size of each sentence. So, the number of iterators is 1548\n",
    "    </li>\n",
    "    <li>Each batch data is read from train dataset of size 600, and shape of [30x20]</li>\n",
    "</ul>\n"
   ]
  },
  {
   "cell_type": "code",
   "execution_count": 19,
   "metadata": {},
   "outputs": [],
   "source": [
    "# Reads the data and separates it into training data, validation data and testing data\n",
    "raw_data = ptb_raw_data(data_dir)\n",
    "train_data, valid_data, test_data, vocab, word_to_id = raw_data"
   ]
  },
  {
   "cell_type": "code",
   "execution_count": 22,
   "metadata": {},
   "outputs": [
    {
     "data": {
      "text/plain": [
       "929589"
      ]
     },
     "execution_count": 22,
     "metadata": {},
     "output_type": "execute_result"
    }
   ],
   "source": [
    "len(train_data)"
   ]
  },
  {
   "cell_type": "code",
   "execution_count": 23,
   "metadata": {},
   "outputs": [
    {
     "name": "stdout",
     "output_type": "stream",
     "text": [
      "['aer', 'banknote', 'berlitz', 'calloway', 'centrust', 'cluett', 'fromstein', 'gitano', 'guterman', 'hydro-quebec', 'ipo', 'kia', 'memotec', 'mlx', 'nahb', 'punts', 'rake', 'regatta', 'rubens', 'sim', 'snack-food', 'ssangyong', 'swapo', 'wachter', '<eos>', 'pierre', '<unk>', 'N', 'years', 'old', 'will', 'join', 'the', 'board', 'as', 'a', 'nonexecutive', 'director', 'nov.', 'N', '<eos>', 'mr.', '<unk>', 'is', 'chairman', 'of', '<unk>', 'n.v.', 'the', 'dutch', 'publishing', 'group', '<eos>', 'rudolph', '<unk>', 'N', 'years', 'old', 'and', 'former', 'chairman', 'of', 'consolidated', 'gold', 'fields', 'plc', 'was', 'named', 'a', 'nonexecutive', 'director', 'of', 'this', 'british', 'industrial', 'conglomerate', '<eos>', 'a', 'form', 'of', 'asbestos', 'once', 'used', 'to', 'make', 'kent', 'cigarette', 'filters', 'has', 'caused', 'a', 'high', 'percentage', 'of', 'cancer', 'deaths', 'among', 'a', 'group', 'of']\n"
     ]
    }
   ],
   "source": [
    "def id_to_word(id_list):\n",
    "    line = []\n",
    "    for w in id_list:\n",
    "        for word, wid in word_to_id.items():\n",
    "            if wid == w:\n",
    "                line.append(word)\n",
    "    return line            \n",
    "                \n",
    "\n",
    "print(id_to_word(train_data[0:100]))"
   ]
  },
  {
   "cell_type": "markdown",
   "metadata": {},
   "source": [
    "Lets just read one mini-batch now and feed our network:\n"
   ]
  },
  {
   "cell_type": "code",
   "execution_count": 24,
   "metadata": {},
   "outputs": [],
   "source": [
    "itera = ptb_iterator(train_data, batch_size, num_steps)\n",
    "first_touple = itera.__next__()\n",
    "_input_data = first_touple[0]\n",
    "_targets = first_touple[1]"
   ]
  },
  {
   "cell_type": "code",
   "execution_count": 25,
   "metadata": {},
   "outputs": [
    {
     "data": {
      "text/plain": [
       "(30, 20)"
      ]
     },
     "execution_count": 25,
     "metadata": {},
     "output_type": "execute_result"
    }
   ],
   "source": [
    "_input_data.shape"
   ]
  },
  {
   "cell_type": "code",
   "execution_count": 26,
   "metadata": {},
   "outputs": [
    {
     "data": {
      "text/plain": [
       "(30, 20)"
      ]
     },
     "execution_count": 26,
     "metadata": {},
     "output_type": "execute_result"
    }
   ],
   "source": [
    "_targets.shape"
   ]
  },
  {
   "cell_type": "markdown",
   "metadata": {},
   "source": [
    "Lets look at 3 sentences of our input x:\n"
   ]
  },
  {
   "cell_type": "code",
   "execution_count": 27,
   "metadata": {},
   "outputs": [
    {
     "data": {
      "text/plain": [
       "array([[9970, 9971, 9972, 9974, 9975, 9976, 9980, 9981, 9982, 9983, 9984,\n",
       "        9986, 9987, 9988, 9989, 9991, 9992, 9993, 9994, 9995],\n",
       "       [2654,    6,  334, 2886,    4,    1,  233,  711,  834,   11,  130,\n",
       "         123,    7,  514,    2,   63,   10,  514,    8,  605],\n",
       "       [   0, 1071,    4,    0,  185,   24,  368,   20,   31, 3109,  954,\n",
       "          12,    3,   21,    2, 2915,    2,   12,    3,   21]],\n",
       "      dtype=int32)"
      ]
     },
     "execution_count": 27,
     "metadata": {},
     "output_type": "execute_result"
    }
   ],
   "source": [
    "_input_data[0:3]"
   ]
  },
  {
   "cell_type": "code",
   "execution_count": 28,
   "metadata": {},
   "outputs": [
    {
     "name": "stdout",
     "output_type": "stream",
     "text": [
      "['aer', 'banknote', 'berlitz', 'calloway', 'centrust', 'cluett', 'fromstein', 'gitano', 'guterman', 'hydro-quebec', 'ipo', 'kia', 'memotec', 'mlx', 'nahb', 'punts', 'rake', 'regatta', 'rubens', 'sim']\n"
     ]
    }
   ],
   "source": [
    "print(id_to_word(_input_data[0,:]))"
   ]
  },
  {
   "cell_type": "markdown",
   "metadata": {},
   "source": [
    "<h3>Embeddings</h3>\n",
    "We have to convert the words in our dataset to vectors of numbers. The traditional approach is to use one-hot encoding method that is usually used for converting categorical values to numerical values. However, One-hot encoded vectors are high-dimensional, sparse and in a big dataset, computationally inefficient. So, we use word2vec approach. It is, in fact, a layer in our LSTM network, where the word IDs will be represented as a dense representation before feeding to the LSTM. \n",
    "\n",
    "The embedded vectors also get updated during the training process of the deep neural network.\n",
    "We create the embeddings for our input data. <b>embedding_vocab</b> is matrix of [10000x200] for all 10000 unique words.\n"
   ]
  },
  {
   "cell_type": "markdown",
   "metadata": {},
   "source": [
    "<b>embedding_lookup()</b> finds the embedded values for our batch of 30x20 words. It  goes to each row of <code>input_data</code>, and for each word in the row/sentence, finds the correspond vector in <code>embedding_dic<code>. <br>\n",
    "It creates a [30x20x200] tensor, so, the first element of <b>inputs</b> (the first sentence), is a matrix of 20x200, which each row of it, is vector representing a word in the sentence.\n"
   ]
  },
  {
   "cell_type": "code",
   "execution_count": 29,
   "metadata": {},
   "outputs": [],
   "source": [
    "embedding_layer = tf.keras.layers.Embedding(vocab_size, embeding_vector_size,batch_input_shape=(batch_size, num_steps),trainable=True,name=\"embedding_vocab\")  "
   ]
  },
  {
   "cell_type": "code",
   "execution_count": 30,
   "metadata": {},
   "outputs": [
    {
     "name": "stderr",
     "output_type": "stream",
     "text": [
      "2024-01-07 09:09:22.549558: W tensorflow/stream_executor/platform/default/dso_loader.cc:64] Could not load dynamic library 'libcuda.so.1'; dlerror: libcuda.so.1: cannot open shared object file: No such file or directory\n",
      "2024-01-07 09:09:22.549632: W tensorflow/stream_executor/cuda/cuda_driver.cc:269] failed call to cuInit: UNKNOWN ERROR (303)\n",
      "2024-01-07 09:09:22.549781: I tensorflow/stream_executor/cuda/cuda_diagnostics.cc:156] kernel driver does not appear to be running on this host (jupyterlab-hamzaelouiaa): /proc/driver/nvidia/version does not exist\n",
      "2024-01-07 09:09:22.551630: I tensorflow/core/platform/cpu_feature_guard.cc:193] This TensorFlow binary is optimized with oneAPI Deep Neural Network Library (oneDNN) to use the following CPU instructions in performance-critical operations:  AVX2 AVX512F AVX512_VNNI FMA\n",
      "To enable them in other operations, rebuild TensorFlow with the appropriate compiler flags.\n"
     ]
    },
    {
     "data": {
      "text/plain": [
       "<tf.Tensor: shape=(30, 20, 200), dtype=float32, numpy=\n",
       "array([[[-0.00123741, -0.04315201, -0.0286732 , ...,  0.02353534,\n",
       "         -0.01134329, -0.00091209],\n",
       "        [ 0.03104678, -0.00834488, -0.03759998, ..., -0.02505049,\n",
       "         -0.03676909,  0.00632139],\n",
       "        [ 0.0124088 , -0.02893941, -0.0114486 , ..., -0.01925149,\n",
       "         -0.03621725,  0.02606224],\n",
       "        ...,\n",
       "        [-0.04056857,  0.02427349,  0.00524738, ..., -0.02900549,\n",
       "         -0.00445556, -0.01456621],\n",
       "        [ 0.01113974,  0.01287308,  0.01975754, ..., -0.0131086 ,\n",
       "          0.0018123 ,  0.02594746],\n",
       "        [-0.01846348, -0.04624164, -0.00561287, ...,  0.02656064,\n",
       "          0.02838944,  0.02424282]],\n",
       "\n",
       "       [[ 0.01559278,  0.01855815,  0.02770852, ...,  0.04055191,\n",
       "          0.03335232, -0.04188987],\n",
       "        [ 0.02697561, -0.00253539,  0.01094147, ..., -0.04448911,\n",
       "          0.03184861, -0.03301946],\n",
       "        [ 0.02994907,  0.03371302, -0.02877386, ...,  0.01397127,\n",
       "         -0.00726039,  0.0168925 ],\n",
       "        ...,\n",
       "        [ 0.0224278 ,  0.00099666,  0.0336856 , ...,  0.01009624,\n",
       "         -0.01123192, -0.0290827 ],\n",
       "        [-0.03033737,  0.04626144,  0.04694125, ...,  0.01121403,\n",
       "          0.01854945, -0.02925379],\n",
       "        [ 0.00703852, -0.0456374 , -0.00881504, ..., -0.04559655,\n",
       "         -0.0089254 , -0.01278834]],\n",
       "\n",
       "       [[-0.00219423, -0.03707571,  0.01423352, ..., -0.02732374,\n",
       "          0.03854301,  0.04200064],\n",
       "        [-0.01963974, -0.02006024, -0.04281782, ...,  0.0026083 ,\n",
       "          0.00758543, -0.01983293],\n",
       "        [ 0.00787098, -0.04387795,  0.04820265, ...,  0.03361703,\n",
       "          0.00475537, -0.00641562],\n",
       "        ...,\n",
       "        [ 0.01441992, -0.01985469,  0.01836352, ..., -0.03199433,\n",
       "         -0.02269971,  0.02296377],\n",
       "        [-0.03775003, -0.0212525 ,  0.01200445, ...,  0.01764423,\n",
       "         -0.03094046, -0.02820218],\n",
       "        [-0.02012308,  0.00398159,  0.01248975, ..., -0.03374604,\n",
       "         -0.0181566 ,  0.01446725]],\n",
       "\n",
       "       ...,\n",
       "\n",
       "       [[-0.04849064,  0.04606218,  0.03404545, ...,  0.03376016,\n",
       "          0.04023269,  0.02649475],\n",
       "        [ 0.00607257, -0.03962984,  0.00753158, ..., -0.0353968 ,\n",
       "          0.02318362, -0.03490187],\n",
       "        [ 0.03622413,  0.02823217,  0.03934205, ...,  0.03580393,\n",
       "         -0.0292272 , -0.0081768 ],\n",
       "        ...,\n",
       "        [-0.04956628,  0.04826088, -0.01165241, ..., -0.00750501,\n",
       "         -0.03115584, -0.02903431],\n",
       "        [-0.03909367, -0.01633225,  0.0236938 , ...,  0.04845624,\n",
       "          0.03666672, -0.04725301],\n",
       "        [-0.00806605, -0.02074956, -0.04010667, ..., -0.00589191,\n",
       "         -0.04892417, -0.0010366 ]],\n",
       "\n",
       "       [[-0.00056504,  0.01414882,  0.04252778, ...,  0.01334412,\n",
       "          0.01559145, -0.01895732],\n",
       "        [-0.01041114,  0.02233228, -0.0273241 , ...,  0.04809982,\n",
       "         -0.02710605,  0.01494172],\n",
       "        [ 0.00787098, -0.04387795,  0.04820265, ...,  0.03361703,\n",
       "          0.00475537, -0.00641562],\n",
       "        ...,\n",
       "        [ 0.01377727, -0.04381629, -0.00429723, ...,  0.01118326,\n",
       "         -0.01647935, -0.02194461],\n",
       "        [ 0.02697561, -0.00253539,  0.01094147, ..., -0.04448911,\n",
       "          0.03184861, -0.03301946],\n",
       "        [ 0.04267586,  0.04705078,  0.04949832, ...,  0.03160422,\n",
       "          0.00068612, -0.03458325]],\n",
       "\n",
       "       [[-0.03011127,  0.00186587,  0.01313886, ..., -0.01907345,\n",
       "          0.00324521, -0.03315596],\n",
       "        [-0.00484085,  0.03782971, -0.04276476, ..., -0.01028794,\n",
       "          0.00562019,  0.02798171],\n",
       "        [-0.01963921, -0.02295624,  0.03405892, ...,  0.04901327,\n",
       "         -0.04474661, -0.00958042],\n",
       "        ...,\n",
       "        [-0.02067701, -0.04513693, -0.01581966, ..., -0.01019384,\n",
       "          0.04358882,  0.00989388],\n",
       "        [-0.03292082,  0.04274602,  0.00456443, ...,  0.03920403,\n",
       "         -0.04122187, -0.04885626],\n",
       "        [ 0.02941589, -0.01274701, -0.02331376, ..., -0.02124465,\n",
       "          0.02262393, -0.0180098 ]]], dtype=float32)>"
      ]
     },
     "execution_count": 30,
     "metadata": {},
     "output_type": "execute_result"
    }
   ],
   "source": [
    "# Define where to get the data for our embeddings from\n",
    "inputs = embedding_layer(_input_data)\n",
    "inputs"
   ]
  },
  {
   "cell_type": "markdown",
   "metadata": {},
   "source": [
    "<h3>Constructing Recurrent Neural Networks</h3>\n"
   ]
  },
  {
   "cell_type": "markdown",
   "metadata": {},
   "source": [
    "In this step, we create the stacked LSTM using <b>tf.keras.layers.StackedRNNCells</b>, which is a 2 layer LSTM network:\n"
   ]
  },
  {
   "cell_type": "code",
   "execution_count": 31,
   "metadata": {},
   "outputs": [],
   "source": [
    "lstm_cell_l1 = tf.keras.layers.LSTMCell(hidden_size_l1)\n",
    "lstm_cell_l2 = tf.keras.layers.LSTMCell(hidden_size_l2)"
   ]
  },
  {
   "cell_type": "code",
   "execution_count": 32,
   "metadata": {},
   "outputs": [],
   "source": [
    "stacked_lstm = tf.keras.layers.StackedRNNCells([lstm_cell_l1, lstm_cell_l2])"
   ]
  },
  {
   "cell_type": "markdown",
   "metadata": {},
   "source": [
    "<b>tf.keras.layers.RNN</b> creates a recurrent neural network using <b>stacked_lstm</b>. \n",
    "\n",
    "The input should be a Tensor of shape: [batch_size, max_time, embedding_vector_size], in our case it would be (30, 20, 200)\n"
   ]
  },
  {
   "cell_type": "code",
   "execution_count": 33,
   "metadata": {},
   "outputs": [],
   "source": [
    "layer  =  tf.keras.layers.RNN(stacked_lstm,[batch_size, num_steps],return_state=False,stateful=True,trainable=True)"
   ]
  },
  {
   "cell_type": "markdown",
   "metadata": {},
   "source": [
    "Also, we initialize the states of the nework:\n",
    "\n",
    "<h4>_initial_state</h4>\n",
    "\n",
    "For each LSTM, there are 2 state matrices, c\\_state and m\\_state.  c_state and m_state represent \"Memory State\" and \"Cell State\". Each hidden layer, has a vector of size 30, which keeps the states. so, for 200 hidden units in each LSTM, we have a matrix of size [30x200]\n"
   ]
  },
  {
   "cell_type": "code",
   "execution_count": 34,
   "metadata": {},
   "outputs": [],
   "source": [
    "init_state = tf.Variable(tf.zeros([batch_size,embeding_vector_size]),trainable=False)"
   ]
  },
  {
   "cell_type": "code",
   "execution_count": 35,
   "metadata": {},
   "outputs": [],
   "source": [
    "layer.inital_state = init_state"
   ]
  },
  {
   "cell_type": "code",
   "execution_count": 36,
   "metadata": {},
   "outputs": [
    {
     "data": {
      "text/plain": [
       "<tf.Variable 'Variable:0' shape=(30, 200) dtype=float32, numpy=\n",
       "array([[0., 0., 0., ..., 0., 0., 0.],\n",
       "       [0., 0., 0., ..., 0., 0., 0.],\n",
       "       [0., 0., 0., ..., 0., 0., 0.],\n",
       "       ...,\n",
       "       [0., 0., 0., ..., 0., 0., 0.],\n",
       "       [0., 0., 0., ..., 0., 0., 0.],\n",
       "       [0., 0., 0., ..., 0., 0., 0.]], dtype=float32)>"
      ]
     },
     "execution_count": 36,
     "metadata": {},
     "output_type": "execute_result"
    }
   ],
   "source": [
    "layer.inital_state"
   ]
  },
  {
   "cell_type": "markdown",
   "metadata": {},
   "source": [
    "so, lets look at the outputs. The output of the stackedLSTM comes from 128 hidden_layer, and in each time step(=20), one of them get activated. we use the linear activation to map the 128 hidden layer to a [30X20 matrix]\n"
   ]
  },
  {
   "cell_type": "code",
   "execution_count": 37,
   "metadata": {},
   "outputs": [],
   "source": [
    "outputs = layer(inputs)"
   ]
  },
  {
   "cell_type": "code",
   "execution_count": 38,
   "metadata": {},
   "outputs": [
    {
     "data": {
      "text/plain": [
       "<tf.Tensor: shape=(30, 20, 128), dtype=float32, numpy=\n",
       "array([[[ 5.9009471e-04, -6.4208906e-04, -1.0545790e-03, ...,\n",
       "          7.4558100e-04,  9.3448657e-04,  2.5692128e-04],\n",
       "        [ 9.8952116e-04, -1.0479870e-03, -4.4284307e-04, ...,\n",
       "          1.7994049e-03,  1.3094759e-03,  1.5625671e-06],\n",
       "        [ 7.7734789e-04, -1.1700910e-03, -2.3189520e-03, ...,\n",
       "          2.5363276e-03,  1.7213621e-03, -1.6535894e-03],\n",
       "        ...,\n",
       "        [ 1.2056143e-03, -4.5970972e-03, -3.6684165e-03, ...,\n",
       "          4.7818930e-03, -3.3667928e-03, -7.4578356e-04],\n",
       "        [-7.4156793e-04, -4.1329404e-03, -3.6032177e-03, ...,\n",
       "          6.1808745e-03, -2.2782758e-03, -5.9169740e-04],\n",
       "        [-2.1540883e-03, -3.2525670e-03, -2.2523222e-03, ...,\n",
       "          5.8366973e-03, -1.8303805e-03, -3.5876763e-04]],\n",
       "\n",
       "       [[ 4.0154939e-04, -2.0152198e-04, -1.2403770e-03, ...,\n",
       "          3.3200806e-05, -6.7720292e-05,  1.6266194e-03],\n",
       "        [ 8.7252038e-04,  1.1705902e-03, -1.5662493e-03, ...,\n",
       "         -9.2900998e-04,  4.9845339e-04,  2.0692248e-03],\n",
       "        [ 8.8307442e-04,  1.7181527e-03, -1.7285164e-03, ...,\n",
       "         -9.9110173e-04,  1.2091129e-03,  2.1600209e-03],\n",
       "        ...,\n",
       "        [ 9.2839863e-04,  5.7333318e-04,  3.1004737e-03, ...,\n",
       "          2.3915854e-03, -1.2602012e-02, -4.2411330e-04],\n",
       "        [ 1.5893959e-03,  6.6262431e-04,  3.1636173e-03, ...,\n",
       "          1.1095031e-03, -1.2197203e-02,  2.4954035e-04],\n",
       "        [ 2.1740557e-03,  2.6364219e-03,  4.0250761e-03, ...,\n",
       "          1.5850472e-05, -1.1204468e-02,  1.6188294e-03]],\n",
       "\n",
       "       [[ 1.9618110e-03, -4.9847306e-04, -1.4933947e-04, ...,\n",
       "         -4.8833379e-05,  1.4670841e-04, -2.2046801e-04],\n",
       "        [ 3.1680048e-03, -1.1736966e-03,  3.1220360e-04, ...,\n",
       "          7.3701760e-04,  1.3076119e-03,  9.1374741e-04],\n",
       "        [ 4.1107186e-03, -3.3060100e-03,  2.9741303e-04, ...,\n",
       "          1.6839048e-03,  1.9566240e-03,  9.3300780e-04],\n",
       "        ...,\n",
       "        [-6.4720190e-04,  5.8819191e-03,  2.9279043e-03, ...,\n",
       "          8.4395139e-03,  4.1301126e-04, -9.9833193e-04],\n",
       "        [-6.0666632e-04,  8.0853244e-03,  2.3572971e-03, ...,\n",
       "          9.7951870e-03, -1.9719775e-04, -2.0480140e-03],\n",
       "        [-1.0449103e-03,  9.7639561e-03,  2.4727699e-03, ...,\n",
       "          9.7042825e-03,  2.3704840e-04, -2.2199776e-03]],\n",
       "\n",
       "       ...,\n",
       "\n",
       "       [[ 1.3697332e-03, -7.4759628e-05,  7.2837638e-04, ...,\n",
       "         -1.1651117e-03,  7.6359848e-04, -8.2212937e-04],\n",
       "        [ 1.3633963e-03, -3.0360435e-04,  1.7422023e-03, ...,\n",
       "         -9.4645936e-04,  2.2829492e-05, -5.2371190e-04],\n",
       "        [ 1.9309336e-03, -4.6684913e-04,  2.0735234e-03, ...,\n",
       "         -4.5745636e-04, -1.9389162e-03, -8.2830031e-04],\n",
       "        ...,\n",
       "        [-3.8448754e-03,  6.5618916e-04, -1.4474854e-03, ...,\n",
       "          6.3522155e-03, -2.3829509e-03, -4.0898342e-03],\n",
       "        [-4.3753521e-03,  6.3669356e-04, -4.6877959e-04, ...,\n",
       "          6.7703361e-03, -5.3328914e-03, -2.9832690e-03],\n",
       "        [-4.0528215e-03,  3.3456646e-04, -4.5501828e-04, ...,\n",
       "          7.1105859e-03, -7.4118548e-03, -1.9082419e-03]],\n",
       "\n",
       "       [[ 1.9029487e-04,  3.1666612e-04, -9.7471592e-04, ...,\n",
       "          6.7443633e-04,  2.3932955e-06, -1.1801297e-03],\n",
       "        [ 6.5296807e-04,  1.1313897e-04, -1.1577724e-03, ...,\n",
       "          6.8124442e-04, -4.1653294e-04, -2.2158378e-03],\n",
       "        [ 1.4388622e-03, -1.6053806e-03, -1.2677327e-03, ...,\n",
       "          1.2233078e-03, -5.4641766e-04, -3.0642562e-03],\n",
       "        ...,\n",
       "        [ 3.0989635e-03, -2.0503544e-03,  5.8200059e-04, ...,\n",
       "         -3.1924958e-04, -2.1962556e-03, -5.1386960e-05],\n",
       "        [ 4.0392946e-03, -8.4800640e-04,  1.0770133e-03, ...,\n",
       "         -4.1709596e-04, -1.9545453e-03,  2.4407658e-04],\n",
       "        [ 4.5447070e-03,  7.2765429e-06,  1.8606334e-03, ...,\n",
       "         -4.3182643e-04, -2.1678514e-03,  1.6492087e-03]],\n",
       "\n",
       "       [[ 5.2255299e-04, -7.0647930e-04,  3.1356321e-04, ...,\n",
       "         -2.9075521e-04, -7.5671886e-04,  9.3220006e-05],\n",
       "        [ 7.7224022e-04, -8.6287373e-06,  1.0105619e-03, ...,\n",
       "         -8.2295190e-04, -4.3275460e-04,  8.6303637e-04],\n",
       "        [ 1.1794384e-03,  9.9521072e-04,  3.0474095e-03, ...,\n",
       "         -1.4776214e-03, -8.4506330e-04,  2.1634765e-03],\n",
       "        ...,\n",
       "        [ 5.3074048e-03,  4.0555731e-03, -5.5135791e-03, ...,\n",
       "         -2.9168273e-03, -7.3717865e-03, -1.2020012e-03],\n",
       "        [ 5.5396254e-03,  2.5114608e-03, -6.1826319e-03, ...,\n",
       "         -1.5054794e-03, -6.6354219e-03, -1.7022116e-03],\n",
       "        [ 5.8804709e-03,  8.9706568e-04, -6.8373000e-03, ...,\n",
       "         -5.6325091e-04, -5.6901989e-03, -2.0242664e-03]]], dtype=float32)>"
      ]
     },
     "execution_count": 38,
     "metadata": {},
     "output_type": "execute_result"
    }
   ],
   "source": [
    "outputs"
   ]
  },
  {
   "cell_type": "markdown",
   "metadata": {},
   "source": [
    "<h2>Dense layer</h2>\n",
    "We now create densely-connected neural network layer that would reshape the outputs tensor from  [30 x 20 x 128] to [30 x 20 x 10000].\n"
   ]
  },
  {
   "cell_type": "code",
   "execution_count": 39,
   "metadata": {},
   "outputs": [],
   "source": [
    "dense = tf.keras.layers.Dense(vocab_size)"
   ]
  },
  {
   "cell_type": "code",
   "execution_count": 40,
   "metadata": {},
   "outputs": [],
   "source": [
    "logits_outputs  = dense(outputs)"
   ]
  },
  {
   "cell_type": "code",
   "execution_count": 41,
   "metadata": {},
   "outputs": [
    {
     "name": "stdout",
     "output_type": "stream",
     "text": [
      "shape of the output from dense layer:  (30, 20, 10000)\n"
     ]
    }
   ],
   "source": [
    "print(\"shape of the output from dense layer: \", logits_outputs.shape) #(batch_size, sequence_length, vocab_size)"
   ]
  },
  {
   "cell_type": "markdown",
   "metadata": {},
   "source": [
    "<h2>Activation layer</h2>\n",
    "\n",
    "\n",
    "A softmax activation layers is also then applied to derive the probability of the output being in any of the multiclass(10000 in this case) possibilities. \n"
   ]
  },
  {
   "cell_type": "code",
   "execution_count": 42,
   "metadata": {},
   "outputs": [],
   "source": [
    "activation = tf.keras.layers.Activation('softmax')"
   ]
  },
  {
   "cell_type": "code",
   "execution_count": 43,
   "metadata": {},
   "outputs": [],
   "source": [
    "output_words_prob = activation(logits_outputs)"
   ]
  },
  {
   "cell_type": "code",
   "execution_count": 44,
   "metadata": {},
   "outputs": [
    {
     "name": "stdout",
     "output_type": "stream",
     "text": [
      "shape of the output from the activation layer:  (30, 20, 10000)\n"
     ]
    }
   ],
   "source": [
    "print(\"shape of the output from the activation layer: \", output_words_prob.shape) #(batch_size, sequence_length, vocab_size)"
   ]
  },
  {
   "cell_type": "markdown",
   "metadata": {},
   "source": [
    "Lets look at the probability of observing words for t=0 to t=20:\n"
   ]
  },
  {
   "cell_type": "code",
   "execution_count": 45,
   "metadata": {},
   "outputs": [
    {
     "name": "stdout",
     "output_type": "stream",
     "text": [
      "The probability of observing words in t=0 to t=20 tf.Tensor(\n",
      "[[1.00018515e-04 1.00008889e-04 1.00028861e-04 ... 1.00003002e-04\n",
      "  9.99945696e-05 1.00012119e-04]\n",
      " [1.00035548e-04 1.00019293e-04 1.00046098e-04 ... 1.00006524e-04\n",
      "  9.99787590e-05 1.00034304e-04]\n",
      " [1.00029116e-04 1.00027486e-04 1.00060388e-04 ... 9.99936456e-05\n",
      "  1.00008452e-04 1.00043755e-04]\n",
      " ...\n",
      " [9.99255790e-05 1.00090518e-04 1.00060824e-04 ... 1.00059573e-04\n",
      "  9.99633703e-05 9.99678450e-05]\n",
      " [9.99582335e-05 1.00086174e-04 1.00049219e-04 ... 1.00077807e-04\n",
      "  9.99907570e-05 1.00003701e-04]\n",
      " [9.99761760e-05 1.00079749e-04 1.00034587e-04 ... 1.00091384e-04\n",
      "  1.00005855e-04 1.00029494e-04]], shape=(20, 10000), dtype=float32)\n"
     ]
    }
   ],
   "source": [
    "print(\"The probability of observing words in t=0 to t=20\", output_words_prob[0,0:num_steps])"
   ]
  },
  {
   "cell_type": "markdown",
   "metadata": {},
   "source": [
    "<h3>Prediction</h3>\n",
    "What is the word correspond to the probability output? Lets use the maximum probability:\n"
   ]
  },
  {
   "cell_type": "code",
   "execution_count": 46,
   "metadata": {},
   "outputs": [
    {
     "data": {
      "text/plain": [
       "array([4093, 3559, 3559, 7005, 7005, 6662, 6662, 6662, 6662, 4082, 7760,\n",
       "       7760, 4035, 4035, 7760, 7760, 7760, 3836, 3836, 8966])"
      ]
     },
     "execution_count": 46,
     "metadata": {},
     "output_type": "execute_result"
    }
   ],
   "source": [
    "np.argmax(output_words_prob[0,0:num_steps], axis=1)"
   ]
  },
  {
   "cell_type": "markdown",
   "metadata": {},
   "source": [
    "So, what is the ground truth for the first word of first sentence? You can get it from target tensor, if you want to find the embedding vector: \n"
   ]
  },
  {
   "cell_type": "code",
   "execution_count": 47,
   "metadata": {},
   "outputs": [
    {
     "data": {
      "text/plain": [
       "array([9971, 9972, 9974, 9975, 9976, 9980, 9981, 9982, 9983, 9984, 9986,\n",
       "       9987, 9988, 9989, 9991, 9992, 9993, 9994, 9995, 9996], dtype=int32)"
      ]
     },
     "execution_count": 47,
     "metadata": {},
     "output_type": "execute_result"
    }
   ],
   "source": [
    "_targets[0]"
   ]
  },
  {
   "cell_type": "markdown",
   "metadata": {},
   "source": [
    "<h4>Objective function</h4>\n",
    "\n",
    "\n",
    "How similar the predicted words are to the target words?\n",
    "\n",
    "\n",
    "Now we have to define our objective function, to calculate the similarity of predicted values to ground truth, and then, penalize the model with the error. Our objective is to minimize loss function, that is, to minimize the average negative log probability of the target words:\n",
    "\n",
    "$$\\text{loss} = -\\frac{1}{N}\\sum_{i=1}^{N} \\ln p_{\\text{target}_i}$$\n",
    "\n",
    "This function is already implemented and available in TensorFlow through *tf.keras.losses.sparse_categorical_crossentropy*. It calculates the categorical cross-entropy loss for <b>logits</b> and the <b>target</b> sequence.  \n",
    "\n",
    "The arguments of this function are:  \n",
    "<ul>\n",
    "    <li>logits: List of 2D Tensors of shape [batch_size x num_decoder_symbols].</li>  \n",
    "    <li>targets: List of 1D batch-sized int32 Tensors of the same length as logits.</li>   \n",
    "</ul>\n"
   ]
  },
  {
   "cell_type": "code",
   "execution_count": 48,
   "metadata": {},
   "outputs": [],
   "source": [
    "def crossentropy(y_true, y_pred):\n",
    "    return tf.keras.losses.sparse_categorical_crossentropy(y_true, y_pred)"
   ]
  },
  {
   "cell_type": "code",
   "execution_count": 49,
   "metadata": {},
   "outputs": [],
   "source": [
    "loss  = crossentropy(_targets, output_words_prob)"
   ]
  },
  {
   "cell_type": "markdown",
   "metadata": {},
   "source": [
    "Lets look at the first 10 values of loss:\n"
   ]
  },
  {
   "cell_type": "code",
   "execution_count": 50,
   "metadata": {},
   "outputs": [
    {
     "data": {
      "text/plain": [
       "<tf.Tensor: shape=(10,), dtype=float32, numpy=\n",
       "array([9.2103195, 9.210554 , 9.210349 , 9.210937 , 9.210566 , 9.21086  ,\n",
       "       9.210463 , 9.211005 , 9.209996 , 9.211367 ], dtype=float32)>"
      ]
     },
     "execution_count": 50,
     "metadata": {},
     "output_type": "execute_result"
    }
   ],
   "source": [
    "loss[0,:10]"
   ]
  },
  {
   "cell_type": "markdown",
   "metadata": {},
   "source": [
    "Now, we define cost as average of the losses:\n"
   ]
  },
  {
   "cell_type": "code",
   "execution_count": 51,
   "metadata": {},
   "outputs": [
    {
     "data": {
      "text/plain": [
       "<tf.Tensor: shape=(), dtype=float32, numpy=184.20688>"
      ]
     },
     "execution_count": 51,
     "metadata": {},
     "output_type": "execute_result"
    }
   ],
   "source": [
    "cost = tf.reduce_sum(loss / batch_size)\n",
    "cost"
   ]
  },
  {
   "cell_type": "markdown",
   "metadata": {},
   "source": [
    "<h3>Training</h3>\n",
    "\n",
    "To do training for our network, we have to take the following steps:\n",
    "<ol>\n",
    "    <li>Define the optimizer.</li>\n",
    "    <li>Assemble layers to build model.</li>\n",
    "    <li>Calculate the gradients based on the loss function.</li>\n",
    "    <li>Apply the optimizer to the variables/gradients tuple.</li>\n",
    "</ol>\n"
   ]
  },
  {
   "cell_type": "markdown",
   "metadata": {},
   "source": [
    "<h4>1. Define Optimizer</h4>\n",
    "\n"
   ]
  },
  {
   "cell_type": "code",
   "execution_count": 52,
   "metadata": {},
   "outputs": [
    {
     "name": "stderr",
     "output_type": "stream",
     "text": [
      "/home/jupyterlab/conda/envs/python/lib/python3.7/site-packages/keras/optimizers/optimizer_v2/gradient_descent.py:108: UserWarning: The `lr` argument is deprecated, use `learning_rate` instead.\n",
      "  super(SGD, self).__init__(name, **kwargs)\n"
     ]
    }
   ],
   "source": [
    "# Create a variable for the learning rate\n",
    "lr = tf.Variable(0.0, trainable=False)\n",
    "optimizer = tf.keras.optimizers.SGD(lr=lr, clipnorm=max_grad_norm)"
   ]
  },
  {
   "cell_type": "markdown",
   "metadata": {},
   "source": [
    "<h4>2. Assemble layers to build model.</h4>\n"
   ]
  },
  {
   "cell_type": "code",
   "execution_count": 53,
   "metadata": {},
   "outputs": [
    {
     "name": "stdout",
     "output_type": "stream",
     "text": [
      "Model: \"sequential\"\n",
      "_________________________________________________________________\n",
      " Layer (type)                Output Shape              Param #   \n",
      "=================================================================\n",
      " embedding_vocab (Embedding)  (30, 20, 200)            2000000   \n",
      "                                                                 \n",
      " rnn (RNN)                   (30, 20, 128)             671088    \n",
      "                                                                 \n",
      " dense (Dense)               (30, 20, 10000)           1290000   \n",
      "                                                                 \n",
      " activation (Activation)     (30, 20, 10000)           0         \n",
      "                                                                 \n",
      "=================================================================\n",
      "Total params: 3,961,088\n",
      "Trainable params: 3,955,088\n",
      "Non-trainable params: 6,000\n",
      "_________________________________________________________________\n"
     ]
    }
   ],
   "source": [
    "model = tf.keras.Sequential()\n",
    "model.add(embedding_layer)\n",
    "model.add(layer)\n",
    "model.add(dense)\n",
    "model.add(activation)\n",
    "model.compile(loss=crossentropy, optimizer=optimizer)\n",
    "model.summary()"
   ]
  },
  {
   "cell_type": "markdown",
   "metadata": {},
   "source": [
    "\n",
    "<h4>2. Trainable Variables</h4>\n"
   ]
  },
  {
   "cell_type": "markdown",
   "metadata": {},
   "source": [
    "Defining a variable, if you passed <i>trainable=True</i>, the variable constructor automatically adds new variables to the graph collection <b>GraphKeys.TRAINABLE_VARIABLES</b>. Now, using <i>tf.trainable_variables()</i> you can get all variables created with <b>trainable=True</b>.\n"
   ]
  },
  {
   "cell_type": "code",
   "execution_count": 54,
   "metadata": {},
   "outputs": [],
   "source": [
    "# Get all TensorFlow variables marked as \"trainable\" (i.e. all of them except _lr, which we just created)\n",
    "tvars = model.trainable_variables"
   ]
  },
  {
   "cell_type": "markdown",
   "metadata": {},
   "source": [
    "Note: we can find the name and scope of all variables:\n"
   ]
  },
  {
   "cell_type": "code",
   "execution_count": 55,
   "metadata": {},
   "outputs": [
    {
     "data": {
      "text/plain": [
       "['embedding_vocab/embeddings:0',\n",
       " 'rnn/stacked_rnn_cells/lstm_cell/kernel:0',\n",
       " 'rnn/stacked_rnn_cells/lstm_cell/recurrent_kernel:0',\n",
       " 'rnn/stacked_rnn_cells/lstm_cell/bias:0',\n",
       " 'rnn/stacked_rnn_cells/lstm_cell_1/kernel:0',\n",
       " 'rnn/stacked_rnn_cells/lstm_cell_1/recurrent_kernel:0',\n",
       " 'rnn/stacked_rnn_cells/lstm_cell_1/bias:0',\n",
       " 'dense/kernel:0',\n",
       " 'dense/bias:0']"
      ]
     },
     "execution_count": 55,
     "metadata": {},
     "output_type": "execute_result"
    }
   ],
   "source": [
    "[v.name for v in tvars] "
   ]
  },
  {
   "cell_type": "markdown",
   "metadata": {},
   "source": [
    "<h4>3. Calculate the gradients based on the loss function</h4>\n"
   ]
  },
  {
   "cell_type": "markdown",
   "metadata": {},
   "source": [
    "**Gradient**: The gradient of a function is the slope of its derivative (line), or in other words, the rate of change of a function. It's a vector (a direction to move) that points in the direction of greatest increase of the function, and calculated by the <b>derivative</b> operation.\n"
   ]
  },
  {
   "cell_type": "markdown",
   "metadata": {},
   "source": [
    "First lets recall the gradient function using an toy example:\n",
    "$$ z = \\left(2x^2 + 3xy\\right)$$\n"
   ]
  },
  {
   "cell_type": "code",
   "execution_count": null,
   "metadata": {},
   "outputs": [],
   "source": [
    "x = tf.constant(1.0)\n",
    "y =  tf.constant(2.0)\n",
    "with tf.GradientTape(persistent=False) as g:\n",
    "    g.watch(x)\n",
    "    g.watch(y)\n",
    "    func_test = 2 * x * x + 3 * x * y"
   ]
  },
  {
   "cell_type": "markdown",
   "metadata": {},
   "source": [
    "The <b>tf.gradients()</b> function allows you to compute the symbolic gradient of one tensor with respect to one or more other tensors—including variables. <b>tf.gradients(func, xs)</b> constructs symbolic partial derivatives of sum of <b>func</b> w.r.t. <i>x</i> in <b>xs</b>. \n",
    "\n",
    "Now, lets look at the derivitive w.r.t. <b>var_x</b>:\n",
    "$$ \\frac{\\partial \\:}{\\partial \\:x}\\left(2x^2 + 3xy\\right) = 4x + 3y $$\n"
   ]
  },
  {
   "cell_type": "code",
   "execution_count": 57,
   "metadata": {},
   "outputs": [
    {
     "name": "stdout",
     "output_type": "stream",
     "text": [
      "tf.Tensor(10.0, shape=(), dtype=float32)\n"
     ]
    }
   ],
   "source": [
    "var_grad = g.gradient(func_test, x) # Will compute to 10.0\n",
    "print(var_grad)"
   ]
  },
  {
   "cell_type": "markdown",
   "metadata": {},
   "source": [
    "the derivative w.r.t. <b>var_y</b>:\n",
    "$$ \\frac{\\partial \\:}{\\partial \\:y}\\left(2x^2 + 3xy\\right) = 3x $$\n"
   ]
  },
  {
   "cell_type": "code",
   "execution_count": 58,
   "metadata": {},
   "outputs": [
    {
     "name": "stdout",
     "output_type": "stream",
     "text": [
      "tf.Tensor(3.0, shape=(), dtype=float32)\n"
     ]
    }
   ],
   "source": [
    "var_grad = g.gradient(func_test, y) # Will compute to 3.0\n",
    "print(var_grad)"
   ]
  },
  {
   "cell_type": "markdown",
   "metadata": {},
   "source": [
    "Now, we can look at gradients w.r.t all variables:\n"
   ]
  },
  {
   "cell_type": "code",
   "execution_count": 59,
   "metadata": {},
   "outputs": [],
   "source": [
    "with tf.GradientTape() as tape:\n",
    "    # Forward pass.\n",
    "    output_words_prob = model(_input_data)\n",
    "    # Loss value for this batch.\n",
    "    loss  = crossentropy(_targets, output_words_prob)\n",
    "    cost = tf.reduce_sum(loss,axis=0) / batch_size"
   ]
  },
  {
   "cell_type": "code",
   "execution_count": 60,
   "metadata": {},
   "outputs": [],
   "source": [
    "# Get gradients of loss wrt the trainable variables.\n",
    "grad_t_list = tape.gradient(cost, tvars)"
   ]
  },
  {
   "cell_type": "code",
   "execution_count": 61,
   "metadata": {},
   "outputs": [
    {
     "name": "stdout",
     "output_type": "stream",
     "text": [
      "[<tensorflow.python.framework.indexed_slices.IndexedSlices object at 0x7fea37436910>, <tf.Tensor: shape=(200, 1024), dtype=float32, numpy=\n",
      "array([[ 3.7019072e-07,  2.7560986e-07, -2.0490556e-07, ...,\n",
      "         4.8267037e-07,  1.9377404e-07,  9.5029179e-08],\n",
      "       [ 3.1091315e-07, -2.4483663e-07,  6.8707280e-08, ...,\n",
      "         7.5504147e-08,  5.9152097e-09,  3.2288273e-07],\n",
      "       [ 2.3710484e-07, -2.2328027e-07, -6.1468944e-07, ...,\n",
      "         4.8060991e-07, -3.0492430e-07, -4.4450394e-07],\n",
      "       ...,\n",
      "       [ 2.3139637e-07, -1.9944397e-07, -4.3788509e-07, ...,\n",
      "        -5.7025096e-07, -4.1662241e-07, -1.4092146e-07],\n",
      "       [-4.7178173e-07,  1.8209934e-07, -4.8370978e-08, ...,\n",
      "        -3.9905581e-07, -5.4603885e-07, -5.6707131e-07],\n",
      "       [-8.8066372e-08,  1.8627236e-07, -5.8650954e-08, ...,\n",
      "         7.3402731e-08,  3.0947837e-07,  7.0549788e-08]], dtype=float32)>, <tf.Tensor: shape=(256, 1024), dtype=float32, numpy=\n",
      "array([[-2.96570715e-08,  8.98201975e-08, -4.26407887e-08, ...,\n",
      "         1.07563892e-07,  2.63798494e-08, -1.54946918e-08],\n",
      "       [-9.52707069e-08,  1.68738907e-07, -1.37529796e-07, ...,\n",
      "         1.45816941e-07,  2.19482033e-07,  7.14306196e-08],\n",
      "       [-1.01835610e-07,  1.22804593e-07,  1.54981095e-08, ...,\n",
      "         6.41700737e-08, -8.32654194e-08, -7.92947219e-09],\n",
      "       ...,\n",
      "       [-1.20393167e-07, -1.87789851e-07,  2.31510882e-08, ...,\n",
      "        -5.22874757e-07,  1.23467771e-07,  5.66667708e-08],\n",
      "       [ 5.49467778e-08, -4.20355057e-08,  1.53850266e-09, ...,\n",
      "         9.29411215e-10, -3.66877515e-07, -5.09400593e-08],\n",
      "       [-1.16387113e-07, -8.82755824e-09, -5.74535690e-08, ...,\n",
      "        -1.65140420e-07, -9.06441073e-08,  1.13342864e-07]], dtype=float32)>, <tf.Tensor: shape=(1024,), dtype=float32, numpy=\n",
      "array([ 3.9847132e-06, -8.6390555e-06,  1.0005615e-05, ...,\n",
      "       -1.6641838e-05, -4.6915819e-05,  1.5986589e-06], dtype=float32)>, <tf.Tensor: shape=(256, 512), dtype=float32, numpy=\n",
      "array([[-6.86546002e-08, -3.39502009e-08, -3.89653394e-08, ...,\n",
      "         3.10368534e-07,  1.84352118e-07,  6.66844642e-08],\n",
      "       [ 4.97747301e-08, -6.95361990e-09, -1.77252389e-07, ...,\n",
      "         1.04888684e-07, -3.12652134e-07,  1.46461204e-07],\n",
      "       [ 1.17181173e-07,  1.28133209e-07, -4.88468928e-08, ...,\n",
      "        -1.56561200e-07, -3.86093859e-08,  7.65291333e-08],\n",
      "       ...,\n",
      "       [-1.01316807e-07,  1.78642892e-07, -3.32610384e-08, ...,\n",
      "        -2.02684078e-07,  1.43046890e-08,  6.16356459e-08],\n",
      "       [-7.12071291e-09,  1.14908524e-07,  2.08444249e-07, ...,\n",
      "         2.16470681e-08, -3.49011685e-07,  5.52323911e-08],\n",
      "       [-5.96859593e-08,  1.01082414e-07,  5.21971089e-08, ...,\n",
      "         2.91945582e-07,  2.60192792e-07,  2.93413880e-08]], dtype=float32)>, <tf.Tensor: shape=(128, 512), dtype=float32, numpy=\n",
      "array([[ 4.78382916e-08, -2.92579614e-08, -6.23202752e-08, ...,\n",
      "         3.98476914e-08,  1.19432769e-07,  6.35638386e-08],\n",
      "       [-2.45618814e-08, -1.45899861e-07,  1.25362661e-07, ...,\n",
      "        -5.32541833e-08, -2.96142595e-08, -4.39955841e-08],\n",
      "       [-4.01856255e-08, -8.05420157e-08,  7.38155279e-08, ...,\n",
      "        -2.27527810e-08,  1.16457642e-07,  8.91887986e-09],\n",
      "       ...,\n",
      "       [-1.31458336e-07,  7.15494011e-08,  3.04399208e-08, ...,\n",
      "        -1.08779197e-07,  8.43831600e-08,  5.68417242e-08],\n",
      "       [ 1.15259006e-07,  1.42375285e-07, -5.22673709e-08, ...,\n",
      "         4.65533780e-08, -7.22124469e-07,  6.54224053e-08],\n",
      "       [ 7.51659570e-08,  7.15637611e-08, -5.73662611e-08, ...,\n",
      "        -7.77833762e-08, -4.83732698e-08,  4.64491023e-08]], dtype=float32)>, <tf.Tensor: shape=(512,), dtype=float32, numpy=\n",
      "array([-1.43869693e-06, -5.54789040e-06,  3.38308128e-05, -1.85557037e-05,\n",
      "        1.48005438e-05,  8.68833922e-07, -2.72967372e-05,  3.74182709e-05,\n",
      "       -1.46634020e-05, -1.35235077e-05, -5.61870620e-05, -4.58937648e-05,\n",
      "       -1.12079768e-04,  1.41961536e-05, -7.47756712e-05, -3.76965472e-05,\n",
      "       -5.77817373e-05, -4.85268829e-05,  5.63510075e-05, -6.62332968e-06,\n",
      "        1.08547556e-05,  3.10265968e-05, -1.15678922e-05,  5.74412798e-06,\n",
      "        5.70317525e-06,  5.69684107e-06,  7.95440337e-06,  1.13127408e-05,\n",
      "       -3.22352826e-05, -4.06665567e-05, -3.49518450e-05,  3.42474141e-06,\n",
      "        3.66948188e-05,  3.82591243e-05,  4.49296522e-06,  1.18780190e-06,\n",
      "        7.48871826e-05, -2.39164474e-05,  1.09727598e-05, -5.12575789e-05,\n",
      "        7.13924164e-05, -2.14511128e-05,  2.46037980e-05,  2.02222145e-05,\n",
      "       -7.96126405e-05,  1.97995014e-05,  4.19936550e-05, -3.09970601e-05,\n",
      "        5.09331840e-05, -1.56460264e-05, -1.07969554e-05,  2.93244784e-06,\n",
      "        8.59579904e-06, -2.78505249e-05, -3.36263183e-05,  2.46951749e-05,\n",
      "        4.55489608e-05,  6.68021385e-05,  3.11975818e-05, -1.68851893e-05,\n",
      "        7.71452760e-05,  2.14357424e-05, -1.25184233e-05, -2.09124137e-05,\n",
      "        6.01532884e-06, -4.64682762e-06,  1.84848177e-05, -5.29543904e-05,\n",
      "       -8.20349669e-06,  6.76446361e-05,  1.01341684e-05,  6.49729482e-05,\n",
      "        9.11561892e-06, -1.98018151e-05,  3.43465717e-06,  4.51557717e-05,\n",
      "        4.25649159e-06, -1.69467239e-05,  1.11417676e-05, -2.79240794e-05,\n",
      "        1.43131092e-05, -2.10548696e-05, -1.49256757e-05,  1.20213608e-05,\n",
      "       -8.47691335e-05,  2.68471558e-06,  2.32685270e-05, -2.56488875e-05,\n",
      "       -5.30876559e-06, -1.46985185e-05, -2.05295273e-05, -2.03829986e-05,\n",
      "        1.85674508e-05, -1.50472024e-05, -5.37962042e-05, -1.79306899e-05,\n",
      "       -4.27758714e-05,  1.62591696e-05, -1.14818667e-05, -3.41481755e-05,\n",
      "       -4.29095053e-07, -3.95363304e-06, -1.78369955e-05,  2.62026315e-05,\n",
      "        1.04207966e-05, -8.22668226e-05,  2.17397701e-05, -1.00247482e-04,\n",
      "       -4.66270103e-05,  1.66459449e-05,  1.63643090e-05,  2.36959058e-05,\n",
      "        1.06523730e-05, -1.65930687e-05, -3.71663264e-05, -1.23370737e-05,\n",
      "        1.64152880e-06, -2.26774937e-05,  1.57140075e-05,  1.52120716e-04,\n",
      "        3.64178268e-05, -1.66509708e-05,  1.34297326e-04, -5.34315986e-05,\n",
      "       -6.18783315e-06,  2.25878466e-06,  3.10468022e-05, -2.96072130e-06,\n",
      "        2.31779177e-05, -1.32084388e-05,  4.08679552e-05, -4.74288536e-05,\n",
      "        2.93981757e-05, -1.13218666e-05, -5.12404185e-05,  3.72382892e-05,\n",
      "       -8.85354348e-06, -2.54608403e-05, -6.86323328e-05, -6.77430944e-05,\n",
      "       -1.25467879e-04,  4.40595686e-05, -9.94673101e-05, -7.71546765e-05,\n",
      "       -6.86241110e-05, -1.06644926e-04,  9.02251486e-05, -2.64812352e-05,\n",
      "        1.06825009e-05,  3.16351798e-05, -1.51794757e-05,  4.07211564e-06,\n",
      "        3.49308066e-05,  5.16178588e-05, -1.06285170e-05,  5.06606011e-05,\n",
      "       -6.33985428e-06, -3.01321106e-05, -1.23576983e-05, -1.38717933e-05,\n",
      "        7.55380752e-05,  1.00888348e-04,  2.89527397e-05, -1.92646803e-06,\n",
      "        1.05593732e-04, -8.85849477e-06, -1.56456736e-05, -1.14773291e-04,\n",
      "        9.21212777e-05, -1.00528987e-05,  4.77913563e-05,  3.83099177e-05,\n",
      "       -1.16644042e-04,  1.16069814e-05,  3.39657818e-05, -5.20014510e-05,\n",
      "        4.90578204e-05, -3.46357738e-05, -4.44263642e-05,  9.12736596e-06,\n",
      "        9.99134681e-06, -2.53974831e-05, -6.44176398e-05,  3.20748295e-05,\n",
      "        4.54620022e-05,  1.10418565e-04,  4.24763457e-05, -1.50238338e-05,\n",
      "        1.14764116e-04,  4.79886476e-05, -1.08948188e-05, -3.64996740e-05,\n",
      "        2.11862152e-05, -2.36396208e-05,  8.82335644e-06, -5.58428073e-05,\n",
      "       -3.49090533e-06,  1.10976587e-04,  2.30764526e-05,  8.18609697e-05,\n",
      "        3.28844690e-05, -1.48876734e-05, -8.33847753e-06,  6.86348358e-05,\n",
      "       -2.63802067e-05, -2.87925704e-05,  1.87343667e-05, -3.95367642e-05,\n",
      "        3.51716662e-05, -3.02856042e-05, -1.03406564e-05,  1.58463117e-05,\n",
      "       -1.49568834e-04, -1.52830507e-05,  2.49070108e-05, -2.61526275e-05,\n",
      "        3.28960869e-06, -8.53340043e-06,  8.19969864e-06, -3.51367853e-05,\n",
      "        1.97804293e-05, -1.27422281e-05, -7.68868922e-05, -1.33719614e-05,\n",
      "       -5.77614956e-05,  3.52923271e-05, -4.17961528e-05, -4.26762426e-06,\n",
      "       -3.32193777e-05,  2.01554685e-05, -1.67345715e-05,  4.38718052e-05,\n",
      "       -7.86766941e-06, -8.90657975e-05,  3.05735521e-05, -1.37069743e-04,\n",
      "       -5.21203256e-05,  3.59728328e-05,  4.67749260e-06,  2.16841017e-05,\n",
      "        2.53450526e-06, -2.95285099e-05, -5.04875352e-05,  7.33937213e-08,\n",
      "       -2.00683680e-05, -3.83801671e-05,  1.63488312e-06,  2.35909683e-04,\n",
      "        5.49125471e-05, -1.41414348e-05,  2.00918090e-04, -7.66825397e-05,\n",
      "       -1.77999409e-05, -3.68037990e-06,  6.93059701e-05, -9.38622361e-06,\n",
      "        1.18777365e-03, -6.25717221e-04,  5.22479974e-03, -2.22596321e-02,\n",
      "       -1.07225254e-02, -1.99179836e-02,  5.04756682e-02, -4.43283394e-02,\n",
      "        5.40202111e-02,  9.54093691e-03,  2.32960973e-02, -1.35098537e-03,\n",
      "        4.54496257e-02, -1.96073130e-02,  1.05478223e-02, -1.78585853e-02,\n",
      "       -1.32869342e-02,  3.95790711e-02, -3.95555571e-02,  4.43827081e-03,\n",
      "        1.26770614e-02,  8.58936273e-03,  8.70513543e-03,  1.87537894e-02,\n",
      "        1.24020129e-02,  1.32582458e-02, -1.12299491e-02,  7.18739908e-03,\n",
      "        2.99648177e-02,  2.31355913e-02,  2.55099460e-02,  4.71489951e-02,\n",
      "        5.31731024e-02,  4.84524295e-02,  2.23938911e-03, -6.97784871e-03,\n",
      "       -2.80120149e-02, -1.23530850e-02,  2.99960095e-02,  3.53673510e-02,\n",
      "        3.62894535e-02,  2.62362082e-02, -3.11658923e-02,  1.87892690e-02,\n",
      "       -6.55642226e-02,  6.33271318e-03, -9.38835554e-03, -4.71009389e-02,\n",
      "        3.14200819e-02,  4.35463712e-03, -9.11510456e-03, -4.28355560e-02,\n",
      "       -2.89035253e-02, -1.87756903e-02, -5.56878224e-02,  1.20903866e-03,\n",
      "       -5.75978495e-03, -4.91940230e-02,  3.46331485e-03, -7.80661684e-03,\n",
      "        5.22206165e-02, -3.87491435e-02,  1.98711697e-02, -2.61945166e-02,\n",
      "        3.16781774e-02, -6.84407260e-03, -1.16486922e-02,  2.24224962e-02,\n",
      "        2.72782147e-02, -3.66937369e-02, -1.87936239e-02,  9.48989764e-03,\n",
      "        1.81947686e-02, -3.47191840e-02, -1.94603875e-02,  2.33030505e-02,\n",
      "       -1.51820835e-02, -3.34945023e-02,  4.33561057e-02,  6.85150269e-03,\n",
      "       -1.88700482e-02, -7.14653125e-03, -1.24493027e-02, -6.17148243e-02,\n",
      "        5.82784712e-02,  9.62227955e-03,  4.88075428e-03,  4.16665673e-02,\n",
      "       -1.64861623e-02, -8.01334996e-03,  1.09134149e-03, -1.51808914e-02,\n",
      "       -1.36913662e-03,  1.37012033e-02, -8.15011561e-02, -5.51287010e-02,\n",
      "        3.40041444e-02, -2.88875476e-02,  1.41178817e-03, -2.19583623e-02,\n",
      "        4.16474938e-02, -4.10740338e-02,  2.28652358e-02,  1.50024937e-02,\n",
      "       -2.34385729e-02, -2.90445164e-02, -2.63492018e-03,  4.64002043e-02,\n",
      "        3.16740833e-02, -4.91053276e-02, -6.66357228e-04,  6.13661250e-03,\n",
      "       -3.69270556e-02, -1.67792458e-02, -1.41964406e-02,  3.18810791e-02,\n",
      "       -4.37814146e-02,  1.29198395e-02, -5.59028704e-03, -6.90772384e-02,\n",
      "       -1.54289659e-02,  2.48184372e-02,  4.65569459e-02,  4.79980968e-02,\n",
      "       -1.23692174e-02, -8.48189183e-03, -7.93599710e-02,  4.10931278e-03,\n",
      "       -4.70636223e-07, -4.17528463e-06,  4.13021262e-05, -1.76618760e-05,\n",
      "        1.62520173e-05, -1.19431224e-05, -3.62714054e-05,  3.30769799e-05,\n",
      "       -1.88631093e-05, -2.23035495e-05, -5.79899825e-05, -5.05624339e-05,\n",
      "       -1.18447293e-04,  2.31243321e-05, -9.29302259e-05, -3.75517557e-05,\n",
      "       -6.53825846e-05, -5.03473057e-05,  6.93634793e-05, -3.34397055e-06,\n",
      "        8.56000224e-06,  3.13226155e-05, -1.71960091e-05,  3.00154989e-06,\n",
      "        4.96435223e-06,  1.12621419e-05, -7.90122522e-06,  1.14105005e-05,\n",
      "       -3.20742329e-05, -4.91908977e-05, -3.86559259e-05, -2.35816879e-06,\n",
      "        4.95118293e-05,  4.88856713e-05,  9.70850306e-06, -2.38362190e-06,\n",
      "        7.59968243e-05, -3.09755887e-05,  1.08268960e-05, -5.53290847e-05,\n",
      "        8.14305531e-05, -1.70788680e-05,  2.92199838e-05,  3.19418796e-05,\n",
      "       -9.76540759e-05,  1.88198410e-05,  3.98881239e-05, -2.99933818e-05,\n",
      "        4.99634189e-05, -1.52231223e-05, -2.01898056e-05,  8.77094953e-06,\n",
      "        1.49337402e-05, -3.79715057e-05, -4.93399930e-05,  3.12697812e-05,\n",
      "        4.61867166e-05,  8.78526553e-05,  3.42512467e-05, -1.92800235e-05,\n",
      "        8.38056440e-05,  2.26305237e-05,  3.63821891e-06, -1.67540384e-05,\n",
      "        1.87773512e-05, -1.00546476e-05,  1.73136013e-05, -6.47271081e-05,\n",
      "       -6.59254056e-06,  7.75493172e-05,  1.00099624e-05,  7.39941897e-05,\n",
      "        3.60119157e-06, -3.48267131e-05, -3.85874546e-06,  5.25971773e-05,\n",
      "       -6.34764456e-06, -2.38949688e-05,  9.63780258e-06, -3.26054615e-05,\n",
      "        2.12099221e-05, -1.72529290e-05, -1.72089531e-05,  5.48872049e-06,\n",
      "       -9.34130658e-05,  3.59408114e-06,  2.49247460e-05, -2.58172659e-05,\n",
      "       -4.42458986e-06, -7.45386387e-06, -1.61922944e-05, -3.37980237e-05,\n",
      "        2.28301196e-05, -1.41351429e-05, -5.50848490e-05, -2.08007150e-05,\n",
      "       -5.74835176e-05,  2.28012668e-05, -1.62223678e-05, -3.21413099e-05,\n",
      "       -1.11490426e-05, -8.34894763e-06, -1.81852538e-05,  2.67570631e-05,\n",
      "        1.09833427e-05, -8.82213135e-05,  1.62841388e-05, -9.71255213e-05,\n",
      "       -5.51350640e-05,  1.49867919e-05,  2.03080272e-05,  3.35226614e-05,\n",
      "        1.45358035e-05, -1.05983536e-05, -4.23595593e-05, -1.06477883e-05,\n",
      "        7.85092288e-06, -2.49050136e-05,  1.47291503e-05,  1.83284399e-04,\n",
      "        4.73155014e-05, -6.03998524e-06,  1.49081869e-04, -5.94289741e-05,\n",
      "       -7.94424886e-06,  2.47859862e-06,  3.49474540e-05,  1.97034569e-06],\n",
      "      dtype=float32)>, <tf.Tensor: shape=(128, 10000), dtype=float32, numpy=\n",
      "array([[-1.5323439e-03, -1.6332092e-03,  1.8764999e-04, ...,\n",
      "         1.0996534e-06,  1.0971908e-06,  1.0982038e-06],\n",
      "       [ 6.1821385e-04, -7.2217791e-04,  4.8159694e-05, ...,\n",
      "        -6.1938954e-07, -6.1559064e-07, -6.1779343e-07],\n",
      "       [-1.4678607e-03, -1.8051198e-03, -1.3873766e-03, ...,\n",
      "         2.9842358e-06,  2.9837427e-06,  2.9827268e-06],\n",
      "       ...,\n",
      "       [-1.5013611e-03, -2.5120298e-03, -2.3016580e-03, ...,\n",
      "         4.1868484e-06,  4.1878720e-06,  4.1869548e-06],\n",
      "       [ 7.8384799e-04,  8.7075366e-04,  6.9372414e-04, ...,\n",
      "        -2.4821834e-06, -2.4802500e-06, -2.4804326e-06],\n",
      "       [-7.5886620e-04, -2.6680471e-05, -7.7650766e-04, ...,\n",
      "         9.6226768e-07,  9.5994301e-07,  9.6064332e-07]], dtype=float32)>, <tf.Tensor: shape=(10000,), dtype=float32, numpy=\n",
      "array([-0.7979986 , -1.0313312 , -1.0313315 , ...,  0.00200036,\n",
      "        0.00199997,  0.00200016], dtype=float32)>]\n"
     ]
    }
   ],
   "source": [
    "print(grad_t_list)"
   ]
  },
  {
   "cell_type": "markdown",
   "metadata": {},
   "source": [
    "\n",
    "\n",
    "\n",
    "now, we have a list of tensors, t-list. We can use it to find clipped tensors. <b>clip_by_global_norm</b> clips values of multiple tensors by the ratio of the sum of their norms.\n",
    "\n",
    "<b>clip_by_global_norm</b> get <i>t-list</i> as input and returns 2 things:\n",
    "<ul>\n",
    "    <li>a list of clipped tensors, so called <i>list_clipped</i></li> \n",
    "    <li>the global norm (global_norm) of all tensors in t_list</li> \n",
    "</ul>\n"
   ]
  },
  {
   "cell_type": "code",
   "execution_count": 62,
   "metadata": {},
   "outputs": [
    {
     "data": {
      "text/plain": [
       "[<tensorflow.python.framework.indexed_slices.IndexedSlices at 0x7fe9e011f8d0>,\n",
       " <tf.Tensor: shape=(200, 1024), dtype=float32, numpy=\n",
       " array([[ 3.7019072e-07,  2.7560986e-07, -2.0490556e-07, ...,\n",
       "          4.8267037e-07,  1.9377404e-07,  9.5029179e-08],\n",
       "        [ 3.1091315e-07, -2.4483663e-07,  6.8707280e-08, ...,\n",
       "          7.5504147e-08,  5.9152097e-09,  3.2288273e-07],\n",
       "        [ 2.3710484e-07, -2.2328027e-07, -6.1468944e-07, ...,\n",
       "          4.8060991e-07, -3.0492430e-07, -4.4450394e-07],\n",
       "        ...,\n",
       "        [ 2.3139637e-07, -1.9944397e-07, -4.3788509e-07, ...,\n",
       "         -5.7025096e-07, -4.1662241e-07, -1.4092146e-07],\n",
       "        [-4.7178173e-07,  1.8209934e-07, -4.8370978e-08, ...,\n",
       "         -3.9905581e-07, -5.4603885e-07, -5.6707131e-07],\n",
       "        [-8.8066372e-08,  1.8627236e-07, -5.8650954e-08, ...,\n",
       "          7.3402731e-08,  3.0947837e-07,  7.0549788e-08]], dtype=float32)>,\n",
       " <tf.Tensor: shape=(256, 1024), dtype=float32, numpy=\n",
       " array([[-2.96570715e-08,  8.98201975e-08, -4.26407887e-08, ...,\n",
       "          1.07563892e-07,  2.63798494e-08, -1.54946918e-08],\n",
       "        [-9.52707069e-08,  1.68738907e-07, -1.37529796e-07, ...,\n",
       "          1.45816941e-07,  2.19482033e-07,  7.14306196e-08],\n",
       "        [-1.01835610e-07,  1.22804593e-07,  1.54981095e-08, ...,\n",
       "          6.41700737e-08, -8.32654194e-08, -7.92947219e-09],\n",
       "        ...,\n",
       "        [-1.20393167e-07, -1.87789851e-07,  2.31510882e-08, ...,\n",
       "         -5.22874757e-07,  1.23467771e-07,  5.66667708e-08],\n",
       "        [ 5.49467778e-08, -4.20355057e-08,  1.53850266e-09, ...,\n",
       "          9.29411215e-10, -3.66877515e-07, -5.09400593e-08],\n",
       "        [-1.16387113e-07, -8.82755824e-09, -5.74535690e-08, ...,\n",
       "         -1.65140420e-07, -9.06441073e-08,  1.13342864e-07]], dtype=float32)>,\n",
       " <tf.Tensor: shape=(1024,), dtype=float32, numpy=\n",
       " array([ 3.9847132e-06, -8.6390555e-06,  1.0005615e-05, ...,\n",
       "        -1.6641838e-05, -4.6915819e-05,  1.5986589e-06], dtype=float32)>,\n",
       " <tf.Tensor: shape=(256, 512), dtype=float32, numpy=\n",
       " array([[-6.86546002e-08, -3.39502009e-08, -3.89653394e-08, ...,\n",
       "          3.10368534e-07,  1.84352118e-07,  6.66844642e-08],\n",
       "        [ 4.97747301e-08, -6.95361990e-09, -1.77252389e-07, ...,\n",
       "          1.04888684e-07, -3.12652134e-07,  1.46461204e-07],\n",
       "        [ 1.17181173e-07,  1.28133209e-07, -4.88468928e-08, ...,\n",
       "         -1.56561200e-07, -3.86093859e-08,  7.65291333e-08],\n",
       "        ...,\n",
       "        [-1.01316807e-07,  1.78642892e-07, -3.32610384e-08, ...,\n",
       "         -2.02684078e-07,  1.43046890e-08,  6.16356459e-08],\n",
       "        [-7.12071291e-09,  1.14908524e-07,  2.08444249e-07, ...,\n",
       "          2.16470681e-08, -3.49011685e-07,  5.52323911e-08],\n",
       "        [-5.96859593e-08,  1.01082414e-07,  5.21971089e-08, ...,\n",
       "          2.91945582e-07,  2.60192792e-07,  2.93413880e-08]], dtype=float32)>,\n",
       " <tf.Tensor: shape=(128, 512), dtype=float32, numpy=\n",
       " array([[ 4.78382916e-08, -2.92579614e-08, -6.23202752e-08, ...,\n",
       "          3.98476914e-08,  1.19432769e-07,  6.35638386e-08],\n",
       "        [-2.45618814e-08, -1.45899861e-07,  1.25362661e-07, ...,\n",
       "         -5.32541833e-08, -2.96142595e-08, -4.39955841e-08],\n",
       "        [-4.01856255e-08, -8.05420157e-08,  7.38155279e-08, ...,\n",
       "         -2.27527810e-08,  1.16457642e-07,  8.91887986e-09],\n",
       "        ...,\n",
       "        [-1.31458336e-07,  7.15494011e-08,  3.04399208e-08, ...,\n",
       "         -1.08779197e-07,  8.43831600e-08,  5.68417242e-08],\n",
       "        [ 1.15259006e-07,  1.42375285e-07, -5.22673709e-08, ...,\n",
       "          4.65533780e-08, -7.22124469e-07,  6.54224053e-08],\n",
       "        [ 7.51659570e-08,  7.15637611e-08, -5.73662611e-08, ...,\n",
       "         -7.77833762e-08, -4.83732698e-08,  4.64491023e-08]], dtype=float32)>,\n",
       " <tf.Tensor: shape=(512,), dtype=float32, numpy=\n",
       " array([-1.43869693e-06, -5.54789040e-06,  3.38308128e-05, -1.85557037e-05,\n",
       "         1.48005438e-05,  8.68833922e-07, -2.72967372e-05,  3.74182709e-05,\n",
       "        -1.46634020e-05, -1.35235077e-05, -5.61870620e-05, -4.58937648e-05,\n",
       "        -1.12079768e-04,  1.41961536e-05, -7.47756712e-05, -3.76965472e-05,\n",
       "        -5.77817373e-05, -4.85268829e-05,  5.63510075e-05, -6.62332968e-06,\n",
       "         1.08547556e-05,  3.10265968e-05, -1.15678922e-05,  5.74412798e-06,\n",
       "         5.70317525e-06,  5.69684107e-06,  7.95440337e-06,  1.13127408e-05,\n",
       "        -3.22352826e-05, -4.06665567e-05, -3.49518450e-05,  3.42474141e-06,\n",
       "         3.66948188e-05,  3.82591243e-05,  4.49296522e-06,  1.18780190e-06,\n",
       "         7.48871826e-05, -2.39164474e-05,  1.09727598e-05, -5.12575789e-05,\n",
       "         7.13924164e-05, -2.14511128e-05,  2.46037980e-05,  2.02222145e-05,\n",
       "        -7.96126405e-05,  1.97995014e-05,  4.19936550e-05, -3.09970601e-05,\n",
       "         5.09331840e-05, -1.56460264e-05, -1.07969554e-05,  2.93244784e-06,\n",
       "         8.59579904e-06, -2.78505249e-05, -3.36263183e-05,  2.46951749e-05,\n",
       "         4.55489608e-05,  6.68021385e-05,  3.11975818e-05, -1.68851893e-05,\n",
       "         7.71452760e-05,  2.14357424e-05, -1.25184233e-05, -2.09124137e-05,\n",
       "         6.01532884e-06, -4.64682762e-06,  1.84848177e-05, -5.29543904e-05,\n",
       "        -8.20349669e-06,  6.76446361e-05,  1.01341684e-05,  6.49729482e-05,\n",
       "         9.11561892e-06, -1.98018151e-05,  3.43465717e-06,  4.51557717e-05,\n",
       "         4.25649159e-06, -1.69467239e-05,  1.11417676e-05, -2.79240794e-05,\n",
       "         1.43131092e-05, -2.10548696e-05, -1.49256757e-05,  1.20213608e-05,\n",
       "        -8.47691335e-05,  2.68471558e-06,  2.32685270e-05, -2.56488875e-05,\n",
       "        -5.30876559e-06, -1.46985185e-05, -2.05295273e-05, -2.03829986e-05,\n",
       "         1.85674508e-05, -1.50472024e-05, -5.37962042e-05, -1.79306899e-05,\n",
       "        -4.27758714e-05,  1.62591696e-05, -1.14818667e-05, -3.41481755e-05,\n",
       "        -4.29095053e-07, -3.95363304e-06, -1.78369955e-05,  2.62026315e-05,\n",
       "         1.04207966e-05, -8.22668226e-05,  2.17397701e-05, -1.00247482e-04,\n",
       "        -4.66270103e-05,  1.66459449e-05,  1.63643090e-05,  2.36959058e-05,\n",
       "         1.06523730e-05, -1.65930687e-05, -3.71663264e-05, -1.23370737e-05,\n",
       "         1.64152880e-06, -2.26774937e-05,  1.57140075e-05,  1.52120716e-04,\n",
       "         3.64178268e-05, -1.66509708e-05,  1.34297326e-04, -5.34315986e-05,\n",
       "        -6.18783315e-06,  2.25878466e-06,  3.10468022e-05, -2.96072130e-06,\n",
       "         2.31779177e-05, -1.32084388e-05,  4.08679552e-05, -4.74288536e-05,\n",
       "         2.93981757e-05, -1.13218666e-05, -5.12404185e-05,  3.72382892e-05,\n",
       "        -8.85354348e-06, -2.54608403e-05, -6.86323328e-05, -6.77430944e-05,\n",
       "        -1.25467879e-04,  4.40595686e-05, -9.94673101e-05, -7.71546765e-05,\n",
       "        -6.86241110e-05, -1.06644926e-04,  9.02251486e-05, -2.64812352e-05,\n",
       "         1.06825009e-05,  3.16351798e-05, -1.51794757e-05,  4.07211564e-06,\n",
       "         3.49308066e-05,  5.16178588e-05, -1.06285170e-05,  5.06606011e-05,\n",
       "        -6.33985428e-06, -3.01321106e-05, -1.23576983e-05, -1.38717933e-05,\n",
       "         7.55380752e-05,  1.00888348e-04,  2.89527397e-05, -1.92646803e-06,\n",
       "         1.05593732e-04, -8.85849477e-06, -1.56456736e-05, -1.14773291e-04,\n",
       "         9.21212777e-05, -1.00528987e-05,  4.77913563e-05,  3.83099177e-05,\n",
       "        -1.16644042e-04,  1.16069814e-05,  3.39657818e-05, -5.20014510e-05,\n",
       "         4.90578204e-05, -3.46357738e-05, -4.44263642e-05,  9.12736596e-06,\n",
       "         9.99134681e-06, -2.53974831e-05, -6.44176398e-05,  3.20748295e-05,\n",
       "         4.54620022e-05,  1.10418565e-04,  4.24763457e-05, -1.50238338e-05,\n",
       "         1.14764116e-04,  4.79886476e-05, -1.08948188e-05, -3.64996740e-05,\n",
       "         2.11862152e-05, -2.36396208e-05,  8.82335644e-06, -5.58428073e-05,\n",
       "        -3.49090533e-06,  1.10976587e-04,  2.30764526e-05,  8.18609697e-05,\n",
       "         3.28844690e-05, -1.48876734e-05, -8.33847753e-06,  6.86348358e-05,\n",
       "        -2.63802067e-05, -2.87925704e-05,  1.87343667e-05, -3.95367642e-05,\n",
       "         3.51716662e-05, -3.02856042e-05, -1.03406564e-05,  1.58463117e-05,\n",
       "        -1.49568834e-04, -1.52830507e-05,  2.49070108e-05, -2.61526275e-05,\n",
       "         3.28960869e-06, -8.53340043e-06,  8.19969864e-06, -3.51367853e-05,\n",
       "         1.97804293e-05, -1.27422281e-05, -7.68868922e-05, -1.33719614e-05,\n",
       "        -5.77614956e-05,  3.52923271e-05, -4.17961528e-05, -4.26762426e-06,\n",
       "        -3.32193777e-05,  2.01554685e-05, -1.67345715e-05,  4.38718052e-05,\n",
       "        -7.86766941e-06, -8.90657975e-05,  3.05735521e-05, -1.37069743e-04,\n",
       "        -5.21203256e-05,  3.59728328e-05,  4.67749260e-06,  2.16841017e-05,\n",
       "         2.53450526e-06, -2.95285099e-05, -5.04875352e-05,  7.33937213e-08,\n",
       "        -2.00683680e-05, -3.83801671e-05,  1.63488312e-06,  2.35909683e-04,\n",
       "         5.49125471e-05, -1.41414348e-05,  2.00918090e-04, -7.66825397e-05,\n",
       "        -1.77999409e-05, -3.68037990e-06,  6.93059701e-05, -9.38622361e-06,\n",
       "         1.18777365e-03, -6.25717221e-04,  5.22479974e-03, -2.22596321e-02,\n",
       "        -1.07225254e-02, -1.99179836e-02,  5.04756682e-02, -4.43283394e-02,\n",
       "         5.40202111e-02,  9.54093691e-03,  2.32960973e-02, -1.35098537e-03,\n",
       "         4.54496257e-02, -1.96073130e-02,  1.05478223e-02, -1.78585853e-02,\n",
       "        -1.32869342e-02,  3.95790711e-02, -3.95555571e-02,  4.43827081e-03,\n",
       "         1.26770614e-02,  8.58936273e-03,  8.70513543e-03,  1.87537894e-02,\n",
       "         1.24020129e-02,  1.32582458e-02, -1.12299491e-02,  7.18739908e-03,\n",
       "         2.99648177e-02,  2.31355913e-02,  2.55099460e-02,  4.71489951e-02,\n",
       "         5.31731024e-02,  4.84524295e-02,  2.23938911e-03, -6.97784871e-03,\n",
       "        -2.80120149e-02, -1.23530850e-02,  2.99960095e-02,  3.53673510e-02,\n",
       "         3.62894535e-02,  2.62362082e-02, -3.11658923e-02,  1.87892690e-02,\n",
       "        -6.55642226e-02,  6.33271318e-03, -9.38835554e-03, -4.71009389e-02,\n",
       "         3.14200819e-02,  4.35463712e-03, -9.11510456e-03, -4.28355560e-02,\n",
       "        -2.89035253e-02, -1.87756903e-02, -5.56878224e-02,  1.20903866e-03,\n",
       "        -5.75978495e-03, -4.91940230e-02,  3.46331485e-03, -7.80661684e-03,\n",
       "         5.22206165e-02, -3.87491435e-02,  1.98711697e-02, -2.61945166e-02,\n",
       "         3.16781774e-02, -6.84407260e-03, -1.16486922e-02,  2.24224962e-02,\n",
       "         2.72782147e-02, -3.66937369e-02, -1.87936239e-02,  9.48989764e-03,\n",
       "         1.81947686e-02, -3.47191840e-02, -1.94603875e-02,  2.33030505e-02,\n",
       "        -1.51820835e-02, -3.34945023e-02,  4.33561057e-02,  6.85150269e-03,\n",
       "        -1.88700482e-02, -7.14653125e-03, -1.24493027e-02, -6.17148243e-02,\n",
       "         5.82784712e-02,  9.62227955e-03,  4.88075428e-03,  4.16665673e-02,\n",
       "        -1.64861623e-02, -8.01334996e-03,  1.09134149e-03, -1.51808914e-02,\n",
       "        -1.36913662e-03,  1.37012033e-02, -8.15011561e-02, -5.51287010e-02,\n",
       "         3.40041444e-02, -2.88875476e-02,  1.41178817e-03, -2.19583623e-02,\n",
       "         4.16474938e-02, -4.10740338e-02,  2.28652358e-02,  1.50024937e-02,\n",
       "        -2.34385729e-02, -2.90445164e-02, -2.63492018e-03,  4.64002043e-02,\n",
       "         3.16740833e-02, -4.91053276e-02, -6.66357228e-04,  6.13661250e-03,\n",
       "        -3.69270556e-02, -1.67792458e-02, -1.41964406e-02,  3.18810791e-02,\n",
       "        -4.37814146e-02,  1.29198395e-02, -5.59028704e-03, -6.90772384e-02,\n",
       "        -1.54289659e-02,  2.48184372e-02,  4.65569459e-02,  4.79980968e-02,\n",
       "        -1.23692174e-02, -8.48189183e-03, -7.93599710e-02,  4.10931278e-03,\n",
       "        -4.70636223e-07, -4.17528463e-06,  4.13021262e-05, -1.76618760e-05,\n",
       "         1.62520173e-05, -1.19431224e-05, -3.62714054e-05,  3.30769799e-05,\n",
       "        -1.88631093e-05, -2.23035495e-05, -5.79899825e-05, -5.05624339e-05,\n",
       "        -1.18447293e-04,  2.31243321e-05, -9.29302259e-05, -3.75517557e-05,\n",
       "        -6.53825846e-05, -5.03473057e-05,  6.93634793e-05, -3.34397055e-06,\n",
       "         8.56000224e-06,  3.13226155e-05, -1.71960091e-05,  3.00154989e-06,\n",
       "         4.96435223e-06,  1.12621419e-05, -7.90122522e-06,  1.14105005e-05,\n",
       "        -3.20742329e-05, -4.91908977e-05, -3.86559259e-05, -2.35816879e-06,\n",
       "         4.95118293e-05,  4.88856713e-05,  9.70850306e-06, -2.38362190e-06,\n",
       "         7.59968243e-05, -3.09755887e-05,  1.08268960e-05, -5.53290847e-05,\n",
       "         8.14305531e-05, -1.70788680e-05,  2.92199838e-05,  3.19418796e-05,\n",
       "        -9.76540759e-05,  1.88198410e-05,  3.98881239e-05, -2.99933818e-05,\n",
       "         4.99634189e-05, -1.52231223e-05, -2.01898056e-05,  8.77094953e-06,\n",
       "         1.49337402e-05, -3.79715057e-05, -4.93399930e-05,  3.12697812e-05,\n",
       "         4.61867166e-05,  8.78526553e-05,  3.42512467e-05, -1.92800235e-05,\n",
       "         8.38056440e-05,  2.26305237e-05,  3.63821891e-06, -1.67540384e-05,\n",
       "         1.87773512e-05, -1.00546476e-05,  1.73136013e-05, -6.47271081e-05,\n",
       "        -6.59254056e-06,  7.75493172e-05,  1.00099624e-05,  7.39941897e-05,\n",
       "         3.60119157e-06, -3.48267131e-05, -3.85874546e-06,  5.25971773e-05,\n",
       "        -6.34764456e-06, -2.38949688e-05,  9.63780258e-06, -3.26054615e-05,\n",
       "         2.12099221e-05, -1.72529290e-05, -1.72089531e-05,  5.48872049e-06,\n",
       "        -9.34130658e-05,  3.59408114e-06,  2.49247460e-05, -2.58172659e-05,\n",
       "        -4.42458986e-06, -7.45386387e-06, -1.61922944e-05, -3.37980237e-05,\n",
       "         2.28301196e-05, -1.41351429e-05, -5.50848490e-05, -2.08007150e-05,\n",
       "        -5.74835176e-05,  2.28012668e-05, -1.62223678e-05, -3.21413099e-05,\n",
       "        -1.11490426e-05, -8.34894763e-06, -1.81852538e-05,  2.67570631e-05,\n",
       "         1.09833427e-05, -8.82213135e-05,  1.62841388e-05, -9.71255213e-05,\n",
       "        -5.51350640e-05,  1.49867919e-05,  2.03080272e-05,  3.35226614e-05,\n",
       "         1.45358035e-05, -1.05983536e-05, -4.23595593e-05, -1.06477883e-05,\n",
       "         7.85092288e-06, -2.49050136e-05,  1.47291503e-05,  1.83284399e-04,\n",
       "         4.73155014e-05, -6.03998524e-06,  1.49081869e-04, -5.94289741e-05,\n",
       "        -7.94424886e-06,  2.47859862e-06,  3.49474540e-05,  1.97034569e-06],\n",
       "       dtype=float32)>,\n",
       " <tf.Tensor: shape=(128, 10000), dtype=float32, numpy=\n",
       " array([[-1.5323439e-03, -1.6332092e-03,  1.8764999e-04, ...,\n",
       "          1.0996534e-06,  1.0971908e-06,  1.0982038e-06],\n",
       "        [ 6.1821385e-04, -7.2217791e-04,  4.8159694e-05, ...,\n",
       "         -6.1938954e-07, -6.1559064e-07, -6.1779343e-07],\n",
       "        [-1.4678607e-03, -1.8051198e-03, -1.3873766e-03, ...,\n",
       "          2.9842358e-06,  2.9837427e-06,  2.9827268e-06],\n",
       "        ...,\n",
       "        [-1.5013611e-03, -2.5120298e-03, -2.3016580e-03, ...,\n",
       "          4.1868484e-06,  4.1878720e-06,  4.1869548e-06],\n",
       "        [ 7.8384799e-04,  8.7075366e-04,  6.9372414e-04, ...,\n",
       "         -2.4821834e-06, -2.4802500e-06, -2.4804326e-06],\n",
       "        [-7.5886620e-04, -2.6680471e-05, -7.7650766e-04, ...,\n",
       "          9.6226768e-07,  9.5994301e-07,  9.6064332e-07]], dtype=float32)>,\n",
       " <tf.Tensor: shape=(10000,), dtype=float32, numpy=\n",
       " array([-0.7979986 , -1.0313312 , -1.0313315 , ...,  0.00200036,\n",
       "         0.00199997,  0.00200016], dtype=float32)>]"
      ]
     },
     "execution_count": 62,
     "metadata": {},
     "output_type": "execute_result"
    }
   ],
   "source": [
    "# Define the gradient clipping threshold\n",
    "grads, _ = tf.clip_by_global_norm(grad_t_list, max_grad_norm)\n",
    "grads"
   ]
  },
  {
   "cell_type": "markdown",
   "metadata": {},
   "source": [
    "<h4> 4.Apply the optimizer to the variables/gradients tuple. </h4>\n"
   ]
  },
  {
   "cell_type": "code",
   "execution_count": 63,
   "metadata": {},
   "outputs": [],
   "source": [
    "# Create the training TensorFlow Operation through our optimizer\n",
    "train_op = optimizer.apply_gradients(zip(grads, tvars))"
   ]
  },
  {
   "cell_type": "markdown",
   "metadata": {},
   "source": [
    "<a id=\"ltsm\"></a>\n",
    "<h2>LSTM</h2>\n"
   ]
  },
  {
   "cell_type": "markdown",
   "metadata": {},
   "source": [
    "We learned how the model is build step by step. Noe, let's then create a Class that represents our model. This class needs a few things:\n",
    "<ul>\n",
    "    <li>We have to create the model in accordance with our defined hyperparameters</li>\n",
    "    <li>We have to create the LSTM cell structure and connect them with our RNN structure</li>\n",
    "    <li>We have to create the word embeddings and point them to the input data</li>\n",
    "    <li>We have to create the input structure for our RNN</li>\n",
    "    <li>We need to create a logistic structure to return the probability of our words</li>\n",
    "    <li>We need to create the loss and cost functions for our optimizer to work, and then create the optimizer</li>\n",
    "    <li>And finally, we need to create a training operation that can be run to actually train our model</li>\n",
    "</ul>\n"
   ]
  },
  {
   "cell_type": "code",
   "execution_count": 64,
   "metadata": {},
   "outputs": [],
   "source": [
    "class PTBModel(object):\n",
    "\n",
    "\n",
    "    def __init__(self):\n",
    "        ######################################\n",
    "        # Setting parameters for ease of use #\n",
    "        ######################################\n",
    "        self.batch_size = batch_size\n",
    "        self.num_steps = num_steps\n",
    "        self.hidden_size_l1 = hidden_size_l1\n",
    "        self.hidden_size_l2 = hidden_size_l2\n",
    "        self.vocab_size = vocab_size\n",
    "        self.embeding_vector_size = embeding_vector_size\n",
    "        # Create a variable for the learning rate\n",
    "        self._lr = 1.0\n",
    "        \n",
    "        ###############################################################################\n",
    "        # Initializing the model using keras Sequential API  #\n",
    "        ###############################################################################\n",
    "        \n",
    "        self._model = tf.keras.models.Sequential()\n",
    "        \n",
    "        ####################################################################\n",
    "        # Creating the word embeddings layer and adding it to the sequence #\n",
    "        ####################################################################\n",
    "        with tf.device(\"/cpu:0\"):\n",
    "            # Create the embeddings for our input data. Size is hidden size.\n",
    "            self._embedding_layer = tf.keras.layers.Embedding(self.vocab_size, self.embeding_vector_size,batch_input_shape=(self.batch_size, self.num_steps),trainable=True,name=\"embedding_vocab\")  #[10000x200]\n",
    "            self._model.add(self._embedding_layer)\n",
    "            \n",
    "\n",
    "        ##########################################################################\n",
    "        # Creating the LSTM cell structure and connect it with the RNN structure #\n",
    "        ##########################################################################\n",
    "        # Create the LSTM Cells. \n",
    "        # This creates only the structure for the LSTM and has to be associated with a RNN unit still.\n",
    "        # The argument  of LSTMCell is size of hidden layer, that is, the number of hidden units of the LSTM (inside A). \n",
    "        # LSTM cell processes one word at a time and computes probabilities of the possible continuations of the sentence.\n",
    "        lstm_cell_l1 = tf.keras.layers.LSTMCell(hidden_size_l1)\n",
    "        lstm_cell_l2 = tf.keras.layers.LSTMCell(hidden_size_l2)\n",
    "        \n",
    "\n",
    "        \n",
    "        # By taking in the LSTM cells as parameters, the StackedRNNCells function junctions the LSTM units to the RNN units.\n",
    "        # RNN cell composed sequentially of stacked simple cells.\n",
    "        stacked_lstm = tf.keras.layers.StackedRNNCells([lstm_cell_l1, lstm_cell_l2])\n",
    "\n",
    "\n",
    "        \n",
    "\n",
    "        ############################################\n",
    "        # Creating the input structure for our RNN #\n",
    "        ############################################\n",
    "        # Input structure is 20x[30x200]\n",
    "        # Considering each word is represended by a 200 dimentional vector, and we have 30 batchs, we create 30 word-vectors of size [30xx2000]\n",
    "        # The input structure is fed from the embeddings, which are filled in by the input data\n",
    "        # Feeding a batch of b sentences to a RNN:\n",
    "        # In step 1,  first word of each of the b sentences (in a batch) is input in parallel.  \n",
    "        # In step 2,  second word of each of the b sentences is input in parallel. \n",
    "        # The parallelism is only for efficiency.  \n",
    "        # Each sentence in a batch is handled in parallel, but the network sees one word of a sentence at a time and does the computations accordingly. \n",
    "        # All the computations involving the words of all sentences in a batch at a given time step are done in parallel. \n",
    "\n",
    "        ########################################################################################################\n",
    "        # Instantiating our RNN model and setting stateful to True to feed forward the state to the next layer #\n",
    "        ########################################################################################################\n",
    "        \n",
    "        self._RNNlayer  =  tf.keras.layers.RNN(stacked_lstm,[batch_size, num_steps],return_state=False,stateful=True,trainable=True)\n",
    "        \n",
    "        # Define the initial state, i.e., the model state for the very first data point\n",
    "        # It initialize the state of the LSTM memory. The memory state of the network is initialized with a vector of zeros and gets updated after reading each word.\n",
    "        self._initial_state = tf.Variable(tf.zeros([batch_size,embeding_vector_size]),trainable=False)\n",
    "        self._RNNlayer.inital_state = self._initial_state\n",
    "    \n",
    "        ############################################\n",
    "        # Adding RNN layer to keras sequential API #\n",
    "        ############################################        \n",
    "        self._model.add(self._RNNlayer)\n",
    "        \n",
    "        #self._model.add(tf.keras.layers.LSTM(hidden_size_l1,return_sequences=True,stateful=True))\n",
    "        #self._model.add(tf.keras.layers.LSTM(hidden_size_l2,return_sequences=True))\n",
    "        \n",
    "        \n",
    "        ####################################################################################################\n",
    "        # Instantiating a Dense layer that connects the output to the vocab_size  and adding layer to model#\n",
    "        ####################################################################################################\n",
    "        self._dense = tf.keras.layers.Dense(self.vocab_size)\n",
    "        self._model.add(self._dense)\n",
    " \n",
    "        \n",
    "        ####################################################################################################\n",
    "        # Adding softmax activation layer and deriving probability to each class and adding layer to model #\n",
    "        ####################################################################################################\n",
    "        self._activation = tf.keras.layers.Activation('softmax')\n",
    "        self._model.add(self._activation)\n",
    "\n",
    "        ##########################################################\n",
    "        # Instantiating the stochastic gradient decent optimizer #\n",
    "        ########################################################## \n",
    "        self._optimizer = tf.keras.optimizers.SGD(lr=self._lr, clipnorm=max_grad_norm)\n",
    "        \n",
    "        \n",
    "        ##############################################################################\n",
    "        # Compiling and summarizing the model stacked using the keras sequential API #\n",
    "        ##############################################################################\n",
    "        self._model.compile(loss=self.crossentropy, optimizer=self._optimizer)\n",
    "        self._model.summary()\n",
    "\n",
    "\n",
    "    def crossentropy(self,y_true, y_pred):\n",
    "        return tf.keras.losses.sparse_categorical_crossentropy(y_true, y_pred)\n",
    "\n",
    "    def train_batch(self,_input_data,_targets):\n",
    "        #################################################\n",
    "        # Creating the Training Operation for our Model #\n",
    "        #################################################\n",
    "        # Create a variable for the learning rate\n",
    "        self._lr = tf.Variable(0.0, trainable=False)\n",
    "        # Get all TensorFlow variables marked as \"trainable\" (i.e. all of them except _lr, which we just created)\n",
    "        tvars = self._model.trainable_variables\n",
    "        # Define the gradient clipping threshold\n",
    "        with tf.GradientTape() as tape:\n",
    "            # Forward pass.\n",
    "            output_words_prob = self._model(_input_data)\n",
    "            # Loss value for this batch.\n",
    "            loss  = self.crossentropy(_targets, output_words_prob)\n",
    "            # average across batch and reduce sum\n",
    "            cost = tf.reduce_sum(loss/ self.batch_size)\n",
    "        # Get gradients of loss wrt the trainable variables.\n",
    "        grad_t_list = tape.gradient(cost, tvars)\n",
    "        # Define the gradient clipping threshold\n",
    "        grads, _ = tf.clip_by_global_norm(grad_t_list, max_grad_norm)\n",
    "        # Create the training TensorFlow Operation through our optimizer\n",
    "        train_op = self._optimizer.apply_gradients(zip(grads, tvars))\n",
    "        return cost\n",
    "        \n",
    "    def test_batch(self,_input_data,_targets):\n",
    "        #################################################\n",
    "        # Creating the Testing Operation for our Model #\n",
    "        #################################################\n",
    "        output_words_prob = self._model(_input_data)\n",
    "        loss  = self.crossentropy(_targets, output_words_prob)\n",
    "        # average across batch and reduce sum\n",
    "        cost = tf.reduce_sum(loss/ self.batch_size)\n",
    "\n",
    "        return cost\n",
    "    @classmethod\n",
    "    def instance(cls) : \n",
    "        return PTBModel()"
   ]
  },
  {
   "cell_type": "markdown",
   "metadata": {},
   "source": [
    "With that, the actual structure of our Recurrent Neural Network with Long Short-Term Memory is finished. What remains for us to do is to actually create the methods to run through time -- that is, the <code>run_epoch</code> method to be run at each epoch and a <code>main</code> script which ties all of this together.\n",
    "\n",
    "What our <code>run_epoch</code> method should do is take our input data and feed it to the relevant operations. This will return at the very least the current result for the cost function.\n"
   ]
  },
  {
   "cell_type": "code",
   "execution_count": 65,
   "metadata": {},
   "outputs": [],
   "source": [
    "\n",
    "########################################################################################################################\n",
    "# run_one_epoch takes as parameters  the model instance, the data to be fed, training or testing mode and verbose info #\n",
    "########################################################################################################################\n",
    "def run_one_epoch(m, data,is_training=True,verbose=False):\n",
    "\n",
    "    #Define the epoch size based on the length of the data, batch size and the number of steps\n",
    "    epoch_size = ((len(data) // m.batch_size) - 1) // m.num_steps\n",
    "    start_time = time.time()\n",
    "    costs = 0.\n",
    "    iters = 0\n",
    "    \n",
    "    m._model.reset_states()\n",
    "    \n",
    "    #For each step and data point\n",
    "    for step, (x, y) in enumerate(ptb_iterator(data, m.batch_size, m.num_steps)):\n",
    "        \n",
    "        #Evaluate and return cost, state by running cost, final_state and the function passed as parameter\n",
    "        #y = tf.keras.utils.to_categorical(y, num_classes=vocab_size)\n",
    "        if is_training : \n",
    "            loss=  m.train_batch(x, y)\n",
    "        else :\n",
    "            loss = m.test_batch(x, y)\n",
    "                                   \n",
    "\n",
    "        #Add returned cost to costs (which keeps track of the total costs for this epoch)\n",
    "        costs += loss\n",
    "        \n",
    "        #Add number of steps to iteration counter\n",
    "        iters += m.num_steps\n",
    "\n",
    "        if verbose and step % (epoch_size // 10) == 10:\n",
    "            print(\"Itr %d of %d, perplexity: %.3f speed: %.0f wps\" % (step , epoch_size, np.exp(costs / iters), iters * m.batch_size / (time.time() - start_time)))\n",
    "        \n",
    "\n",
    "\n",
    "    # Returns the Perplexity rating for us to keep track of how the model is evolving\n",
    "    return np.exp(costs / iters)\n"
   ]
  },
  {
   "cell_type": "markdown",
   "metadata": {},
   "source": [
    "Now, we create the <code>main</code> method to tie everything together. The code here reads the data from the directory, using the <code>reader</code> helper module, and then trains and evaluates the model on both a testing and a validating subset of data.\n"
   ]
  },
  {
   "cell_type": "code",
   "execution_count": 66,
   "metadata": {},
   "outputs": [],
   "source": [
    "# Reads the data and separates it into training data, validation data and testing data\n",
    "raw_data = ptb_raw_data(data_dir)\n",
    "train_data, valid_data, test_data, _, _ = raw_data"
   ]
  },
  {
   "cell_type": "code",
   "execution_count": null,
   "metadata": {},
   "outputs": [
    {
     "name": "stdout",
     "output_type": "stream",
     "text": [
      "Model: \"sequential_1\"\n",
      "_________________________________________________________________\n",
      " Layer (type)                Output Shape              Param #   \n",
      "=================================================================\n",
      " embedding_vocab (Embedding)  (30, 20, 200)            2000000   \n",
      "                                                                 \n",
      " rnn_1 (RNN)                 (30, 20, 128)             671088    \n",
      "                                                                 \n",
      " dense_1 (Dense)             (30, 20, 10000)           1290000   \n",
      "                                                                 \n",
      " activation_1 (Activation)   (30, 20, 10000)           0         \n",
      "                                                                 \n",
      "=================================================================\n",
      "Total params: 3,961,088\n",
      "Trainable params: 3,955,088\n",
      "Non-trainable params: 6,000\n",
      "_________________________________________________________________\n",
      "Epoch 1 : Learning rate: 1.000\n",
      "Itr 10 of 1549, perplexity: 4614.485 speed: 1199 wps\n",
      "Itr 164 of 1549, perplexity: 1089.913 speed: 1201 wps\n",
      "Itr 318 of 1549, perplexity: 837.966 speed: 1193 wps\n",
      "Itr 472 of 1549, perplexity: 691.751 speed: 1194 wps\n",
      "Itr 626 of 1549, perplexity: 587.890 speed: 1196 wps\n",
      "Itr 780 of 1549, perplexity: 521.446 speed: 1196 wps\n",
      "Itr 934 of 1549, perplexity: 470.581 speed: 1197 wps\n",
      "Itr 1088 of 1549, perplexity: 432.505 speed: 1200 wps\n",
      "Itr 1242 of 1549, perplexity: 403.155 speed: 1201 wps\n",
      "Itr 1396 of 1549, perplexity: 375.760 speed: 1201 wps\n",
      "Epoch 1 : Train Perplexity: 354.165\n",
      "Epoch 1 : Valid Perplexity: 212.430\n",
      "Epoch 2 : Learning rate: 1.000\n",
      "Itr 10 of 1549, perplexity: 232.672 speed: 1230 wps\n",
      "Itr 164 of 1549, perplexity: 208.609 speed: 1226 wps\n",
      "Itr 318 of 1549, perplexity: 200.531 speed: 1228 wps\n",
      "Itr 472 of 1549, perplexity: 192.592 speed: 1213 wps\n",
      "Itr 626 of 1549, perplexity: 183.700 speed: 1219 wps\n",
      "Itr 780 of 1549, perplexity: 180.020 speed: 1223 wps\n",
      "Itr 934 of 1549, perplexity: 176.090 speed: 1225 wps\n",
      "Itr 1088 of 1549, perplexity: 172.854 speed: 1227 wps\n",
      "Itr 1242 of 1549, perplexity: 170.502 speed: 1228 wps\n",
      "Itr 1396 of 1549, perplexity: 166.452 speed: 1229 wps\n",
      "Epoch 2 : Train Perplexity: 163.771\n",
      "Epoch 2 : Valid Perplexity: 163.949\n",
      "Epoch 3 : Learning rate: 1.000\n",
      "Itr 10 of 1549, perplexity: 160.227 speed: 1209 wps\n",
      "Itr 164 of 1549, perplexity: 146.853 speed: 1227 wps\n",
      "Itr 318 of 1549, perplexity: 143.572 speed: 1229 wps\n",
      "Itr 472 of 1549, perplexity: 139.243 speed: 1224 wps\n",
      "Itr 626 of 1549, perplexity: 134.087 speed: 1221 wps\n",
      "Itr 780 of 1549, perplexity: 132.900 speed: 1224 wps\n",
      "Itr 934 of 1549, perplexity: 131.119 speed: 1226 wps\n",
      "Itr 1088 of 1549, perplexity: 129.728 speed: 1228 wps\n",
      "Itr 1242 of 1549, perplexity: 128.904 speed: 1228 wps\n",
      "Itr 1396 of 1549, perplexity: 126.599 speed: 1227 wps\n",
      "Epoch 3 : Train Perplexity: 125.398\n",
      "Epoch 3 : Valid Perplexity: 145.757\n",
      "Epoch 4 : Learning rate: 1.000\n",
      "Itr 10 of 1549, perplexity: 129.723 speed: 1236 wps\n",
      "Itr 164 of 1549, perplexity: 120.005 speed: 1225 wps\n",
      "Itr 318 of 1549, perplexity: 118.131 speed: 1226 wps\n",
      "Itr 472 of 1549, perplexity: 114.851 speed: 1226 wps\n",
      "Itr 626 of 1549, perplexity: 110.999 speed: 1223 wps\n",
      "Itr 780 of 1549, perplexity: 110.500 speed: 1223 wps\n",
      "Itr 934 of 1549, perplexity: 109.430 speed: 1223 wps\n",
      "Itr 1088 of 1549, perplexity: 108.591 speed: 1223 wps\n",
      "Itr 1242 of 1549, perplexity: 108.267 speed: 1223 wps\n",
      "Itr 1396 of 1549, perplexity: 106.611 speed: 1224 wps\n",
      "Epoch 4 : Train Perplexity: 105.889\n",
      "Epoch 4 : Valid Perplexity: 135.548\n",
      "Epoch 5 : Learning rate: 1.000\n",
      "Itr 10 of 1549, perplexity: 110.541 speed: 1190 wps\n",
      "Itr 164 of 1549, perplexity: 104.517 speed: 1223 wps\n",
      "Itr 318 of 1549, perplexity: 103.233 speed: 1225 wps\n",
      "Itr 472 of 1549, perplexity: 100.494 speed: 1223 wps\n",
      "Itr 626 of 1549, perplexity: 97.292 speed: 1223 wps\n",
      "Itr 780 of 1549, perplexity: 97.110 speed: 1222 wps\n",
      "Itr 934 of 1549, perplexity: 96.350 speed: 1220 wps\n",
      "Itr 1088 of 1549, perplexity: 95.776 speed: 1221 wps\n",
      "Itr 1242 of 1549, perplexity: 95.595 speed: 1220 wps\n",
      "Itr 1396 of 1549, perplexity: 94.258 speed: 1219 wps\n",
      "Epoch 5 : Train Perplexity: 93.752\n",
      "Epoch 5 : Valid Perplexity: 132.060\n",
      "Epoch 6 : Learning rate: 0.500\n",
      "Itr 10 of 1549, perplexity: 98.673 speed: 1208 wps\n",
      "Itr 164 of 1549, perplexity: 91.086 speed: 1208 wps\n",
      "Itr 318 of 1549, perplexity: 88.655 speed: 1204 wps\n",
      "Itr 472 of 1549, perplexity: 85.239 speed: 1203 wps\n",
      "Itr 626 of 1549, perplexity: 81.581 speed: 1203 wps\n",
      "Itr 780 of 1549, perplexity: 80.837 speed: 1197 wps\n",
      "Itr 934 of 1549, perplexity: 79.573 speed: 1197 wps\n",
      "Itr 1088 of 1549, perplexity: 78.509 speed: 1174 wps\n",
      "Itr 1242 of 1549, perplexity: 77.745 speed: 1171 wps\n",
      "Itr 1396 of 1549, perplexity: 76.095 speed: 1170 wps\n",
      "Epoch 6 : Train Perplexity: 75.136\n",
      "Epoch 6 : Valid Perplexity: 122.671\n",
      "Epoch 7 : Learning rate: 0.250\n",
      "Itr 10 of 1549, perplexity: 82.705 speed: 1186 wps\n",
      "Itr 164 of 1549, perplexity: 78.089 speed: 1168 wps\n",
      "Itr 318 of 1549, perplexity: 76.312 speed: 1170 wps\n",
      "Itr 472 of 1549, perplexity: 73.331 speed: 1163 wps\n",
      "Itr 626 of 1549, perplexity: 70.028 speed: 1164 wps\n",
      "Itr 780 of 1549, perplexity: 69.326 speed: 1165 wps\n",
      "Itr 934 of 1549, perplexity: 68.152 speed: 1167 wps\n",
      "Itr 1088 of 1549, perplexity: 67.115 speed: 1165 wps\n",
      "Itr 1242 of 1549, perplexity: 66.307 speed: 1166 wps\n",
      "Itr 1396 of 1549, perplexity: 64.743 speed: 1145 wps\n",
      "Epoch 7 : Train Perplexity: 63.776\n",
      "Epoch 7 : Valid Perplexity: 121.016\n",
      "Epoch 8 : Learning rate: 0.125\n",
      "Itr 10 of 1549, perplexity: 74.864 speed: 1163 wps\n",
      "Itr 164 of 1549, perplexity: 70.807 speed: 1044 wps\n",
      "Itr 318 of 1549, perplexity: 69.368 speed: 1104 wps\n",
      "Itr 472 of 1549, perplexity: 66.692 speed: 1122 wps\n",
      "Itr 626 of 1549, perplexity: 63.639 speed: 1135 wps\n",
      "Itr 780 of 1549, perplexity: 62.974 speed: 1136 wps\n",
      "Itr 934 of 1549, perplexity: 61.886 speed: 1137 wps\n",
      "Itr 1088 of 1549, perplexity: 60.907 speed: 1140 wps\n",
      "Itr 1242 of 1549, perplexity: 60.132 speed: 1144 wps\n",
      "Itr 1396 of 1549, perplexity: 58.669 speed: 1143 wps\n",
      "Epoch 8 : Train Perplexity: 57.732\n",
      "Epoch 8 : Valid Perplexity: 120.863\n",
      "Epoch 9 : Learning rate: 0.062\n",
      "Itr 10 of 1549, perplexity: 70.793 speed: 1171 wps\n",
      "Itr 164 of 1549, perplexity: 66.958 speed: 1147 wps\n",
      "Itr 318 of 1549, perplexity: 65.680 speed: 1156 wps\n",
      "Itr 472 of 1549, perplexity: 63.192 speed: 1140 wps\n",
      "Itr 626 of 1549, perplexity: 60.303 speed: 1135 wps\n",
      "Itr 780 of 1549, perplexity: 59.676 speed: 1137 wps\n",
      "Itr 934 of 1549, perplexity: 58.641 speed: 1142 wps\n",
      "Itr 1088 of 1549, perplexity: 57.687 speed: 1146 wps\n",
      "Itr 1242 of 1549, perplexity: 56.930 speed: 1150 wps\n"
     ]
    }
   ],
   "source": [
    "# Instantiates the PTBModel class\n",
    "m=PTBModel.instance()   \n",
    "K = tf.keras.backend \n",
    "for i in range(max_epoch):\n",
    "    # Define the decay for this epoch\n",
    "    lr_decay = decay ** max(i - max_epoch_decay_lr, 0.0)\n",
    "    dcr = learning_rate * lr_decay\n",
    "    m._lr = dcr\n",
    "    K.set_value(m._model.optimizer.learning_rate,m._lr)\n",
    "    print(\"Epoch %d : Learning rate: %.3f\" % (i + 1, m._model.optimizer.learning_rate))\n",
    "    # Run the loop for this epoch in the training mode\n",
    "    train_perplexity = run_one_epoch(m, train_data,is_training=True,verbose=True)\n",
    "    print(\"Epoch %d : Train Perplexity: %.3f\" % (i + 1, train_perplexity))\n",
    "        \n",
    "    # Run the loop for this epoch in the validation mode\n",
    "    valid_perplexity = run_one_epoch(m, valid_data,is_training=False,verbose=False)\n",
    "    print(\"Epoch %d : Valid Perplexity: %.3f\" % (i + 1, valid_perplexity))\n",
    "    \n",
    "# Run the loop in the testing mode to see how effective was our training\n",
    "test_perplexity = run_one_epoch(m, test_data,is_training=False,verbose=False)\n",
    "print(\"Test Perplexity: %.3f\" % test_perplexity)\n",
    "\n"
   ]
  },
  {
   "cell_type": "markdown",
   "metadata": {},
   "source": [
    "As you can see, the model's perplexity rating drops very quickly after a few iterations. As was elaborated before, <b>lower Perplexity means that the model is more certain about its prediction</b>. As such, we can be sure that this model is performing well!\n"
   ]
  },
  {
   "cell_type": "markdown",
   "metadata": {},
   "source": [
    "-------\n"
   ]
  },
  {
   "cell_type": "markdown",
   "metadata": {},
   "source": [
    "This is the end of the <b>Applying Recurrent Neural Networks to Text Processing</b> notebook. Hopefully you now have a better understanding of Recurrent Neural Networks and how to implement one utilizing TensorFlow. Thank you for reading this notebook, and good luck on your studies.\n"
   ]
  },
  {
   "cell_type": "markdown",
   "metadata": {},
   "source": [
    "## Want to learn more?\n",
    "\n",
    "Also, you can use __Watson Studio__ to run these notebooks faster with bigger datasets.__Watson Studio__ is IBM’s leading cloud solution for data scientists, built by data scientists. With Jupyter notebooks, RStudio, Apache Spark and popular libraries pre-packaged in the cloud, __Watson Studio__ enables data scientists to collaborate on their projects without having to install anything. Join the fast-growing community of __Watson Studio__ users today with a free account at [Watson Studio](https://cocl.us/ML0120EN_DSX).This is the end of this lesson. Thank you for reading this notebook, and good luck on your studies.\n"
   ]
  },
  {
   "cell_type": "markdown",
   "metadata": {},
   "source": [
    "### Thanks for completing this lesson!\n",
    "\n",
    "Notebook created by <a href=\"https://br.linkedin.com/in/walter-gomes-de-amorim-junior-624726121?utm_medium=Exinfluencer&utm_source=Exinfluencer&utm_content=000026UJ&utm_term=10006555&utm_id=NA-SkillsNetwork-Channel-SkillsNetworkCoursesIBMDeveloperSkillsNetworkDL0120ENSkillsNetwork954-2023-01-01\">Walter Gomes de Amorim Junior</a>, <a href = \"https://linkedin.com/in/saeedaghabozorgi\"> Saeed Aghabozorgi </a></h4>\n",
    "\n",
    "\n",
    "Updated to TF 2.X by  <a href=\"https://www.linkedin.com/in/samaya-madhavan?utm_medium=Exinfluencer&utm_source=Exinfluencer&utm_content=000026UJ&utm_term=10006555&utm_id=NA-SkillsNetwork-Channel-SkillsNetworkCoursesIBMDeveloperSkillsNetworkDL0120ENSkillsNetwork954-2023-01-01\"> Samaya Madhavan </a>\n"
   ]
  },
  {
   "cell_type": "markdown",
   "metadata": {},
   "source": [
    "<hr>\n",
    "\n",
    "Copyright &copy; 2018 [Cognitive Class](https://cocl.us/DX0108EN_CC). This notebook and its source code are released under the terms of the [MIT License](https://bigdatauniversity.com/mit-license/?utm_medium=Exinfluencer&utm_source=Exinfluencer&utm_content=000026UJ&utm_term=10006555&utm_id=NA-SkillsNetwork-Channel-SkillsNetworkCoursesIBMDeveloperSkillsNetworkDL0120ENSkillsNetwork954-2023-01-01).\n"
   ]
  }
 ],
 "metadata": {
  "kernelspec": {
   "display_name": "Python",
   "language": "python",
   "name": "conda-env-python-py"
  },
  "language_info": {
   "codemirror_mode": {
    "name": "ipython",
    "version": 3
   },
   "file_extension": ".py",
   "mimetype": "text/x-python",
   "name": "python",
   "nbconvert_exporter": "python",
   "pygments_lexer": "ipython3",
   "version": "3.7.12"
  }
 },
 "nbformat": 4,
 "nbformat_minor": 4
}
