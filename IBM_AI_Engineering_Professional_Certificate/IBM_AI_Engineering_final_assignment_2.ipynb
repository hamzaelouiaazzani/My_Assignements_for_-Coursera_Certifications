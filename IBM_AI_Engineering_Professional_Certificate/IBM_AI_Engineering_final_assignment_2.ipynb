{
  "nbformat": 4,
  "nbformat_minor": 0,
  "metadata": {
    "colab": {
      "provenance": []
    },
    "kernelspec": {
      "name": "python3",
      "display_name": "Python 3"
    },
    "language_info": {
      "name": "python"
    }
  },
  "cells": [
    {
      "cell_type": "code",
      "source": [
        "import numpy as np\n",
        "import pandas as pd\n",
        "from sklearn.model_selection import train_test_split\n",
        "\n",
        "\n",
        "import tensorflow as tf"
      ],
      "metadata": {
        "id": "c9wR_QSmOnrN"
      },
      "execution_count": null,
      "outputs": []
    },
    {
      "cell_type": "code",
      "source": [
        "df = pd.read_csv(\"concrete_data.csv\")\n",
        "df.head(2)"
      ],
      "metadata": {
        "colab": {
          "base_uri": "https://localhost:8080/",
          "height": 112
        },
        "id": "bHTGpSD8O-5U",
        "outputId": "5478483f-16ad-4f11-9546-f3a5dfb088b3"
      },
      "execution_count": null,
      "outputs": [
        {
          "output_type": "execute_result",
          "data": {
            "text/plain": [
              "   Cement  Blast Furnace Slag  Fly Ash  Water  Superplasticizer  \\\n",
              "0   540.0                 0.0      0.0  162.0               2.5   \n",
              "1   540.0                 0.0      0.0  162.0               2.5   \n",
              "\n",
              "   Coarse Aggregate  Fine Aggregate  Age  Strength  \n",
              "0            1040.0           676.0   28     79.99  \n",
              "1            1055.0           676.0   28     61.89  "
            ],
            "text/html": [
              "\n",
              "  <div id=\"df-89d0026a-acfb-4803-985f-c819b26b1a8f\" class=\"colab-df-container\">\n",
              "    <div>\n",
              "<style scoped>\n",
              "    .dataframe tbody tr th:only-of-type {\n",
              "        vertical-align: middle;\n",
              "    }\n",
              "\n",
              "    .dataframe tbody tr th {\n",
              "        vertical-align: top;\n",
              "    }\n",
              "\n",
              "    .dataframe thead th {\n",
              "        text-align: right;\n",
              "    }\n",
              "</style>\n",
              "<table border=\"1\" class=\"dataframe\">\n",
              "  <thead>\n",
              "    <tr style=\"text-align: right;\">\n",
              "      <th></th>\n",
              "      <th>Cement</th>\n",
              "      <th>Blast Furnace Slag</th>\n",
              "      <th>Fly Ash</th>\n",
              "      <th>Water</th>\n",
              "      <th>Superplasticizer</th>\n",
              "      <th>Coarse Aggregate</th>\n",
              "      <th>Fine Aggregate</th>\n",
              "      <th>Age</th>\n",
              "      <th>Strength</th>\n",
              "    </tr>\n",
              "  </thead>\n",
              "  <tbody>\n",
              "    <tr>\n",
              "      <th>0</th>\n",
              "      <td>540.0</td>\n",
              "      <td>0.0</td>\n",
              "      <td>0.0</td>\n",
              "      <td>162.0</td>\n",
              "      <td>2.5</td>\n",
              "      <td>1040.0</td>\n",
              "      <td>676.0</td>\n",
              "      <td>28</td>\n",
              "      <td>79.99</td>\n",
              "    </tr>\n",
              "    <tr>\n",
              "      <th>1</th>\n",
              "      <td>540.0</td>\n",
              "      <td>0.0</td>\n",
              "      <td>0.0</td>\n",
              "      <td>162.0</td>\n",
              "      <td>2.5</td>\n",
              "      <td>1055.0</td>\n",
              "      <td>676.0</td>\n",
              "      <td>28</td>\n",
              "      <td>61.89</td>\n",
              "    </tr>\n",
              "  </tbody>\n",
              "</table>\n",
              "</div>\n",
              "    <div class=\"colab-df-buttons\">\n",
              "\n",
              "  <div class=\"colab-df-container\">\n",
              "    <button class=\"colab-df-convert\" onclick=\"convertToInteractive('df-89d0026a-acfb-4803-985f-c819b26b1a8f')\"\n",
              "            title=\"Convert this dataframe to an interactive table.\"\n",
              "            style=\"display:none;\">\n",
              "\n",
              "  <svg xmlns=\"http://www.w3.org/2000/svg\" height=\"24px\" viewBox=\"0 -960 960 960\">\n",
              "    <path d=\"M120-120v-720h720v720H120Zm60-500h600v-160H180v160Zm220 220h160v-160H400v160Zm0 220h160v-160H400v160ZM180-400h160v-160H180v160Zm440 0h160v-160H620v160ZM180-180h160v-160H180v160Zm440 0h160v-160H620v160Z\"/>\n",
              "  </svg>\n",
              "    </button>\n",
              "\n",
              "  <style>\n",
              "    .colab-df-container {\n",
              "      display:flex;\n",
              "      gap: 12px;\n",
              "    }\n",
              "\n",
              "    .colab-df-convert {\n",
              "      background-color: #E8F0FE;\n",
              "      border: none;\n",
              "      border-radius: 50%;\n",
              "      cursor: pointer;\n",
              "      display: none;\n",
              "      fill: #1967D2;\n",
              "      height: 32px;\n",
              "      padding: 0 0 0 0;\n",
              "      width: 32px;\n",
              "    }\n",
              "\n",
              "    .colab-df-convert:hover {\n",
              "      background-color: #E2EBFA;\n",
              "      box-shadow: 0px 1px 2px rgba(60, 64, 67, 0.3), 0px 1px 3px 1px rgba(60, 64, 67, 0.15);\n",
              "      fill: #174EA6;\n",
              "    }\n",
              "\n",
              "    .colab-df-buttons div {\n",
              "      margin-bottom: 4px;\n",
              "    }\n",
              "\n",
              "    [theme=dark] .colab-df-convert {\n",
              "      background-color: #3B4455;\n",
              "      fill: #D2E3FC;\n",
              "    }\n",
              "\n",
              "    [theme=dark] .colab-df-convert:hover {\n",
              "      background-color: #434B5C;\n",
              "      box-shadow: 0px 1px 3px 1px rgba(0, 0, 0, 0.15);\n",
              "      filter: drop-shadow(0px 1px 2px rgba(0, 0, 0, 0.3));\n",
              "      fill: #FFFFFF;\n",
              "    }\n",
              "  </style>\n",
              "\n",
              "    <script>\n",
              "      const buttonEl =\n",
              "        document.querySelector('#df-89d0026a-acfb-4803-985f-c819b26b1a8f button.colab-df-convert');\n",
              "      buttonEl.style.display =\n",
              "        google.colab.kernel.accessAllowed ? 'block' : 'none';\n",
              "\n",
              "      async function convertToInteractive(key) {\n",
              "        const element = document.querySelector('#df-89d0026a-acfb-4803-985f-c819b26b1a8f');\n",
              "        const dataTable =\n",
              "          await google.colab.kernel.invokeFunction('convertToInteractive',\n",
              "                                                    [key], {});\n",
              "        if (!dataTable) return;\n",
              "\n",
              "        const docLinkHtml = 'Like what you see? Visit the ' +\n",
              "          '<a target=\"_blank\" href=https://colab.research.google.com/notebooks/data_table.ipynb>data table notebook</a>'\n",
              "          + ' to learn more about interactive tables.';\n",
              "        element.innerHTML = '';\n",
              "        dataTable['output_type'] = 'display_data';\n",
              "        await google.colab.output.renderOutput(dataTable, element);\n",
              "        const docLink = document.createElement('div');\n",
              "        docLink.innerHTML = docLinkHtml;\n",
              "        element.appendChild(docLink);\n",
              "      }\n",
              "    </script>\n",
              "  </div>\n",
              "\n",
              "\n",
              "<div id=\"df-15bca4a7-792e-4631-84c7-0f93ce915dba\">\n",
              "  <button class=\"colab-df-quickchart\" onclick=\"quickchart('df-15bca4a7-792e-4631-84c7-0f93ce915dba')\"\n",
              "            title=\"Suggest charts.\"\n",
              "            style=\"display:none;\">\n",
              "\n",
              "<svg xmlns=\"http://www.w3.org/2000/svg\" height=\"24px\"viewBox=\"0 0 24 24\"\n",
              "     width=\"24px\">\n",
              "    <g>\n",
              "        <path d=\"M19 3H5c-1.1 0-2 .9-2 2v14c0 1.1.9 2 2 2h14c1.1 0 2-.9 2-2V5c0-1.1-.9-2-2-2zM9 17H7v-7h2v7zm4 0h-2V7h2v10zm4 0h-2v-4h2v4z\"/>\n",
              "    </g>\n",
              "</svg>\n",
              "  </button>\n",
              "\n",
              "<style>\n",
              "  .colab-df-quickchart {\n",
              "    background-color: #E8F0FE;\n",
              "    border: none;\n",
              "    border-radius: 50%;\n",
              "    cursor: pointer;\n",
              "    display: none;\n",
              "    fill: #1967D2;\n",
              "    height: 32px;\n",
              "    padding: 0 0 0 0;\n",
              "    width: 32px;\n",
              "  }\n",
              "\n",
              "  .colab-df-quickchart:hover {\n",
              "    background-color: #E2EBFA;\n",
              "    box-shadow: 0px 1px 2px rgba(60, 64, 67, 0.3), 0px 1px 3px 1px rgba(60, 64, 67, 0.15);\n",
              "    fill: #174EA6;\n",
              "  }\n",
              "\n",
              "  [theme=dark] .colab-df-quickchart {\n",
              "    background-color: #3B4455;\n",
              "    fill: #D2E3FC;\n",
              "  }\n",
              "\n",
              "  [theme=dark] .colab-df-quickchart:hover {\n",
              "    background-color: #434B5C;\n",
              "    box-shadow: 0px 1px 3px 1px rgba(0, 0, 0, 0.15);\n",
              "    filter: drop-shadow(0px 1px 2px rgba(0, 0, 0, 0.3));\n",
              "    fill: #FFFFFF;\n",
              "  }\n",
              "</style>\n",
              "\n",
              "  <script>\n",
              "    async function quickchart(key) {\n",
              "      const charts = await google.colab.kernel.invokeFunction(\n",
              "          'suggestCharts', [key], {});\n",
              "    }\n",
              "    (() => {\n",
              "      let quickchartButtonEl =\n",
              "        document.querySelector('#df-15bca4a7-792e-4631-84c7-0f93ce915dba button');\n",
              "      quickchartButtonEl.style.display =\n",
              "        google.colab.kernel.accessAllowed ? 'block' : 'none';\n",
              "    })();\n",
              "  </script>\n",
              "</div>\n",
              "    </div>\n",
              "  </div>\n"
            ]
          },
          "metadata": {},
          "execution_count": 4
        }
      ]
    },
    {
      "cell_type": "code",
      "source": [
        "df.columns , df.shape"
      ],
      "metadata": {
        "colab": {
          "base_uri": "https://localhost:8080/"
        },
        "id": "YSFm8pxNQo3Z",
        "outputId": "a2197803-fe48-4467-8636-a8cb4b75b50b"
      },
      "execution_count": null,
      "outputs": [
        {
          "output_type": "execute_result",
          "data": {
            "text/plain": [
              "(Index(['Cement', 'Blast Furnace Slag', 'Fly Ash', 'Water', 'Superplasticizer',\n",
              "        'Coarse Aggregate', 'Fine Aggregate', 'Age', 'Strength'],\n",
              "       dtype='object'),\n",
              " (1030, 9))"
            ]
          },
          "metadata": {},
          "execution_count": 5
        }
      ]
    },
    {
      "cell_type": "code",
      "source": [
        "df.drop([\"Age\"] , axis = 1 , inplace = True)\n",
        "df.columns , df.shape"
      ],
      "metadata": {
        "colab": {
          "base_uri": "https://localhost:8080/"
        },
        "id": "kl98sqhPPkcc",
        "outputId": "ffbb96ba-ac36-478b-8cfc-20f5fbd5f1f3"
      },
      "execution_count": null,
      "outputs": [
        {
          "output_type": "execute_result",
          "data": {
            "text/plain": [
              "(Index(['Cement', 'Blast Furnace Slag', 'Fly Ash', 'Water', 'Superplasticizer',\n",
              "        'Coarse Aggregate', 'Fine Aggregate', 'Strength'],\n",
              "       dtype='object'),\n",
              " (1030, 8))"
            ]
          },
          "metadata": {},
          "execution_count": 6
        }
      ]
    },
    {
      "cell_type": "markdown",
      "source": [
        "**1.  Build a Baseline Model**"
      ],
      "metadata": {
        "id": "6Fy0jNcY5FPo"
      }
    },
    {
      "cell_type": "markdown",
      "source": [
        "*1.1.  Building the Model Architecture and Model compilation*"
      ],
      "metadata": {
        "id": "vOzx7Rmt893Z"
      }
    },
    {
      "cell_type": "code",
      "source": [
        "def reg_model():\n",
        "\n",
        "    model = tf.keras.models.Sequential(name = \"Sequential_\")\n",
        "\n",
        "    model.add(tf.keras.layers.Dense(10, activation='relu', input_shape=(df.shape[1]-1,) , name = \"First_Hidden_Layer\"))\n",
        "    model.add(tf.keras.layers.Dense(1 , name = \"Output_Layer\"))\n",
        "\n",
        "\n",
        "    optimizer , loss = tf.keras.optimizers.Adam() , tf.keras.losses.MeanSquaredError()\n",
        "    model.compile(optimizer=optimizer, loss=loss)\n",
        "\n",
        "    return model"
      ],
      "metadata": {
        "id": "Ib6Bdvp26q1W"
      },
      "execution_count": null,
      "outputs": []
    },
    {
      "cell_type": "markdown",
      "source": [
        "*1.2.  Data Splitting*"
      ],
      "metadata": {
        "id": "0iudeB8c9R_q"
      }
    },
    {
      "cell_type": "code",
      "source": [
        "input_features , output_values = df.iloc[:,:-1] , df[\"Strength\"]\n",
        "X_train, X_test, y_train, y_test = train_test_split(input_features, output_values, test_size=0.30)\n",
        "\n",
        "X_train.shape , X_test.shape , y_train.shape , y_test.shape"
      ],
      "metadata": {
        "colab": {
          "base_uri": "https://localhost:8080/"
        },
        "id": "yYiA9RWRQGid",
        "outputId": "051a2569-8841-44cd-8e35-5fe35a438c22"
      },
      "execution_count": null,
      "outputs": [
        {
          "output_type": "execute_result",
          "data": {
            "text/plain": [
              "((721, 7), (309, 7), (721,), (309,))"
            ]
          },
          "metadata": {},
          "execution_count": 8
        }
      ]
    },
    {
      "cell_type": "markdown",
      "source": [
        "*1.3.  Train the model on the training set for 50 epochs.*"
      ],
      "metadata": {
        "id": "WSn8I9PN-xao"
      }
    },
    {
      "cell_type": "code",
      "source": [
        "model = reg_model()\n",
        "\n",
        "model.fit(X_train, y_train, validation_split=0.2, epochs=50, verbose=1)"
      ],
      "metadata": {
        "colab": {
          "base_uri": "https://localhost:8080/"
        },
        "id": "SIp-QTaP-h1V",
        "outputId": "a555c10b-000a-4733-ea5b-edc7da8dc73a"
      },
      "execution_count": null,
      "outputs": [
        {
          "output_type": "stream",
          "name": "stdout",
          "text": [
            "Epoch 1/50\n",
            "18/18 [==============================] - 2s 24ms/step - loss: 106596.9062 - val_loss: 74025.9922\n",
            "Epoch 2/50\n",
            "18/18 [==============================] - 0s 6ms/step - loss: 48891.1055 - val_loss: 32776.1836\n",
            "Epoch 3/50\n",
            "18/18 [==============================] - 0s 5ms/step - loss: 20835.7266 - val_loss: 15042.3105\n",
            "Epoch 4/50\n",
            "18/18 [==============================] - 0s 6ms/step - loss: 10410.8330 - val_loss: 9041.4463\n",
            "Epoch 5/50\n",
            "18/18 [==============================] - 0s 5ms/step - loss: 7305.9253 - val_loss: 7112.0273\n",
            "Epoch 6/50\n",
            "18/18 [==============================] - 0s 7ms/step - loss: 6332.4976 - val_loss: 6413.9956\n",
            "Epoch 7/50\n",
            "18/18 [==============================] - 0s 9ms/step - loss: 5882.3721 - val_loss: 5951.1084\n",
            "Epoch 8/50\n",
            "18/18 [==============================] - 0s 12ms/step - loss: 5478.3262 - val_loss: 5558.2554\n",
            "Epoch 9/50\n",
            "18/18 [==============================] - 0s 5ms/step - loss: 5104.7539 - val_loss: 5197.2832\n",
            "Epoch 10/50\n",
            "18/18 [==============================] - 0s 9ms/step - loss: 4752.4854 - val_loss: 4828.0015\n",
            "Epoch 11/50\n",
            "18/18 [==============================] - 0s 6ms/step - loss: 4389.2676 - val_loss: 4447.6514\n",
            "Epoch 12/50\n",
            "18/18 [==============================] - 0s 9ms/step - loss: 4018.9258 - val_loss: 4034.6189\n",
            "Epoch 13/50\n",
            "18/18 [==============================] - 0s 6ms/step - loss: 3628.9717 - val_loss: 3631.2600\n",
            "Epoch 14/50\n",
            "18/18 [==============================] - 0s 6ms/step - loss: 3243.2195 - val_loss: 3238.8777\n",
            "Epoch 15/50\n",
            "18/18 [==============================] - 0s 7ms/step - loss: 2892.2156 - val_loss: 2864.3237\n",
            "Epoch 16/50\n",
            "18/18 [==============================] - 0s 9ms/step - loss: 2565.7341 - val_loss: 2549.7024\n",
            "Epoch 17/50\n",
            "18/18 [==============================] - 0s 5ms/step - loss: 2284.3867 - val_loss: 2256.6565\n",
            "Epoch 18/50\n",
            "18/18 [==============================] - 0s 9ms/step - loss: 2023.7823 - val_loss: 1979.4471\n",
            "Epoch 19/50\n",
            "18/18 [==============================] - 0s 8ms/step - loss: 1796.9797 - val_loss: 1747.6122\n",
            "Epoch 20/50\n",
            "18/18 [==============================] - 0s 9ms/step - loss: 1593.6770 - val_loss: 1561.0183\n",
            "Epoch 21/50\n",
            "18/18 [==============================] - 0s 7ms/step - loss: 1414.9398 - val_loss: 1368.3257\n",
            "Epoch 22/50\n",
            "18/18 [==============================] - 0s 5ms/step - loss: 1259.3462 - val_loss: 1218.3331\n",
            "Epoch 23/50\n",
            "18/18 [==============================] - 0s 5ms/step - loss: 1124.9716 - val_loss: 1075.0967\n",
            "Epoch 24/50\n",
            "18/18 [==============================] - 0s 5ms/step - loss: 1009.8687 - val_loss: 951.6708\n",
            "Epoch 25/50\n",
            "18/18 [==============================] - 0s 7ms/step - loss: 898.2272 - val_loss: 859.0066\n",
            "Epoch 26/50\n",
            "18/18 [==============================] - 0s 14ms/step - loss: 801.4305 - val_loss: 747.0297\n",
            "Epoch 27/50\n",
            "18/18 [==============================] - 0s 9ms/step - loss: 709.2748 - val_loss: 658.7759\n",
            "Epoch 28/50\n",
            "18/18 [==============================] - 0s 6ms/step - loss: 623.8191 - val_loss: 575.0190\n",
            "Epoch 29/50\n",
            "18/18 [==============================] - 0s 7ms/step - loss: 547.2112 - val_loss: 514.8771\n",
            "Epoch 30/50\n",
            "18/18 [==============================] - 0s 8ms/step - loss: 493.2510 - val_loss: 463.6620\n",
            "Epoch 31/50\n",
            "18/18 [==============================] - 0s 7ms/step - loss: 443.8252 - val_loss: 425.7775\n",
            "Epoch 32/50\n",
            "18/18 [==============================] - 0s 6ms/step - loss: 411.7838 - val_loss: 396.7549\n",
            "Epoch 33/50\n",
            "18/18 [==============================] - 0s 6ms/step - loss: 385.9166 - val_loss: 375.9369\n",
            "Epoch 34/50\n",
            "18/18 [==============================] - 0s 7ms/step - loss: 362.1957 - val_loss: 347.7342\n",
            "Epoch 35/50\n",
            "18/18 [==============================] - 0s 7ms/step - loss: 342.4259 - val_loss: 327.9674\n",
            "Epoch 36/50\n",
            "18/18 [==============================] - 0s 6ms/step - loss: 324.6810 - val_loss: 310.4653\n",
            "Epoch 37/50\n",
            "18/18 [==============================] - 0s 9ms/step - loss: 309.3876 - val_loss: 300.5320\n",
            "Epoch 38/50\n",
            "18/18 [==============================] - 0s 10ms/step - loss: 294.8015 - val_loss: 279.2922\n",
            "Epoch 39/50\n",
            "18/18 [==============================] - 0s 11ms/step - loss: 281.2604 - val_loss: 268.2591\n",
            "Epoch 40/50\n",
            "18/18 [==============================] - 0s 7ms/step - loss: 268.5923 - val_loss: 257.0821\n",
            "Epoch 41/50\n",
            "18/18 [==============================] - 0s 9ms/step - loss: 260.5534 - val_loss: 246.7833\n",
            "Epoch 42/50\n",
            "18/18 [==============================] - 0s 8ms/step - loss: 248.0760 - val_loss: 239.9224\n",
            "Epoch 43/50\n",
            "18/18 [==============================] - 0s 12ms/step - loss: 239.7560 - val_loss: 234.0356\n",
            "Epoch 44/50\n",
            "18/18 [==============================] - 0s 10ms/step - loss: 232.8607 - val_loss: 225.6001\n",
            "Epoch 45/50\n",
            "18/18 [==============================] - 0s 5ms/step - loss: 225.6888 - val_loss: 220.9176\n",
            "Epoch 46/50\n",
            "18/18 [==============================] - 0s 8ms/step - loss: 219.7340 - val_loss: 215.8295\n",
            "Epoch 47/50\n",
            "18/18 [==============================] - 0s 14ms/step - loss: 214.1895 - val_loss: 210.5352\n",
            "Epoch 48/50\n",
            "18/18 [==============================] - 0s 8ms/step - loss: 210.2745 - val_loss: 209.5303\n",
            "Epoch 49/50\n",
            "18/18 [==============================] - 0s 8ms/step - loss: 206.0742 - val_loss: 202.3794\n",
            "Epoch 50/50\n",
            "18/18 [==============================] - 0s 7ms/step - loss: 202.8897 - val_loss: 204.7567\n"
          ]
        },
        {
          "output_type": "execute_result",
          "data": {
            "text/plain": [
              "<keras.callbacks.History at 0x789652519810>"
            ]
          },
          "metadata": {},
          "execution_count": 9
        }
      ]
    },
    {
      "cell_type": "markdown",
      "source": [
        "*1.4.  Evaluate the model on the test data & Calculating the Mean Squared Error on this test set.*"
      ],
      "metadata": {
        "id": "veGa5xmQAoxb"
      }
    },
    {
      "cell_type": "code",
      "source": [
        "model.evaluate(X_test , y_test)"
      ],
      "metadata": {
        "colab": {
          "base_uri": "https://localhost:8080/"
        },
        "id": "VaKhAw-C_WOg",
        "outputId": "270b27b4-38f2-4f42-d7b4-63af100736fe"
      },
      "execution_count": null,
      "outputs": [
        {
          "output_type": "stream",
          "name": "stdout",
          "text": [
            "10/10 [==============================] - 0s 3ms/step - loss: 195.7326\n"
          ]
        },
        {
          "output_type": "execute_result",
          "data": {
            "text/plain": [
              "195.73257446289062"
            ]
          },
          "metadata": {},
          "execution_count": 10
        }
      ]
    },
    {
      "cell_type": "code",
      "source": [
        "#We have already imported the tf.keras.losses.MeanSquaredError() from tensorflow library. No need to use the one of Sklearn.\n",
        "y_hat = model.predict(X_test)\n",
        "\n",
        "mse_loss = tf.keras.losses.MeanSquaredError()\n",
        "mse_error = mse_loss(y_hat , y_test)\n",
        "print(f\"Mean Squared Error for test data is {mse_error}\")"
      ],
      "metadata": {
        "colab": {
          "base_uri": "https://localhost:8080/"
        },
        "id": "p3nKRJtXAlcp",
        "outputId": "cf2a2e79-f63c-48a9-bf2d-0d60a4284644"
      },
      "execution_count": null,
      "outputs": [
        {
          "output_type": "stream",
          "name": "stdout",
          "text": [
            "10/10 [==============================] - 0s 3ms/step\n",
            "Mean Squared Error for test data is 333.6095519334504\n"
          ]
        }
      ]
    },
    {
      "cell_type": "markdown",
      "source": [
        "1.5.  Repeating steps 1 and 3,  50 times."
      ],
      "metadata": {
        "id": "3SieM_DeCz3e"
      }
    },
    {
      "cell_type": "code",
      "source": [
        "list_mse_errors = []\n",
        "for _ in range(50):\n",
        "\n",
        "    _ , X_test, _ , y_test = train_test_split(input_features, output_values, test_size=0.30) # You should not use **random_state** parameter so that the results will not be reproducable after each time we split.\n",
        "    y_hat = model.predict(X_test , verbose = 0)\n",
        "    mse_error= tf.keras.losses.MeanSquaredError()(y_hat , y_test)\n",
        "    list_mse_errors.append(mse_error)"
      ],
      "metadata": {
        "id": "QBAdymQ0Ba7x"
      },
      "execution_count": null,
      "outputs": []
    },
    {
      "cell_type": "markdown",
      "source": [
        "*1.6.  Report the means and the standard deviations of the errors.*"
      ],
      "metadata": {
        "id": "H1_BrE-WH9nJ"
      }
    },
    {
      "cell_type": "code",
      "source": [
        "mean , std = np.mean(list_mse_errors) , np.std(list_mse_errors)\n",
        "print(f\"the mean of error after repeating the process 50 times is {mean}, while the standard deviation is {std}\")"
      ],
      "metadata": {
        "colab": {
          "base_uri": "https://localhost:8080/"
        },
        "id": "4GURkmmKGMet",
        "outputId": "a4862add-be7b-4cb9-8293-81b603dd2c2b"
      },
      "execution_count": null,
      "outputs": [
        {
          "output_type": "stream",
          "name": "stdout",
          "text": [
            "the mean of error after repeating the process 50 times is 363.92471383693993, while the standard deviation is 19.25420324714637\n"
          ]
        }
      ]
    },
    {
      "cell_type": "markdown",
      "source": [
        "**B.  Normalizaing the data and Repeating the first part.**"
      ],
      "metadata": {
        "id": "o8GyGiGyIVFG"
      }
    },
    {
      "cell_type": "markdown",
      "source": [
        "Before doing this, I want to clarify somthing here. The standard deviation (variance) in errors shows that the model is not stable, if it were the variance of error will be small. To mitigate this problem we propose to normalize data. We suppose that the variance would be reduced and the model would be more stable and less sensitive."
      ],
      "metadata": {
        "id": "qMO7WJcbIouZ"
      }
    },
    {
      "cell_type": "code",
      "source": [
        "input_features_norm = (input_features - input_features.mean()) / input_features.std()\n",
        "input_features_norm.head()"
      ],
      "metadata": {
        "colab": {
          "base_uri": "https://localhost:8080/",
          "height": 206
        },
        "id": "ogcrIbI5IYu8",
        "outputId": "ff9af71d-8984-42ba-ae30-ec2cdc89f0a9"
      },
      "execution_count": null,
      "outputs": [
        {
          "output_type": "execute_result",
          "data": {
            "text/plain": [
              "     Cement  Blast Furnace Slag   Fly Ash     Water  Superplasticizer  \\\n",
              "0  2.476712           -0.856472 -0.846733 -0.916319         -0.620147   \n",
              "1  2.476712           -0.856472 -0.846733 -0.916319         -0.620147   \n",
              "2  0.491187            0.795140 -0.846733  2.174405         -1.038638   \n",
              "3  0.491187            0.795140 -0.846733  2.174405         -1.038638   \n",
              "4 -0.790075            0.678079 -0.846733  0.488555         -1.038638   \n",
              "\n",
              "   Coarse Aggregate  Fine Aggregate  \n",
              "0          0.862735       -1.217079  \n",
              "1          1.055651       -1.217079  \n",
              "2         -0.526262       -2.239829  \n",
              "3         -0.526262       -2.239829  \n",
              "4          0.070492        0.647569  "
            ],
            "text/html": [
              "\n",
              "  <div id=\"df-2675a61d-7dc7-461d-a85b-9021ee7440a4\" class=\"colab-df-container\">\n",
              "    <div>\n",
              "<style scoped>\n",
              "    .dataframe tbody tr th:only-of-type {\n",
              "        vertical-align: middle;\n",
              "    }\n",
              "\n",
              "    .dataframe tbody tr th {\n",
              "        vertical-align: top;\n",
              "    }\n",
              "\n",
              "    .dataframe thead th {\n",
              "        text-align: right;\n",
              "    }\n",
              "</style>\n",
              "<table border=\"1\" class=\"dataframe\">\n",
              "  <thead>\n",
              "    <tr style=\"text-align: right;\">\n",
              "      <th></th>\n",
              "      <th>Cement</th>\n",
              "      <th>Blast Furnace Slag</th>\n",
              "      <th>Fly Ash</th>\n",
              "      <th>Water</th>\n",
              "      <th>Superplasticizer</th>\n",
              "      <th>Coarse Aggregate</th>\n",
              "      <th>Fine Aggregate</th>\n",
              "    </tr>\n",
              "  </thead>\n",
              "  <tbody>\n",
              "    <tr>\n",
              "      <th>0</th>\n",
              "      <td>2.476712</td>\n",
              "      <td>-0.856472</td>\n",
              "      <td>-0.846733</td>\n",
              "      <td>-0.916319</td>\n",
              "      <td>-0.620147</td>\n",
              "      <td>0.862735</td>\n",
              "      <td>-1.217079</td>\n",
              "    </tr>\n",
              "    <tr>\n",
              "      <th>1</th>\n",
              "      <td>2.476712</td>\n",
              "      <td>-0.856472</td>\n",
              "      <td>-0.846733</td>\n",
              "      <td>-0.916319</td>\n",
              "      <td>-0.620147</td>\n",
              "      <td>1.055651</td>\n",
              "      <td>-1.217079</td>\n",
              "    </tr>\n",
              "    <tr>\n",
              "      <th>2</th>\n",
              "      <td>0.491187</td>\n",
              "      <td>0.795140</td>\n",
              "      <td>-0.846733</td>\n",
              "      <td>2.174405</td>\n",
              "      <td>-1.038638</td>\n",
              "      <td>-0.526262</td>\n",
              "      <td>-2.239829</td>\n",
              "    </tr>\n",
              "    <tr>\n",
              "      <th>3</th>\n",
              "      <td>0.491187</td>\n",
              "      <td>0.795140</td>\n",
              "      <td>-0.846733</td>\n",
              "      <td>2.174405</td>\n",
              "      <td>-1.038638</td>\n",
              "      <td>-0.526262</td>\n",
              "      <td>-2.239829</td>\n",
              "    </tr>\n",
              "    <tr>\n",
              "      <th>4</th>\n",
              "      <td>-0.790075</td>\n",
              "      <td>0.678079</td>\n",
              "      <td>-0.846733</td>\n",
              "      <td>0.488555</td>\n",
              "      <td>-1.038638</td>\n",
              "      <td>0.070492</td>\n",
              "      <td>0.647569</td>\n",
              "    </tr>\n",
              "  </tbody>\n",
              "</table>\n",
              "</div>\n",
              "    <div class=\"colab-df-buttons\">\n",
              "\n",
              "  <div class=\"colab-df-container\">\n",
              "    <button class=\"colab-df-convert\" onclick=\"convertToInteractive('df-2675a61d-7dc7-461d-a85b-9021ee7440a4')\"\n",
              "            title=\"Convert this dataframe to an interactive table.\"\n",
              "            style=\"display:none;\">\n",
              "\n",
              "  <svg xmlns=\"http://www.w3.org/2000/svg\" height=\"24px\" viewBox=\"0 -960 960 960\">\n",
              "    <path d=\"M120-120v-720h720v720H120Zm60-500h600v-160H180v160Zm220 220h160v-160H400v160Zm0 220h160v-160H400v160ZM180-400h160v-160H180v160Zm440 0h160v-160H620v160ZM180-180h160v-160H180v160Zm440 0h160v-160H620v160Z\"/>\n",
              "  </svg>\n",
              "    </button>\n",
              "\n",
              "  <style>\n",
              "    .colab-df-container {\n",
              "      display:flex;\n",
              "      gap: 12px;\n",
              "    }\n",
              "\n",
              "    .colab-df-convert {\n",
              "      background-color: #E8F0FE;\n",
              "      border: none;\n",
              "      border-radius: 50%;\n",
              "      cursor: pointer;\n",
              "      display: none;\n",
              "      fill: #1967D2;\n",
              "      height: 32px;\n",
              "      padding: 0 0 0 0;\n",
              "      width: 32px;\n",
              "    }\n",
              "\n",
              "    .colab-df-convert:hover {\n",
              "      background-color: #E2EBFA;\n",
              "      box-shadow: 0px 1px 2px rgba(60, 64, 67, 0.3), 0px 1px 3px 1px rgba(60, 64, 67, 0.15);\n",
              "      fill: #174EA6;\n",
              "    }\n",
              "\n",
              "    .colab-df-buttons div {\n",
              "      margin-bottom: 4px;\n",
              "    }\n",
              "\n",
              "    [theme=dark] .colab-df-convert {\n",
              "      background-color: #3B4455;\n",
              "      fill: #D2E3FC;\n",
              "    }\n",
              "\n",
              "    [theme=dark] .colab-df-convert:hover {\n",
              "      background-color: #434B5C;\n",
              "      box-shadow: 0px 1px 3px 1px rgba(0, 0, 0, 0.15);\n",
              "      filter: drop-shadow(0px 1px 2px rgba(0, 0, 0, 0.3));\n",
              "      fill: #FFFFFF;\n",
              "    }\n",
              "  </style>\n",
              "\n",
              "    <script>\n",
              "      const buttonEl =\n",
              "        document.querySelector('#df-2675a61d-7dc7-461d-a85b-9021ee7440a4 button.colab-df-convert');\n",
              "      buttonEl.style.display =\n",
              "        google.colab.kernel.accessAllowed ? 'block' : 'none';\n",
              "\n",
              "      async function convertToInteractive(key) {\n",
              "        const element = document.querySelector('#df-2675a61d-7dc7-461d-a85b-9021ee7440a4');\n",
              "        const dataTable =\n",
              "          await google.colab.kernel.invokeFunction('convertToInteractive',\n",
              "                                                    [key], {});\n",
              "        if (!dataTable) return;\n",
              "\n",
              "        const docLinkHtml = 'Like what you see? Visit the ' +\n",
              "          '<a target=\"_blank\" href=https://colab.research.google.com/notebooks/data_table.ipynb>data table notebook</a>'\n",
              "          + ' to learn more about interactive tables.';\n",
              "        element.innerHTML = '';\n",
              "        dataTable['output_type'] = 'display_data';\n",
              "        await google.colab.output.renderOutput(dataTable, element);\n",
              "        const docLink = document.createElement('div');\n",
              "        docLink.innerHTML = docLinkHtml;\n",
              "        element.appendChild(docLink);\n",
              "      }\n",
              "    </script>\n",
              "  </div>\n",
              "\n",
              "\n",
              "<div id=\"df-db57fb2c-b62e-434f-a3a8-bd099995863b\">\n",
              "  <button class=\"colab-df-quickchart\" onclick=\"quickchart('df-db57fb2c-b62e-434f-a3a8-bd099995863b')\"\n",
              "            title=\"Suggest charts.\"\n",
              "            style=\"display:none;\">\n",
              "\n",
              "<svg xmlns=\"http://www.w3.org/2000/svg\" height=\"24px\"viewBox=\"0 0 24 24\"\n",
              "     width=\"24px\">\n",
              "    <g>\n",
              "        <path d=\"M19 3H5c-1.1 0-2 .9-2 2v14c0 1.1.9 2 2 2h14c1.1 0 2-.9 2-2V5c0-1.1-.9-2-2-2zM9 17H7v-7h2v7zm4 0h-2V7h2v10zm4 0h-2v-4h2v4z\"/>\n",
              "    </g>\n",
              "</svg>\n",
              "  </button>\n",
              "\n",
              "<style>\n",
              "  .colab-df-quickchart {\n",
              "    background-color: #E8F0FE;\n",
              "    border: none;\n",
              "    border-radius: 50%;\n",
              "    cursor: pointer;\n",
              "    display: none;\n",
              "    fill: #1967D2;\n",
              "    height: 32px;\n",
              "    padding: 0 0 0 0;\n",
              "    width: 32px;\n",
              "  }\n",
              "\n",
              "  .colab-df-quickchart:hover {\n",
              "    background-color: #E2EBFA;\n",
              "    box-shadow: 0px 1px 2px rgba(60, 64, 67, 0.3), 0px 1px 3px 1px rgba(60, 64, 67, 0.15);\n",
              "    fill: #174EA6;\n",
              "  }\n",
              "\n",
              "  [theme=dark] .colab-df-quickchart {\n",
              "    background-color: #3B4455;\n",
              "    fill: #D2E3FC;\n",
              "  }\n",
              "\n",
              "  [theme=dark] .colab-df-quickchart:hover {\n",
              "    background-color: #434B5C;\n",
              "    box-shadow: 0px 1px 3px 1px rgba(0, 0, 0, 0.15);\n",
              "    filter: drop-shadow(0px 1px 2px rgba(0, 0, 0, 0.3));\n",
              "    fill: #FFFFFF;\n",
              "  }\n",
              "</style>\n",
              "\n",
              "  <script>\n",
              "    async function quickchart(key) {\n",
              "      const charts = await google.colab.kernel.invokeFunction(\n",
              "          'suggestCharts', [key], {});\n",
              "    }\n",
              "    (() => {\n",
              "      let quickchartButtonEl =\n",
              "        document.querySelector('#df-db57fb2c-b62e-434f-a3a8-bd099995863b button');\n",
              "      quickchartButtonEl.style.display =\n",
              "        google.colab.kernel.accessAllowed ? 'block' : 'none';\n",
              "    })();\n",
              "  </script>\n",
              "</div>\n",
              "    </div>\n",
              "  </div>\n"
            ]
          },
          "metadata": {},
          "execution_count": 14
        }
      ]
    },
    {
      "cell_type": "code",
      "source": [
        "#After normalization the mean of features is ~zero and the std of them is 1.\n",
        "input_features_norm.mean().mean() , input_features_norm.std().mean()"
      ],
      "metadata": {
        "colab": {
          "base_uri": "https://localhost:8080/"
        },
        "id": "UhGVMUQMKDqu",
        "outputId": "e782d628-9810-477e-a09f-653339e85d5b"
      },
      "execution_count": null,
      "outputs": [
        {
          "output_type": "execute_result",
          "data": {
            "text/plain": [
              "(-9.657862427807188e-17, 1.0)"
            ]
          },
          "metadata": {},
          "execution_count": 15
        }
      ]
    },
    {
      "cell_type": "code",
      "source": [
        "model = reg_model()\n",
        "X_train, X_test, y_train, y_test = train_test_split(input_features_norm, output_values, test_size=0.30)\n",
        "model.fit(X_train, y_train, validation_split=0.2, epochs=50, verbose=1) #If you want to show details set verbose to 1, for more details set it to 2.\n",
        "print(\"The loss on the test date is\")\n",
        "model.evaluate(X_test , y_test)"
      ],
      "metadata": {
        "colab": {
          "base_uri": "https://localhost:8080/"
        },
        "id": "mdSnPRSxKJ-b",
        "outputId": "e3d318d1-6441-4f9e-fce1-c18e28e828b9"
      },
      "execution_count": null,
      "outputs": [
        {
          "output_type": "stream",
          "name": "stdout",
          "text": [
            "Epoch 1/50\n",
            "18/18 [==============================] - 1s 11ms/step - loss: 1580.5239 - val_loss: 1417.8820\n",
            "Epoch 2/50\n",
            "18/18 [==============================] - 0s 4ms/step - loss: 1565.5822 - val_loss: 1403.3363\n",
            "Epoch 3/50\n",
            "18/18 [==============================] - 0s 4ms/step - loss: 1550.7284 - val_loss: 1388.9672\n",
            "Epoch 4/50\n",
            "18/18 [==============================] - 0s 4ms/step - loss: 1535.8136 - val_loss: 1374.5167\n",
            "Epoch 5/50\n",
            "18/18 [==============================] - 0s 3ms/step - loss: 1520.9089 - val_loss: 1359.6582\n",
            "Epoch 6/50\n",
            "18/18 [==============================] - 0s 3ms/step - loss: 1505.1879 - val_loss: 1345.0170\n",
            "Epoch 7/50\n",
            "18/18 [==============================] - 0s 4ms/step - loss: 1489.5348 - val_loss: 1329.7526\n",
            "Epoch 8/50\n",
            "18/18 [==============================] - 0s 5ms/step - loss: 1473.3312 - val_loss: 1314.1007\n",
            "Epoch 9/50\n",
            "18/18 [==============================] - 0s 4ms/step - loss: 1456.4126 - val_loss: 1298.4325\n",
            "Epoch 10/50\n",
            "18/18 [==============================] - 0s 4ms/step - loss: 1439.1559 - val_loss: 1282.3156\n",
            "Epoch 11/50\n",
            "18/18 [==============================] - 0s 4ms/step - loss: 1421.4259 - val_loss: 1265.4664\n",
            "Epoch 12/50\n",
            "18/18 [==============================] - 0s 3ms/step - loss: 1402.9468 - val_loss: 1248.1399\n",
            "Epoch 13/50\n",
            "18/18 [==============================] - 0s 3ms/step - loss: 1383.6879 - val_loss: 1230.5143\n",
            "Epoch 14/50\n",
            "18/18 [==============================] - 0s 4ms/step - loss: 1364.0923 - val_loss: 1212.2898\n",
            "Epoch 15/50\n",
            "18/18 [==============================] - 0s 3ms/step - loss: 1343.6411 - val_loss: 1193.6708\n",
            "Epoch 16/50\n",
            "18/18 [==============================] - 0s 3ms/step - loss: 1323.0819 - val_loss: 1174.2720\n",
            "Epoch 17/50\n",
            "18/18 [==============================] - 0s 4ms/step - loss: 1301.6108 - val_loss: 1154.5519\n",
            "Epoch 18/50\n",
            "18/18 [==============================] - 0s 4ms/step - loss: 1279.8773 - val_loss: 1134.4142\n",
            "Epoch 19/50\n",
            "18/18 [==============================] - 0s 4ms/step - loss: 1257.3949 - val_loss: 1113.8927\n",
            "Epoch 20/50\n",
            "18/18 [==============================] - 0s 3ms/step - loss: 1234.5939 - val_loss: 1092.8463\n",
            "Epoch 21/50\n",
            "18/18 [==============================] - 0s 4ms/step - loss: 1211.0151 - val_loss: 1071.9252\n",
            "Epoch 22/50\n",
            "18/18 [==============================] - 0s 3ms/step - loss: 1187.4288 - val_loss: 1050.3556\n",
            "Epoch 23/50\n",
            "18/18 [==============================] - 0s 3ms/step - loss: 1163.0797 - val_loss: 1028.7413\n",
            "Epoch 24/50\n",
            "18/18 [==============================] - 0s 4ms/step - loss: 1139.2863 - val_loss: 1005.8901\n",
            "Epoch 25/50\n",
            "18/18 [==============================] - 0s 4ms/step - loss: 1114.2108 - val_loss: 983.6080\n",
            "Epoch 26/50\n",
            "18/18 [==============================] - 0s 3ms/step - loss: 1089.4097 - val_loss: 961.0089\n",
            "Epoch 27/50\n",
            "18/18 [==============================] - 0s 3ms/step - loss: 1064.4181 - val_loss: 938.3099\n",
            "Epoch 28/50\n",
            "18/18 [==============================] - 0s 4ms/step - loss: 1039.6257 - val_loss: 915.3045\n",
            "Epoch 29/50\n",
            "18/18 [==============================] - 0s 4ms/step - loss: 1013.8044 - val_loss: 893.0500\n",
            "Epoch 30/50\n",
            "18/18 [==============================] - 0s 4ms/step - loss: 989.0591 - val_loss: 870.1423\n",
            "Epoch 31/50\n",
            "18/18 [==============================] - 0s 4ms/step - loss: 964.1008 - val_loss: 847.1498\n",
            "Epoch 32/50\n",
            "18/18 [==============================] - 0s 4ms/step - loss: 938.6091 - val_loss: 824.7263\n",
            "Epoch 33/50\n",
            "18/18 [==============================] - 0s 4ms/step - loss: 913.9541 - val_loss: 801.9103\n",
            "Epoch 34/50\n",
            "18/18 [==============================] - 0s 4ms/step - loss: 889.0564 - val_loss: 779.4894\n",
            "Epoch 35/50\n",
            "18/18 [==============================] - 0s 3ms/step - loss: 864.6345 - val_loss: 757.0674\n",
            "Epoch 36/50\n",
            "18/18 [==============================] - 0s 4ms/step - loss: 840.2129 - val_loss: 734.9813\n",
            "Epoch 37/50\n",
            "18/18 [==============================] - 0s 5ms/step - loss: 816.3058 - val_loss: 713.1043\n",
            "Epoch 38/50\n",
            "18/18 [==============================] - 0s 4ms/step - loss: 792.3770 - val_loss: 691.7883\n",
            "Epoch 39/50\n",
            "18/18 [==============================] - 0s 5ms/step - loss: 768.9744 - val_loss: 670.9290\n",
            "Epoch 40/50\n",
            "18/18 [==============================] - 0s 4ms/step - loss: 746.3339 - val_loss: 649.9969\n",
            "Epoch 41/50\n",
            "18/18 [==============================] - 0s 4ms/step - loss: 723.7579 - val_loss: 629.3915\n",
            "Epoch 42/50\n",
            "18/18 [==============================] - 0s 3ms/step - loss: 701.7980 - val_loss: 609.1954\n",
            "Epoch 43/50\n",
            "18/18 [==============================] - 0s 3ms/step - loss: 680.2161 - val_loss: 589.4642\n",
            "Epoch 44/50\n",
            "18/18 [==============================] - 0s 5ms/step - loss: 658.9193 - val_loss: 570.6790\n",
            "Epoch 45/50\n",
            "18/18 [==============================] - 0s 4ms/step - loss: 638.5410 - val_loss: 551.9362\n",
            "Epoch 46/50\n",
            "18/18 [==============================] - 0s 4ms/step - loss: 618.5672 - val_loss: 533.6434\n",
            "Epoch 47/50\n",
            "18/18 [==============================] - 0s 5ms/step - loss: 599.1978 - val_loss: 515.8771\n",
            "Epoch 48/50\n",
            "18/18 [==============================] - 0s 4ms/step - loss: 580.5751 - val_loss: 498.1501\n",
            "Epoch 49/50\n",
            "18/18 [==============================] - 0s 4ms/step - loss: 561.9252 - val_loss: 481.5628\n",
            "Epoch 50/50\n",
            "18/18 [==============================] - 0s 3ms/step - loss: 544.3740 - val_loss: 465.1757\n",
            "The loss on the test date is\n",
            "10/10 [==============================] - 0s 2ms/step - loss: 539.6745\n"
          ]
        },
        {
          "output_type": "execute_result",
          "data": {
            "text/plain": [
              "539.6744995117188"
            ]
          },
          "metadata": {},
          "execution_count": 16
        }
      ]
    },
    {
      "cell_type": "code",
      "source": [
        "list_mse_errors = []\n",
        "for _ in range(50):\n",
        "\n",
        "    _ , X_test, _ , y_test = train_test_split(input_features_norm, output_values, test_size=0.30) # You should not use **random_state** parameter so that the results will not be reproducable after each time we split.\n",
        "    y_hat = model.predict(X_test , verbose = 0)\n",
        "    mse_error= tf.keras.losses.MeanSquaredError()(y_hat , y_test)\n",
        "    list_mse_errors.append(mse_error)"
      ],
      "metadata": {
        "id": "9iNV7YRMLRVp"
      },
      "execution_count": null,
      "outputs": []
    },
    {
      "cell_type": "code",
      "source": [
        "mean , std = np.mean(list_mse_errors) , np.std(list_mse_errors)\n",
        "print(f\"the mean of error after repeating the process 50 times is {mean}, while the standard deviation is {std}\")"
      ],
      "metadata": {
        "colab": {
          "base_uri": "https://localhost:8080/"
        },
        "id": "F46Vu71UNofL",
        "outputId": "617600e0-94ea-496b-816f-e7506f5b74e5"
      },
      "execution_count": null,
      "outputs": [
        {
          "output_type": "stream",
          "name": "stdout",
          "text": [
            "the mean of error after repeating the process 50 times is 712.3167104452747, while the standard deviation is 31.267749621893632\n"
          ]
        }
      ]
    },
    {
      "cell_type": "markdown",
      "source": [
        "Opposed to what we thought, the variance of the errors increased from 23 to 36 instead. And even the mean of errors highly increased."
      ],
      "metadata": {
        "id": "rGMI4x_DTQxr"
      }
    },
    {
      "cell_type": "markdown",
      "source": [
        "**C.  Increase the number of epochs.**"
      ],
      "metadata": {
        "id": "8_JFZJlqT5R2"
      }
    },
    {
      "cell_type": "code",
      "source": [
        "model = reg_model()\n",
        "X_train, X_test, y_train, y_test = train_test_split(input_features_norm, output_values, test_size=0.30)\n",
        "model.fit(X_train, y_train, validation_split=0.2, epochs=100, verbose=1)\n",
        "print(\"The loss on the test date is\")\n",
        "model.evaluate(X_test , y_test)"
      ],
      "metadata": {
        "colab": {
          "base_uri": "https://localhost:8080/"
        },
        "id": "Xy-sffnRNykj",
        "outputId": "a21829f9-149f-493d-a4f6-a23a1dce049d"
      },
      "execution_count": null,
      "outputs": [
        {
          "output_type": "stream",
          "name": "stdout",
          "text": [
            "Epoch 1/100\n",
            "18/18 [==============================] - 1s 11ms/step - loss: 1707.7429 - val_loss: 1438.1659\n",
            "Epoch 2/100\n",
            "18/18 [==============================] - 0s 4ms/step - loss: 1694.1393 - val_loss: 1426.4060\n",
            "Epoch 3/100\n",
            "18/18 [==============================] - 0s 5ms/step - loss: 1681.5850 - val_loss: 1415.4912\n",
            "Epoch 4/100\n",
            "18/18 [==============================] - 0s 3ms/step - loss: 1669.8657 - val_loss: 1405.1177\n",
            "Epoch 5/100\n",
            "18/18 [==============================] - 0s 4ms/step - loss: 1658.6794 - val_loss: 1395.1631\n",
            "Epoch 6/100\n",
            "18/18 [==============================] - 0s 3ms/step - loss: 1648.0942 - val_loss: 1385.5425\n",
            "Epoch 7/100\n",
            "18/18 [==============================] - 0s 4ms/step - loss: 1637.5251 - val_loss: 1376.0415\n",
            "Epoch 8/100\n",
            "18/18 [==============================] - 0s 3ms/step - loss: 1627.3577 - val_loss: 1366.3496\n",
            "Epoch 9/100\n",
            "18/18 [==============================] - 0s 3ms/step - loss: 1617.0662 - val_loss: 1356.7321\n",
            "Epoch 10/100\n",
            "18/18 [==============================] - 0s 4ms/step - loss: 1607.0369 - val_loss: 1346.9471\n",
            "Epoch 11/100\n",
            "18/18 [==============================] - 0s 3ms/step - loss: 1596.6010 - val_loss: 1337.0845\n",
            "Epoch 12/100\n",
            "18/18 [==============================] - 0s 4ms/step - loss: 1586.1869 - val_loss: 1327.0947\n",
            "Epoch 13/100\n",
            "18/18 [==============================] - 0s 3ms/step - loss: 1575.4501 - val_loss: 1316.5452\n",
            "Epoch 14/100\n",
            "18/18 [==============================] - 0s 4ms/step - loss: 1564.5194 - val_loss: 1305.7778\n",
            "Epoch 15/100\n",
            "18/18 [==============================] - 0s 4ms/step - loss: 1552.9709 - val_loss: 1294.8801\n",
            "Epoch 16/100\n",
            "18/18 [==============================] - 0s 3ms/step - loss: 1541.4716 - val_loss: 1283.3513\n",
            "Epoch 17/100\n",
            "18/18 [==============================] - 0s 3ms/step - loss: 1529.2349 - val_loss: 1271.5491\n",
            "Epoch 18/100\n",
            "18/18 [==============================] - 0s 3ms/step - loss: 1516.7214 - val_loss: 1259.6074\n",
            "Epoch 19/100\n",
            "18/18 [==============================] - 0s 4ms/step - loss: 1504.2156 - val_loss: 1247.1669\n",
            "Epoch 20/100\n",
            "18/18 [==============================] - 0s 4ms/step - loss: 1491.0709 - val_loss: 1234.3534\n",
            "Epoch 21/100\n",
            "18/18 [==============================] - 0s 5ms/step - loss: 1477.3698 - val_loss: 1221.7004\n",
            "Epoch 22/100\n",
            "18/18 [==============================] - 0s 3ms/step - loss: 1463.7579 - val_loss: 1208.5781\n",
            "Epoch 23/100\n",
            "18/18 [==============================] - 0s 4ms/step - loss: 1449.7815 - val_loss: 1195.1877\n",
            "Epoch 24/100\n",
            "18/18 [==============================] - 0s 3ms/step - loss: 1435.4097 - val_loss: 1181.4335\n",
            "Epoch 25/100\n",
            "18/18 [==============================] - 0s 4ms/step - loss: 1420.4587 - val_loss: 1167.7937\n",
            "Epoch 26/100\n",
            "18/18 [==============================] - 0s 3ms/step - loss: 1405.8447 - val_loss: 1153.7018\n",
            "Epoch 27/100\n",
            "18/18 [==============================] - 0s 4ms/step - loss: 1390.5024 - val_loss: 1139.5105\n",
            "Epoch 28/100\n",
            "18/18 [==============================] - 0s 3ms/step - loss: 1375.0066 - val_loss: 1124.9398\n",
            "Epoch 29/100\n",
            "18/18 [==============================] - 0s 3ms/step - loss: 1359.2747 - val_loss: 1110.3778\n",
            "Epoch 30/100\n",
            "18/18 [==============================] - 0s 3ms/step - loss: 1343.0757 - val_loss: 1095.9580\n",
            "Epoch 31/100\n",
            "18/18 [==============================] - 0s 4ms/step - loss: 1327.0612 - val_loss: 1081.0441\n",
            "Epoch 32/100\n",
            "18/18 [==============================] - 0s 3ms/step - loss: 1310.8308 - val_loss: 1065.9835\n",
            "Epoch 33/100\n",
            "18/18 [==============================] - 0s 3ms/step - loss: 1294.0985 - val_loss: 1050.9352\n",
            "Epoch 34/100\n",
            "18/18 [==============================] - 0s 3ms/step - loss: 1277.8676 - val_loss: 1035.2551\n",
            "Epoch 35/100\n",
            "18/18 [==============================] - 0s 4ms/step - loss: 1260.8462 - val_loss: 1020.1210\n",
            "Epoch 36/100\n",
            "18/18 [==============================] - 0s 4ms/step - loss: 1244.0594 - val_loss: 1004.6551\n",
            "Epoch 37/100\n",
            "18/18 [==============================] - 0s 3ms/step - loss: 1227.2039 - val_loss: 989.1060\n",
            "Epoch 38/100\n",
            "18/18 [==============================] - 0s 3ms/step - loss: 1210.2007 - val_loss: 973.5989\n",
            "Epoch 39/100\n",
            "18/18 [==============================] - 0s 4ms/step - loss: 1193.0162 - val_loss: 957.9957\n",
            "Epoch 40/100\n",
            "18/18 [==============================] - 0s 3ms/step - loss: 1175.8944 - val_loss: 942.5957\n",
            "Epoch 41/100\n",
            "18/18 [==============================] - 0s 3ms/step - loss: 1158.4519 - val_loss: 927.6487\n",
            "Epoch 42/100\n",
            "18/18 [==============================] - 0s 4ms/step - loss: 1141.7372 - val_loss: 912.3014\n",
            "Epoch 43/100\n",
            "18/18 [==============================] - 0s 4ms/step - loss: 1124.6704 - val_loss: 896.9225\n",
            "Epoch 44/100\n",
            "18/18 [==============================] - 0s 4ms/step - loss: 1107.5031 - val_loss: 882.0809\n",
            "Epoch 45/100\n",
            "18/18 [==============================] - 0s 3ms/step - loss: 1090.4949 - val_loss: 867.3022\n",
            "Epoch 46/100\n",
            "18/18 [==============================] - 0s 3ms/step - loss: 1073.9264 - val_loss: 852.5494\n",
            "Epoch 47/100\n",
            "18/18 [==============================] - 0s 4ms/step - loss: 1057.0873 - val_loss: 837.9114\n",
            "Epoch 48/100\n",
            "18/18 [==============================] - 0s 4ms/step - loss: 1040.5983 - val_loss: 823.5696\n",
            "Epoch 49/100\n",
            "18/18 [==============================] - 0s 4ms/step - loss: 1024.4353 - val_loss: 809.4991\n",
            "Epoch 50/100\n",
            "18/18 [==============================] - 0s 4ms/step - loss: 1008.0862 - val_loss: 795.4573\n",
            "Epoch 51/100\n",
            "18/18 [==============================] - 0s 4ms/step - loss: 992.1238 - val_loss: 781.5820\n",
            "Epoch 52/100\n",
            "18/18 [==============================] - 0s 4ms/step - loss: 976.2751 - val_loss: 768.0463\n",
            "Epoch 53/100\n",
            "18/18 [==============================] - 0s 3ms/step - loss: 960.5999 - val_loss: 754.4815\n",
            "Epoch 54/100\n",
            "18/18 [==============================] - 0s 4ms/step - loss: 945.4678 - val_loss: 741.0491\n",
            "Epoch 55/100\n",
            "18/18 [==============================] - 0s 4ms/step - loss: 930.0714 - val_loss: 728.2810\n",
            "Epoch 56/100\n",
            "18/18 [==============================] - 0s 4ms/step - loss: 915.5435 - val_loss: 715.1275\n",
            "Epoch 57/100\n",
            "18/18 [==============================] - 0s 4ms/step - loss: 900.5375 - val_loss: 702.9182\n",
            "Epoch 58/100\n",
            "18/18 [==============================] - 0s 4ms/step - loss: 886.2399 - val_loss: 690.6453\n",
            "Epoch 59/100\n",
            "18/18 [==============================] - 0s 3ms/step - loss: 872.3098 - val_loss: 678.2702\n",
            "Epoch 60/100\n",
            "18/18 [==============================] - 0s 3ms/step - loss: 858.2453 - val_loss: 666.3436\n",
            "Epoch 61/100\n",
            "18/18 [==============================] - 0s 3ms/step - loss: 844.3198 - val_loss: 654.8936\n",
            "Epoch 62/100\n",
            "18/18 [==============================] - 0s 4ms/step - loss: 830.8926 - val_loss: 643.8273\n",
            "Epoch 63/100\n",
            "18/18 [==============================] - 0s 3ms/step - loss: 818.1766 - val_loss: 632.7896\n",
            "Epoch 64/100\n",
            "18/18 [==============================] - 0s 4ms/step - loss: 804.9803 - val_loss: 622.5922\n",
            "Epoch 65/100\n",
            "18/18 [==============================] - 0s 3ms/step - loss: 792.8788 - val_loss: 612.2178\n",
            "Epoch 66/100\n",
            "18/18 [==============================] - 0s 4ms/step - loss: 780.9998 - val_loss: 602.2227\n",
            "Epoch 67/100\n",
            "18/18 [==============================] - 0s 5ms/step - loss: 769.0627 - val_loss: 592.7095\n",
            "Epoch 68/100\n",
            "18/18 [==============================] - 0s 3ms/step - loss: 757.8112 - val_loss: 583.4083\n",
            "Epoch 69/100\n",
            "18/18 [==============================] - 0s 4ms/step - loss: 747.0544 - val_loss: 574.1136\n",
            "Epoch 70/100\n",
            "18/18 [==============================] - 0s 4ms/step - loss: 736.3375 - val_loss: 565.3676\n",
            "Epoch 71/100\n",
            "18/18 [==============================] - 0s 4ms/step - loss: 725.8059 - val_loss: 557.0048\n",
            "Epoch 72/100\n",
            "18/18 [==============================] - 0s 4ms/step - loss: 715.8015 - val_loss: 549.1060\n",
            "Epoch 73/100\n",
            "18/18 [==============================] - 0s 3ms/step - loss: 706.1182 - val_loss: 541.3466\n",
            "Epoch 74/100\n",
            "18/18 [==============================] - 0s 4ms/step - loss: 697.1550 - val_loss: 533.4480\n",
            "Epoch 75/100\n",
            "18/18 [==============================] - 0s 3ms/step - loss: 687.7244 - val_loss: 526.3886\n",
            "Epoch 76/100\n",
            "18/18 [==============================] - 0s 5ms/step - loss: 679.3704 - val_loss: 519.2562\n",
            "Epoch 77/100\n",
            "18/18 [==============================] - 0s 4ms/step - loss: 670.7888 - val_loss: 512.5880\n",
            "Epoch 78/100\n",
            "18/18 [==============================] - 0s 4ms/step - loss: 662.9221 - val_loss: 506.1448\n",
            "Epoch 79/100\n",
            "18/18 [==============================] - 0s 3ms/step - loss: 654.9041 - val_loss: 499.9211\n",
            "Epoch 80/100\n",
            "18/18 [==============================] - 0s 5ms/step - loss: 647.5938 - val_loss: 493.9474\n",
            "Epoch 81/100\n",
            "18/18 [==============================] - 0s 3ms/step - loss: 640.4160 - val_loss: 488.2757\n",
            "Epoch 82/100\n",
            "18/18 [==============================] - 0s 3ms/step - loss: 633.5816 - val_loss: 482.7880\n",
            "Epoch 83/100\n",
            "18/18 [==============================] - 0s 3ms/step - loss: 626.9955 - val_loss: 477.4911\n",
            "Epoch 84/100\n",
            "18/18 [==============================] - 0s 3ms/step - loss: 620.5760 - val_loss: 472.6069\n",
            "Epoch 85/100\n",
            "18/18 [==============================] - 0s 3ms/step - loss: 614.5056 - val_loss: 467.5994\n",
            "Epoch 86/100\n",
            "18/18 [==============================] - 0s 3ms/step - loss: 608.4586 - val_loss: 463.0154\n",
            "Epoch 87/100\n",
            "18/18 [==============================] - 0s 4ms/step - loss: 602.9025 - val_loss: 458.8042\n",
            "Epoch 88/100\n",
            "18/18 [==============================] - 0s 4ms/step - loss: 597.5349 - val_loss: 454.4633\n",
            "Epoch 89/100\n",
            "18/18 [==============================] - 0s 4ms/step - loss: 592.0911 - val_loss: 450.4710\n",
            "Epoch 90/100\n",
            "18/18 [==============================] - 0s 4ms/step - loss: 587.1876 - val_loss: 446.6181\n",
            "Epoch 91/100\n",
            "18/18 [==============================] - 0s 4ms/step - loss: 582.4138 - val_loss: 442.5196\n",
            "Epoch 92/100\n",
            "18/18 [==============================] - 0s 3ms/step - loss: 577.7228 - val_loss: 438.7629\n",
            "Epoch 93/100\n",
            "18/18 [==============================] - 0s 4ms/step - loss: 573.1297 - val_loss: 435.4763\n",
            "Epoch 94/100\n",
            "18/18 [==============================] - 0s 3ms/step - loss: 568.8801 - val_loss: 431.9126\n",
            "Epoch 95/100\n",
            "18/18 [==============================] - 0s 3ms/step - loss: 564.5828 - val_loss: 428.7071\n",
            "Epoch 96/100\n",
            "18/18 [==============================] - 0s 3ms/step - loss: 560.6297 - val_loss: 425.6597\n",
            "Epoch 97/100\n",
            "18/18 [==============================] - 0s 4ms/step - loss: 556.5964 - val_loss: 422.5472\n",
            "Epoch 98/100\n",
            "18/18 [==============================] - 0s 4ms/step - loss: 553.0381 - val_loss: 419.6567\n",
            "Epoch 99/100\n",
            "18/18 [==============================] - 0s 3ms/step - loss: 549.1644 - val_loss: 416.8741\n",
            "Epoch 100/100\n",
            "18/18 [==============================] - 0s 4ms/step - loss: 545.6405 - val_loss: 414.0396\n",
            "The loss on the test date is\n",
            "10/10 [==============================] - 0s 2ms/step - loss: 567.1938\n"
          ]
        },
        {
          "output_type": "execute_result",
          "data": {
            "text/plain": [
              "567.19384765625"
            ]
          },
          "metadata": {},
          "execution_count": 19
        }
      ]
    },
    {
      "cell_type": "code",
      "source": [
        "list_mse_errors = []\n",
        "for _ in range(50):\n",
        "\n",
        "    _ , X_test, _ , y_test = train_test_split(input_features_norm, output_values, test_size=0.30) # You should not use **random_state** parameter so that the results will not be reproducable after each time we split.\n",
        "    y_hat = model.predict(X_test , verbose = 0)\n",
        "    mse_error= tf.keras.losses.MeanSquaredError()(y_hat , y_test)\n",
        "    list_mse_errors.append(mse_error)"
      ],
      "metadata": {
        "id": "ysQW0z8xUtzt"
      },
      "execution_count": null,
      "outputs": []
    },
    {
      "cell_type": "code",
      "source": [
        "mean , std = np.mean(list_mse_errors) , np.std(list_mse_errors)\n",
        "print(f\"the mean of error after repeating the process 50 times is {mean}, while the standard deviation is {std}\")"
      ],
      "metadata": {
        "colab": {
          "base_uri": "https://localhost:8080/"
        },
        "id": "jTEbRuvXU0fv",
        "outputId": "2a440b9e-8048-4044-a067-e253f7db1618"
      },
      "execution_count": null,
      "outputs": [
        {
          "output_type": "stream",
          "name": "stdout",
          "text": [
            "the mean of error after repeating the process 50 times is 815.534927039627, while the standard deviation is 37.10114020344214\n"
          ]
        }
      ]
    },
    {
      "cell_type": "markdown",
      "source": [
        "Both the  mean and variance of the errors decreased."
      ],
      "metadata": {
        "id": "cwu0fVd8VGWG"
      }
    },
    {
      "cell_type": "markdown",
      "source": [
        "**D.  Changing the model architecture and repeating the part B.**"
      ],
      "metadata": {
        "id": "h99qwE5rVXXA"
      }
    },
    {
      "cell_type": "code",
      "source": [
        "def reg_model():\n",
        "\n",
        "    model = tf.keras.models.Sequential(name = \"Sequential_\")\n",
        "\n",
        "    model.add(tf.keras.layers.Dense(10, activation='relu', input_shape=(df.shape[1]-1,) , name = \"First_Hidden_Layer\"))\n",
        "    model.add(tf.keras.layers.Dense(10, activation='relu' , name = \"Second_Hidden_Layer\"))\n",
        "    model.add(tf.keras.layers.Dense(10, activation='relu' , name = \"Third_Hidden_Layer\"))\n",
        "\n",
        "    model.add(tf.keras.layers.Dense(1 , name = \"Output_Layer\"))\n",
        "\n",
        "\n",
        "    optimizer , loss = tf.keras.optimizers.Adam() , tf.keras.losses.MeanSquaredError()\n",
        "    model.compile(optimizer=optimizer, loss=loss)\n",
        "\n",
        "    return model"
      ],
      "metadata": {
        "id": "tf_8Z4ITVAoW"
      },
      "execution_count": null,
      "outputs": []
    },
    {
      "cell_type": "code",
      "source": [
        "model = reg_model()\n",
        "X_train, X_test, y_train, y_test = train_test_split(input_features_norm, output_values, test_size=0.30)\n",
        "model.fit(X_train, y_train, validation_split=0.2, epochs=50, verbose=0) #If you want to show details set verbose to 1, for more details set it to 2.\n",
        "print(\"The loss on the test date is\")\n",
        "model.evaluate(X_test , y_test)"
      ],
      "metadata": {
        "colab": {
          "base_uri": "https://localhost:8080/"
        },
        "id": "Ta1sf1mTV63p",
        "outputId": "c31ebd8b-968e-41fb-f456-7edccb0b3747"
      },
      "execution_count": null,
      "outputs": [
        {
          "output_type": "stream",
          "name": "stdout",
          "text": [
            "The loss on the test date is\n",
            "10/10 [==============================] - 0s 2ms/step - loss: 176.9533\n"
          ]
        },
        {
          "output_type": "execute_result",
          "data": {
            "text/plain": [
              "176.95327758789062"
            ]
          },
          "metadata": {},
          "execution_count": 23
        }
      ]
    },
    {
      "cell_type": "code",
      "source": [
        "list_mse_errors = []\n",
        "for _ in range(50):\n",
        "\n",
        "    _ , X_test, _ , y_test = train_test_split(input_features_norm, output_values, test_size=0.30) # You should not use **random_state** parameter so that the results will not be reproducable after each time we split.\n",
        "    y_hat = model.predict(X_test , verbose = 0)\n",
        "    mse_error= tf.keras.losses.MeanSquaredError()(y_hat , y_test)\n",
        "    list_mse_errors.append(mse_error)"
      ],
      "metadata": {
        "id": "PYIG5Ia6WG0Q"
      },
      "execution_count": null,
      "outputs": []
    },
    {
      "cell_type": "code",
      "source": [
        "mean , std = np.mean(list_mse_errors) , np.std(list_mse_errors)\n",
        "print(f\"the mean of error after repeating the process 50 times is {mean}, while the standard deviation is {std}\")"
      ],
      "metadata": {
        "colab": {
          "base_uri": "https://localhost:8080/"
        },
        "id": "HXU7-3YiWLO2",
        "outputId": "6fb418ed-f0b8-4dee-c1ee-7d686c2c2242"
      },
      "execution_count": null,
      "outputs": [
        {
          "output_type": "stream",
          "name": "stdout",
          "text": [
            "the mean of error after repeating the process 50 times is 417.75035494031874, while the standard deviation is 18.73385451871988\n"
          ]
        }
      ]
    },
    {
      "cell_type": "code",
      "source": [],
      "metadata": {
        "id": "WIFT3krzWY7b"
      },
      "execution_count": null,
      "outputs": []
    }
  ]
}